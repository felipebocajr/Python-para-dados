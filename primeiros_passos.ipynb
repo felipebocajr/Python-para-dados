{
  "cells": [
    {
      "cell_type": "markdown",
      "metadata": {
        "id": "Q3i7ZJhxtrcV"
      },
      "source": [
        "# **BIBLIOTECAS**"
      ]
    },
    {
      "cell_type": "markdown",
      "metadata": {
        "id": "pukc22D_ItSj"
      },
      "source": [
        "**instalando bibliotecas**"
      ]
    },
    {
      "cell_type": "code",
      "execution_count": 20,
      "metadata": {
        "id": "DEKE24OFBe97"
      },
      "outputs": [
        {
          "name": "stdout",
          "output_type": "stream",
          "text": [
            "Requirement already satisfied: matplotlib in c:\\users\\felip\\appdata\\local\\programs\\python\\python312\\lib\\site-packages (3.8.0)\n",
            "Requirement already satisfied: contourpy>=1.0.1 in c:\\users\\felip\\appdata\\local\\programs\\python\\python312\\lib\\site-packages (from matplotlib) (1.1.1)\n",
            "Requirement already satisfied: cycler>=0.10 in c:\\users\\felip\\appdata\\local\\programs\\python\\python312\\lib\\site-packages (from matplotlib) (0.12.1)\n",
            "Requirement already satisfied: fonttools>=4.22.0 in c:\\users\\felip\\appdata\\local\\programs\\python\\python312\\lib\\site-packages (from matplotlib) (4.43.1)\n",
            "Requirement already satisfied: kiwisolver>=1.0.1 in c:\\users\\felip\\appdata\\local\\programs\\python\\python312\\lib\\site-packages (from matplotlib) (1.4.5)\n",
            "Requirement already satisfied: numpy<2,>=1.21 in c:\\users\\felip\\appdata\\local\\programs\\python\\python312\\lib\\site-packages (from matplotlib) (1.26.0)\n",
            "Requirement already satisfied: packaging>=20.0 in c:\\users\\felip\\appdata\\roaming\\python\\python312\\site-packages (from matplotlib) (23.2)\n",
            "Requirement already satisfied: pillow>=6.2.0 in c:\\users\\felip\\appdata\\local\\programs\\python\\python312\\lib\\site-packages (from matplotlib) (10.0.1)\n",
            "Requirement already satisfied: pyparsing>=2.3.1 in c:\\users\\felip\\appdata\\local\\programs\\python\\python312\\lib\\site-packages (from matplotlib) (3.1.1)\n",
            "Requirement already satisfied: python-dateutil>=2.7 in c:\\users\\felip\\appdata\\roaming\\python\\python312\\site-packages (from matplotlib) (2.8.2)\n",
            "Requirement already satisfied: six>=1.5 in c:\\users\\felip\\appdata\\roaming\\python\\python312\\site-packages (from python-dateutil>=2.7->matplotlib) (1.16.0)\n"
          ]
        },
        {
          "name": "stderr",
          "output_type": "stream",
          "text": [
            "\n",
            "[notice] A new release of pip is available: 23.3.1 -> 24.1.2\n",
            "[notice] To update, run: python.exe -m pip install --upgrade pip\n"
          ]
        }
      ],
      "source": [
        "!pip install matplotlib"
      ]
    },
    {
      "cell_type": "markdown",
      "metadata": {
        "id": "pJtlGCgAJwZH"
      },
      "source": [
        "Instalando uma versão específica"
      ]
    },
    {
      "cell_type": "code",
      "execution_count": null,
      "metadata": {
        "id": "__hgakSgI0TH"
      },
      "outputs": [
        {
          "name": "stdout",
          "output_type": "stream",
          "text": [
            "^C\n"
          ]
        },
        {
          "name": "stdout",
          "output_type": "stream",
          "text": [
            "Collecting matplotlib==3.6.2\n",
            "  Using cached matplotlib-3.6.2.tar.gz (35.8 MB)\n",
            "  Installing build dependencies: started\n",
            "  Installing build dependencies: finished with status 'done'\n",
            "  Getting requirements to build wheel: started\n",
            "  Getting requirements to build wheel: finished with status 'done'\n",
            "  Installing backend dependencies: started\n",
            "  Installing backend dependencies: finished with status 'done'\n",
            "  Preparing metadata (pyproject.toml): started\n",
            "  Preparing metadata (pyproject.toml): finished with status 'done'\n",
            "Requirement already satisfied: contourpy>=1.0.1 in c:\\users\\felip\\appdata\\local\\programs\\python\\python312\\lib\\site-packages (from matplotlib==3.6.2) (1.1.1)\n",
            "Requirement already satisfied: cycler>=0.10 in c:\\users\\felip\\appdata\\local\\programs\\python\\python312\\lib\\site-packages (from matplotlib==3.6.2) (0.12.1)\n",
            "Requirement already satisfied: fonttools>=4.22.0 in c:\\users\\felip\\appdata\\local\\programs\\python\\python312\\lib\\site-packages (from matplotlib==3.6.2) (4.43.1)\n",
            "Requirement already satisfied: kiwisolver>=1.0.1 in c:\\users\\felip\\appdata\\local\\programs\\python\\python312\\lib\\site-packages (from matplotlib==3.6.2) (1.4.5)\n",
            "Requirement already satisfied: numpy>=1.19 in c:\\users\\felip\\appdata\\local\\programs\\python\\python312\\lib\\site-packages (from matplotlib==3.6.2) (1.26.0)\n",
            "Requirement already satisfied: packaging>=20.0 in c:\\users\\felip\\appdata\\roaming\\python\\python312\\site-packages (from matplotlib==3.6.2) (23.2)\n",
            "Requirement already satisfied: pillow>=6.2.0 in c:\\users\\felip\\appdata\\local\\programs\\python\\python312\\lib\\site-packages (from matplotlib==3.6.2) (10.0.1)\n",
            "Requirement already satisfied: pyparsing>=2.2.1 in c:\\users\\felip\\appdata\\local\\programs\\python\\python312\\lib\\site-packages (from matplotlib==3.6.2) (3.1.1)\n",
            "Requirement already satisfied: python-dateutil>=2.7 in c:\\users\\felip\\appdata\\roaming\\python\\python312\\site-packages (from matplotlib==3.6.2) (2.8.2)\n",
            "Requirement already satisfied: six>=1.5 in c:\\users\\felip\\appdata\\roaming\\python\\python312\\site-packages (from python-dateutil>=2.7->matplotlib==3.6.2) (1.16.0)\n",
            "Building wheels for collected packages: matplotlib\n",
            "  Building wheel for matplotlib (pyproject.toml): started\n",
            "  Building wheel for matplotlib (pyproject.toml): finished with status 'error'\n",
            "Failed to build matplotlib\n"
          ]
        },
        {
          "name": "stderr",
          "output_type": "stream",
          "text": [
            "  error: subprocess-exited-with-error\n",
            "  \n",
            "  × Building wheel for matplotlib (pyproject.toml) did not run successfully.\n",
            "  │ exit code: 1\n",
            "  ╰─> [568 lines of output]\n",
            "      \n",
            "      Edit mplsetup.cfg to change the build options; suppress output with --quiet.\n",
            "      \n",
            "      BUILDING MATPLOTLIB\n",
            "            python: yes [3.12.0 (tags/v3.12.0:0fb18b0, Oct  2 2023, 13:03:39) [MSC\n",
            "                        v.1935 64 bit (AMD64)]]\n",
            "          platform: yes [win32]\n",
            "             tests: no  [skipping due to configuration]\n",
            "            macosx: no  [Mac OS-X only]\n",
            "      \n",
            "      C:\\Users\\felip\\AppData\\Local\\Temp\\pip-build-env-r13ujrg4\\overlay\\Lib\\site-packages\\setuptools\\dist.py:679: SetuptoolsDeprecationWarning: The namespace_packages parameter is deprecated.\n",
            "      !!\n",
            "      \n",
            "              ********************************************************************************\n",
            "              Please replace its usage with implicit namespaces (PEP 420).\n",
            "      \n",
            "              See https://setuptools.pypa.io/en/latest/references/keywords.html#keyword-namespace-packages for details.\n",
            "              ********************************************************************************\n",
            "      \n",
            "      !!\n",
            "        ep.load()(self, ep.name, value)\n",
            "      WARNING setuptools_scm.pyproject_reading toml section missing 'pyproject.toml does not contain a tool.setuptools_scm section'\n",
            "      Traceback (most recent call last):\n",
            "        File \"C:\\Users\\felip\\AppData\\Local\\Temp\\pip-build-env-r13ujrg4\\normal\\Lib\\site-packages\\setuptools_scm\\_integration\\pyproject_reading.py\", line 36, in read_pyproject\n",
            "          section = defn.get(\"tool\", {})[tool_name]\n",
            "                    ~~~~~~~~~~~~~~~~~~~~^^^^^^^^^^^\n",
            "      KeyError: 'setuptools_scm'\n",
            "      C:\\Users\\felip\\AppData\\Local\\Temp\\pip-build-env-r13ujrg4\\normal\\Lib\\site-packages\\setuptools_scm\\git.py:312: UserWarning: git archive did not support describe output\n",
            "        warnings.warn(\"git archive did not support describe output\")\n",
            "      C:\\Users\\felip\\AppData\\Local\\Temp\\pip-build-env-r13ujrg4\\normal\\Lib\\site-packages\\setuptools_scm\\git.py:331: UserWarning: unprocessed git archival found (no export subst applied)\n",
            "        warnings.warn(\"unprocessed git archival found (no export subst applied)\")\n",
            "      running bdist_wheel\n",
            "      running build\n",
            "      running build_py\n",
            "      creating build\n",
            "      creating build\\lib.win-amd64-cpython-312\n",
            "      copying lib\\pylab.py -> build\\lib.win-amd64-cpython-312\n",
            "      creating build\\lib.win-amd64-cpython-312\\matplotlib\n",
            "      copying lib\\matplotlib\\afm.py -> build\\lib.win-amd64-cpython-312\\matplotlib\n",
            "      copying lib\\matplotlib\\animation.py -> build\\lib.win-amd64-cpython-312\\matplotlib\n",
            "      copying lib\\matplotlib\\artist.py -> build\\lib.win-amd64-cpython-312\\matplotlib\n",
            "      copying lib\\matplotlib\\axis.py -> build\\lib.win-amd64-cpython-312\\matplotlib\n",
            "      copying lib\\matplotlib\\backend_bases.py -> build\\lib.win-amd64-cpython-312\\matplotlib\n",
            "      copying lib\\matplotlib\\backend_managers.py -> build\\lib.win-amd64-cpython-312\\matplotlib\n",
            "      copying lib\\matplotlib\\backend_tools.py -> build\\lib.win-amd64-cpython-312\\matplotlib\n",
            "      copying lib\\matplotlib\\bezier.py -> build\\lib.win-amd64-cpython-312\\matplotlib\n",
            "      copying lib\\matplotlib\\blocking_input.py -> build\\lib.win-amd64-cpython-312\\matplotlib\n",
            "      copying lib\\matplotlib\\category.py -> build\\lib.win-amd64-cpython-312\\matplotlib\n",
            "      copying lib\\matplotlib\\cm.py -> build\\lib.win-amd64-cpython-312\\matplotlib\n",
            "      copying lib\\matplotlib\\collections.py -> build\\lib.win-amd64-cpython-312\\matplotlib\n",
            "      copying lib\\matplotlib\\colorbar.py -> build\\lib.win-amd64-cpython-312\\matplotlib\n",
            "      copying lib\\matplotlib\\colors.py -> build\\lib.win-amd64-cpython-312\\matplotlib\n",
            "      copying lib\\matplotlib\\container.py -> build\\lib.win-amd64-cpython-312\\matplotlib\n",
            "      copying lib\\matplotlib\\contour.py -> build\\lib.win-amd64-cpython-312\\matplotlib\n",
            "      copying lib\\matplotlib\\dates.py -> build\\lib.win-amd64-cpython-312\\matplotlib\n",
            "      copying lib\\matplotlib\\docstring.py -> build\\lib.win-amd64-cpython-312\\matplotlib\n",
            "      copying lib\\matplotlib\\dviread.py -> build\\lib.win-amd64-cpython-312\\matplotlib\n",
            "      copying lib\\matplotlib\\figure.py -> build\\lib.win-amd64-cpython-312\\matplotlib\n",
            "      copying lib\\matplotlib\\fontconfig_pattern.py -> build\\lib.win-amd64-cpython-312\\matplotlib\n",
            "      copying lib\\matplotlib\\font_manager.py -> build\\lib.win-amd64-cpython-312\\matplotlib\n",
            "      copying lib\\matplotlib\\gridspec.py -> build\\lib.win-amd64-cpython-312\\matplotlib\n",
            "      copying lib\\matplotlib\\hatch.py -> build\\lib.win-amd64-cpython-312\\matplotlib\n",
            "      copying lib\\matplotlib\\image.py -> build\\lib.win-amd64-cpython-312\\matplotlib\n",
            "      copying lib\\matplotlib\\layout_engine.py -> build\\lib.win-amd64-cpython-312\\matplotlib\n",
            "      copying lib\\matplotlib\\legend.py -> build\\lib.win-amd64-cpython-312\\matplotlib\n",
            "      copying lib\\matplotlib\\legend_handler.py -> build\\lib.win-amd64-cpython-312\\matplotlib\n",
            "      copying lib\\matplotlib\\lines.py -> build\\lib.win-amd64-cpython-312\\matplotlib\n",
            "      copying lib\\matplotlib\\markers.py -> build\\lib.win-amd64-cpython-312\\matplotlib\n",
            "      copying lib\\matplotlib\\mathtext.py -> build\\lib.win-amd64-cpython-312\\matplotlib\n",
            "      copying lib\\matplotlib\\mlab.py -> build\\lib.win-amd64-cpython-312\\matplotlib\n",
            "      copying lib\\matplotlib\\offsetbox.py -> build\\lib.win-amd64-cpython-312\\matplotlib\n",
            "      copying lib\\matplotlib\\patches.py -> build\\lib.win-amd64-cpython-312\\matplotlib\n",
            "      copying lib\\matplotlib\\path.py -> build\\lib.win-amd64-cpython-312\\matplotlib\n",
            "      copying lib\\matplotlib\\patheffects.py -> build\\lib.win-amd64-cpython-312\\matplotlib\n",
            "      copying lib\\matplotlib\\pylab.py -> build\\lib.win-amd64-cpython-312\\matplotlib\n",
            "      copying lib\\matplotlib\\pyplot.py -> build\\lib.win-amd64-cpython-312\\matplotlib\n",
            "      copying lib\\matplotlib\\quiver.py -> build\\lib.win-amd64-cpython-312\\matplotlib\n",
            "      copying lib\\matplotlib\\rcsetup.py -> build\\lib.win-amd64-cpython-312\\matplotlib\n",
            "      copying lib\\matplotlib\\sankey.py -> build\\lib.win-amd64-cpython-312\\matplotlib\n",
            "      copying lib\\matplotlib\\scale.py -> build\\lib.win-amd64-cpython-312\\matplotlib\n",
            "      copying lib\\matplotlib\\spines.py -> build\\lib.win-amd64-cpython-312\\matplotlib\n",
            "      copying lib\\matplotlib\\stackplot.py -> build\\lib.win-amd64-cpython-312\\matplotlib\n",
            "      copying lib\\matplotlib\\streamplot.py -> build\\lib.win-amd64-cpython-312\\matplotlib\n",
            "      copying lib\\matplotlib\\table.py -> build\\lib.win-amd64-cpython-312\\matplotlib\n",
            "      copying lib\\matplotlib\\texmanager.py -> build\\lib.win-amd64-cpython-312\\matplotlib\n",
            "      copying lib\\matplotlib\\text.py -> build\\lib.win-amd64-cpython-312\\matplotlib\n",
            "      copying lib\\matplotlib\\textpath.py -> build\\lib.win-amd64-cpython-312\\matplotlib\n",
            "      copying lib\\matplotlib\\ticker.py -> build\\lib.win-amd64-cpython-312\\matplotlib\n",
            "      copying lib\\matplotlib\\tight_bbox.py -> build\\lib.win-amd64-cpython-312\\matplotlib\n",
            "      copying lib\\matplotlib\\tight_layout.py -> build\\lib.win-amd64-cpython-312\\matplotlib\n",
            "      copying lib\\matplotlib\\transforms.py -> build\\lib.win-amd64-cpython-312\\matplotlib\n",
            "      copying lib\\matplotlib\\type1font.py -> build\\lib.win-amd64-cpython-312\\matplotlib\n",
            "      copying lib\\matplotlib\\units.py -> build\\lib.win-amd64-cpython-312\\matplotlib\n",
            "      copying lib\\matplotlib\\widgets.py -> build\\lib.win-amd64-cpython-312\\matplotlib\n",
            "      copying lib\\matplotlib\\_afm.py -> build\\lib.win-amd64-cpython-312\\matplotlib\n",
            "      copying lib\\matplotlib\\_animation_data.py -> build\\lib.win-amd64-cpython-312\\matplotlib\n",
            "      copying lib\\matplotlib\\_blocking_input.py -> build\\lib.win-amd64-cpython-312\\matplotlib\n",
            "      copying lib\\matplotlib\\_cm.py -> build\\lib.win-amd64-cpython-312\\matplotlib\n",
            "      copying lib\\matplotlib\\_cm_listed.py -> build\\lib.win-amd64-cpython-312\\matplotlib\n",
            "      copying lib\\matplotlib\\_color_data.py -> build\\lib.win-amd64-cpython-312\\matplotlib\n",
            "      copying lib\\matplotlib\\_constrained_layout.py -> build\\lib.win-amd64-cpython-312\\matplotlib\n",
            "      copying lib\\matplotlib\\_docstring.py -> build\\lib.win-amd64-cpython-312\\matplotlib\n",
            "      copying lib\\matplotlib\\_enums.py -> build\\lib.win-amd64-cpython-312\\matplotlib\n",
            "      copying lib\\matplotlib\\_fontconfig_pattern.py -> build\\lib.win-amd64-cpython-312\\matplotlib\n",
            "      copying lib\\matplotlib\\_internal_utils.py -> build\\lib.win-amd64-cpython-312\\matplotlib\n",
            "      copying lib\\matplotlib\\_layoutgrid.py -> build\\lib.win-amd64-cpython-312\\matplotlib\n",
            "      copying lib\\matplotlib\\_mathtext.py -> build\\lib.win-amd64-cpython-312\\matplotlib\n",
            "      copying lib\\matplotlib\\_mathtext_data.py -> build\\lib.win-amd64-cpython-312\\matplotlib\n",
            "      copying lib\\matplotlib\\_pylab_helpers.py -> build\\lib.win-amd64-cpython-312\\matplotlib\n",
            "      copying lib\\matplotlib\\_text_helpers.py -> build\\lib.win-amd64-cpython-312\\matplotlib\n",
            "      copying lib\\matplotlib\\_tight_bbox.py -> build\\lib.win-amd64-cpython-312\\matplotlib\n",
            "      copying lib\\matplotlib\\_tight_layout.py -> build\\lib.win-amd64-cpython-312\\matplotlib\n",
            "      copying lib\\matplotlib\\_type1font.py -> build\\lib.win-amd64-cpython-312\\matplotlib\n",
            "      copying lib\\matplotlib\\_version.py -> build\\lib.win-amd64-cpython-312\\matplotlib\n",
            "      copying lib\\matplotlib\\__init__.py -> build\\lib.win-amd64-cpython-312\\matplotlib\n",
            "      creating build\\lib.win-amd64-cpython-312\\mpl_toolkits\n",
            "      copying lib\\mpl_toolkits\\__init__.py -> build\\lib.win-amd64-cpython-312\\mpl_toolkits\n",
            "      creating build\\lib.win-amd64-cpython-312\\matplotlib\\axes\n",
            "      copying lib\\matplotlib\\axes\\_axes.py -> build\\lib.win-amd64-cpython-312\\matplotlib\\axes\n",
            "      copying lib\\matplotlib\\axes\\_base.py -> build\\lib.win-amd64-cpython-312\\matplotlib\\axes\n",
            "      copying lib\\matplotlib\\axes\\_secondary_axes.py -> build\\lib.win-amd64-cpython-312\\matplotlib\\axes\n",
            "      copying lib\\matplotlib\\axes\\_subplots.py -> build\\lib.win-amd64-cpython-312\\matplotlib\\axes\n",
            "      copying lib\\matplotlib\\axes\\__init__.py -> build\\lib.win-amd64-cpython-312\\matplotlib\\axes\n",
            "      creating build\\lib.win-amd64-cpython-312\\matplotlib\\backends\n",
            "      copying lib\\matplotlib\\backends\\backend_agg.py -> build\\lib.win-amd64-cpython-312\\matplotlib\\backends\n",
            "      copying lib\\matplotlib\\backends\\backend_cairo.py -> build\\lib.win-amd64-cpython-312\\matplotlib\\backends\n",
            "      copying lib\\matplotlib\\backends\\backend_gtk3.py -> build\\lib.win-amd64-cpython-312\\matplotlib\\backends\n",
            "      copying lib\\matplotlib\\backends\\backend_gtk3agg.py -> build\\lib.win-amd64-cpython-312\\matplotlib\\backends\n",
            "      copying lib\\matplotlib\\backends\\backend_gtk3cairo.py -> build\\lib.win-amd64-cpython-312\\matplotlib\\backends\n",
            "      copying lib\\matplotlib\\backends\\backend_gtk4.py -> build\\lib.win-amd64-cpython-312\\matplotlib\\backends\n",
            "      copying lib\\matplotlib\\backends\\backend_gtk4agg.py -> build\\lib.win-amd64-cpython-312\\matplotlib\\backends\n",
            "      copying lib\\matplotlib\\backends\\backend_gtk4cairo.py -> build\\lib.win-amd64-cpython-312\\matplotlib\\backends\n",
            "      copying lib\\matplotlib\\backends\\backend_macosx.py -> build\\lib.win-amd64-cpython-312\\matplotlib\\backends\n",
            "      copying lib\\matplotlib\\backends\\backend_mixed.py -> build\\lib.win-amd64-cpython-312\\matplotlib\\backends\n",
            "      copying lib\\matplotlib\\backends\\backend_nbagg.py -> build\\lib.win-amd64-cpython-312\\matplotlib\\backends\n",
            "      copying lib\\matplotlib\\backends\\backend_pdf.py -> build\\lib.win-amd64-cpython-312\\matplotlib\\backends\n",
            "      copying lib\\matplotlib\\backends\\backend_pgf.py -> build\\lib.win-amd64-cpython-312\\matplotlib\\backends\n",
            "      copying lib\\matplotlib\\backends\\backend_ps.py -> build\\lib.win-amd64-cpython-312\\matplotlib\\backends\n",
            "      copying lib\\matplotlib\\backends\\backend_qt.py -> build\\lib.win-amd64-cpython-312\\matplotlib\\backends\n",
            "      copying lib\\matplotlib\\backends\\backend_qt5.py -> build\\lib.win-amd64-cpython-312\\matplotlib\\backends\n",
            "      copying lib\\matplotlib\\backends\\backend_qt5agg.py -> build\\lib.win-amd64-cpython-312\\matplotlib\\backends\n",
            "      copying lib\\matplotlib\\backends\\backend_qt5cairo.py -> build\\lib.win-amd64-cpython-312\\matplotlib\\backends\n",
            "      copying lib\\matplotlib\\backends\\backend_qtagg.py -> build\\lib.win-amd64-cpython-312\\matplotlib\\backends\n",
            "      copying lib\\matplotlib\\backends\\backend_qtcairo.py -> build\\lib.win-amd64-cpython-312\\matplotlib\\backends\n",
            "      copying lib\\matplotlib\\backends\\backend_svg.py -> build\\lib.win-amd64-cpython-312\\matplotlib\\backends\n",
            "      copying lib\\matplotlib\\backends\\backend_template.py -> build\\lib.win-amd64-cpython-312\\matplotlib\\backends\n",
            "      copying lib\\matplotlib\\backends\\backend_tkagg.py -> build\\lib.win-amd64-cpython-312\\matplotlib\\backends\n",
            "      copying lib\\matplotlib\\backends\\backend_tkcairo.py -> build\\lib.win-amd64-cpython-312\\matplotlib\\backends\n",
            "      copying lib\\matplotlib\\backends\\backend_webagg.py -> build\\lib.win-amd64-cpython-312\\matplotlib\\backends\n",
            "      copying lib\\matplotlib\\backends\\backend_webagg_core.py -> build\\lib.win-amd64-cpython-312\\matplotlib\\backends\n",
            "      copying lib\\matplotlib\\backends\\backend_wx.py -> build\\lib.win-amd64-cpython-312\\matplotlib\\backends\n",
            "      copying lib\\matplotlib\\backends\\backend_wxagg.py -> build\\lib.win-amd64-cpython-312\\matplotlib\\backends\n",
            "      copying lib\\matplotlib\\backends\\backend_wxcairo.py -> build\\lib.win-amd64-cpython-312\\matplotlib\\backends\n",
            "      copying lib\\matplotlib\\backends\\qt_compat.py -> build\\lib.win-amd64-cpython-312\\matplotlib\\backends\n",
            "      copying lib\\matplotlib\\backends\\_backend_gtk.py -> build\\lib.win-amd64-cpython-312\\matplotlib\\backends\n",
            "      copying lib\\matplotlib\\backends\\_backend_pdf_ps.py -> build\\lib.win-amd64-cpython-312\\matplotlib\\backends\n",
            "      copying lib\\matplotlib\\backends\\_backend_tk.py -> build\\lib.win-amd64-cpython-312\\matplotlib\\backends\n",
            "      copying lib\\matplotlib\\backends\\__init__.py -> build\\lib.win-amd64-cpython-312\\matplotlib\\backends\n",
            "      creating build\\lib.win-amd64-cpython-312\\matplotlib\\cbook\n",
            "      copying lib\\matplotlib\\cbook\\__init__.py -> build\\lib.win-amd64-cpython-312\\matplotlib\\cbook\n",
            "      creating build\\lib.win-amd64-cpython-312\\matplotlib\\projections\n",
            "      copying lib\\matplotlib\\projections\\geo.py -> build\\lib.win-amd64-cpython-312\\matplotlib\\projections\n",
            "      copying lib\\matplotlib\\projections\\polar.py -> build\\lib.win-amd64-cpython-312\\matplotlib\\projections\n",
            "      copying lib\\matplotlib\\projections\\__init__.py -> build\\lib.win-amd64-cpython-312\\matplotlib\\projections\n",
            "      creating build\\lib.win-amd64-cpython-312\\matplotlib\\sphinxext\n",
            "      copying lib\\matplotlib\\sphinxext\\mathmpl.py -> build\\lib.win-amd64-cpython-312\\matplotlib\\sphinxext\n",
            "      copying lib\\matplotlib\\sphinxext\\plot_directive.py -> build\\lib.win-amd64-cpython-312\\matplotlib\\sphinxext\n",
            "      copying lib\\matplotlib\\sphinxext\\__init__.py -> build\\lib.win-amd64-cpython-312\\matplotlib\\sphinxext\n",
            "      creating build\\lib.win-amd64-cpython-312\\matplotlib\\style\n",
            "      copying lib\\matplotlib\\style\\core.py -> build\\lib.win-amd64-cpython-312\\matplotlib\\style\n",
            "      copying lib\\matplotlib\\style\\__init__.py -> build\\lib.win-amd64-cpython-312\\matplotlib\\style\n",
            "      creating build\\lib.win-amd64-cpython-312\\matplotlib\\testing\n",
            "      copying lib\\matplotlib\\testing\\compare.py -> build\\lib.win-amd64-cpython-312\\matplotlib\\testing\n",
            "      copying lib\\matplotlib\\testing\\conftest.py -> build\\lib.win-amd64-cpython-312\\matplotlib\\testing\n",
            "      copying lib\\matplotlib\\testing\\decorators.py -> build\\lib.win-amd64-cpython-312\\matplotlib\\testing\n",
            "      copying lib\\matplotlib\\testing\\exceptions.py -> build\\lib.win-amd64-cpython-312\\matplotlib\\testing\n",
            "      copying lib\\matplotlib\\testing\\widgets.py -> build\\lib.win-amd64-cpython-312\\matplotlib\\testing\n",
            "      copying lib\\matplotlib\\testing\\_markers.py -> build\\lib.win-amd64-cpython-312\\matplotlib\\testing\n",
            "      copying lib\\matplotlib\\testing\\__init__.py -> build\\lib.win-amd64-cpython-312\\matplotlib\\testing\n",
            "      creating build\\lib.win-amd64-cpython-312\\matplotlib\\tests\n",
            "      copying lib\\matplotlib\\tests\\conftest.py -> build\\lib.win-amd64-cpython-312\\matplotlib\\tests\n",
            "      copying lib\\matplotlib\\tests\\test_afm.py -> build\\lib.win-amd64-cpython-312\\matplotlib\\tests\n",
            "      copying lib\\matplotlib\\tests\\test_agg.py -> build\\lib.win-amd64-cpython-312\\matplotlib\\tests\n",
            "      copying lib\\matplotlib\\tests\\test_agg_filter.py -> build\\lib.win-amd64-cpython-312\\matplotlib\\tests\n",
            "      copying lib\\matplotlib\\tests\\test_animation.py -> build\\lib.win-amd64-cpython-312\\matplotlib\\tests\n",
            "      copying lib\\matplotlib\\tests\\test_api.py -> build\\lib.win-amd64-cpython-312\\matplotlib\\tests\n",
            "      copying lib\\matplotlib\\tests\\test_arrow_patches.py -> build\\lib.win-amd64-cpython-312\\matplotlib\\tests\n",
            "      copying lib\\matplotlib\\tests\\test_artist.py -> build\\lib.win-amd64-cpython-312\\matplotlib\\tests\n",
            "      copying lib\\matplotlib\\tests\\test_axes.py -> build\\lib.win-amd64-cpython-312\\matplotlib\\tests\n",
            "      copying lib\\matplotlib\\tests\\test_backends_interactive.py -> build\\lib.win-amd64-cpython-312\\matplotlib\\tests\n",
            "      copying lib\\matplotlib\\tests\\test_backend_bases.py -> build\\lib.win-amd64-cpython-312\\matplotlib\\tests\n",
            "      copying lib\\matplotlib\\tests\\test_backend_cairo.py -> build\\lib.win-amd64-cpython-312\\matplotlib\\tests\n",
            "      copying lib\\matplotlib\\tests\\test_backend_gtk3.py -> build\\lib.win-amd64-cpython-312\\matplotlib\\tests\n",
            "      copying lib\\matplotlib\\tests\\test_backend_macosx.py -> build\\lib.win-amd64-cpython-312\\matplotlib\\tests\n",
            "      copying lib\\matplotlib\\tests\\test_backend_nbagg.py -> build\\lib.win-amd64-cpython-312\\matplotlib\\tests\n",
            "      copying lib\\matplotlib\\tests\\test_backend_pdf.py -> build\\lib.win-amd64-cpython-312\\matplotlib\\tests\n",
            "      copying lib\\matplotlib\\tests\\test_backend_pgf.py -> build\\lib.win-amd64-cpython-312\\matplotlib\\tests\n",
            "      copying lib\\matplotlib\\tests\\test_backend_ps.py -> build\\lib.win-amd64-cpython-312\\matplotlib\\tests\n",
            "      copying lib\\matplotlib\\tests\\test_backend_qt.py -> build\\lib.win-amd64-cpython-312\\matplotlib\\tests\n",
            "      copying lib\\matplotlib\\tests\\test_backend_svg.py -> build\\lib.win-amd64-cpython-312\\matplotlib\\tests\n",
            "      copying lib\\matplotlib\\tests\\test_backend_template.py -> build\\lib.win-amd64-cpython-312\\matplotlib\\tests\n",
            "      copying lib\\matplotlib\\tests\\test_backend_tk.py -> build\\lib.win-amd64-cpython-312\\matplotlib\\tests\n",
            "      copying lib\\matplotlib\\tests\\test_backend_tools.py -> build\\lib.win-amd64-cpython-312\\matplotlib\\tests\n",
            "      copying lib\\matplotlib\\tests\\test_backend_webagg.py -> build\\lib.win-amd64-cpython-312\\matplotlib\\tests\n",
            "      copying lib\\matplotlib\\tests\\test_basic.py -> build\\lib.win-amd64-cpython-312\\matplotlib\\tests\n",
            "      copying lib\\matplotlib\\tests\\test_bbox_tight.py -> build\\lib.win-amd64-cpython-312\\matplotlib\\tests\n",
            "      copying lib\\matplotlib\\tests\\test_category.py -> build\\lib.win-amd64-cpython-312\\matplotlib\\tests\n",
            "      copying lib\\matplotlib\\tests\\test_cbook.py -> build\\lib.win-amd64-cpython-312\\matplotlib\\tests\n",
            "      copying lib\\matplotlib\\tests\\test_collections.py -> build\\lib.win-amd64-cpython-312\\matplotlib\\tests\n",
            "      copying lib\\matplotlib\\tests\\test_colorbar.py -> build\\lib.win-amd64-cpython-312\\matplotlib\\tests\n",
            "      copying lib\\matplotlib\\tests\\test_colors.py -> build\\lib.win-amd64-cpython-312\\matplotlib\\tests\n",
            "      copying lib\\matplotlib\\tests\\test_compare_images.py -> build\\lib.win-amd64-cpython-312\\matplotlib\\tests\n",
            "      copying lib\\matplotlib\\tests\\test_constrainedlayout.py -> build\\lib.win-amd64-cpython-312\\matplotlib\\tests\n",
            "      copying lib\\matplotlib\\tests\\test_container.py -> build\\lib.win-amd64-cpython-312\\matplotlib\\tests\n",
            "      copying lib\\matplotlib\\tests\\test_contour.py -> build\\lib.win-amd64-cpython-312\\matplotlib\\tests\n",
            "      copying lib\\matplotlib\\tests\\test_cycles.py -> build\\lib.win-amd64-cpython-312\\matplotlib\\tests\n",
            "      copying lib\\matplotlib\\tests\\test_dates.py -> build\\lib.win-amd64-cpython-312\\matplotlib\\tests\n",
            "      copying lib\\matplotlib\\tests\\test_determinism.py -> build\\lib.win-amd64-cpython-312\\matplotlib\\tests\n",
            "      copying lib\\matplotlib\\tests\\test_doc.py -> build\\lib.win-amd64-cpython-312\\matplotlib\\tests\n",
            "      copying lib\\matplotlib\\tests\\test_dviread.py -> build\\lib.win-amd64-cpython-312\\matplotlib\\tests\n",
            "      copying lib\\matplotlib\\tests\\test_figure.py -> build\\lib.win-amd64-cpython-312\\matplotlib\\tests\n",
            "      copying lib\\matplotlib\\tests\\test_fontconfig_pattern.py -> build\\lib.win-amd64-cpython-312\\matplotlib\\tests\n",
            "      copying lib\\matplotlib\\tests\\test_font_manager.py -> build\\lib.win-amd64-cpython-312\\matplotlib\\tests\n",
            "      copying lib\\matplotlib\\tests\\test_ft2font.py -> build\\lib.win-amd64-cpython-312\\matplotlib\\tests\n",
            "      copying lib\\matplotlib\\tests\\test_getattr.py -> build\\lib.win-amd64-cpython-312\\matplotlib\\tests\n",
            "      copying lib\\matplotlib\\tests\\test_gridspec.py -> build\\lib.win-amd64-cpython-312\\matplotlib\\tests\n",
            "      copying lib\\matplotlib\\tests\\test_image.py -> build\\lib.win-amd64-cpython-312\\matplotlib\\tests\n",
            "      copying lib\\matplotlib\\tests\\test_legend.py -> build\\lib.win-amd64-cpython-312\\matplotlib\\tests\n",
            "      copying lib\\matplotlib\\tests\\test_lines.py -> build\\lib.win-amd64-cpython-312\\matplotlib\\tests\n",
            "      copying lib\\matplotlib\\tests\\test_marker.py -> build\\lib.win-amd64-cpython-312\\matplotlib\\tests\n",
            "      copying lib\\matplotlib\\tests\\test_mathtext.py -> build\\lib.win-amd64-cpython-312\\matplotlib\\tests\n",
            "      copying lib\\matplotlib\\tests\\test_matplotlib.py -> build\\lib.win-amd64-cpython-312\\matplotlib\\tests\n",
            "      copying lib\\matplotlib\\tests\\test_mlab.py -> build\\lib.win-amd64-cpython-312\\matplotlib\\tests\n",
            "      copying lib\\matplotlib\\tests\\test_offsetbox.py -> build\\lib.win-amd64-cpython-312\\matplotlib\\tests\n",
            "      copying lib\\matplotlib\\tests\\test_patches.py -> build\\lib.win-amd64-cpython-312\\matplotlib\\tests\n",
            "      copying lib\\matplotlib\\tests\\test_path.py -> build\\lib.win-amd64-cpython-312\\matplotlib\\tests\n",
            "      copying lib\\matplotlib\\tests\\test_patheffects.py -> build\\lib.win-amd64-cpython-312\\matplotlib\\tests\n",
            "      copying lib\\matplotlib\\tests\\test_pickle.py -> build\\lib.win-amd64-cpython-312\\matplotlib\\tests\n",
            "      copying lib\\matplotlib\\tests\\test_png.py -> build\\lib.win-amd64-cpython-312\\matplotlib\\tests\n",
            "      copying lib\\matplotlib\\tests\\test_polar.py -> build\\lib.win-amd64-cpython-312\\matplotlib\\tests\n",
            "      copying lib\\matplotlib\\tests\\test_preprocess_data.py -> build\\lib.win-amd64-cpython-312\\matplotlib\\tests\n",
            "      copying lib\\matplotlib\\tests\\test_pyplot.py -> build\\lib.win-amd64-cpython-312\\matplotlib\\tests\n",
            "      copying lib\\matplotlib\\tests\\test_quiver.py -> build\\lib.win-amd64-cpython-312\\matplotlib\\tests\n",
            "      copying lib\\matplotlib\\tests\\test_rcparams.py -> build\\lib.win-amd64-cpython-312\\matplotlib\\tests\n",
            "      copying lib\\matplotlib\\tests\\test_sankey.py -> build\\lib.win-amd64-cpython-312\\matplotlib\\tests\n",
            "      copying lib\\matplotlib\\tests\\test_scale.py -> build\\lib.win-amd64-cpython-312\\matplotlib\\tests\n",
            "      copying lib\\matplotlib\\tests\\test_simplification.py -> build\\lib.win-amd64-cpython-312\\matplotlib\\tests\n",
            "      copying lib\\matplotlib\\tests\\test_skew.py -> build\\lib.win-amd64-cpython-312\\matplotlib\\tests\n",
            "      copying lib\\matplotlib\\tests\\test_sphinxext.py -> build\\lib.win-amd64-cpython-312\\matplotlib\\tests\n",
            "      copying lib\\matplotlib\\tests\\test_spines.py -> build\\lib.win-amd64-cpython-312\\matplotlib\\tests\n",
            "      copying lib\\matplotlib\\tests\\test_streamplot.py -> build\\lib.win-amd64-cpython-312\\matplotlib\\tests\n",
            "      copying lib\\matplotlib\\tests\\test_style.py -> build\\lib.win-amd64-cpython-312\\matplotlib\\tests\n",
            "      copying lib\\matplotlib\\tests\\test_subplots.py -> build\\lib.win-amd64-cpython-312\\matplotlib\\tests\n",
            "      copying lib\\matplotlib\\tests\\test_table.py -> build\\lib.win-amd64-cpython-312\\matplotlib\\tests\n",
            "      copying lib\\matplotlib\\tests\\test_testing.py -> build\\lib.win-amd64-cpython-312\\matplotlib\\tests\n",
            "      copying lib\\matplotlib\\tests\\test_texmanager.py -> build\\lib.win-amd64-cpython-312\\matplotlib\\tests\n",
            "      copying lib\\matplotlib\\tests\\test_text.py -> build\\lib.win-amd64-cpython-312\\matplotlib\\tests\n",
            "      copying lib\\matplotlib\\tests\\test_textpath.py -> build\\lib.win-amd64-cpython-312\\matplotlib\\tests\n",
            "      copying lib\\matplotlib\\tests\\test_ticker.py -> build\\lib.win-amd64-cpython-312\\matplotlib\\tests\n",
            "      copying lib\\matplotlib\\tests\\test_tightlayout.py -> build\\lib.win-amd64-cpython-312\\matplotlib\\tests\n",
            "      copying lib\\matplotlib\\tests\\test_transforms.py -> build\\lib.win-amd64-cpython-312\\matplotlib\\tests\n",
            "      copying lib\\matplotlib\\tests\\test_triangulation.py -> build\\lib.win-amd64-cpython-312\\matplotlib\\tests\n",
            "      copying lib\\matplotlib\\tests\\test_ttconv.py -> build\\lib.win-amd64-cpython-312\\matplotlib\\tests\n",
            "      copying lib\\matplotlib\\tests\\test_type1font.py -> build\\lib.win-amd64-cpython-312\\matplotlib\\tests\n",
            "      copying lib\\matplotlib\\tests\\test_units.py -> build\\lib.win-amd64-cpython-312\\matplotlib\\tests\n",
            "      copying lib\\matplotlib\\tests\\test_usetex.py -> build\\lib.win-amd64-cpython-312\\matplotlib\\tests\n",
            "      copying lib\\matplotlib\\tests\\test_widgets.py -> build\\lib.win-amd64-cpython-312\\matplotlib\\tests\n",
            "      copying lib\\matplotlib\\tests\\__init__.py -> build\\lib.win-amd64-cpython-312\\matplotlib\\tests\n",
            "      creating build\\lib.win-amd64-cpython-312\\matplotlib\\tri\n",
            "      copying lib\\matplotlib\\tri\\triangulation.py -> build\\lib.win-amd64-cpython-312\\matplotlib\\tri\n",
            "      copying lib\\matplotlib\\tri\\tricontour.py -> build\\lib.win-amd64-cpython-312\\matplotlib\\tri\n",
            "      copying lib\\matplotlib\\tri\\trifinder.py -> build\\lib.win-amd64-cpython-312\\matplotlib\\tri\n",
            "      copying lib\\matplotlib\\tri\\triinterpolate.py -> build\\lib.win-amd64-cpython-312\\matplotlib\\tri\n",
            "      copying lib\\matplotlib\\tri\\tripcolor.py -> build\\lib.win-amd64-cpython-312\\matplotlib\\tri\n",
            "      copying lib\\matplotlib\\tri\\triplot.py -> build\\lib.win-amd64-cpython-312\\matplotlib\\tri\n",
            "      copying lib\\matplotlib\\tri\\trirefine.py -> build\\lib.win-amd64-cpython-312\\matplotlib\\tri\n",
            "      copying lib\\matplotlib\\tri\\tritools.py -> build\\lib.win-amd64-cpython-312\\matplotlib\\tri\n",
            "      copying lib\\matplotlib\\tri\\__init__.py -> build\\lib.win-amd64-cpython-312\\matplotlib\\tri\n",
            "      creating build\\lib.win-amd64-cpython-312\\matplotlib\\_api\n",
            "      copying lib\\matplotlib\\_api\\deprecation.py -> build\\lib.win-amd64-cpython-312\\matplotlib\\_api\n",
            "      copying lib\\matplotlib\\_api\\__init__.py -> build\\lib.win-amd64-cpython-312\\matplotlib\\_api\n",
            "      creating build\\lib.win-amd64-cpython-312\\matplotlib\\backends\\qt_editor\n",
            "      copying lib\\matplotlib\\backends\\qt_editor\\figureoptions.py -> build\\lib.win-amd64-cpython-312\\matplotlib\\backends\\qt_editor\n",
            "      copying lib\\matplotlib\\backends\\qt_editor\\_formlayout.py -> build\\lib.win-amd64-cpython-312\\matplotlib\\backends\\qt_editor\n",
            "      copying lib\\matplotlib\\backends\\qt_editor\\__init__.py -> build\\lib.win-amd64-cpython-312\\matplotlib\\backends\\qt_editor\n",
            "      creating build\\lib.win-amd64-cpython-312\\matplotlib\\testing\\jpl_units\n",
            "      copying lib\\matplotlib\\testing\\jpl_units\\Duration.py -> build\\lib.win-amd64-cpython-312\\matplotlib\\testing\\jpl_units\n",
            "      copying lib\\matplotlib\\testing\\jpl_units\\Epoch.py -> build\\lib.win-amd64-cpython-312\\matplotlib\\testing\\jpl_units\n",
            "      copying lib\\matplotlib\\testing\\jpl_units\\EpochConverter.py -> build\\lib.win-amd64-cpython-312\\matplotlib\\testing\\jpl_units\n",
            "      copying lib\\matplotlib\\testing\\jpl_units\\StrConverter.py -> build\\lib.win-amd64-cpython-312\\matplotlib\\testing\\jpl_units\n",
            "      copying lib\\matplotlib\\testing\\jpl_units\\UnitDbl.py -> build\\lib.win-amd64-cpython-312\\matplotlib\\testing\\jpl_units\n",
            "      copying lib\\matplotlib\\testing\\jpl_units\\UnitDblConverter.py -> build\\lib.win-amd64-cpython-312\\matplotlib\\testing\\jpl_units\n",
            "      copying lib\\matplotlib\\testing\\jpl_units\\UnitDblFormatter.py -> build\\lib.win-amd64-cpython-312\\matplotlib\\testing\\jpl_units\n",
            "      copying lib\\matplotlib\\testing\\jpl_units\\__init__.py -> build\\lib.win-amd64-cpython-312\\matplotlib\\testing\\jpl_units\n",
            "      creating build\\lib.win-amd64-cpython-312\\mpl_toolkits\\axes_grid1\n",
            "      copying lib\\mpl_toolkits\\axes_grid1\\anchored_artists.py -> build\\lib.win-amd64-cpython-312\\mpl_toolkits\\axes_grid1\n",
            "      copying lib\\mpl_toolkits\\axes_grid1\\axes_divider.py -> build\\lib.win-amd64-cpython-312\\mpl_toolkits\\axes_grid1\n",
            "      copying lib\\mpl_toolkits\\axes_grid1\\axes_grid.py -> build\\lib.win-amd64-cpython-312\\mpl_toolkits\\axes_grid1\n",
            "      copying lib\\mpl_toolkits\\axes_grid1\\axes_rgb.py -> build\\lib.win-amd64-cpython-312\\mpl_toolkits\\axes_grid1\n",
            "      copying lib\\mpl_toolkits\\axes_grid1\\axes_size.py -> build\\lib.win-amd64-cpython-312\\mpl_toolkits\\axes_grid1\n",
            "      copying lib\\mpl_toolkits\\axes_grid1\\inset_locator.py -> build\\lib.win-amd64-cpython-312\\mpl_toolkits\\axes_grid1\n",
            "      copying lib\\mpl_toolkits\\axes_grid1\\mpl_axes.py -> build\\lib.win-amd64-cpython-312\\mpl_toolkits\\axes_grid1\n",
            "      copying lib\\mpl_toolkits\\axes_grid1\\parasite_axes.py -> build\\lib.win-amd64-cpython-312\\mpl_toolkits\\axes_grid1\n",
            "      copying lib\\mpl_toolkits\\axes_grid1\\__init__.py -> build\\lib.win-amd64-cpython-312\\mpl_toolkits\\axes_grid1\n",
            "      creating build\\lib.win-amd64-cpython-312\\mpl_toolkits\\axisartist\n",
            "      copying lib\\mpl_toolkits\\axisartist\\angle_helper.py -> build\\lib.win-amd64-cpython-312\\mpl_toolkits\\axisartist\n",
            "      copying lib\\mpl_toolkits\\axisartist\\axes_divider.py -> build\\lib.win-amd64-cpython-312\\mpl_toolkits\\axisartist\n",
            "      copying lib\\mpl_toolkits\\axisartist\\axes_grid.py -> build\\lib.win-amd64-cpython-312\\mpl_toolkits\\axisartist\n",
            "      copying lib\\mpl_toolkits\\axisartist\\axes_rgb.py -> build\\lib.win-amd64-cpython-312\\mpl_toolkits\\axisartist\n",
            "      copying lib\\mpl_toolkits\\axisartist\\axislines.py -> build\\lib.win-amd64-cpython-312\\mpl_toolkits\\axisartist\n",
            "      copying lib\\mpl_toolkits\\axisartist\\axisline_style.py -> build\\lib.win-amd64-cpython-312\\mpl_toolkits\\axisartist\n",
            "      copying lib\\mpl_toolkits\\axisartist\\axis_artist.py -> build\\lib.win-amd64-cpython-312\\mpl_toolkits\\axisartist\n",
            "      copying lib\\mpl_toolkits\\axisartist\\clip_path.py -> build\\lib.win-amd64-cpython-312\\mpl_toolkits\\axisartist\n",
            "      copying lib\\mpl_toolkits\\axisartist\\floating_axes.py -> build\\lib.win-amd64-cpython-312\\mpl_toolkits\\axisartist\n",
            "      copying lib\\mpl_toolkits\\axisartist\\grid_finder.py -> build\\lib.win-amd64-cpython-312\\mpl_toolkits\\axisartist\n",
            "      copying lib\\mpl_toolkits\\axisartist\\grid_helper_curvelinear.py -> build\\lib.win-amd64-cpython-312\\mpl_toolkits\\axisartist\n",
            "      copying lib\\mpl_toolkits\\axisartist\\parasite_axes.py -> build\\lib.win-amd64-cpython-312\\mpl_toolkits\\axisartist\n",
            "      copying lib\\mpl_toolkits\\axisartist\\__init__.py -> build\\lib.win-amd64-cpython-312\\mpl_toolkits\\axisartist\n",
            "      creating build\\lib.win-amd64-cpython-312\\mpl_toolkits\\mplot3d\n",
            "      copying lib\\mpl_toolkits\\mplot3d\\art3d.py -> build\\lib.win-amd64-cpython-312\\mpl_toolkits\\mplot3d\n",
            "      copying lib\\mpl_toolkits\\mplot3d\\axes3d.py -> build\\lib.win-amd64-cpython-312\\mpl_toolkits\\mplot3d\n",
            "      copying lib\\mpl_toolkits\\mplot3d\\axis3d.py -> build\\lib.win-amd64-cpython-312\\mpl_toolkits\\mplot3d\n",
            "      copying lib\\mpl_toolkits\\mplot3d\\proj3d.py -> build\\lib.win-amd64-cpython-312\\mpl_toolkits\\mplot3d\n",
            "      copying lib\\mpl_toolkits\\mplot3d\\__init__.py -> build\\lib.win-amd64-cpython-312\\mpl_toolkits\\mplot3d\n",
            "      creating build\\lib.win-amd64-cpython-312\\mpl_toolkits\\tests\n",
            "      copying lib\\mpl_toolkits\\tests\\conftest.py -> build\\lib.win-amd64-cpython-312\\mpl_toolkits\\tests\n",
            "      copying lib\\mpl_toolkits\\tests\\test_axes_grid.py -> build\\lib.win-amd64-cpython-312\\mpl_toolkits\\tests\n",
            "      copying lib\\mpl_toolkits\\tests\\test_axes_grid1.py -> build\\lib.win-amd64-cpython-312\\mpl_toolkits\\tests\n",
            "      copying lib\\mpl_toolkits\\tests\\test_axisartist_angle_helper.py -> build\\lib.win-amd64-cpython-312\\mpl_toolkits\\tests\n",
            "      copying lib\\mpl_toolkits\\tests\\test_axisartist_axislines.py -> build\\lib.win-amd64-cpython-312\\mpl_toolkits\\tests\n",
            "      copying lib\\mpl_toolkits\\tests\\test_axisartist_axis_artist.py -> build\\lib.win-amd64-cpython-312\\mpl_toolkits\\tests\n",
            "      copying lib\\mpl_toolkits\\tests\\test_axisartist_clip_path.py -> build\\lib.win-amd64-cpython-312\\mpl_toolkits\\tests\n",
            "      copying lib\\mpl_toolkits\\tests\\test_axisartist_floating_axes.py -> build\\lib.win-amd64-cpython-312\\mpl_toolkits\\tests\n",
            "      copying lib\\mpl_toolkits\\tests\\test_axisartist_grid_finder.py -> build\\lib.win-amd64-cpython-312\\mpl_toolkits\\tests\n",
            "      copying lib\\mpl_toolkits\\tests\\test_axisartist_grid_helper_curvelinear.py -> build\\lib.win-amd64-cpython-312\\mpl_toolkits\\tests\n",
            "      copying lib\\mpl_toolkits\\tests\\test_mplot3d.py -> build\\lib.win-amd64-cpython-312\\mpl_toolkits\\tests\n",
            "      copying lib\\mpl_toolkits\\tests\\__init__.py -> build\\lib.win-amd64-cpython-312\\mpl_toolkits\\tests\n",
            "      creating build\\lib.win-amd64-cpython-312\\matplotlib\\mpl-data\n",
            "      creating build\\lib.win-amd64-cpython-312\\matplotlib\\mpl-data\\fonts\n",
            "      creating build\\lib.win-amd64-cpython-312\\matplotlib\\mpl-data\\fonts\\pdfcorefonts\n",
            "      copying lib\\matplotlib\\mpl-data\\fonts\\pdfcorefonts\\Times-Bold.afm -> build\\lib.win-amd64-cpython-312\\matplotlib\\mpl-data\\fonts\\pdfcorefonts\n",
            "      creating build\\lib.win-amd64-cpython-312\\matplotlib\\mpl-data\\images\n",
            "      copying lib\\matplotlib\\mpl-data\\images\\matplotlib_large.png -> build\\lib.win-amd64-cpython-312\\matplotlib\\mpl-data\\images\n",
            "      creating build\\lib.win-amd64-cpython-312\\matplotlib\\mpl-data\\fonts\\ttf\n",
            "      copying lib\\matplotlib\\mpl-data\\fonts\\ttf\\STIXSizOneSymReg.ttf -> build\\lib.win-amd64-cpython-312\\matplotlib\\mpl-data\\fonts\\ttf\n",
            "      creating build\\lib.win-amd64-cpython-312\\matplotlib\\backends\\web_backend\n",
            "      creating build\\lib.win-amd64-cpython-312\\matplotlib\\backends\\web_backend\\css\n",
            "      copying lib\\matplotlib\\backends\\web_backend\\css\\boilerplate.css -> build\\lib.win-amd64-cpython-312\\matplotlib\\backends\\web_backend\\css\n",
            "      creating build\\lib.win-amd64-cpython-312\\matplotlib\\mpl-data\\fonts\\afm\n",
            "      copying lib\\matplotlib\\mpl-data\\fonts\\afm\\cmr10.afm -> build\\lib.win-amd64-cpython-312\\matplotlib\\mpl-data\\fonts\\afm\n",
            "      creating build\\lib.win-amd64-cpython-312\\matplotlib\\mpl-data\\stylelib\n",
            "      copying lib\\matplotlib\\mpl-data\\stylelib\\seaborn-v0_8-muted.mplstyle -> build\\lib.win-amd64-cpython-312\\matplotlib\\mpl-data\\stylelib\n",
            "      copying lib\\matplotlib\\mpl-data\\images\\qt4_editor_options_large.png -> build\\lib.win-amd64-cpython-312\\matplotlib\\mpl-data\\images\n",
            "      copying lib\\matplotlib\\mpl-data\\fonts\\ttf\\DejaVuSansDisplay.ttf -> build\\lib.win-amd64-cpython-312\\matplotlib\\mpl-data\\fonts\\ttf\n",
            "      copying lib\\matplotlib\\mpl-data\\images\\qt4_editor_options.pdf -> build\\lib.win-amd64-cpython-312\\matplotlib\\mpl-data\\images\n",
            "      copying lib\\matplotlib\\mpl-data\\fonts\\afm\\pbkli8a.afm -> build\\lib.win-amd64-cpython-312\\matplotlib\\mpl-data\\fonts\\afm\n",
            "      copying lib\\matplotlib\\mpl-data\\stylelib\\seaborn-v0_8-deep.mplstyle -> build\\lib.win-amd64-cpython-312\\matplotlib\\mpl-data\\stylelib\n",
            "      copying lib\\matplotlib\\mpl-data\\fonts\\ttf\\DejaVuSansMono-Bold.ttf -> build\\lib.win-amd64-cpython-312\\matplotlib\\mpl-data\\fonts\\ttf\n",
            "      copying lib\\matplotlib\\mpl-data\\fonts\\afm\\pcrr8a.afm -> build\\lib.win-amd64-cpython-312\\matplotlib\\mpl-data\\fonts\\afm\n",
            "      copying lib\\matplotlib\\mpl-data\\images\\help_large.png -> build\\lib.win-amd64-cpython-312\\matplotlib\\mpl-data\\images\n",
            "      copying lib\\matplotlib\\mpl-data\\images\\forward.png -> build\\lib.win-amd64-cpython-312\\matplotlib\\mpl-data\\images\n",
            "      copying lib\\matplotlib\\mpl-data\\images\\matplotlib.png -> build\\lib.win-amd64-cpython-312\\matplotlib\\mpl-data\\images\n",
            "      copying lib\\matplotlib\\mpl-data\\images\\qt4_editor_options.png -> build\\lib.win-amd64-cpython-312\\matplotlib\\mpl-data\\images\n",
            "      copying lib\\matplotlib\\mpl-data\\stylelib\\seaborn-v0_8-ticks.mplstyle -> build\\lib.win-amd64-cpython-312\\matplotlib\\mpl-data\\stylelib\n",
            "      copying lib\\matplotlib\\mpl-data\\fonts\\ttf\\STIXNonUniIta.ttf -> build\\lib.win-amd64-cpython-312\\matplotlib\\mpl-data\\fonts\\ttf\n",
            "      copying lib\\matplotlib\\mpl-data\\stylelib\\seaborn-v0_8-poster.mplstyle -> build\\lib.win-amd64-cpython-312\\matplotlib\\mpl-data\\stylelib\n",
            "      copying lib\\matplotlib\\mpl-data\\fonts\\afm\\pcrbo8a.afm -> build\\lib.win-amd64-cpython-312\\matplotlib\\mpl-data\\fonts\\afm\n",
            "      copying lib\\matplotlib\\mpl-data\\images\\subplots.png -> build\\lib.win-amd64-cpython-312\\matplotlib\\mpl-data\\images\n",
            "      copying lib\\matplotlib\\mpl-data\\stylelib\\ggplot.mplstyle -> build\\lib.win-amd64-cpython-312\\matplotlib\\mpl-data\\stylelib\n",
            "      copying lib\\matplotlib\\backends\\web_backend\\.prettierignore -> build\\lib.win-amd64-cpython-312\\matplotlib\\backends\\web_backend\n",
            "      copying lib\\matplotlib\\backends\\web_backend\\ipython_inline_figure.html -> build\\lib.win-amd64-cpython-312\\matplotlib\\backends\\web_backend\n",
            "      creating build\\lib.win-amd64-cpython-312\\matplotlib\\backends\\web_backend\\js\n",
            "      copying lib\\matplotlib\\backends\\web_backend\\js\\mpl.js -> build\\lib.win-amd64-cpython-312\\matplotlib\\backends\\web_backend\\js\n",
            "      copying lib\\matplotlib\\mpl-data\\stylelib\\tableau-colorblind10.mplstyle -> build\\lib.win-amd64-cpython-312\\matplotlib\\mpl-data\\stylelib\n",
            "      copying lib\\matplotlib\\mpl-data\\fonts\\pdfcorefonts\\Times-Italic.afm -> build\\lib.win-amd64-cpython-312\\matplotlib\\mpl-data\\fonts\\pdfcorefonts\n",
            "      copying lib\\matplotlib\\mpl-data\\fonts\\ttf\\STIXSizTwoSymReg.ttf -> build\\lib.win-amd64-cpython-312\\matplotlib\\mpl-data\\fonts\\ttf\n",
            "      copying lib\\matplotlib\\mpl-data\\images\\back-symbolic.svg -> build\\lib.win-amd64-cpython-312\\matplotlib\\mpl-data\\images\n",
            "      copying lib\\matplotlib\\mpl-data\\stylelib\\seaborn-v0_8-darkgrid.mplstyle -> build\\lib.win-amd64-cpython-312\\matplotlib\\mpl-data\\stylelib\n",
            "      copying lib\\matplotlib\\backends\\web_backend\\all_figures.html -> build\\lib.win-amd64-cpython-312\\matplotlib\\backends\\web_backend\n",
            "      copying lib\\matplotlib\\mpl-data\\images\\forward.pdf -> build\\lib.win-amd64-cpython-312\\matplotlib\\mpl-data\\images\n",
            "      copying lib\\matplotlib\\mpl-data\\fonts\\afm\\psyr.afm -> build\\lib.win-amd64-cpython-312\\matplotlib\\mpl-data\\fonts\\afm\n",
            "      copying lib\\matplotlib\\backends\\web_backend\\nbagg_uat.ipynb -> build\\lib.win-amd64-cpython-312\\matplotlib\\backends\\web_backend\n",
            "      copying lib\\matplotlib\\mpl-data\\fonts\\ttf\\cmtt10.ttf -> build\\lib.win-amd64-cpython-312\\matplotlib\\mpl-data\\fonts\\ttf\n",
            "      copying lib\\matplotlib\\mpl-data\\fonts\\afm\\putb8a.afm -> build\\lib.win-amd64-cpython-312\\matplotlib\\mpl-data\\fonts\\afm\n",
            "      copying lib\\matplotlib\\mpl-data\\fonts\\ttf\\DejaVuSerif-BoldItalic.ttf -> build\\lib.win-amd64-cpython-312\\matplotlib\\mpl-data\\fonts\\ttf\n",
            "      copying lib\\matplotlib\\backends\\web_backend\\js\\mpl_tornado.js -> build\\lib.win-amd64-cpython-312\\matplotlib\\backends\\web_backend\\js\n",
            "      copying lib\\matplotlib\\mpl-data\\stylelib\\Solarize_Light2.mplstyle -> build\\lib.win-amd64-cpython-312\\matplotlib\\mpl-data\\stylelib\n",
            "      copying lib\\matplotlib\\mpl-data\\fonts\\ttf\\DejaVuSansMono-Oblique.ttf -> build\\lib.win-amd64-cpython-312\\matplotlib\\mpl-data\\fonts\\ttf\n",
            "      copying lib\\matplotlib\\mpl-data\\fonts\\afm\\pcrro8a.afm -> build\\lib.win-amd64-cpython-312\\matplotlib\\mpl-data\\fonts\\afm\n",
            "      copying lib\\matplotlib\\mpl-data\\images\\zoom_to_rect.pdf -> build\\lib.win-amd64-cpython-312\\matplotlib\\mpl-data\\images\n",
            "      creating build\\lib.win-amd64-cpython-312\\matplotlib\\mpl-data\\sample_data\n",
            "      copying lib\\matplotlib\\mpl-data\\sample_data\\data_x_x2_x3.csv -> build\\lib.win-amd64-cpython-312\\matplotlib\\mpl-data\\sample_data\n",
            "      copying lib\\matplotlib\\mpl-data\\fonts\\afm\\phvro8an.afm -> build\\lib.win-amd64-cpython-312\\matplotlib\\mpl-data\\fonts\\afm\n",
            "      copying lib\\matplotlib\\mpl-data\\fonts\\ttf\\LICENSE_DEJAVU -> build\\lib.win-amd64-cpython-312\\matplotlib\\mpl-data\\fonts\\ttf\n",
            "      copying lib\\matplotlib\\mpl-data\\fonts\\afm\\pagk8a.afm -> build\\lib.win-amd64-cpython-312\\matplotlib\\mpl-data\\fonts\\afm\n",
            "      copying lib\\matplotlib\\mpl-data\\stylelib\\_mpl-gallery-nogrid.mplstyle -> build\\lib.win-amd64-cpython-312\\matplotlib\\mpl-data\\stylelib\n",
            "      copying lib\\matplotlib\\mpl-data\\fonts\\afm\\cmmi10.afm -> build\\lib.win-amd64-cpython-312\\matplotlib\\mpl-data\\fonts\\afm\n",
            "      copying lib\\matplotlib\\mpl-data\\images\\home.svg -> build\\lib.win-amd64-cpython-312\\matplotlib\\mpl-data\\images\n",
            "      copying lib\\matplotlib\\mpl-data\\fonts\\afm\\pagko8a.afm -> build\\lib.win-amd64-cpython-312\\matplotlib\\mpl-data\\fonts\\afm\n",
            "      copying lib\\matplotlib\\mpl-data\\fonts\\ttf\\DejaVuSerif-Bold.ttf -> build\\lib.win-amd64-cpython-312\\matplotlib\\mpl-data\\fonts\\ttf\n",
            "      copying lib\\matplotlib\\mpl-data\\images\\zoom_to_rect.svg -> build\\lib.win-amd64-cpython-312\\matplotlib\\mpl-data\\images\n",
            "      copying lib\\matplotlib\\mpl-data\\images\\filesave.svg -> build\\lib.win-amd64-cpython-312\\matplotlib\\mpl-data\\images\n",
            "      copying lib\\matplotlib\\mpl-data\\fonts\\pdfcorefonts\\Times-Roman.afm -> build\\lib.win-amd64-cpython-312\\matplotlib\\mpl-data\\fonts\\pdfcorefonts\n",
            "      copying lib\\matplotlib\\mpl-data\\fonts\\ttf\\STIXSizFiveSymReg.ttf -> build\\lib.win-amd64-cpython-312\\matplotlib\\mpl-data\\fonts\\ttf\n",
            "      copying lib\\matplotlib\\mpl-data\\images\\forward-symbolic.svg -> build\\lib.win-amd64-cpython-312\\matplotlib\\mpl-data\\images\n",
            "      copying lib\\matplotlib\\backends\\web_backend\\css\\page.css -> build\\lib.win-amd64-cpython-312\\matplotlib\\backends\\web_backend\\css\n",
            "      copying lib\\matplotlib\\mpl-data\\fonts\\afm\\pbkl8a.afm -> build\\lib.win-amd64-cpython-312\\matplotlib\\mpl-data\\fonts\\afm\n",
            "      copying lib\\matplotlib\\mpl-data\\fonts\\pdfcorefonts\\ZapfDingbats.afm -> build\\lib.win-amd64-cpython-312\\matplotlib\\mpl-data\\fonts\\pdfcorefonts\n",
            "      copying lib\\matplotlib\\mpl-data\\fonts\\ttf\\DejaVuSerif.ttf -> build\\lib.win-amd64-cpython-312\\matplotlib\\mpl-data\\fonts\\ttf\n",
            "      copying lib\\matplotlib\\backends\\web_backend\\package.json -> build\\lib.win-amd64-cpython-312\\matplotlib\\backends\\web_backend\n",
            "      copying lib\\matplotlib\\mpl-data\\sample_data\\jacksboro_fault_dem.npz -> build\\lib.win-amd64-cpython-312\\matplotlib\\mpl-data\\sample_data\n",
            "      copying lib\\matplotlib\\mpl-data\\fonts\\afm\\cmtt10.afm -> build\\lib.win-amd64-cpython-312\\matplotlib\\mpl-data\\fonts\\afm\n",
            "      copying lib\\matplotlib\\mpl-data\\stylelib\\seaborn-v0_8-paper.mplstyle -> build\\lib.win-amd64-cpython-312\\matplotlib\\mpl-data\\stylelib\n",
            "      copying lib\\matplotlib\\mpl-data\\sample_data\\logo2.png -> build\\lib.win-amd64-cpython-312\\matplotlib\\mpl-data\\sample_data\n",
            "      copying lib\\matplotlib\\mpl-data\\images\\hand.pdf -> build\\lib.win-amd64-cpython-312\\matplotlib\\mpl-data\\images\n",
            "      copying lib\\matplotlib\\mpl-data\\images\\filesave.pdf -> build\\lib.win-amd64-cpython-312\\matplotlib\\mpl-data\\images\n",
            "      copying lib\\matplotlib\\mpl-data\\fonts\\ttf\\DejaVuSerif-Italic.ttf -> build\\lib.win-amd64-cpython-312\\matplotlib\\mpl-data\\fonts\\ttf\n",
            "      copying lib\\matplotlib\\mpl-data\\fonts\\ttf\\STIXSizTwoSymBol.ttf -> build\\lib.win-amd64-cpython-312\\matplotlib\\mpl-data\\fonts\\ttf\n",
            "      copying lib\\matplotlib\\mpl-data\\fonts\\ttf\\DejaVuSansMono-BoldOblique.ttf -> build\\lib.win-amd64-cpython-312\\matplotlib\\mpl-data\\fonts\\ttf\n",
            "      copying lib\\matplotlib\\mpl-data\\stylelib\\seaborn-v0_8-white.mplstyle -> build\\lib.win-amd64-cpython-312\\matplotlib\\mpl-data\\stylelib\n",
            "      copying lib\\matplotlib\\mpl-data\\images\\move.png -> build\\lib.win-amd64-cpython-312\\matplotlib\\mpl-data\\images\n",
            "      copying lib\\matplotlib\\mpl-data\\stylelib\\classic.mplstyle -> build\\lib.win-amd64-cpython-312\\matplotlib\\mpl-data\\stylelib\n",
            "      copying lib\\matplotlib\\mpl-data\\fonts\\afm\\phvbo8an.afm -> build\\lib.win-amd64-cpython-312\\matplotlib\\mpl-data\\fonts\\afm\n",
            "      copying lib\\matplotlib\\mpl-data\\fonts\\afm\\phvro8a.afm -> build\\lib.win-amd64-cpython-312\\matplotlib\\mpl-data\\fonts\\afm\n",
            "      copying lib\\matplotlib\\mpl-data\\images\\back.pdf -> build\\lib.win-amd64-cpython-312\\matplotlib\\mpl-data\\images\n",
            "      copying lib\\matplotlib\\mpl-data\\fonts\\afm\\pagdo8a.afm -> build\\lib.win-amd64-cpython-312\\matplotlib\\mpl-data\\fonts\\afm\n",
            "      copying lib\\matplotlib\\mpl-data\\fonts\\ttf\\DejaVuSans.ttf -> build\\lib.win-amd64-cpython-312\\matplotlib\\mpl-data\\fonts\\ttf\n",
            "      copying lib\\matplotlib\\mpl-data\\sample_data\\embedding_in_wx3.xrc -> build\\lib.win-amd64-cpython-312\\matplotlib\\mpl-data\\sample_data\n",
            "      copying lib\\matplotlib\\mpl-data\\sample_data\\README.txt -> build\\lib.win-amd64-cpython-312\\matplotlib\\mpl-data\\sample_data\n",
            "      copying lib\\matplotlib\\mpl-data\\stylelib\\seaborn-v0_8-notebook.mplstyle -> build\\lib.win-amd64-cpython-312\\matplotlib\\mpl-data\\stylelib\n",
            "      copying lib\\matplotlib\\mpl-data\\sample_data\\grace_hopper.jpg -> build\\lib.win-amd64-cpython-312\\matplotlib\\mpl-data\\sample_data\n",
            "      copying lib\\matplotlib\\mpl-data\\images\\hand.png -> build\\lib.win-amd64-cpython-312\\matplotlib\\mpl-data\\images\n",
            "      copying lib\\matplotlib\\mpl-data\\fonts\\afm\\pagd8a.afm -> build\\lib.win-amd64-cpython-312\\matplotlib\\mpl-data\\fonts\\afm\n",
            "      copying lib\\matplotlib\\mpl-data\\fonts\\afm\\phvl8a.afm -> build\\lib.win-amd64-cpython-312\\matplotlib\\mpl-data\\fonts\\afm\n",
            "      copying lib\\matplotlib\\mpl-data\\images\\zoom_to_rect.png -> build\\lib.win-amd64-cpython-312\\matplotlib\\mpl-data\\images\n",
            "      copying lib\\matplotlib\\mpl-data\\fonts\\afm\\pncb8a.afm -> build\\lib.win-amd64-cpython-312\\matplotlib\\mpl-data\\fonts\\afm\n",
            "      copying lib\\matplotlib\\mpl-data\\fonts\\pdfcorefonts\\readme.txt -> build\\lib.win-amd64-cpython-312\\matplotlib\\mpl-data\\fonts\\pdfcorefonts\n",
            "      copying lib\\matplotlib\\mpl-data\\images\\zoom_to_rect_large.png -> build\\lib.win-amd64-cpython-312\\matplotlib\\mpl-data\\images\n",
            "      copying lib\\matplotlib\\mpl-data\\fonts\\ttf\\DejaVuSerifDisplay.ttf -> build\\lib.win-amd64-cpython-312\\matplotlib\\mpl-data\\fonts\\ttf\n",
            "      copying lib\\matplotlib\\mpl-data\\stylelib\\fast.mplstyle -> build\\lib.win-amd64-cpython-312\\matplotlib\\mpl-data\\stylelib\n",
            "      copying lib\\matplotlib\\mpl-data\\fonts\\ttf\\cmb10.ttf -> build\\lib.win-amd64-cpython-312\\matplotlib\\mpl-data\\fonts\\ttf\n",
            "      copying lib\\matplotlib\\mpl-data\\stylelib\\_classic_test_patch.mplstyle -> build\\lib.win-amd64-cpython-312\\matplotlib\\mpl-data\\stylelib\n",
            "      copying lib\\matplotlib\\mpl-data\\sample_data\\s1045.ima.gz -> build\\lib.win-amd64-cpython-312\\matplotlib\\mpl-data\\sample_data\n",
            "      copying lib\\matplotlib\\backends\\web_backend\\css\\mpl.css -> build\\lib.win-amd64-cpython-312\\matplotlib\\backends\\web_backend\\css\n",
            "      copying lib\\matplotlib\\mpl-data\\matplotlibrc -> build\\lib.win-amd64-cpython-312\\matplotlib\\mpl-data\n",
            "      copying lib\\matplotlib\\mpl-data\\images\\matplotlib.pdf -> build\\lib.win-amd64-cpython-312\\matplotlib\\mpl-data\\images\n",
            "      copying lib\\matplotlib\\mpl-data\\fonts\\afm\\pzcmi8a.afm -> build\\lib.win-amd64-cpython-312\\matplotlib\\mpl-data\\fonts\\afm\n",
            "      copying lib\\matplotlib\\mpl-data\\fonts\\afm\\phvlo8a.afm -> build\\lib.win-amd64-cpython-312\\matplotlib\\mpl-data\\fonts\\afm\n",
            "      copying lib\\matplotlib\\backends\\web_backend\\.prettierrc -> build\\lib.win-amd64-cpython-312\\matplotlib\\backends\\web_backend\n",
            "      copying lib\\matplotlib\\mpl-data\\stylelib\\bmh.mplstyle -> build\\lib.win-amd64-cpython-312\\matplotlib\\mpl-data\\stylelib\n",
            "      copying lib\\matplotlib\\mpl-data\\sample_data\\eeg.dat -> build\\lib.win-amd64-cpython-312\\matplotlib\\mpl-data\\sample_data\n",
            "      copying lib\\matplotlib\\mpl-data\\fonts\\ttf\\STIXGeneralBolIta.ttf -> build\\lib.win-amd64-cpython-312\\matplotlib\\mpl-data\\fonts\\ttf\n",
            "      copying lib\\matplotlib\\mpl-data\\fonts\\ttf\\STIXSizOneSymBol.ttf -> build\\lib.win-amd64-cpython-312\\matplotlib\\mpl-data\\fonts\\ttf\n",
            "      copying lib\\matplotlib\\mpl-data\\fonts\\ttf\\cmss10.ttf -> build\\lib.win-amd64-cpython-312\\matplotlib\\mpl-data\\fonts\\ttf\n",
            "      copying lib\\matplotlib\\mpl-data\\fonts\\afm\\pcrb8a.afm -> build\\lib.win-amd64-cpython-312\\matplotlib\\mpl-data\\fonts\\afm\n",
            "      copying lib\\matplotlib\\mpl-data\\stylelib\\seaborn-v0_8-dark.mplstyle -> build\\lib.win-amd64-cpython-312\\matplotlib\\mpl-data\\stylelib\n",
            "      copying lib\\matplotlib\\mpl-data\\fonts\\ttf\\STIXNonUni.ttf -> build\\lib.win-amd64-cpython-312\\matplotlib\\mpl-data\\fonts\\ttf\n",
            "      copying lib\\matplotlib\\mpl-data\\stylelib\\seaborn-v0_8-bright.mplstyle -> build\\lib.win-amd64-cpython-312\\matplotlib\\mpl-data\\stylelib\n",
            "      copying lib\\matplotlib\\mpl-data\\images\\help-symbolic.svg -> build\\lib.win-amd64-cpython-312\\matplotlib\\mpl-data\\images\n",
            "      copying lib\\matplotlib\\mpl-data\\stylelib\\dark_background.mplstyle -> build\\lib.win-amd64-cpython-312\\matplotlib\\mpl-data\\stylelib\n",
            "      copying lib\\matplotlib\\mpl-data\\fonts\\pdfcorefonts\\Helvetica-Bold.afm -> build\\lib.win-amd64-cpython-312\\matplotlib\\mpl-data\\fonts\\pdfcorefonts\n",
            "      copying lib\\matplotlib\\mpl-data\\fonts\\ttf\\STIXGeneralBol.ttf -> build\\lib.win-amd64-cpython-312\\matplotlib\\mpl-data\\fonts\\ttf\n",
            "      copying lib\\matplotlib\\mpl-data\\images\\move.pdf -> build\\lib.win-amd64-cpython-312\\matplotlib\\mpl-data\\images\n",
            "      copying lib\\matplotlib\\mpl-data\\images\\qt4_editor_options.svg -> build\\lib.win-amd64-cpython-312\\matplotlib\\mpl-data\\images\n",
            "      copying lib\\matplotlib\\mpl-data\\fonts\\ttf\\STIXSizFourSymBol.ttf -> build\\lib.win-amd64-cpython-312\\matplotlib\\mpl-data\\fonts\\ttf\n",
            "      copying lib\\matplotlib\\mpl-data\\images\\subplots.pdf -> build\\lib.win-amd64-cpython-312\\matplotlib\\mpl-data\\images\n",
            "      copying lib\\matplotlib\\mpl-data\\fonts\\pdfcorefonts\\Courier-Oblique.afm -> build\\lib.win-amd64-cpython-312\\matplotlib\\mpl-data\\fonts\\pdfcorefonts\n",
            "      copying lib\\matplotlib\\mpl-data\\fonts\\ttf\\DejaVuSansMono.ttf -> build\\lib.win-amd64-cpython-312\\matplotlib\\mpl-data\\fonts\\ttf\n",
            "      copying lib\\matplotlib\\mpl-data\\fonts\\afm\\phvr8an.afm -> build\\lib.win-amd64-cpython-312\\matplotlib\\mpl-data\\fonts\\afm\n",
            "      copying lib\\matplotlib\\mpl-data\\fonts\\afm\\pplb8a.afm -> build\\lib.win-amd64-cpython-312\\matplotlib\\mpl-data\\fonts\\afm\n",
            "      copying lib\\matplotlib\\mpl-data\\fonts\\ttf\\STIXSizThreeSymBol.ttf -> build\\lib.win-amd64-cpython-312\\matplotlib\\mpl-data\\fonts\\ttf\n",
            "      copying lib\\matplotlib\\mpl-data\\images\\move.svg -> build\\lib.win-amd64-cpython-312\\matplotlib\\mpl-data\\images\n",
            "      copying lib\\matplotlib\\mpl-data\\fonts\\afm\\ptmr8a.afm -> build\\lib.win-amd64-cpython-312\\matplotlib\\mpl-data\\fonts\\afm\n",
            "      copying lib\\matplotlib\\mpl-data\\images\\help.svg -> build\\lib.win-amd64-cpython-312\\matplotlib\\mpl-data\\images\n",
            "      copying lib\\matplotlib\\backends\\web_backend\\js\\nbagg_mpl.js -> build\\lib.win-amd64-cpython-312\\matplotlib\\backends\\web_backend\\js\n",
            "      copying lib\\matplotlib\\mpl-data\\sample_data\\Minduka_Present_Blue_Pack.png -> build\\lib.win-amd64-cpython-312\\matplotlib\\mpl-data\\sample_data\n",
            "      copying lib\\matplotlib\\mpl-data\\images\\filesave_large.png -> build\\lib.win-amd64-cpython-312\\matplotlib\\mpl-data\\images\n",
            "      copying lib\\matplotlib\\mpl-data\\images\\filesave.png -> build\\lib.win-amd64-cpython-312\\matplotlib\\mpl-data\\images\n",
            "      copying lib\\matplotlib\\mpl-data\\fonts\\afm\\putri8a.afm -> build\\lib.win-amd64-cpython-312\\matplotlib\\mpl-data\\fonts\\afm\n",
            "      copying lib\\matplotlib\\mpl-data\\images\\help.png -> build\\lib.win-amd64-cpython-312\\matplotlib\\mpl-data\\images\n",
            "      copying lib\\matplotlib\\mpl-data\\fonts\\ttf\\STIXGeneral.ttf -> build\\lib.win-amd64-cpython-312\\matplotlib\\mpl-data\\fonts\\ttf\n",
            "      copying lib\\matplotlib\\backends\\web_backend\\.eslintrc.js -> build\\lib.win-amd64-cpython-312\\matplotlib\\backends\\web_backend\n",
            "      copying lib\\matplotlib\\mpl-data\\images\\back.svg -> build\\lib.win-amd64-cpython-312\\matplotlib\\mpl-data\\images\n",
            "      copying lib\\matplotlib\\mpl-data\\fonts\\afm\\phvr8a.afm -> build\\lib.win-amd64-cpython-312\\matplotlib\\mpl-data\\fonts\\afm\n",
            "      copying lib\\matplotlib\\backends\\web_backend\\css\\fbm.css -> build\\lib.win-amd64-cpython-312\\matplotlib\\backends\\web_backend\\css\n",
            "      copying lib\\matplotlib\\mpl-data\\fonts\\afm\\pplri8a.afm -> build\\lib.win-amd64-cpython-312\\matplotlib\\mpl-data\\fonts\\afm\n",
            "      copying lib\\matplotlib\\mpl-data\\images\\forward_large.png -> build\\lib.win-amd64-cpython-312\\matplotlib\\mpl-data\\images\n",
            "      copying lib\\matplotlib\\mpl-data\\fonts\\pdfcorefonts\\Courier-BoldOblique.afm -> build\\lib.win-amd64-cpython-312\\matplotlib\\mpl-data\\fonts\\pdfcorefonts\n",
            "      copying lib\\matplotlib\\mpl-data\\stylelib\\seaborn-v0_8-pastel.mplstyle -> build\\lib.win-amd64-cpython-312\\matplotlib\\mpl-data\\stylelib\n",
            "      copying lib\\matplotlib\\backends\\web_backend\\single_figure.html -> build\\lib.win-amd64-cpython-312\\matplotlib\\backends\\web_backend\n",
            "      copying lib\\matplotlib\\mpl-data\\fonts\\ttf\\cmsy10.ttf -> build\\lib.win-amd64-cpython-312\\matplotlib\\mpl-data\\fonts\\ttf\n",
            "      copying lib\\matplotlib\\mpl-data\\fonts\\pdfcorefonts\\Helvetica-Oblique.afm -> build\\lib.win-amd64-cpython-312\\matplotlib\\mpl-data\\fonts\\pdfcorefonts\n",
            "      copying lib\\matplotlib\\mpl-data\\fonts\\ttf\\DejaVuSans-Bold.ttf -> build\\lib.win-amd64-cpython-312\\matplotlib\\mpl-data\\fonts\\ttf\n",
            "      copying lib\\matplotlib\\mpl-data\\fonts\\afm\\pbkdi8a.afm -> build\\lib.win-amd64-cpython-312\\matplotlib\\mpl-data\\fonts\\afm\n",
            "      copying lib\\matplotlib\\mpl-data\\fonts\\afm\\pbkd8a.afm -> build\\lib.win-amd64-cpython-312\\matplotlib\\mpl-data\\fonts\\afm\n",
            "      copying lib\\matplotlib\\mpl-data\\stylelib\\fivethirtyeight.mplstyle -> build\\lib.win-amd64-cpython-312\\matplotlib\\mpl-data\\stylelib\n",
            "      copying lib\\matplotlib\\mpl-data\\images\\zoom_to_rect-symbolic.svg -> build\\lib.win-amd64-cpython-312\\matplotlib\\mpl-data\\images\n",
            "      creating build\\lib.win-amd64-cpython-312\\matplotlib\\mpl-data\\sample_data\\axes_grid\n",
            "      copying lib\\matplotlib\\mpl-data\\sample_data\\axes_grid\\bivariate_normal.npy -> build\\lib.win-amd64-cpython-312\\matplotlib\\mpl-data\\sample_data\\axes_grid\n",
            "      copying lib\\matplotlib\\mpl-data\\images\\home.pdf -> build\\lib.win-amd64-cpython-312\\matplotlib\\mpl-data\\images\n",
            "      copying lib\\matplotlib\\mpl-data\\sample_data\\Stocks.csv -> build\\lib.win-amd64-cpython-312\\matplotlib\\mpl-data\\sample_data\n",
            "      copying lib\\matplotlib\\mpl-data\\stylelib\\seaborn-v0_8.mplstyle -> build\\lib.win-amd64-cpython-312\\matplotlib\\mpl-data\\stylelib\n",
            "      copying lib\\matplotlib\\mpl-data\\kpsewhich.lua -> build\\lib.win-amd64-cpython-312\\matplotlib\\mpl-data\n",
            "      copying lib\\matplotlib\\mpl-data\\images\\home.png -> build\\lib.win-amd64-cpython-312\\matplotlib\\mpl-data\\images\n",
            "      copying lib\\matplotlib\\mpl-data\\fonts\\afm\\phvbo8a.afm -> build\\lib.win-amd64-cpython-312\\matplotlib\\mpl-data\\fonts\\afm\n",
            "      copying lib\\matplotlib\\mpl-data\\fonts\\pdfcorefonts\\Courier-Bold.afm -> build\\lib.win-amd64-cpython-312\\matplotlib\\mpl-data\\fonts\\pdfcorefonts\n",
            "      copying lib\\matplotlib\\mpl-data\\fonts\\pdfcorefonts\\Courier.afm -> build\\lib.win-amd64-cpython-312\\matplotlib\\mpl-data\\fonts\\pdfcorefonts\n",
            "      copying lib\\matplotlib\\mpl-data\\fonts\\pdfcorefonts\\Symbol.afm -> build\\lib.win-amd64-cpython-312\\matplotlib\\mpl-data\\fonts\\pdfcorefonts\n",
            "      copying lib\\matplotlib\\mpl-data\\images\\hand.svg -> build\\lib.win-amd64-cpython-312\\matplotlib\\mpl-data\\images\n",
            "      copying lib\\matplotlib\\mpl-data\\fonts\\afm\\phvb8a.afm -> build\\lib.win-amd64-cpython-312\\matplotlib\\mpl-data\\fonts\\afm\n",
            "      copying lib\\matplotlib\\mpl-data\\stylelib\\seaborn-v0_8-whitegrid.mplstyle -> build\\lib.win-amd64-cpython-312\\matplotlib\\mpl-data\\stylelib\n",
            "      copying lib\\matplotlib\\mpl-data\\fonts\\afm\\pplr8a.afm -> build\\lib.win-amd64-cpython-312\\matplotlib\\mpl-data\\fonts\\afm\n",
            "      copying lib\\matplotlib\\mpl-data\\fonts\\ttf\\DejaVuSans-Oblique.ttf -> build\\lib.win-amd64-cpython-312\\matplotlib\\mpl-data\\fonts\\ttf\n",
            "      copying lib\\matplotlib\\mpl-data\\fonts\\ttf\\LICENSE_STIX -> build\\lib.win-amd64-cpython-312\\matplotlib\\mpl-data\\fonts\\ttf\n",
            "      copying lib\\matplotlib\\mpl-data\\fonts\\afm\\pzdr.afm -> build\\lib.win-amd64-cpython-312\\matplotlib\\mpl-data\\fonts\\afm\n",
            "      copying lib\\matplotlib\\mpl-data\\fonts\\ttf\\STIXSizFourSymReg.ttf -> build\\lib.win-amd64-cpython-312\\matplotlib\\mpl-data\\fonts\\ttf\n",
            "      copying lib\\matplotlib\\mpl-data\\images\\subplots_large.png -> build\\lib.win-amd64-cpython-312\\matplotlib\\mpl-data\\images\n",
            "      copying lib\\matplotlib\\mpl-data\\sample_data\\topobathy.npz -> build\\lib.win-amd64-cpython-312\\matplotlib\\mpl-data\\sample_data\n",
            "      copying lib\\matplotlib\\mpl-data\\fonts\\ttf\\cmmi10.ttf -> build\\lib.win-amd64-cpython-312\\matplotlib\\mpl-data\\fonts\\ttf\n",
            "      copying lib\\matplotlib\\mpl-data\\images\\subplots-symbolic.svg -> build\\lib.win-amd64-cpython-312\\matplotlib\\mpl-data\\images\n",
            "      copying lib\\matplotlib\\mpl-data\\fonts\\afm\\ptmb8a.afm -> build\\lib.win-amd64-cpython-312\\matplotlib\\mpl-data\\fonts\\afm\n",
            "      copying lib\\matplotlib\\mpl-data\\images\\move_large.png -> build\\lib.win-amd64-cpython-312\\matplotlib\\mpl-data\\images\n",
            "      copying lib\\matplotlib\\mpl-data\\fonts\\pdfcorefonts\\Helvetica.afm -> build\\lib.win-amd64-cpython-312\\matplotlib\\mpl-data\\fonts\\pdfcorefonts\n",
            "      copying lib\\matplotlib\\mpl-data\\fonts\\ttf\\STIXNonUniBol.ttf -> build\\lib.win-amd64-cpython-312\\matplotlib\\mpl-data\\fonts\\ttf\n",
            "      copying lib\\matplotlib\\mpl-data\\fonts\\ttf\\DejaVuSans-BoldOblique.ttf -> build\\lib.win-amd64-cpython-312\\matplotlib\\mpl-data\\fonts\\ttf\n",
            "      creating build\\lib.win-amd64-cpython-312\\matplotlib\\mpl-data\\plot_directive\n",
            "      copying lib\\matplotlib\\mpl-data\\plot_directive\\plot_directive.css -> build\\lib.win-amd64-cpython-312\\matplotlib\\mpl-data\\plot_directive\n",
            "      copying lib\\matplotlib\\mpl-data\\sample_data\\goog.npz -> build\\lib.win-amd64-cpython-312\\matplotlib\\mpl-data\\sample_data\n",
            "      copying lib\\matplotlib\\mpl-data\\fonts\\afm\\phvb8an.afm -> build\\lib.win-amd64-cpython-312\\matplotlib\\mpl-data\\fonts\\afm\n",
            "      copying lib\\matplotlib\\mpl-data\\images\\matplotlib.svg -> build\\lib.win-amd64-cpython-312\\matplotlib\\mpl-data\\images\n",
            "      copying lib\\matplotlib\\mpl-data\\images\\move-symbolic.svg -> build\\lib.win-amd64-cpython-312\\matplotlib\\mpl-data\\images\n",
            "      copying lib\\matplotlib\\mpl-data\\images\\subplots.svg -> build\\lib.win-amd64-cpython-312\\matplotlib\\mpl-data\\images\n",
            "      copying lib\\matplotlib\\mpl-data\\fonts\\afm\\cmex10.afm -> build\\lib.win-amd64-cpython-312\\matplotlib\\mpl-data\\fonts\\afm\n",
            "      copying lib\\matplotlib\\mpl-data\\fonts\\afm\\ptmbi8a.afm -> build\\lib.win-amd64-cpython-312\\matplotlib\\mpl-data\\fonts\\afm\n",
            "      copying lib\\matplotlib\\mpl-data\\stylelib\\seaborn-v0_8-talk.mplstyle -> build\\lib.win-amd64-cpython-312\\matplotlib\\mpl-data\\stylelib\n",
            "      copying lib\\matplotlib\\mpl-data\\images\\back.png -> build\\lib.win-amd64-cpython-312\\matplotlib\\mpl-data\\images\n",
            "      copying lib\\matplotlib\\mpl-data\\images\\help.pdf -> build\\lib.win-amd64-cpython-312\\matplotlib\\mpl-data\\images\n",
            "      copying lib\\matplotlib\\mpl-data\\fonts\\afm\\pncr8a.afm -> build\\lib.win-amd64-cpython-312\\matplotlib\\mpl-data\\fonts\\afm\n",
            "      copying lib\\matplotlib\\mpl-data\\fonts\\afm\\putbi8a.afm -> build\\lib.win-amd64-cpython-312\\matplotlib\\mpl-data\\fonts\\afm\n",
            "      copying lib\\matplotlib\\mpl-data\\fonts\\pdfcorefonts\\Times-BoldItalic.afm -> build\\lib.win-amd64-cpython-312\\matplotlib\\mpl-data\\fonts\\pdfcorefonts\n",
            "      copying lib\\matplotlib\\mpl-data\\stylelib\\_mpl-gallery.mplstyle -> build\\lib.win-amd64-cpython-312\\matplotlib\\mpl-data\\stylelib\n",
            "      copying lib\\matplotlib\\mpl-data\\fonts\\afm\\pplbi8a.afm -> build\\lib.win-amd64-cpython-312\\matplotlib\\mpl-data\\fonts\\afm\n",
            "      copying lib\\matplotlib\\mpl-data\\fonts\\afm\\cmsy10.afm -> build\\lib.win-amd64-cpython-312\\matplotlib\\mpl-data\\fonts\\afm\n",
            "      copying lib\\matplotlib\\mpl-data\\stylelib\\grayscale.mplstyle -> build\\lib.win-amd64-cpython-312\\matplotlib\\mpl-data\\stylelib\n",
            "      copying lib\\matplotlib\\mpl-data\\fonts\\ttf\\cmex10.ttf -> build\\lib.win-amd64-cpython-312\\matplotlib\\mpl-data\\fonts\\ttf\n",
            "      copying lib\\matplotlib\\mpl-data\\fonts\\afm\\pncri8a.afm -> build\\lib.win-amd64-cpython-312\\matplotlib\\mpl-data\\fonts\\afm\n",
            "      copying lib\\matplotlib\\mpl-data\\stylelib\\seaborn-v0_8-dark-palette.mplstyle -> build\\lib.win-amd64-cpython-312\\matplotlib\\mpl-data\\stylelib\n",
            "      copying lib\\matplotlib\\mpl-data\\fonts\\ttf\\cmr10.ttf -> build\\lib.win-amd64-cpython-312\\matplotlib\\mpl-data\\fonts\\ttf\n",
            "      copying lib\\matplotlib\\mpl-data\\fonts\\ttf\\STIXNonUniBolIta.ttf -> build\\lib.win-amd64-cpython-312\\matplotlib\\mpl-data\\fonts\\ttf\n",
            "      copying lib\\matplotlib\\mpl-data\\fonts\\afm\\ptmri8a.afm -> build\\lib.win-amd64-cpython-312\\matplotlib\\mpl-data\\fonts\\afm\n",
            "      copying lib\\matplotlib\\mpl-data\\fonts\\pdfcorefonts\\Helvetica-BoldOblique.afm -> build\\lib.win-amd64-cpython-312\\matplotlib\\mpl-data\\fonts\\pdfcorefonts\n",
            "      copying lib\\matplotlib\\mpl-data\\images\\home-symbolic.svg -> build\\lib.win-amd64-cpython-312\\matplotlib\\mpl-data\\images\n",
            "      copying lib\\matplotlib\\mpl-data\\stylelib\\seaborn-v0_8-colorblind.mplstyle -> build\\lib.win-amd64-cpython-312\\matplotlib\\mpl-data\\stylelib\n",
            "      copying lib\\matplotlib\\mpl-data\\sample_data\\membrane.dat -> build\\lib.win-amd64-cpython-312\\matplotlib\\mpl-data\\sample_data\n",
            "      copying lib\\matplotlib\\mpl-data\\images\\forward.svg -> build\\lib.win-amd64-cpython-312\\matplotlib\\mpl-data\\images\n",
            "      copying lib\\matplotlib\\mpl-data\\images\\back_large.png -> build\\lib.win-amd64-cpython-312\\matplotlib\\mpl-data\\images\n",
            "      copying lib\\matplotlib\\mpl-data\\fonts\\ttf\\STIXSizThreeSymReg.ttf -> build\\lib.win-amd64-cpython-312\\matplotlib\\mpl-data\\fonts\\ttf\n",
            "      copying lib\\matplotlib\\mpl-data\\sample_data\\msft.csv -> build\\lib.win-amd64-cpython-312\\matplotlib\\mpl-data\\sample_data\n",
            "      copying lib\\matplotlib\\mpl-data\\fonts\\afm\\putr8a.afm -> build\\lib.win-amd64-cpython-312\\matplotlib\\mpl-data\\fonts\\afm\n",
            "      copying lib\\matplotlib\\mpl-data\\images\\filesave-symbolic.svg -> build\\lib.win-amd64-cpython-312\\matplotlib\\mpl-data\\images\n",
            "      copying lib\\matplotlib\\mpl-data\\fonts\\ttf\\STIXGeneralItalic.ttf -> build\\lib.win-amd64-cpython-312\\matplotlib\\mpl-data\\fonts\\ttf\n",
            "      copying lib\\matplotlib\\mpl-data\\sample_data\\percent_bachelors_degrees_women_usa.csv -> build\\lib.win-amd64-cpython-312\\matplotlib\\mpl-data\\sample_data\n",
            "      copying lib\\matplotlib\\mpl-data\\images\\home_large.png -> build\\lib.win-amd64-cpython-312\\matplotlib\\mpl-data\\images\n",
            "      copying lib\\matplotlib\\mpl-data\\fonts\\afm\\pncbi8a.afm -> build\\lib.win-amd64-cpython-312\\matplotlib\\mpl-data\\fonts\\afm\n",
            "      running build_ext\n",
            "      Extracting /project/freetype/freetype2/2.6.1/freetype-2.6.1.tar.gz\n",
            "      Building freetype in build\\freetype-2.6.1\n",
            "      error: Microsoft Visual C++ 14.0 or greater is required. Get it with \"Microsoft C++ Build Tools\": https://visualstudio.microsoft.com/visual-cpp-build-tools/\n",
            "      [end of output]\n",
            "  \n",
            "  note: This error originates from a subprocess, and is likely not a problem with pip.\n",
            "  ERROR: Failed building wheel for matplotlib\n",
            "ERROR: Could not build wheels for matplotlib, which is required to install pyproject.toml-based projects\n",
            "\n",
            "[notice] A new release of pip is available: 23.3.1 -> 24.1.2\n",
            "[notice] To update, run: python.exe -m pip install --upgrade pip\n"
          ]
        }
      ],
      "source": [
        "!pip install matplotlib==3.6.2"
      ]
    },
    {
      "cell_type": "markdown",
      "metadata": {
        "id": "FEccwENZJyiX"
      },
      "source": [
        "importando uma biblioteca sem alias"
      ]
    },
    {
      "cell_type": "code",
      "execution_count": null,
      "metadata": {
        "id": "E0DTzzWOJRjE"
      },
      "outputs": [],
      "source": [
        "import matplotlib"
      ]
    },
    {
      "cell_type": "code",
      "execution_count": null,
      "metadata": {
        "colab": {
          "base_uri": "https://localhost:8080/",
          "height": 35
        },
        "id": "mqcLQLXOKBQ6",
        "outputId": "a1c7d038-09e0-457a-a236-9bea5339659f"
      },
      "outputs": [
        {
          "data": {
            "text/plain": [
              "'3.8.0'"
            ]
          },
          "execution_count": 4,
          "metadata": {},
          "output_type": "execute_result"
        }
      ],
      "source": [
        "matplotlib.__version__"
      ]
    },
    {
      "cell_type": "markdown",
      "metadata": {
        "id": "3ocR4Zc3KQMm"
      },
      "source": [
        "Importando com alias"
      ]
    },
    {
      "cell_type": "code",
      "execution_count": null,
      "metadata": {
        "id": "jQlxLUxDKDKa"
      },
      "outputs": [],
      "source": [
        "import matplotlib.pyplot as plt"
      ]
    },
    {
      "cell_type": "markdown",
      "metadata": {
        "id": "YBkvVtL-Krl4"
      },
      "source": []
    },
    {
      "cell_type": "code",
      "execution_count": null,
      "metadata": {
        "id": "yF7Va7kvKeEv"
      },
      "outputs": [],
      "source": [
        "plt.show()"
      ]
    },
    {
      "cell_type": "code",
      "execution_count": null,
      "metadata": {
        "id": "NufaRYmAKetf"
      },
      "outputs": [
        {
          "name": "stdout",
          "output_type": "stream",
          "text": [
            "Package                   Version\n",
            "------------------------- ------------\n",
            "asttokens                 2.4.0\n",
            "attrs                     23.2.0\n",
            "backcall                  0.2.0\n",
            "certifi                   2024.2.2\n",
            "charset-normalizer        3.3.2\n",
            "colorama                  0.4.6\n",
            "comm                      0.1.4\n",
            "contourpy                 1.1.1\n",
            "cycler                    0.12.1\n",
            "debugpy                   1.8.0\n",
            "decorator                 5.1.1\n",
            "et-xmlfile                1.1.0\n",
            "executing                 2.0.0\n",
            "fastjsonschema            2.20.0\n",
            "fonttools                 4.43.1\n",
            "greenlet                  3.0.3\n",
            "idna                      3.7\n",
            "ipykernel                 6.29.4\n",
            "ipython                   8.16.1\n",
            "jedi                      0.19.1\n",
            "jsonschema                4.22.0\n",
            "jsonschema-specifications 2023.12.1\n",
            "jupyter_client            8.4.0\n",
            "jupyter_core              5.4.0\n",
            "kiwisolver                1.4.5\n",
            "lxml                      5.2.2\n",
            "matplotlib                3.8.0\n",
            "matplotlib-inline         0.1.6\n",
            "mysql-connector-python    8.2.0\n",
            "nbformat                  5.10.4\n",
            "nest-asyncio              1.5.8\n",
            "numpy                     1.26.0\n",
            "openpyxl                  3.1.2\n",
            "packaging                 23.2\n",
            "pandas                    2.1.1\n",
            "parso                     0.8.3\n",
            "patsy                     0.5.6\n",
            "pickleshare               0.7.5\n",
            "Pillow                    10.0.1\n",
            "pip                       23.3.1\n",
            "platformdirs              3.11.0\n",
            "plotly                    5.22.0\n",
            "plotly-express            0.4.1\n",
            "prompt-toolkit            3.0.39\n",
            "protobuf                  4.21.12\n",
            "psutil                    5.9.5\n",
            "pure-eval                 0.2.2\n",
            "Pygments                  2.16.1\n",
            "pyparsing                 3.1.1\n",
            "python-dateutil           2.8.2\n",
            "pytz                      2023.3.post1\n",
            "pywin32                   306\n",
            "pyzmq                     25.1.1\n",
            "referencing               0.35.1\n",
            "requests                  2.32.2\n",
            "rpds-py                   0.18.1\n",
            "scipy                     1.14.0\n",
            "seaborn                   0.13.0\n",
            "six                       1.16.0\n",
            "SQLAlchemy                1.4.52\n",
            "stack-data                0.6.3\n",
            "statsmodels               0.14.2\n",
            "tenacity                  8.4.2\n",
            "tornado                   6.3.3\n",
            "traitlets                 5.11.2\n",
            "typing_extensions         4.12.1\n",
            "tzdata                    2023.3\n",
            "urllib3                   2.2.1\n",
            "wcwidth                   0.2.8\n",
            "xlrd                      2.0.1\n"
          ]
        },
        {
          "name": "stderr",
          "output_type": "stream",
          "text": [
            "\n",
            "[notice] A new release of pip is available: 23.3.1 -> 24.1.2\n",
            "[notice] To update, run: python.exe -m pip install --upgrade pip\n"
          ]
        }
      ],
      "source": [
        "!pip list"
      ]
    },
    {
      "cell_type": "markdown",
      "metadata": {
        "id": "hoRdBsFiRKH4"
      },
      "source": [
        "***Utilizando pacotes/bibliotecas***"
      ]
    },
    {
      "cell_type": "code",
      "execution_count": null,
      "metadata": {
        "id": "To3mQpZUK8zv"
      },
      "outputs": [],
      "source": [
        "import matplotlib.pyplot as plt"
      ]
    },
    {
      "cell_type": "code",
      "execution_count": null,
      "metadata": {
        "id": "gkju_1Z3RR2z"
      },
      "outputs": [],
      "source": [
        "estudantes = [\"João\", \"Maria\", \"José\"]\n",
        "notas = [8.5, 9, 6.5]"
      ]
    },
    {
      "cell_type": "code",
      "execution_count": null,
      "metadata": {
        "colab": {
          "base_uri": "https://localhost:8080/",
          "height": 447
        },
        "id": "s4dXm7ATRk5c",
        "outputId": "65ac014b-172b-4140-d9bd-bba10724456f"
      },
      "outputs": [
        {
          "data": {
            "text/plain": [
              "<BarContainer object of 3 artists>"
            ]
          },
          "execution_count": 10,
          "metadata": {},
          "output_type": "execute_result"
        },
        {
          "data": {
            "image/png": "[encoded data removed]",
            "text/plain": [
              "<Figure size 640x480 with 1 Axes>"
            ]
          },
          "metadata": {},
          "output_type": "display_data"
        }
      ],
      "source": [
        "plt.bar(x = estudantes, height = notas)"
      ]
    },
    {
      "cell_type": "markdown",
      "metadata": {
        "id": "BRSvE8MaSG7l"
      },
      "source": [
        "Selecionar aleatóriamente um aluno"
      ]
    },
    {
      "cell_type": "code",
      "execution_count": null,
      "metadata": {
        "id": "k4lyQtZqRw2L"
      },
      "outputs": [],
      "source": [
        "estudantes_2 = [\"João\", \"Maria\", \"José\", \"Ana\"]"
      ]
    },
    {
      "cell_type": "code",
      "execution_count": null,
      "metadata": {
        "id": "TKRr8w_qSE6J"
      },
      "outputs": [],
      "source": [
        "#Importando uma função específica de uma biblioteca\n",
        "from random import choice\n",
        "from random import shuffle\n",
        "from random import randrange"
      ]
    },
    {
      "cell_type": "code",
      "execution_count": null,
      "metadata": {
        "colab": {
          "base_uri": "https://localhost:8080/"
        },
        "id": "YBdsz-YLSl63",
        "outputId": "3d040f5f-4690-4774-d71f-40864a8f12bb"
      },
      "outputs": [
        {
          "name": "stdout",
          "output_type": "stream",
          "text": [
            "Help on method choice in module random:\n",
            "\n",
            "choice(seq) method of random.Random instance\n",
            "    Choose a random element from a non-empty sequence.\n",
            "\n"
          ]
        }
      ],
      "source": [
        "help(choice)"
      ]
    },
    {
      "cell_type": "code",
      "execution_count": null,
      "metadata": {
        "colab": {
          "base_uri": "https://localhost:8080/",
          "height": 35
        },
        "id": "2hYZ-M7aSyJs",
        "outputId": "ed54d041-6475-4aae-c1f2-7def1dc49a89"
      },
      "outputs": [
        {
          "data": {
            "text/plain": [
              "'João'"
            ]
          },
          "execution_count": 14,
          "metadata": {},
          "output_type": "execute_result"
        }
      ],
      "source": [
        "#aleatóriamente escolhe os estudantes em uma sequencia iteravel\n",
        "estudante = choice(estudantes_2)\n",
        "estudante"
      ]
    },
    {
      "cell_type": "markdown",
      "metadata": {
        "id": "DUJKgrige-cW"
      },
      "source": [
        "## Projetos - importando bibliotecas"
      ]
    },
    {
      "cell_type": "markdown",
      "metadata": {
        "id": "HDzpZ9KQe_sn"
      },
      "source": [
        "6. Um programa deve ser escrito para sortear uma pessoa seguidora de uma rede social para ganhar um prêmio. A lista de participantes é numerada e devemos escolher aleatoriamente um número de acordo com a quantidade de participantes. Peça à pessoa usuária para fornecer o número de participantes do sorteio e devolva para ela o número sorteado."
      ]
    },
    {
      "cell_type": "code",
      "execution_count": null,
      "metadata": {
        "colab": {
          "base_uri": "https://localhost:8080/"
        },
        "id": "vW4YhxnRf1q_",
        "outputId": "4c043d44-c795-4bbf-9561-60eb561a8344"
      },
      "outputs": [
        {
          "name": "stdout",
          "output_type": "stream",
          "text": [
            " o número sorteado foi: 2\n"
          ]
        }
      ],
      "source": [
        "quant_sorteados = int(input(\"Digite a quantidade de participantes no sorteio: \"))\n",
        "print(f\" o número sorteado foi: {randrange(quant_sorteados)}\")"
      ]
    },
    {
      "cell_type": "markdown",
      "metadata": {
        "id": "I7HjWYWPi6iH"
      },
      "source": [
        "7. Você recebeu uma demanda para gerar números de token para acessar o aplicativo de uma empresa. O token precisa ser par e variar de 1000 até 9998. Escreva um código que solicita à pessoa usuária o seu nome e exibe uma mensagem junto a esse token gerado aleatoriamente."
      ]
    },
    {
      "cell_type": "code",
      "execution_count": null,
      "metadata": {
        "colab": {
          "base_uri": "https://localhost:8080/"
        },
        "id": "V6s2uD9fjwOn",
        "outputId": "083b2ff6-85ab-415d-b1ba-4dff637b8511"
      },
      "outputs": [
        {
          "name": "stdout",
          "output_type": "stream",
          "text": [
            "Gerador de token da InfoRed\n",
            "\n",
            "Digite seu nome completo: felipe\n",
            "Olá felipe, o seu token de acesso é 2323! Seja bem-vindo(a)!\n"
          ]
        }
      ],
      "source": [
        "print(\"Gerador de token da InfoRed\\n\")\n",
        "nome = input(\"Digite seu nome completo: \")\n",
        "token = randrange(1000, 9999)\n",
        "print(f\"Olá {nome}, o seu token de acesso é {token}! Seja bem-vindo(a)!\")"
      ]
    },
    {
      "cell_type": "markdown",
      "metadata": {
        "id": "G4IIG0EllcgS"
      },
      "source": [
        "8. Para diversificar e atrair novos(as) clientes, uma lanchonete criou um item misterioso em seu cardápio chamado \"salada de frutas surpresa\". Neste item, são escolhidas aleatoriamente 3 frutas de uma lista de 12 para compor a salada de frutas da pessoa cliente. Crie o código que faça essa seleção aleatória de acordo com a lista abaixo:\n",
        "\n",
        "```\n",
        "frutas = [\"maçã\", \"banana\", \"uva\", \"pêra\",\n",
        "          \"manga\", \"coco\", \"melancia\", \"mamão\",\n",
        "          \"laranja\", \"abacaxi\", \"kiwi\", \"ameixa\"]\n",
        "\n",
        "```\n",
        "\n",
        "\n",
        "\n"
      ]
    },
    {
      "cell_type": "code",
      "execution_count": null,
      "metadata": {
        "colab": {
          "base_uri": "https://localhost:8080/"
        },
        "id": "FLd-LCgPm0Go",
        "outputId": "b0adb7cd-dd37-4067-f8ed-76fb200dd293"
      },
      "outputs": [
        {
          "name": "stdout",
          "output_type": "stream",
          "text": [
            "Gerador de Saladas de frutas surpresa\n",
            "\n",
            "A fruta escolhida para a salada foi pêra!\n"
          ]
        }
      ],
      "source": [
        "frutas = [\"maçã\", \"banana\", \"uva\", \"pêra\",\n",
        "          \"manga\", \"coco\", \"melancia\", \"mamão\",\n",
        "          \"laranja\", \"abacaxi\", \"kiwi\", \"ameixa\"]\n",
        "\n",
        "print(\"Gerador de Saladas de frutas surpresa\\n\")\n",
        "escolhaFruta = choice(frutas)\n",
        "print(f\"A fruta escolhida para a salada foi {escolhaFruta}!\")"
      ]
    },
    {
      "cell_type": "markdown",
      "metadata": {
        "id": "Huf5x7t-ndnS"
      },
      "source": [
        "9. Você recebeu um desafio de calcular a raiz quadrada de uma lista de números, identificando quais resultaram em um número inteiro. A lista é a seguinte:\n",
        "\n",
        "```\n",
        "numeros = [2, 8, 15, 23, 91, 112, 256]\n",
        "\n",
        "```\n",
        "No final, informe quais números possuem raízes inteiras e seus respectivos valores.\n",
        "\n"
      ]
    },
    {
      "cell_type": "code",
      "execution_count": null,
      "metadata": {
        "id": "4LQlH1njrY6r"
      },
      "outputs": [],
      "source": [
        "#importar biblioteca para usar o sqrt\n",
        "from math import sqrt"
      ]
    },
    {
      "cell_type": "code",
      "execution_count": null,
      "metadata": {
        "colab": {
          "base_uri": "https://localhost:8080/"
        },
        "id": "9bpPI2ePnsTO",
        "outputId": "18e29a2c-7392-4ef5-9721-d1e8b32dc498"
      },
      "outputs": [
        {
          "name": "stdout",
          "output_type": "stream",
          "text": [
            "o número 2 não tem raiz quadrada inteira.\n",
            "o número 8 não tem raiz quadrada inteira.\n",
            "o número 15 não tem raiz quadrada inteira.\n",
            "o número 23 não tem raiz quadrada inteira.\n",
            "o número 91 não tem raiz quadrada inteira.\n",
            "o número 112 não tem raiz quadrada inteira.\n",
            "o número 256 tem raiz quadrada inteira: 16\n"
          ]
        }
      ],
      "source": [
        "#declaração de variável\n",
        "numeros = [2, 8, 15, 23, 91, 112, 256]\n",
        "\n",
        "#iteração for para\n",
        "for num in numeros:\n",
        "  raiz = sqrt(num)\n",
        "  if raiz // 1 == raiz:\n",
        "    print(f\"o número {num} tem raiz quadrada inteira: {int(raiz)}\")\n",
        "  else:\n",
        "    print(f\"o número {num} não tem raiz quadrada inteira.\")\n",
        "\n",
        "\n",
        "\n"
      ]
    },
    {
      "cell_type": "code",
      "execution_count": null,
      "metadata": {
        "colab": {
          "base_uri": "https://localhost:8080/"
        },
        "id": "WwM-vwWKtR38",
        "outputId": "4c5bb0cd-3d5f-4eb9-dbaf-bdd27ead78e0"
      },
      "outputs": [
        {
          "name": "stdout",
          "output_type": "stream",
          "text": [
            "O número 2 não tem raiz quadrada inteira.\n",
            "O número 8 não tem raiz quadrada inteira.\n",
            "O número 15 não tem raiz quadrada inteira.\n",
            "O número 23 não tem raiz quadrada inteira.\n",
            "O número 91 não tem raiz quadrada inteira.\n",
            "O número 112 não tem raiz quadrada inteira.\n",
            "O número 256 tem raiz quadrada inteira: 16\n"
          ]
        }
      ],
      "source": [
        "import math\n",
        "\n",
        "numeros = [2, 8, 15, 23, 91, 112, 256]\n",
        "\n",
        "for num in numeros:\n",
        "    raiz = math.sqrt(num)\n",
        "    if raiz // 1 == raiz:\n",
        "        print(f'O número {num} tem raiz quadrada inteira: {int(raiz)}')\n",
        "    else:\n",
        "        print(f'O número {num} não tem raiz quadrada inteira.')\n"
      ]
    },
    {
      "cell_type": "markdown",
      "metadata": {
        "id": "lQmv9ikCtRRP"
      },
      "source": [
        "10. Faça um programa para uma loja que vende grama para jardins. Essa loja trabalha com jardins circulares e o preço do metro quadrado da grama é de R$ 25,00. Peça à pessoa usuária o raio da área circular e devolva o valor em reais do quanto precisará pagar.\n",
        " *Dica: use a variável pi e o método pow() da biblioteca math. O cálculo da área de um círculo é de: A = π*r^2 (lê-se pi vezes raio ao quadrado).*"
      ]
    },
    {
      "cell_type": "code",
      "execution_count": null,
      "metadata": {
        "id": "8eBCf9vRbWeo"
      },
      "outputs": [],
      "source": [
        "#importando bibliotecas\n",
        "from math import pi, pow"
      ]
    },
    {
      "cell_type": "code",
      "execution_count": null,
      "metadata": {
        "colab": {
          "base_uri": "https://localhost:8080/"
        },
        "id": "npw6pm8hb6A5",
        "outputId": "d14c7a49-6e18-4b9b-a136-136a024da748"
      },
      "outputs": [
        {
          "name": "stdout",
          "output_type": "stream",
          "text": [
            "forneça o raio da área circular: 10\n",
            "o custo para cobrir uma área circular de 314.16m² fica em R$7853.98\n"
          ]
        }
      ],
      "source": [
        "import math\n",
        "from math import pi\n",
        "\n",
        "raio = float(input(\"forneça o raio da área circular: \"))\n",
        "\n",
        "\n",
        "area = math.pi * math.pow(raio, 2)\n",
        "preco_por_m2 = 25.00\n",
        "custo = area * preco_por_m2\n",
        "\n",
        "print(f\"o custo para cobrir uma área circular de {area:.2f}m² fica em R${custo:.2f}\")\n",
        "\n"
      ]
    },
    {
      "cell_type": "code",
      "execution_count": null,
      "metadata": {
        "id": "BRSbnQ_adODl"
      },
      "outputs": [],
      "source": []
    },
    {
      "cell_type": "markdown",
      "metadata": {
        "id": "9aeAFNZlZ716"
      },
      "source": [
        "## Exercícios - importando bibliotecas"
      ]
    },
    {
      "cell_type": "markdown",
      "metadata": {
        "id": "SgwOarxQaC9G"
      },
      "source": [
        "1. Escreva um código para instalar a versão 3.7.1 da biblioteca matplotlib."
      ]
    },
    {
      "cell_type": "code",
      "execution_count": null,
      "metadata": {
        "colab": {
          "base_uri": "https://localhost:8080/",
          "height": 443
        },
        "id": "eGzcCbYsMKXG",
        "outputId": "6d901bb8-ca9d-4027-9961-6b3cb10c55bc"
      },
      "outputs": [
        {
          "name": "stdout",
          "output_type": "stream",
          "text": [
            "Collecting matplotlib==3.7.1\n",
            "  Downloading matplotlib-3.7.1-cp310-cp310-manylinux_2_17_x86_64.manylinux2014_x86_64.whl (11.6 MB)\n",
            "\u001b[2K     \u001b[90m━━━━━━━━━━━━━━━━━━━━━━━━━━━━━━━━━━━━━━━━\u001b[0m \u001b[32m11.6/11.6 MB\u001b[0m \u001b[31m17.9 MB/s\u001b[0m eta \u001b[36m0:00:00\u001b[0m\n",
            "\u001b[?25hRequirement already satisfied: contourpy>=1.0.1 in /usr/local/lib/python3.10/dist-packages (from matplotlib==3.7.1) (1.2.0)\n",
            "Requirement already satisfied: cycler>=0.10 in /usr/local/lib/python3.10/dist-packages (from matplotlib==3.7.1) (0.12.1)\n",
            "Requirement already satisfied: fonttools>=4.22.0 in /usr/local/lib/python3.10/dist-packages (from matplotlib==3.7.1) (4.49.0)\n",
            "Requirement already satisfied: kiwisolver>=1.0.1 in /usr/local/lib/python3.10/dist-packages (from matplotlib==3.7.1) (1.4.5)\n",
            "Requirement already satisfied: numpy>=1.20 in /usr/local/lib/python3.10/dist-packages (from matplotlib==3.7.1) (1.25.2)\n",
            "Requirement already satisfied: packaging>=20.0 in /usr/local/lib/python3.10/dist-packages (from matplotlib==3.7.1) (23.2)\n",
            "Requirement already satisfied: pillow>=6.2.0 in /usr/local/lib/python3.10/dist-packages (from matplotlib==3.7.1) (9.4.0)\n",
            "Requirement already satisfied: pyparsing>=2.3.1 in /usr/local/lib/python3.10/dist-packages (from matplotlib==3.7.1) (3.1.1)\n",
            "Requirement already satisfied: python-dateutil>=2.7 in /usr/local/lib/python3.10/dist-packages (from matplotlib==3.7.1) (2.8.2)\n",
            "Requirement already satisfied: six>=1.5 in /usr/local/lib/python3.10/dist-packages (from python-dateutil>=2.7->matplotlib==3.7.1) (1.16.0)\n",
            "Installing collected packages: matplotlib\n",
            "  Attempting uninstall: matplotlib\n",
            "    Found existing installation: matplotlib 3.6.2\n",
            "    Uninstalling matplotlib-3.6.2:\n",
            "      Successfully uninstalled matplotlib-3.6.2\n",
            "Successfully installed matplotlib-3.7.1\n"
          ]
        },
        {
          "data": {
            "application/vnd.colab-display-data+json": {
              "id": "23f430e0856242b894343c2e368e26eb",
              "pip_warning": {
                "packages": [
                  "matplotlib",
                  "mpl_toolkits"
                ]
              }
            }
          },
          "metadata": {},
          "output_type": "display_data"
        }
      ],
      "source": [
        "!pip install matplotlib==3.7.1\n"
      ]
    },
    {
      "cell_type": "markdown",
      "metadata": {
        "id": "xAuFZ-t8aIe1"
      },
      "source": [
        "2. Escreva um código para importar a biblioteca numpy com o alias np."
      ]
    },
    {
      "cell_type": "code",
      "execution_count": null,
      "metadata": {
        "id": "qPL0LpvTM7Wl"
      },
      "outputs": [],
      "source": [
        "import numpy as np"
      ]
    },
    {
      "cell_type": "markdown",
      "metadata": {
        "id": "QFfE3AndaKGU"
      },
      "source": [
        "3. Crie um programa que leia a seguinte lista de números e escolha um número desta aleatoriamente."
      ]
    },
    {
      "cell_type": "code",
      "execution_count": null,
      "metadata": {
        "colab": {
          "base_uri": "https://localhost:8080/"
        },
        "id": "yS7bLTTiNQ1z",
        "outputId": "421d06f2-e5f5-4caa-8e43-909725278b92"
      },
      "outputs": [
        {
          "data": {
            "text/plain": [
              "105"
            ]
          },
          "execution_count": 12,
          "metadata": {},
          "output_type": "execute_result"
        }
      ],
      "source": [
        "lista = [8, 12, 54, 23, 43, 1, 90, 87, 105, 77]\n",
        "choice(lista)"
      ]
    },
    {
      "cell_type": "markdown",
      "metadata": {
        "id": "_mw0PrQTah0i"
      },
      "source": [
        "4. Crie um programa que sorteia, aleatoriamente, um número inteiro menor que 100."
      ]
    },
    {
      "cell_type": "code",
      "execution_count": null,
      "metadata": {
        "colab": {
          "base_uri": "https://localhost:8080/"
        },
        "id": "e3AEyc-0N5l8",
        "outputId": "3aeec41d-5731-449c-cb4d-5147cd1ba2a5"
      },
      "outputs": [
        {
          "data": {
            "text/plain": [
              "28"
            ]
          },
          "execution_count": 11,
          "metadata": {},
          "output_type": "execute_result"
        }
      ],
      "source": [
        "from random import randrange\n",
        "randrange(100)"
      ]
    },
    {
      "cell_type": "markdown",
      "metadata": {
        "id": "fga4AUHvarp5"
      },
      "source": [
        "5. Crie um programa que solicite à pessoa usuária digitar dois números inteiros e calcular a potência do 1º número elevado ao 2º."
      ]
    },
    {
      "cell_type": "code",
      "execution_count": null,
      "metadata": {
        "colab": {
          "base_uri": "https://localhost:8080/"
        },
        "id": "Q4AskD6wbk3z",
        "outputId": "f0949804-b619-48b8-e141-6a06ad780fcc"
      },
      "outputs": [
        {
          "name": "stdout",
          "output_type": "stream",
          "text": [
            "Digite dois números inteiros: \n",
            "número 1: 1\n",
            "número 2: 2\n",
            "número 1 elevado ao número 2 = 1\n"
          ]
        }
      ],
      "source": [
        "print(\"Digite dois números inteiros: \")\n",
        "n1 = int(input(\"número 1: \"))\n",
        "n2 = int(input(\"número 2: \"))\n",
        "print(f\"número 1 elevado ao número 2 = {n1 ** n2}\")"
      ]
    },
    {
      "cell_type": "code",
      "execution_count": null,
      "metadata": {
        "colab": {
          "base_uri": "https://localhost:8080/"
        },
        "id": "QHDBH4TTTNda",
        "outputId": "73e5c4be-093a-494b-8a16-4ad70c57bd1d"
      },
      "outputs": [
        {
          "data": {
            "text/plain": [
              "['Ana', 'José', 'Maria', 'João']"
            ]
          },
          "execution_count": 31,
          "metadata": {},
          "output_type": "execute_result"
        }
      ],
      "source": [
        " #embaralha os valores em uma sequencia\n",
        "shuffle(estudantes_2)\n",
        "estudantes_2"
      ]
    },
    {
      "cell_type": "markdown",
      "metadata": {
        "id": "0Ht4bcYCcziy"
      },
      "source": [
        "# **FUNÇÕES**"
      ]
    },
    {
      "cell_type": "markdown",
      "metadata": {
        "id": "rvSysZZ8c3jc"
      },
      "source": [
        "Situação 1: A escola em que estamos construindo o nosso case de dados compartilhou os dados das notas de um estudante para que pudéssemos calcular a média deste em até uma casa decimal. Os dados recebidos correspondem a um dicionário com as chaves indicando o trimestre em questão e os valores das notas de cada trimestre do estudante em uma dada matéria."
      ]
    },
    {
      "cell_type": "code",
      "execution_count": null,
      "metadata": {
        "colab": {
          "base_uri": "https://localhost:8080/"
        },
        "id": "UI2WK9f6c-Th",
        "outputId": "a82487ce-04a4-4272-e386-1cabc7e52d75"
      },
      "outputs": [
        {
          "name": "stdout",
          "output_type": "stream",
          "text": [
            "a média do estudante foi 8.3\n"
          ]
        }
      ],
      "source": [
        "notas = {'19 Trimestre': 8.5, '2° Trimestre': 9.5, '3º trimestre': 7}\n",
        "\n",
        "media = (sum(notas.values())) / len(notas)\n",
        "print(f\"a média do estudante foi {media:.1f}\")\n",
        "#também se pode usar o método round(media, 1)\n"
      ]
    },
    {
      "cell_type": "markdown",
      "metadata": {
        "id": "M6vLSMfghWZW"
      },
      "source": [
        "**Função sem parametros**\n",
        "\n",
        "formato padrão:\n",
        "```\n",
        "def <nome>():\n",
        "  <instruções>\n",
        "```\n",
        "\n"
      ]
    },
    {
      "cell_type": "code",
      "execution_count": null,
      "metadata": {
        "colab": {
          "base_uri": "https://localhost:8080/"
        },
        "id": "P6yPlHjpjjiY",
        "outputId": "b7fb371e-3612-497b-e0a8-89a1c047ea1d"
      },
      "outputs": [
        {
          "name": "stdout",
          "output_type": "stream",
          "text": [
            "9.0\n"
          ]
        }
      ],
      "source": [
        "def media():\n",
        "  calculo = (10 + 9 + 8) / 3\n",
        "  print(calculo)\n",
        "\n",
        "media()"
      ]
    },
    {
      "cell_type": "markdown",
      "metadata": {
        "id": "EPfkacunjM37"
      },
      "source": [
        "**Função sem parametros**\n",
        "\n",
        "formato padrão:\n",
        "\n",
        "```\n",
        "def <nome>(<param_1>, <param_2>, ..., <param_n>):\n",
        "  <instruções>\n",
        "```\n",
        "\n"
      ]
    },
    {
      "cell_type": "code",
      "execution_count": null,
      "metadata": {
        "id": "7MQaeoE9i_JP"
      },
      "outputs": [],
      "source": [
        "def media(nota_1, nota_2, nota_3):\n",
        "  calculo = (nota_1 + nota_2 + nota_3) / 3\n",
        "  print(calculo)"
      ]
    },
    {
      "cell_type": "code",
      "execution_count": null,
      "metadata": {
        "colab": {
          "base_uri": "https://localhost:8080/"
        },
        "id": "bdY7AdYEj-DZ",
        "outputId": "fda983a2-6fb0-4699-d7d9-0b3024a19efd"
      },
      "outputs": [
        {
          "name": "stdout",
          "output_type": "stream",
          "text": [
            "6.0\n"
          ]
        }
      ],
      "source": [
        "#passa os parametros\n",
        "media(3, 6, 9)"
      ]
    },
    {
      "cell_type": "code",
      "execution_count": null,
      "metadata": {
        "colab": {
          "base_uri": "https://localhost:8080/"
        },
        "id": "T1zMd6UJkDNK",
        "outputId": "e51a5ae2-0c6e-4986-9283-618d43c7e8ed"
      },
      "outputs": [
        {
          "name": "stdout",
          "output_type": "stream",
          "text": [
            "7.0\n"
          ]
        }
      ],
      "source": [
        "nota1 = 8\n",
        "nota2 = 7\n",
        "nota3 = 6\n",
        "\n",
        "media(nota1, nota2, nota3)"
      ]
    },
    {
      "cell_type": "markdown",
      "metadata": {
        "id": "x7KN9gq-kuuq"
      },
      "source": [
        "Situação 2: Recebemos uma demanda de calcular a média de um estudante a partir de uma lista, sendo possível alterar a quantidade de notas, sem impedir que o cálculo seja refeito. Os dados recebidos, desta vez, correspondem a uma lista contendo apenas as notas de um estudante em uma dada matéria.\n",
        "\n",
        "```\n",
        "notas = [8.5, 9.0, 6.0, 10.0]\n",
        "\n",
        "```\n",
        "\n",
        "\n",
        "\n",
        "Para facilitar o nosso entendimento do processo vamos aplicar às notas de apenas um estudante, mas você pode testar outros casos para treinar."
      ]
    },
    {
      "cell_type": "code",
      "execution_count": null,
      "metadata": {
        "colab": {
          "base_uri": "https://localhost:8080/"
        },
        "id": "zfHK1BkYkXWL",
        "outputId": "caff9eba-5593-4018-96bd-739e5a3ac04e"
      },
      "outputs": [
        {
          "name": "stdout",
          "output_type": "stream",
          "text": [
            "a média foi 8.38\n"
          ]
        }
      ],
      "source": [
        "notas = [8.5, 9.0, 6.0, 10.0]\n",
        "\n",
        "def calcular_media(lista):\n",
        "  tamanho = len(lista)\n",
        "  soma = sum(lista)\n",
        "  media = round(soma / tamanho, 2)\n",
        "  print(f\"a média foi {media}\")\n",
        "calcular_media(notas)\n",
        "\n",
        "\n",
        "\n"
      ]
    },
    {
      "cell_type": "code",
      "execution_count": null,
      "metadata": {
        "colab": {
          "base_uri": "https://localhost:8080/"
        },
        "id": "WFuyWfDNmBvQ",
        "outputId": "f682ad33-3b68-422a-e267-14140e2a6209"
      },
      "outputs": [
        {
          "data": {
            "text/plain": [
              "8.375"
            ]
          },
          "execution_count": 5,
          "metadata": {},
          "output_type": "execute_result"
        }
      ],
      "source": [
        "# Notas do(a) estudante\n",
        "notas = [8.5, 9.0, 6.0, 10.0]\n",
        "\n",
        "def media(lista):\n",
        "    calculo = sum(lista) / len(lista)\n",
        "    return calculo\n",
        "\n",
        "resultado = media(notas)\n",
        "resultado"
      ]
    },
    {
      "cell_type": "markdown",
      "metadata": {
        "id": "htLkGLsX5gm3"
      },
      "source": [
        "**Funções que retornam valores**\n",
        "\n",
        "sua estrutura é:\n",
        "\n",
        "\n",
        "```\n",
        "def <nome>(<param_1>, <param_2>, ..., >param_n>):\n",
        "    <instruções>\n",
        "    return resultado\n",
        "```\n",
        "\n"
      ]
    },
    {
      "cell_type": "markdown",
      "metadata": {
        "id": "wIfFBeO36pPD"
      },
      "source": [
        "Situação 3: Recebemos uma nova demanda, desta vez, de calcular a média de um estudante a partir de uma lista e retornar tanto a média quanto a situação do estudante (\"Aprovado(a)\" se a nota for maior ou igual a 6.0, caso contrário, será \"Reprovado(a)\"). Além disso, precisamos exibir um pequeno texto em que indicamos a média do(a) estudante e qual a situação. Os dados recebidos correspondem a uma lista contendo apenas as notas de um estudante em uma dada matéria.\n",
        "\n",
        "Vamos resolver esse desafio? Para facilitar o nosso entendimento do processo vamos aplicar as notas de apenas um estudante, mas você pode testar outros casos para treinar.\n",
        "\n"
      ]
    },
    {
      "cell_type": "code",
      "execution_count": null,
      "metadata": {
        "id": "imnuJjqG6PQY"
      },
      "outputs": [],
      "source": [
        "# Notas do(a) estudante\n",
        "boletim = [6.0, 7.0, 9.0, 5.0]\n",
        "\n",
        "def boletim(lista):\n",
        "  media = sum(lista) / len(lista)\n",
        "  if media >= 6:\n",
        "    situacao = \"aprovado\"\n",
        "  else:\n",
        "    situacao = \"reprovado\"\n",
        "\n",
        "  return (media, situacao)"
      ]
    },
    {
      "cell_type": "code",
      "execution_count": null,
      "metadata": {
        "colab": {
          "base_uri": "https://localhost:8080/"
        },
        "id": "2dvR8OrOmWkq",
        "outputId": "b1ed6915-8ad0-4ff2-9e3b-48fda485d532"
      },
      "outputs": [
        {
          "data": {
            "text/plain": [
              "(6.75, 'aprovado')"
            ]
          },
          "execution_count": 22,
          "metadata": {},
          "output_type": "execute_result"
        }
      ],
      "source": [
        "boletim(notas)"
      ]
    },
    {
      "cell_type": "code",
      "execution_count": null,
      "metadata": {
        "id": "4rjR1DmvmBVf"
      },
      "outputs": [],
      "source": [
        "media, situacao = boletim(notas)"
      ]
    },
    {
      "cell_type": "code",
      "execution_count": null,
      "metadata": {
        "colab": {
          "base_uri": "https://localhost:8080/"
        },
        "id": "nEMTwrTVpBD2",
        "outputId": "7e4fe1bd-51a7-47ad-f690-4d14dad09087"
      },
      "outputs": [
        {
          "name": "stdout",
          "output_type": "stream",
          "text": [
            "Você foi aprovado com uma média de 6.75, parabéns!\n"
          ]
        }
      ],
      "source": [
        "if situacao == \"aprovado\":\n",
        "  print(f\"Você foi {situacao} com uma média de {media}, parabéns!\")\n",
        "else:\n",
        "  print(f\"Você foi {situacao} com uma média de {media}, estude mais para as próximas provas!\")"
      ]
    },
    {
      "cell_type": "markdown",
      "metadata": {
        "id": "VVTl_teoua4P"
      },
      "source": [
        "## Função **Lambda**"
      ]
    },
    {
      "cell_type": "markdown",
      "metadata": {
        "id": "QQ1XiuT6pkXE"
      },
      "source": [
        "Situação 4: Nesta nova demanda, precisamos criar uma calculadora simples da média ponderada de notas de uma dada matéria. Vamos requisitar ao usuário a entrada das 3 notas (N1, N2, N3) do estudante e devolver a média ponderada deste estudante. Os pesos das notas são de, respectivamente 3, 2, 5. Precisamos exibir um pequeno texto em que indicamos a média do(a) estudante. Vamos resolver esse desafio?"
      ]
    },
    {
      "cell_type": "code",
      "execution_count": null,
      "metadata": {
        "colab": {
          "base_uri": "https://localhost:8080/"
        },
        "id": "E9UoNe9zq696",
        "outputId": "24b2edec-4bc1-4841-a141-37784795a89c"
      },
      "outputs": [
        {
          "name": "stdout",
          "output_type": "stream",
          "text": [
            "Digite a 1ª nota do(a) estudante: 8\n",
            "Digite a 2ª nota do(a) estudante: 5\n",
            "Digite a 3ª nota do(a) estudante: 9\n"
          ]
        },
        {
          "data": {
            "text/plain": [
              "7.9"
            ]
          },
          "execution_count": 27,
          "metadata": {},
          "output_type": "execute_result"
        }
      ],
      "source": [
        "'''\n",
        "com a funçao lambda, podemos criar uma função mais simples para realizar cálculos, por exemplo:\n",
        "'''\n",
        "# Recebendo as notas e calculando a média ponderável\n",
        "N1 = float(input(\"Digite a 1ª nota do(a) estudante: \"))\n",
        "N2 = float(input(\"Digite a 2ª nota do(a) estudante: \"))\n",
        "N3 = float(input(\"Digite a 3ª nota do(a) estudante: \"))\n",
        "\n",
        "media_ponderada = lambda x, y, z: (3 * x + 2 * y + 5 * z) / 10\n",
        "media_estudante = media_ponderada(N1, N2, N3)\n",
        "media_estudante"
      ]
    },
    {
      "cell_type": "code",
      "execution_count": null,
      "metadata": {
        "colab": {
          "base_uri": "https://localhost:8080/"
        },
        "id": "wPyb43tCtfU_",
        "outputId": "b26973fe-0a1c-403f-e45b-b11105b4857d"
      },
      "outputs": [
        {
          "name": "stdout",
          "output_type": "stream",
          "text": [
            "o estudante teve média 7.9\n"
          ]
        }
      ],
      "source": [
        "# exibindo a média\n",
        "print(f\"o estudante teve média {media_estudante}\")"
      ]
    },
    {
      "cell_type": "markdown",
      "metadata": {
        "id": "J-8_BcM9uCdt"
      },
      "source": [
        "## Mapeando valores\n",
        "formato padrão:\n",
        "\n",
        "```\n",
        "map(<lambda function>, <iterador>)\n",
        "```\n",
        "\n"
      ]
    },
    {
      "cell_type": "markdown",
      "metadata": {
        "id": "UdfN2Fl1u-v3"
      },
      "source": [
        "Situação 5: Recebemos mais uma demanda, desta vez, para criar uma pequena função que pudesse adicionar qualitativo (pontuação extra) às notas do trimestre dos estudantes da turma que ganhou a gincana de programação promovida pela escola. Cada estudante receberá o qualitativo de 0.5 acrescido à média. Os dados recebidos correspondem a uma lista contendo as notas de alguns estudantes e uma variável com o qualitativo recebido.\n",
        "\n",
        "Vamos resolver esse desafio? Para facilitar o nosso entendimento do processo vamos aplicar o qualitativo às notas de 5 estudantes, mas você pode testar outros casos para treinar."
      ]
    },
    {
      "cell_type": "code",
      "execution_count": null,
      "metadata": {
        "id": "BiN-6OMMvIaj"
      },
      "outputs": [],
      "source": [
        "#notas do estudante\n",
        "notas = [6.0, 7.0, 9.0, 5.5, 8.0]\n",
        "qualitativo = 0.5\n"
      ]
    },
    {
      "cell_type": "code",
      "execution_count": null,
      "metadata": {
        "colab": {
          "base_uri": "https://localhost:8080/",
          "height": 280
        },
        "id": "sHHkGZY3vpCH",
        "outputId": "b70df1e9-06c3-44ea-80f5-6fc499008d7a"
      },
      "outputs": [
        {
          "ename": "TypeError",
          "evalue": "can only concatenate list (not \"float\") to list",
          "output_type": "error",
          "traceback": [
            "\u001b[0;31m---------------------------------------------------------------------------\u001b[0m",
            "\u001b[0;31mTypeError\u001b[0m                                 Traceback (most recent call last)",
            "\u001b[0;32m<ipython-input-4-955d40b01d90>\u001b[0m in \u001b[0;36m<cell line: 5>\u001b[0;34m()\u001b[0m\n\u001b[1;32m      3\u001b[0m \u001b[0;34m\u001b[0m\u001b[0m\n\u001b[1;32m      4\u001b[0m \u001b[0mnotas_atualizadas\u001b[0m \u001b[0;34m=\u001b[0m \u001b[0;32mlambda\u001b[0m \u001b[0mx\u001b[0m\u001b[0;34m:\u001b[0m \u001b[0mx\u001b[0m \u001b[0;34m+\u001b[0m \u001b[0mqualitativo\u001b[0m\u001b[0;34m\u001b[0m\u001b[0;34m\u001b[0m\u001b[0m\n\u001b[0;32m----> 5\u001b[0;31m \u001b[0mnotas_atualizadas\u001b[0m\u001b[0;34m(\u001b[0m\u001b[0mnotas\u001b[0m\u001b[0;34m)\u001b[0m\u001b[0;34m\u001b[0m\u001b[0;34m\u001b[0m\u001b[0m\n\u001b[0m",
            "\u001b[0;32m<ipython-input-4-955d40b01d90>\u001b[0m in \u001b[0;36m<lambda>\u001b[0;34m(x)\u001b[0m\n\u001b[1;32m      2\u001b[0m \u001b[0;31m#para isso, é preciso utiliar o map.\u001b[0m\u001b[0;34m\u001b[0m\u001b[0;34m\u001b[0m\u001b[0m\n\u001b[1;32m      3\u001b[0m \u001b[0;34m\u001b[0m\u001b[0m\n\u001b[0;32m----> 4\u001b[0;31m \u001b[0mnotas_atualizadas\u001b[0m \u001b[0;34m=\u001b[0m \u001b[0;32mlambda\u001b[0m \u001b[0mx\u001b[0m\u001b[0;34m:\u001b[0m \u001b[0mx\u001b[0m \u001b[0;34m+\u001b[0m \u001b[0mqualitativo\u001b[0m\u001b[0;34m\u001b[0m\u001b[0;34m\u001b[0m\u001b[0m\n\u001b[0m\u001b[1;32m      5\u001b[0m \u001b[0mnotas_atualizadas\u001b[0m\u001b[0;34m(\u001b[0m\u001b[0mnotas\u001b[0m\u001b[0;34m)\u001b[0m\u001b[0;34m\u001b[0m\u001b[0;34m\u001b[0m\u001b[0m\n",
            "\u001b[0;31mTypeError\u001b[0m: can only concatenate list (not \"float\") to list"
          ]
        }
      ],
      "source": [
        "#não é possível adicionar um valor aos valores de uma lista com o lambda.\n",
        "#para isso, é preciso utiliar o map.\n",
        "\n",
        "notas_atualizadas = lambda x: x + qualitativo\n",
        "notas_atualizadas(notas)"
      ]
    },
    {
      "cell_type": "code",
      "execution_count": null,
      "metadata": {
        "colab": {
          "base_uri": "https://localhost:8080/"
        },
        "id": "3Kd3R0VbwVn7",
        "outputId": "e7bdc6a2-d1ff-4a89-e8a9-d7110df967f3"
      },
      "outputs": [
        {
          "data": {
            "text/plain": [
              "<map at 0x7d2bf951d750>"
            ]
          },
          "execution_count": 6,
          "metadata": {},
          "output_type": "execute_result"
        }
      ],
      "source": [
        "# deu certo, mas para visualizarmos precisamos transformá-lo em uma lista usando a função list\n",
        "\n",
        "notas_atualizadas = map(lambda x: x + qualitativo, notas)\n",
        "notas_atualizadas"
      ]
    },
    {
      "cell_type": "code",
      "execution_count": null,
      "metadata": {
        "id": "qDpmGegkw-9n"
      },
      "outputs": [],
      "source": [
        "notas_atualizadas = list(notas_atualizadas)"
      ]
    },
    {
      "cell_type": "code",
      "execution_count": null,
      "metadata": {
        "colab": {
          "base_uri": "https://localhost:8080/"
        },
        "id": "Xp8NG1foxWj9",
        "outputId": "09308690-982d-4b4d-c1be-0a4c6d69d712"
      },
      "outputs": [
        {
          "data": {
            "text/plain": [
              "[6.5, 7.5, 9.5, 6.0, 8.5]"
            ]
          },
          "execution_count": 8,
          "metadata": {},
          "output_type": "execute_result"
        }
      ],
      "source": [
        "notas_atualizadas"
      ]
    },
    {
      "cell_type": "code",
      "execution_count": null,
      "metadata": {
        "colab": {
          "base_uri": "https://localhost:8080/"
        },
        "id": "WY2CUhMixX1K",
        "outputId": "67c9eca1-5dc5-4478-8310-c731265faae8"
      },
      "outputs": [
        {
          "data": {
            "text/plain": [
              "[6.0, 7.0, 9.0, 5.5, 8.0]"
            ]
          },
          "execution_count": 9,
          "metadata": {},
          "output_type": "execute_result"
        }
      ],
      "source": [
        "#podemos ver que as notas foram aumentadas em 0.5 na lista atualizada\n",
        "notas"
      ]
    },
    {
      "cell_type": "markdown",
      "metadata": {
        "id": "8ChTFLiixaXV"
      },
      "source": [
        "## **Desafios**"
      ]
    },
    {
      "cell_type": "markdown",
      "metadata": {
        "id": "L1HnQjo6gVtl"
      },
      "source": [
        "1. Escreva um código que lê a lista abaixo e faça:\n",
        "\n",
        "```\n",
        "lista = [16, 14, 63, 65, 17, 99, 70, 11, 20, 48, 79, 32, 17, 89, 12, 25, 66]\n",
        "\n",
        "```\n",
        "\n",
        "*   A leitura do tamanho da lista\n",
        "*   A leitura do maior e menor valor\n",
        "\n",
        "*   A soma dos valores da lista\n",
        "*   A soma dos valores da lista\n",
        "\n",
        "Ao final exiba uma mensagem dizendo:\n",
        "\n",
        "```\n",
        "\"A lista possui [tam] números em que o maior número é [maior] e o menor número é [menor]. A soma dos valores presentes nela é igual a [soma]\"\n",
        "\n",
        "```\n",
        "\n",
        "\n",
        "\n"
      ]
    },
    {
      "cell_type": "code",
      "execution_count": null,
      "metadata": {
        "colab": {
          "base_uri": "https://localhost:8080/"
        },
        "id": "m1VKbSBQgYPg",
        "outputId": "67512647-005d-4ef1-8d27-828844f559d1"
      },
      "outputs": [
        {
          "name": "stdout",
          "output_type": "stream",
          "text": [
            "A lista possui 17 números em que o maior número é 99 e o menor número é 11. A soma do valores da lista é 743\n"
          ]
        }
      ],
      "source": [
        "# Lista gerada\n",
        "lista = [16, 14, 63, 65, 17, 99, 70, 11, 20, 48, 79, 32, 17, 89, 12, 25, 66]\n",
        "\n",
        "# Lendo o tamanho, maior e menor número e soma, respectivamente, utilizando as built-in functions\n",
        "\n",
        "tam = len(lista)\n",
        "maior = max(lista)\n",
        "menor = min(lista)\n",
        "soma = sum(lista)\n",
        "\n",
        "# Exibindo o texto\n",
        "print(f\"A lista possui {tam} números em que o maior número é {maior} e o menor número é {menor}. A soma do valores da lista é {soma}\")"
      ]
    },
    {
      "cell_type": "markdown",
      "metadata": {
        "id": "ag1h2seihF-E"
      },
      "source": [
        "2. Escreva uma função que gere a tabuada de um número inteiro de 1 a 10, de acordo com a escolha da pessoa usuária. Como exemplo, para o número 7, a tabuada deve ser mostrada no seguinte formato:\n",
        "\n",
        "```\n",
        "Tabuada do 7:\n",
        "7 x 0 = 0\n",
        "7 x 1 = 7\n",
        "[...]\n",
        "7 x 10 = 70\n",
        "\n",
        "```\n",
        "\n",
        "\n",
        "\n"
      ]
    },
    {
      "cell_type": "code",
      "execution_count": null,
      "metadata": {
        "colab": {
          "base_uri": "https://localhost:8080/"
        },
        "id": "lb9aoxWfhwLX",
        "outputId": "a14eb5d3-2a6f-46a5-a171-3c541fa3d3a7"
      },
      "outputs": [
        {
          "name": "stdout",
          "output_type": "stream",
          "text": [
            "Digite um número que deseja saber a tabuada: 12\n",
            "Tabuada do 12:\n",
            "\n",
            "12 x 0 = 0\n",
            "\n",
            "12 x 1 = 12\n",
            "\n",
            "12 x 2 = 24\n",
            "\n",
            "12 x 3 = 36\n",
            "\n",
            "12 x 4 = 48\n",
            "\n",
            "12 x 5 = 60\n",
            "\n",
            "12 x 6 = 72\n",
            "\n",
            "12 x 7 = 84\n",
            "\n",
            "12 x 8 = 96\n",
            "\n",
            "12 x 9 = 108\n",
            "\n",
            "12 x 10 = 120\n",
            "\n"
          ]
        }
      ],
      "source": [
        "# Requisitando o número\n",
        "escolha = int(input(\"Digite um número que deseja saber a tabuada: \"))\n",
        "\n",
        "# Gerando a função tabuada()\n",
        "def tabuada(num):\n",
        "  print(f\"Tabuada do {num}:\\n\")\n",
        "  for numero in range (0, 11):\n",
        "    print(f\"{num} x {numero} = {num * numero}\\n\")\n",
        "escolha = int(input(\"Digite um número que deseja saber a tabuada: \")\n",
        "\n",
        "# lendo a tabuada do número escolhido\n",
        "tabuada(escolha)"
      ]
    },
    {
      "cell_type": "markdown",
      "metadata": {
        "id": "araGVUu4iYFS"
      },
      "source": [
        "3. Crie a função que leia a lista abaixo e retorne uma nova lista com os múltiplos de 3:\n",
        "\n",
        "```\n",
        "[97, 80, 94, 88, 80, 1, 16, 53, 62, 32, 24, 99]\n",
        "```\n",
        "Utilize o return na função e salve a nova lista na variável mult_3.\n",
        "\n"
      ]
    },
    {
      "cell_type": "code",
      "execution_count": null,
      "metadata": {
        "id": "F0Oe0xlFi77w"
      },
      "outputs": [],
      "source": [
        "# Lista gerada\n",
        "numeros = [97, 80, 94, 88, 80, 1, 16, 53, 62, 32, 24, 99]\n",
        "\n",
        "# declarando a lista de multiplos de 3\n",
        "mult_3 = []\n",
        "\n",
        "# função para gerar uma lista dos múltiplos de 3 a partir de uma lista\n",
        "def multiplos(lista):\n",
        "  for num in numeros:\n",
        "    # condição para um número ser múltiplo de 3\n",
        "    if num % 3 == 0:\n",
        "      mult_3.append(num)\n",
        "\n",
        "# retornando a lista gerada para a variável mult_3\n",
        "  return mult_3"
      ]
    },
    {
      "cell_type": "code",
      "execution_count": null,
      "metadata": {
        "colab": {
          "base_uri": "https://localhost:8080/"
        },
        "id": "hzQTwb8NkRVh",
        "outputId": "492887c6-525e-4d13-b7e1-4ecbe19422c9"
      },
      "outputs": [
        {
          "data": {
            "text/plain": [
              "[24, 99]"
            ]
          },
          "execution_count": 42,
          "metadata": {},
          "output_type": "execute_result"
        }
      ],
      "source": [
        "multiplos(mult_3)\n"
      ]
    },
    {
      "cell_type": "markdown",
      "metadata": {
        "id": "vrj8J4ubkow7"
      },
      "source": [
        "4. Crie uma lista dos quadrados dos números da seguinte lista [1, 2, 3, 4, 5, 6, 7, 8, 9, 10]. Lembre-se de utilizar as funções lambda e map() para calcular o quadrado de cada elemento da lista."
      ]
    },
    {
      "cell_type": "markdown",
      "metadata": {
        "id": "p6P12dhGequj"
      },
      "source": [
        "**O PROPÓSITO DO EXERCÍCIO ERA PEGAR O QUADRADO DOS NÚMEROS, MAS EU FIZ UM CÓDIGO QUE PEGA A RAIZ QUADRADA DE CADA UM DELES**"
      ]
    },
    {
      "cell_type": "code",
      "execution_count": null,
      "metadata": {
        "colab": {
          "base_uri": "https://localhost:8080/"
        },
        "id": "2OZLzfDtmH6T",
        "outputId": "74624541-3fcb-46ce-bf66-294988c25bdf"
      },
      "outputs": [
        {
          "data": {
            "text/plain": [
              "[1.0,\n",
              " 1.4142135623730951,\n",
              " 1.7320508075688772,\n",
              " 2.0,\n",
              " 2.23606797749979,\n",
              " 2.449489742783178,\n",
              " 2.6457513110645907,\n",
              " 2.8284271247461903,\n",
              " 3.0,\n",
              " 3.1622776601683795]"
            ]
          },
          "execution_count": 53,
          "metadata": {},
          "output_type": "execute_result"
        }
      ],
      "source": [
        "\n",
        "#importar math (sqrt) para obter a raiz quadrada\n",
        "from math import sqrt\n",
        "#declarando a lista\n",
        "lista = [1, 2, 3, 4, 5, 6, 7, 8, 9, 10]\n",
        "\n",
        "#mapeando a função lambda que retorna a raiz quadrada do número (sqrt)\n",
        "lista_ao_quadrado = list(map(lambda x: sqrt(x), lista))\n",
        "\n",
        "#imprimindo o número\n",
        "lista_ao_quadrado\n",
        "\n",
        "\n"
      ]
    },
    {
      "cell_type": "markdown",
      "metadata": {
        "id": "ufkid6v_e0sI"
      },
      "source": [
        "**CÓDIGO CERTO**"
      ]
    },
    {
      "cell_type": "code",
      "execution_count": null,
      "metadata": {
        "colab": {
          "base_uri": "https://localhost:8080/"
        },
        "id": "NET8ZAbpeQ7A",
        "outputId": "46c50956-229a-4a22-8635-86c77a1b5791"
      },
      "outputs": [
        {
          "data": {
            "text/plain": [
              "[1, 4, 9, 16, 25, 36, 49, 64, 81, 100]"
            ]
          },
          "execution_count": 39,
          "metadata": {},
          "output_type": "execute_result"
        }
      ],
      "source": [
        "# Lista dos números\n",
        "numeros = [1, 2, 3, 4, 5, 6, 7, 8, 9, 10]\n",
        "\n",
        "# Função lambda que eleva um número ao quadrado\n",
        "quadrado = lambda x: x ** 2\n",
        "\n",
        "# Utilizando a função map() para aplicar a função lambda em cada número da lista\n",
        "resultado = list(map(quadrado, numeros))\n",
        "resultado\n"
      ]
    },
    {
      "cell_type": "markdown",
      "metadata": {
        "id": "P-yYIEs3mnce"
      },
      "source": [
        "## **projetos**"
      ]
    },
    {
      "cell_type": "markdown",
      "metadata": {
        "id": "ySv4ltRinfjp"
      },
      "source": [
        "5. Você foi contratado(a) como cientista de dados de uma associação de skate. Para analisar as notas recebidas de skatistas em algumas competições ao longo do ano, você precisa criar um código que calcula a pontuação dos(as) atletas. Para isso, o seu código deve receber 5 notas digitadas pelas pessoas juradas.\n",
        "\n",
        "Para calcular a pontuação de um(a) skatista, você precisa eliminar a maior e a menor pontuação dentre as 5 notas e tirar a média das 3 notas que sobraram. Retorne a média para apresentar o texto:\n",
        "\n",
        "\"Nota da manobra: [media]\""
      ]
    },
    {
      "cell_type": "code",
      "execution_count": null,
      "metadata": {
        "colab": {
          "base_uri": "https://localhost:8080/"
        },
        "id": "0lDI5ZPsnrcm",
        "outputId": "692be274-6649-493d-f724-8016592c2a85"
      },
      "outputs": [
        {
          "name": "stdout",
          "output_type": "stream",
          "text": [
            "digite uma nota: 10\n",
            "digite uma nota: 5\n",
            "digite uma nota: 5\n",
            "digite uma nota: 5\n",
            "digite uma nota: 5\n",
            "Nota da manobra: 5.0\n"
          ]
        }
      ],
      "source": [
        "# declarando a lista de notas\n",
        "lista_notas = []\n",
        "# declarando a lisat e notas atualizadas\n",
        "lista_atualizada = []\n",
        "\n",
        "# laço for para pedir as 5 notas e armazená-las na lista notas\n",
        "for nota in range (0, 5):\n",
        "  lista_notas.append(int(input(\"digite uma nota: \")))\n",
        "\n",
        "# Função para remover a maior e menor nota e retornar a média das notas restantes\n",
        "def pontuacao(lista):\n",
        "  lista.remove(max(lista_notas))\n",
        "  lista.remove(min(lista_notas))\n",
        "  return sum(lista_notas) / len(lista_notas)\n",
        "\n",
        "# Chamando a função e imprimindo a nota da(o) skatista\n",
        "resultado = pontuacao(lista_notas)\n",
        "print(f\"Nota da manobra: {resultado:.1f}\")"
      ]
    },
    {
      "cell_type": "markdown",
      "metadata": {
        "id": "ExbTbzBQq1G2"
      },
      "source": [
        "6. Para atender a uma demanda de uma instituição de ensino para a análise do desempenho de seus(suas) estudantes, você precisa criar uma função que receba uma lista de 4 notas e retorne:\n",
        "\n",
        "maior nota\n",
        "\n",
        "menor nota\n",
        "\n",
        "média\n",
        "\n",
        "situação (Aprovado(a) ou Reprovado(a))\n",
        "\n",
        "Para testar o comportamento da função, os dados podem ser exibidos em um texto:\n",
        "\n",
        "```\n",
        "\"O(a) estudante obteve uma média de [media], com a sua maior nota de [maior] pontos e a menor nota de [menor] pontos e foi [situacao]\"\n",
        "\n",
        "```\n",
        "\n"
      ]
    },
    {
      "cell_type": "code",
      "execution_count": null,
      "metadata": {
        "colab": {
          "base_uri": "https://localhost:8080/"
        },
        "id": "Tkd0E9q0r08J",
        "outputId": "4af3e77d-3dc2-4d9b-e61e-f1d3fa777d2a"
      },
      "outputs": [
        {
          "name": "stdout",
          "output_type": "stream",
          "text": [
            "Digite sua primeira nota: 10\n",
            "Digite sua segunda nota: 5\n",
            "Digite sua terceira nota: 6\n",
            "Digite sua quarta nota: 8\n",
            "O(a) estudante obteve uma média de 7.2, com a sua maior nota de 10.0 pontos e a menor nota de 5.0 pontos e sua situação é: Aprovado\n"
          ]
        }
      ],
      "source": [
        "# declarando a lista de notas\n",
        "nota_aluno = []\n",
        "\n",
        "# adicionando os inputs denotas na lista\n",
        "nota_aluno.append(float(input(\"Digite sua primeira nota: \")))\n",
        "nota_aluno.append(float(input(\"Digite sua segunda nota: \")))\n",
        "nota_aluno.append(float(input(\"Digite sua terceira nota: \")))\n",
        "nota_aluno.append(float(input(\"Digite sua quarta nota: \")))\n",
        "\n",
        "#declarando as variáveis de média, maior e menor nota\n",
        "media = sum(nota_aluno) / len(nota_aluno)\n",
        "maior = max(nota_aluno)\n",
        "menor = min(nota_aluno)\n",
        "\n",
        "# condição para ser aprovado ou reprovado\n",
        "if media >= 6:\n",
        "  situacao = \"Aprovado\"\n",
        "else:\n",
        "  situacao = \"Não aprovado\"\n",
        "\n",
        "# imprimindo a média, maior nota, menor nota, e situação de aprovação\n",
        "print(f\"O(a) estudante obteve uma média de {round(media, 1)}, com a sua maior nota de {round(maior, 1)} pontos e a menor nota de {round(menor, 1)} pontos e sua situação é: {situacao}\")\n",
        "\n"
      ]
    },
    {
      "cell_type": "markdown",
      "metadata": {
        "id": "IfOy0PMns7Ki"
      },
      "source": [
        "7. Você recebeu uma demanda para tratar 2 listas com os nomes e sobrenomes de cada estudante concatenando-as para apresentar seus nomes completos na forma Nome Sobrenome. As listas são:\n",
        "\n",
        "```\n",
        "nomes = [\"joão\", \"MaRia\", \"JOSÉ\"]\n",
        "sobrenomes = [\"SILVA\", \"souza\", \"Tavares\"]\n",
        "\n",
        "```\n",
        "O texto exibido ao fim deve ser parecido com:\n",
        "\n",
        "```\n",
        "\"Nome completo: Ana Silva\"\n",
        "```\n",
        "Dica: utilize a função map para mapear os nomes e sobrenomes e as funções de string para tratar o texto.\n",
        "\n",
        "\n",
        "\n"
      ]
    },
    {
      "cell_type": "code",
      "execution_count": null,
      "metadata": {
        "colab": {
          "base_uri": "https://localhost:8080/"
        },
        "id": "xIccra7l1Jmn",
        "outputId": "f29a1b2f-6f9e-44d9-a75d-7104be7575f3"
      },
      "outputs": [
        {
          "name": "stdout",
          "output_type": "stream",
          "text": [
            "Nome completo: João Silva\n",
            "Nome completo: Maria Souza\n",
            "Nome completo: José Tavares\n"
          ]
        }
      ],
      "source": [
        "# Nomes dos estudantes\n",
        "nomes = [\"joão\", \"MaRia\", \"JOSÉ\"]\n",
        "sobrenomes = [\"SILVA\", \"souza\", \"Tavares\"]\n",
        "\n",
        "# Função lambda que recebe duas listas e itera em cada uma concatenando seu nome e sobrenome\n",
        "# também poderia ter feito em apenas um lambda, da seguinte forma:\n",
        "# nome_completo = map(lambda nome, sobrenome: f'{nome.title()} {sobrenome.title()}', nomes, sobrenomes)\n",
        "nomes_atualizados = list(map(lambda x: x.title(), nomes))\n",
        "sobrenomes_atualizados = list(map(lambda x: x.title(), sobrenomes))\n",
        "\n",
        "# Leitura do objeto mapa(iterável)\n",
        "for i in range (0, 3):\n",
        "  print(f\"Nome completo: {nomes_atualizados[i]} {sobrenomes_atualizados[i]}\")"
      ]
    },
    {
      "cell_type": "markdown",
      "metadata": {
        "id": "n1FYXcLh2xpK"
      },
      "source": [
        "8. Como cientista de dados em um time de futebol, você precisa implementar novas formas de coleta de dados sobre o desempenho de jogadores e do time como um todo. Sua primeira ação é criar uma forma de calcular a pontuação do time no campeonato nacional a partir dos dados de gols marcados e sofridos em cada jogo.\n",
        "\n",
        "Escreva uma função chamada calcula_pontos que recebe como parâmetros duas listas de números inteiros, representando os gols marcados e sofridos pelo time em cada partida do campeonato. A função deve retornar a pontuação do time e o aproveitamento em percentual, levando em consideração que a vitória vale 3 pontos, o empate vale 1 ponto e a derrota 0 pontos.\n",
        "\n",
        "Para teste, utilize as seguintes listas de gols marcados e sofridos:\n",
        "\n",
        "```\n",
        "gols_marcados = [2, 1, 3, 1, 0]\n",
        "gols_sofridos = [1, 2, 2, 1, 3]\n",
        "\n",
        "```\n",
        "Provável texto exibido:\n",
        "\n",
        "```\n",
        "\"A pontuação do time foi de [pontos] e seu aproveitamento foi de [aprov]%\"\n",
        "```\n",
        "\n",
        "\n",
        "\n",
        "\n"
      ]
    },
    {
      "cell_type": "code",
      "execution_count": null,
      "metadata": {
        "colab": {
          "base_uri": "https://localhost:8080/"
        },
        "id": "lTmI6fU88WQR",
        "outputId": "bc9893a1-edda-4cb2-bbf9-61026b0d25da"
      },
      "outputs": [
        {
          "name": "stdout",
          "output_type": "stream",
          "text": [
            "A pontuação do time foi de 7 e seu aproveitamento foi de 43.75%\n"
          ]
        }
      ],
      "source": [
        "# declaração das listas de gols marcados e sofridos\n",
        "gols_marcados = [2, 1, 3, 1, 0]\n",
        "gols_sofridos = [1, 2, 2, 1, 3]\n",
        "\n",
        "#declaração da função que irá calcular os pontos de acordo com o gol\n",
        "def calcula_pontos(marcados, sofridos):\n",
        "  pontuacao = 0\n",
        "  # iteração para acrescentar a pontuação\n",
        "  for i in range (0, len(gols_marcados)):\n",
        "    if gols_marcados[i] > gols_sofridos[i]:\n",
        "      pontuacao += 3\n",
        "    elif gols_marcados[i] == gols_sofridos[i]:\n",
        "      pontuacao += 1\n",
        "    else:\n",
        "      pontuacao += 0\n",
        "  return pontuacao\n",
        "\n",
        "# declaração da variável com o retorno da função\n",
        "calculo_pontos = calcula_pontos(gols_marcados, gols_sofridos)\n",
        "\n",
        "# declarando a variável com a porcentagem de aproveitamento de gols\n",
        "aprov = (sum(gols_marcados) / (sum(gols_marcados) + sum(gols_sofridos))) * 100\n",
        "\n",
        "# imprime a pontuação do time e seu aproveitamento de gols\n",
        "print(f\"A pontuação do time foi de {calculo_pontos},e seu aproveitamento foi de {aprov}%\")\n",
        "\n",
        "\n"
      ]
    },
    {
      "cell_type": "markdown",
      "metadata": {
        "id": "yIf6n71G_VGz"
      },
      "source": [
        "9. Você recebeu o desafio de criar um código que calcula os gastos de uma viagem para um das quatro cidades partindo de Recife, sendo elas: Salvador, Fortaleza, Natal e Aracaju.\n",
        "\n",
        "O custo da diária do hotel é de 150 reais em todas elas e o consumo de gasolina na viagem de carro é de 14 km/l, sendo que o valor da gasolina é de 5 reais o litro. O gastos com passeios e alimentação a se fazer em cada uma delas por dia seria de [200, 400, 250, 300], respectivamente.\n",
        "\n",
        "Sabendo que as distâncias entre Recife e cada uma das cidades é de aproximadamente [850, 800, 300, 550] km, crie três funções nas quais: a 1ª função calcule os gastos com hotel (gasto_hotel), a 2ª calcule os gastos com a gasolina (gasto_gasolina) e a 3ª os gastos com passeio e alimentação (gasto_passeio).\n",
        "\n",
        "Para testar, simule uma viagem de 3 dias para Salvador partindo de Recife. Considere a viagem de ida e volta de carro.\n",
        "\n",
        "```\n",
        "\"Com base nos gastos definidos, uma viagem de [dias] dias para [cidade] saindo de Recife custaria [gastos] reais\"\n",
        "\n",
        "```\n",
        "\n"
      ]
    },
    {
      "cell_type": "code",
      "execution_count": null,
      "metadata": {
        "colab": {
          "base_uri": "https://localhost:8080/"
        },
        "id": "Qdt2Bu9eCxcv",
        "outputId": "0cc4a0bc-bd97-4bbf-ef2a-9b0e7aae58c7"
      },
      "outputs": [
        {
          "name": "stdout",
          "output_type": "stream",
          "text": [
            "Para onde você quer viajar?\n",
            "Digite:\n",
            "1 para Salvador\n",
            "2 para Fortaleza\n",
            "3 para Natal\n",
            "4 para aracaju\n",
            "2\n",
            "Digite quantos dias pretende passar: 2\n",
            "\n",
            "Com base nos gastos definidos, uma viagem de 2 dias para Fortaleza saindo de recife custaria 1671.43 reais, sendo eles:\n",
            "\n",
            "300.00 reais com o hotel\n",
            "571.43 reais com a gasolina\n",
            "800.00 reais com o passeio\n"
          ]
        }
      ],
      "source": [
        "# Lista de cidades para onde é possível viajar\n",
        "cidades = [\"Salvador\", \"Fortaleza\", \"Natal\", \"Aracaju\"]\n",
        "\n",
        "# Lista de gastos com alimentação por dia em cada cidade\n",
        "alimentacao = [200, 400, 250, 300]\n",
        "\n",
        "# Lista de distâncias de Recife para cada cidade em km\n",
        "distancia = [850, 800, 300, 550]\n",
        "\n",
        "# Solicita ao usuário o destino e a quantidade de dias da viagem\n",
        "destino = int(input(\"Para onde você quer viajar?\\nDigite:\\n1 para Salvador\\n2 para Fortaleza\\n3 para Natal\\n4 para Aracaju\\n\"))\n",
        "dias = int(input(\"Digite quantos dias pretende passar: \"))\n",
        "\n",
        "# Função para calcular o gasto com hotel\n",
        "def gasto_hotel(dias):\n",
        "    return 150 * dias\n",
        "\n",
        "# Função para calcular o gasto com gasolina\n",
        "def gasto_gasolina(km):\n",
        "    return ((distancia[km - 1] / 14) * 5) * 2\n",
        "\n",
        "# Função para calcular o gasto com passeio e alimentação\n",
        "def gasto_passeio(destino, tempo):\n",
        "    return alimentacao[destino - 1] * tempo\n",
        "\n",
        "# Calcula os gastos individuais com hotel, gasolina e passeio\n",
        "gastos_hotel = gasto_hotel(dias)\n",
        "gastos_gasolina = gasto_gasolina(destino)\n",
        "gastos_passeio = gasto_passeio(destino, dias)\n",
        "\n",
        "# Calcula o total de gastos\n",
        "total_gastos = gastos_hotel + gastos_gasolina + gastos_passeio\n",
        "\n",
        "# Imprime o resultado dos gastos\n",
        "print(f\"\\nCom base nos gastos definidos, uma viagem de {dias} dias para {cidades[destino - 1]} saindo de Recife custaria {total_gastos:.2f} reais, sendo eles:\\n\")\n",
        "print(f\"{gastos_hotel:.2f} reais com o hotel\\n{gastos_gasolina:.2f} reais com a gasolina\\n{gastos_passeio:.2f} reais com o passeio\")\n",
        "\n"
      ]
    },
    {
      "cell_type": "markdown",
      "metadata": {
        "id": "7p5dGfeARPz3"
      },
      "source": [
        "10. Você iniciou um estágio em uma empresa que trabalha com processamento de linguagem natural (NLP). Sua líder requisitou que você criasse um trecho de código que recebe uma frase digitada pela pessoa usuária e filtre apenas as palavras com tamanho maior ou igual a 5, exibindo-as em uma lista. Essa demanda é voltada para a análise do padrão de comportamento de pessoas na escrita de palavras acima dessa quantidade de caracteres.\n",
        "\n",
        "Use a frase \"Aprender Python aqui na Alura é muito bom\" para testar o código."
      ]
    },
    {
      "cell_type": "code",
      "execution_count": null,
      "metadata": {
        "colab": {
          "base_uri": "https://localhost:8080/"
        },
        "id": "KCF7iaaRCs6-",
        "outputId": "bf45fa26-184b-4299-c75c-2650aa7f5d7d"
      },
      "outputs": [
        {
          "data": {
            "text/plain": [
              "['ola', 'mundo', '!']"
            ]
          },
          "execution_count": 4,
          "metadata": {},
          "output_type": "execute_result"
        }
      ],
      "source": [
        "frase = \"ola mundo !\"\n",
        "frase_formatada = frase.split()\n",
        "frase_formatada"
      ]
    },
    {
      "cell_type": "code",
      "execution_count": null,
      "metadata": {
        "colab": {
          "base_uri": "https://localhost:8080/",
          "height": 356
        },
        "id": "YdIcwI9pHABZ",
        "outputId": "6059d950-19f3-4a6a-d732-c9d563fa7a08"
      },
      "outputs": [
        {
          "ename": "KeyboardInterrupt",
          "evalue": "Interrupted by user",
          "output_type": "error",
          "traceback": [
            "\u001b[0;31m---------------------------------------------------------------------------\u001b[0m",
            "\u001b[0;31mKeyboardInterrupt\u001b[0m                         Traceback (most recent call last)",
            "\u001b[0;32m<ipython-input-49-b9278e1cb84f>\u001b[0m in \u001b[0;36m<cell line: 1>\u001b[0;34m()\u001b[0m\n\u001b[0;32m----> 1\u001b[0;31m \u001b[0mphrase\u001b[0m \u001b[0;34m=\u001b[0m \u001b[0minput\u001b[0m\u001b[0;34m(\u001b[0m\u001b[0;34m\"Digite uma frase: \"\u001b[0m\u001b[0;34m)\u001b[0m\u001b[0;34m\u001b[0m\u001b[0;34m\u001b[0m\u001b[0m\n\u001b[0m\u001b[1;32m      2\u001b[0m \u001b[0mphrase\u001b[0m \u001b[0;34m=\u001b[0m \u001b[0mphrase\u001b[0m\u001b[0;34m.\u001b[0m\u001b[0mreplace\u001b[0m\u001b[0;34m(\u001b[0m\u001b[0;34m','\u001b[0m\u001b[0;34m,\u001b[0m\u001b[0;34m' '\u001b[0m\u001b[0;34m)\u001b[0m\u001b[0;34m.\u001b[0m\u001b[0mreplace\u001b[0m\u001b[0;34m(\u001b[0m\u001b[0;34m'.'\u001b[0m\u001b[0;34m,\u001b[0m\u001b[0;34m' '\u001b[0m\u001b[0;34m)\u001b[0m\u001b[0;34m.\u001b[0m\u001b[0mreplace\u001b[0m\u001b[0;34m(\u001b[0m\u001b[0;34m'!'\u001b[0m\u001b[0;34m,\u001b[0m\u001b[0;34m' '\u001b[0m\u001b[0;34m)\u001b[0m\u001b[0;34m.\u001b[0m\u001b[0mreplace\u001b[0m\u001b[0;34m(\u001b[0m\u001b[0;34m'?'\u001b[0m\u001b[0;34m,\u001b[0m\u001b[0;34m' '\u001b[0m\u001b[0;34m)\u001b[0m\u001b[0;34m.\u001b[0m\u001b[0msplit\u001b[0m\u001b[0;34m(\u001b[0m\u001b[0;34m)\u001b[0m\u001b[0;34m\u001b[0m\u001b[0;34m\u001b[0m\u001b[0m\n\u001b[1;32m      3\u001b[0m \u001b[0;34m\u001b[0m\u001b[0m\n\u001b[1;32m      4\u001b[0m \u001b[0;34m\u001b[0m\u001b[0m\n\u001b[1;32m      5\u001b[0m \u001b[0mfilter_phrase\u001b[0m \u001b[0;34m=\u001b[0m \u001b[0mlist\u001b[0m\u001b[0;34m(\u001b[0m\u001b[0mfilter\u001b[0m\u001b[0;34m(\u001b[0m\u001b[0;32mlambda\u001b[0m \u001b[0mx\u001b[0m\u001b[0;34m:\u001b[0m \u001b[0mlen\u001b[0m\u001b[0;34m(\u001b[0m\u001b[0mx\u001b[0m\u001b[0;34m)\u001b[0m \u001b[0;34m>=\u001b[0m \u001b[0;36m5\u001b[0m\u001b[0;34m,\u001b[0m \u001b[0mphrase\u001b[0m\u001b[0;34m)\u001b[0m\u001b[0;34m)\u001b[0m\u001b[0;34m\u001b[0m\u001b[0;34m\u001b[0m\u001b[0m\n",
            "\u001b[0;32m/usr/local/lib/python3.10/dist-packages/ipykernel/kernelbase.py\u001b[0m in \u001b[0;36mraw_input\u001b[0;34m(self, prompt)\u001b[0m\n\u001b[1;32m    849\u001b[0m                 \u001b[0;34m\"raw_input was called, but this frontend does not support input requests.\"\u001b[0m\u001b[0;34m\u001b[0m\u001b[0;34m\u001b[0m\u001b[0m\n\u001b[1;32m    850\u001b[0m             )\n\u001b[0;32m--> 851\u001b[0;31m         return self._input_request(str(prompt),\n\u001b[0m\u001b[1;32m    852\u001b[0m             \u001b[0mself\u001b[0m\u001b[0;34m.\u001b[0m\u001b[0m_parent_ident\u001b[0m\u001b[0;34m,\u001b[0m\u001b[0;34m\u001b[0m\u001b[0;34m\u001b[0m\u001b[0m\n\u001b[1;32m    853\u001b[0m             \u001b[0mself\u001b[0m\u001b[0;34m.\u001b[0m\u001b[0m_parent_header\u001b[0m\u001b[0;34m,\u001b[0m\u001b[0;34m\u001b[0m\u001b[0;34m\u001b[0m\u001b[0m\n",
            "\u001b[0;32m/usr/local/lib/python3.10/dist-packages/ipykernel/kernelbase.py\u001b[0m in \u001b[0;36m_input_request\u001b[0;34m(self, prompt, ident, parent, password)\u001b[0m\n\u001b[1;32m    893\u001b[0m             \u001b[0;32mexcept\u001b[0m \u001b[0mKeyboardInterrupt\u001b[0m\u001b[0;34m:\u001b[0m\u001b[0;34m\u001b[0m\u001b[0;34m\u001b[0m\u001b[0m\n\u001b[1;32m    894\u001b[0m                 \u001b[0;31m# re-raise KeyboardInterrupt, to truncate traceback\u001b[0m\u001b[0;34m\u001b[0m\u001b[0;34m\u001b[0m\u001b[0m\n\u001b[0;32m--> 895\u001b[0;31m                 \u001b[0;32mraise\u001b[0m \u001b[0mKeyboardInterrupt\u001b[0m\u001b[0;34m(\u001b[0m\u001b[0;34m\"Interrupted by user\"\u001b[0m\u001b[0;34m)\u001b[0m \u001b[0;32mfrom\u001b[0m \u001b[0;32mNone\u001b[0m\u001b[0;34m\u001b[0m\u001b[0;34m\u001b[0m\u001b[0m\n\u001b[0m\u001b[1;32m    896\u001b[0m             \u001b[0;32mexcept\u001b[0m \u001b[0mException\u001b[0m \u001b[0;32mas\u001b[0m \u001b[0me\u001b[0m\u001b[0;34m:\u001b[0m\u001b[0;34m\u001b[0m\u001b[0;34m\u001b[0m\u001b[0m\n\u001b[1;32m    897\u001b[0m                 \u001b[0mself\u001b[0m\u001b[0;34m.\u001b[0m\u001b[0mlog\u001b[0m\u001b[0;34m.\u001b[0m\u001b[0mwarning\u001b[0m\u001b[0;34m(\u001b[0m\u001b[0;34m\"Invalid Message:\"\u001b[0m\u001b[0;34m,\u001b[0m \u001b[0mexc_info\u001b[0m\u001b[0;34m=\u001b[0m\u001b[0;32mTrue\u001b[0m\u001b[0;34m)\u001b[0m\u001b[0;34m\u001b[0m\u001b[0;34m\u001b[0m\u001b[0m\n",
            "\u001b[0;31mKeyboardInterrupt\u001b[0m: Interrupted by user"
          ]
        }
      ],
      "source": [
        "# Requisitando uma frase e separando-a pelos espaços. Usando replace para trocar\n",
        "# pontuações por espaço.\n",
        "phrase = input(\"Digite uma frase: \")\n",
        "phrase = phrase.replace(',',' ').replace('.',' ').replace('!',' ').replace('?',' ').split()\n",
        "\n",
        "# Filtrando a frase no formato de lista, passando para a lista tamanho\n",
        "# apenas as palavras com 5 ou mais caracteres e imprimindo-a na tela\n",
        "filter_phrase = list(filter(lambda x: len(x) >= 5, phrase))\n",
        "print(word)\n",
        "\n"
      ]
    },
    {
      "cell_type": "code",
      "execution_count": null,
      "metadata": {
        "colab": {
          "base_uri": "https://localhost:8080/"
        },
        "id": "D8rV5GZATqIc",
        "outputId": "fd6b431e-3ff9-4af2-816b-32ab967203fb"
      },
      "outputs": [
        {
          "name": "stdout",
          "output_type": "stream",
          "text": [
            "Digite uma frase: Aprender Python aqui na Alura é muito bom!\n",
            "['Aprender', 'Python', 'Alura', 'muito']\n"
          ]
        }
      ],
      "source": [
        "# Requisitando uma frase e separando-a pelos espaços. Usando replace para trocar\n",
        "# pontuações por espaço.\n",
        "frase = input(\"Digite uma frase: \")\n",
        "frase = frase.replace(',',' ').replace('.',' ').replace('!',' ').replace('?',' ').split()\n",
        "\n",
        "# Filtrando a frase no formato de lista, passando para a lista tamanho\n",
        "# apenas as palavras com 5 ou mais caracteres e imprimindo-a na tela\n",
        "tamanho = list(filter(lambda x: len(x) >= 5, frase))\n",
        "print(tamanho)\n",
        "\n"
      ]
    },
    {
      "cell_type": "markdown",
      "metadata": {
        "id": "5tW2FV3ijUQX"
      },
      "source": [
        "# **ESTRUTURA DE DADOS**"
      ]
    },
    {
      "cell_type": "markdown",
      "metadata": {
        "id": "D9gpgu6JFn7n"
      },
      "source": [
        "## Lista de listas"
      ]
    },
    {
      "cell_type": "markdown",
      "metadata": {
        "id": "IkXky4YzI_qO"
      },
      "source": [
        "**Lista de listas**\n",
        "formato padrão:\n",
        "\n",
        "```\n",
        "[[a1, a2,...,an], [b1, b2,...,bn], ..., [n1, n2,...,nn]]\n",
        "```\n",
        "\n"
      ]
    },
    {
      "cell_type": "markdown",
      "metadata": {
        "id": "JAfJIOa1Jvw5"
      },
      "source": [
        "**Situação 6**\n",
        "\n",
        "Recebemos a demanda de transformar uma lista com o nome e as notas dos três trimestres de estudantes em uma lista simples com os nomes separados das notas e uma lista de listas com as três notas de cada estudante separadas umas das outras.\n",
        "\n",
        "Os dados recebidos correspondem a uma lista com os nomes e as respectivas notas de cada estudante. Vamos resolver esse desafio? Para facilitar o nosso entendimento do processo vamos trabalhar com uma turma fictícia de 5 estudantes.\n",
        "\n",
        "\n",
        "```\n",
        "notas_turma = ['João', 8.0, 9.0, 10.0, 'Maria', 9.0, 7.0, 6.0, 'José', 3.4, 7.0, 7.0, 'Cláudia', 5.5, 6.6, 8.0, 'Ana', 6.0, 10.0, 9.5]\n",
        "\n",
        "```\n",
        "\n"
      ]
    },
    {
      "cell_type": "code",
      "execution_count": null,
      "metadata": {
        "colab": {
          "base_uri": "https://localhost:8080/"
        },
        "id": "Qll8lunsKJkP",
        "outputId": "9fa8abdd-2c27-4489-cfbd-c5a106952c55"
      },
      "outputs": [
        {
          "name": "stdout",
          "output_type": "stream",
          "text": [
            "['João', 'Maria', 'José', 'Cláudia', 'Ana']\n",
            "[8.0, 9.0, 10.0, 9.0, 7.0, 6.0, 3.4, 7.0, 7.0, 5.5, 6.6, 8.0, 6.0, 10.0, 9.5]\n"
          ]
        }
      ],
      "source": [
        "notas_turma = ['João', 8.0, 9.0, 10.0, 'Maria', 9.0, 7.0, 6.0, 'José', 3.4, 7.0, 7.0, 'Cláudia', 5.5, 6.6, 8.0, 'Ana', 6.0, 10.0, 9.5]\n",
        "nomes = []\n",
        "notas_juntas = []\n",
        "\n",
        "for i in range (len(notas_turma)):\n",
        "  if i % 4 == 0:\n",
        "    nomes.append(notas_turma[i])\n",
        "  else:\n",
        "    notas_juntas.append(notas_turma[i])\n",
        "\n",
        "print(nomes)\n",
        "print(notas_juntas)"
      ]
    },
    {
      "cell_type": "code",
      "execution_count": null,
      "metadata": {
        "colab": {
          "base_uri": "https://localhost:8080/"
        },
        "id": "pE8hHhPaMTLW",
        "outputId": "2e4b679f-7981-442c-e389-f63230fb483b"
      },
      "outputs": [
        {
          "name": "stdout",
          "output_type": "stream",
          "text": [
            "['João', [8.0, 9.0, 10.0], 'Maria', [9.0, 7.0, 6.0], 'José', [3.4, 7.0, 7.0], 'Cláudia', [5.5, 6.6, 8.0], 'Ana', [6.0, 10.0, 9.5]]\n"
          ]
        }
      ],
      "source": [
        "notas = []\n",
        "index = 0\n",
        "for i in range (0, len(notas_juntas), 3):\n",
        "  notas.append(nomes[index])\n",
        "  notas.append([notas_juntas[i], notas_juntas[i + 1], notas_juntas[i+2]])\n",
        "  index += 1\n",
        "print(notas)\n",
        "\n"
      ]
    },
    {
      "cell_type": "markdown",
      "metadata": {
        "id": "HWTgRVIHOZ9A"
      },
      "source": [
        "Situação 7\n",
        "Nesta nova demanda, precisamos gerar uma lista de tuplas com os nomes dos estudantes e o código ID de cada um para a plataforma de análise dos dados. A criação do código consiste em concatenar a primeira letra do nome do estudante a um número aleatório de 0 a 999. Os dados recebidos correspondem a uma lista dos nomes de cada estudante.\n",
        "```\n",
        "estudantes = [\"João\", \"Maria\", \"José\", \"Cláudia\", \"Ana\"]\n",
        "estudantes\n",
        "```\n"
      ]
    },
    {
      "cell_type": "code",
      "execution_count": null,
      "metadata": {
        "colab": {
          "base_uri": "https://localhost:8080/"
        },
        "id": "CjeG4h6h4ibk",
        "outputId": "b0e6fce1-19d1-43ae-d96e-231b6a1bdec9"
      },
      "outputs": [
        {
          "data": {
            "text/plain": [
              "[('João', 'J753'),\n",
              " ('Maria', 'M741'),\n",
              " ('José', 'J863'),\n",
              " ('Cláudia', 'C783'),\n",
              " ('Ana', 'A155')]"
            ]
          },
          "execution_count": 43,
          "metadata": {},
          "output_type": "execute_result"
        }
      ],
      "source": [
        "from random import choice\n",
        "\n",
        "estudantes = [\"João\", \"Maria\", \"José\", \"Cláudia\", \"Ana\"]\n",
        "\n",
        "def gera_codigo():\n",
        "  return str(choice(range(0, 999)))\n",
        "\n",
        "for aluno in estudantes:\n",
        "  codigos_estudantes.append((aluno, aluno[0] + gera_codigo()))\n",
        "\n",
        "codigos_estudantes\n",
        "\n",
        "\n",
        "\n",
        "\n",
        "\n",
        "\n",
        "\n"
      ]
    },
    {
      "cell_type": "markdown",
      "metadata": {
        "id": "WDmza8zByY5_"
      },
      "source": [
        "## **List comprehension**"
      ]
    },
    {
      "cell_type": "markdown",
      "metadata": {
        "id": "k5XKpk3QvzZa"
      },
      "source": [
        "A List comprehension é uma forma simples e concisa de criar listas, sendo que essas listas seguirão alguns padrões, via condicionais, laços e outras expressões.\n",
        "\n",
        "formato padrao:\n",
        "\n",
        "```\n",
        "[expressão for item in lista]\n",
        "\n",
        "```\n",
        "\n"
      ]
    },
    {
      "cell_type": "markdown",
      "metadata": {
        "id": "F7Zkc3zIv9Zk"
      },
      "source": [
        "**Situação 8**\n",
        "\n",
        "Recebemos a demanda de criar uma lista com as médias dos estudantes da lista de listas que criamos na Situação 6. Lembrando que cada lista da lista de listas possui as três notas de cada estudante.\n",
        "\n",
        "```\n",
        "notas = [[8.0, 9.0, 10.0], [9.0, 7.0, 6.0], [3.4, 7.0, 7.0], [5.5, 6.6, 8.0], [6.0, 10.0, 9.5]]\n",
        "\n",
        "```\n",
        "\n"
      ]
    },
    {
      "cell_type": "code",
      "execution_count": null,
      "metadata": {
        "id": "54xpg6IGw9Ss"
      },
      "outputs": [],
      "source": [
        "notas = [[8.0, 9.0, 10.0], [9.0, 7.0, 6.0], [3.4, 7.0, 7.0], [5.5, 6.6, 8.0], [6.0, 10.0, 9.5]]\n",
        "\n",
        "def media(lista: list=[0]) -> float:\n",
        "  calculo = sum(lista) / len(lista)\n",
        "  return calculo"
      ]
    },
    {
      "cell_type": "code",
      "execution_count": null,
      "metadata": {
        "colab": {
          "base_uri": "https://localhost:8080/"
        },
        "id": "cOuxMogN0zpO",
        "outputId": "1fe8526c-b043-49f3-bb2c-6d047df85afe"
      },
      "outputs": [
        {
          "data": {
            "text/plain": [
              "[9.0, 7.3, 5.8, 6.7, 8.5]"
            ]
          },
          "execution_count": 22,
          "metadata": {},
          "output_type": "execute_result"
        }
      ],
      "source": [
        "medias = [round(media(nota), 1) for nota in notas]\n",
        "medias"
      ]
    },
    {
      "cell_type": "markdown",
      "metadata": {
        "id": "dEEoJsfWz-yZ"
      },
      "source": [
        "**Situação 9**\n",
        "\n",
        "Agora, precisamos utilizar as médias calculadas no exemplo anterior, pareando com o nome dos estudantes. Isto será necessário para gerar uma lista que selecione aqueles estudantes que possuam uma média final maior ou igual a 8 para concorrer a uma bolsa para o próximo ano letivo.\n",
        "\n",
        "Os dados recebidos correspondem a uma lista de tuplas com os nomes e códigos dos estudantes e a lista de médias calculadas logo acima.\n",
        "\n",
        "```\n",
        "nomes = [('João', 'J720'), ('Maria', 'M205'), ('José', 'J371'), ('Cláudia', 'C546'), ('Ana', 'A347')]\n",
        "medias = [9.0, 7.3, 5.8, 6.7, 8.5]\n",
        "```\n",
        "\n"
      ]
    },
    {
      "cell_type": "code",
      "execution_count": null,
      "metadata": {
        "colab": {
          "base_uri": "https://localhost:8080/"
        },
        "id": "LakJdfqJ1FSB",
        "outputId": "7a54eb44-0ac2-4b85-8a9b-1511be797b68"
      },
      "outputs": [
        {
          "data": {
            "text/plain": [
              "[['João'], ['Ana']]"
            ]
          },
          "execution_count": 1,
          "metadata": {},
          "output_type": "execute_result"
        }
      ],
      "source": [
        "nomes = [('João', 'J720'), ('Maria', 'M205'), ('José', 'J371'), ('Cláudia', 'C546'), ('Ana', 'A347')]\n",
        "medias = [9.0, 7.3, 5.8, 6.7, 8.5]\n",
        "\n",
        "nomes = [[nome[0]] for nome in nomes]\n",
        "\n",
        "'''\n",
        "for i in range(0, len(medias)):\n",
        "  nomes[i].append(medias[i])\n",
        "  '''\n",
        "# ao invés de usar um loop FOR, podemos usar a função zip()\n",
        "estudantes = list(zip(nomes, medias))\n",
        "\n",
        "aprovados = [estudante[0] for estudante in estudantes if estudante[1] > 8]\n",
        "\n",
        "aprovados\n",
        "\n",
        "\n",
        "\n"
      ]
    },
    {
      "cell_type": "markdown",
      "metadata": {
        "id": "0E30lFDz2EW6"
      },
      "source": [
        "**Situação 10**\n",
        "\n",
        "Recebemos duas demandas a respeito desse projeto com as notas dos estudantes:\n",
        "\n",
        "Criar uma lista da situação dos estudantes em que caso sua média seja maior ou igual a 6 receberá o valor \"Aprovado\" e caso contrário receberá o valor \"Reprovado\".\n",
        "\n",
        "**Gerar uma lista de listas com:**\n",
        "\n",
        "Lista da situação dos estudantes de acordo com as médias.\n",
        "\n",
        "Os dados que utilizaremos são os mesmos que geramos nas situações anteriores (nomes, notas, medias).\n",
        "\n",
        "```\n",
        "nomes = [('João', 'J720'), ('Maria', 'M205'), ('José', 'J371'), ('Cláudia', 'C546'), ('Ana', 'A347')]\n",
        "notas = [[8.0, 9.0, 10.0], [9.0, 7.0, 6.0], [3.4, 7.0, 7.0], [5.5, 6.6, 8.0], [6.0, 10.0, 9.5]]\n",
        "medias = [9.0, 7.3, 5.8, 6.7, 8.5]\n",
        "\n",
        "```\n",
        "\n"
      ]
    },
    {
      "cell_type": "code",
      "execution_count": null,
      "metadata": {
        "id": "apa__H6XhbbK"
      },
      "outputs": [],
      "source": [
        "nomes = [('João', 'J720'), ('Maria', 'M205'), ('José', 'J371'), ('Cláudia', 'C546'), ('Ana', 'A347')]\n",
        "notas = [[8.0, 9.0, 10.0], [9.0, 7.0, 6.0], [3.4, 7.0, 7.0], [5.5, 6.6, 8.0], [6.0, 10.0, 9.5]]\n",
        "medias = [9.0, 7.3, 5.8, 6.7, 8.5]"
      ]
    },
    {
      "cell_type": "code",
      "execution_count": null,
      "metadata": {
        "colab": {
          "base_uri": "https://localhost:8080/"
        },
        "id": "UZnsCMlViLXZ",
        "outputId": "cf8e03ec-42b4-4764-aa25-6a2c16926186"
      },
      "outputs": [
        {
          "data": {
            "text/plain": [
              "['aprovado', 'aprovado', 'reprovado', 'aprovado', 'aprovado']"
            ]
          },
          "execution_count": 9,
          "metadata": {},
          "output_type": "execute_result"
        }
      ],
      "source": [
        "situacao = [\"aprovado\" if media >= 6 else \"reprovado\" for media in medias]\n",
        "situacao"
      ]
    },
    {
      "cell_type": "code",
      "execution_count": null,
      "metadata": {
        "colab": {
          "base_uri": "https://localhost:8080/"
        },
        "id": "CIwzLPAJwsgY",
        "outputId": "bb548fcb-fcc5-48e2-a03d-07c968cb29e1"
      },
      "outputs": [
        {
          "data": {
            "text/plain": [
              "[[('João', 'J720'),\n",
              "  ('Maria', 'M205'),\n",
              "  ('José', 'J371'),\n",
              "  ('Cláudia', 'C546'),\n",
              "  ('Ana', 'A347')],\n",
              " [[8.0, 9.0, 10.0],\n",
              "  [9.0, 7.0, 6.0],\n",
              "  [3.4, 7.0, 7.0],\n",
              "  [5.5, 6.6, 8.0],\n",
              "  [6.0, 10.0, 9.5]],\n",
              " [9.0, 7.3, 5.8, 6.7, 8.5],\n",
              " ['aprovado', 'aprovado', 'reprovado', 'aprovado', 'aprovado']]"
            ]
          },
          "execution_count": 10,
          "metadata": {},
          "output_type": "execute_result"
        }
      ],
      "source": [
        "cadastro = [nomes, notas, medias, situacao]\n",
        "cadastro"
      ]
    },
    {
      "cell_type": "code",
      "execution_count": null,
      "metadata": {
        "id": "r8depv9jxBI9"
      },
      "outputs": [],
      "source": []
    },
    {
      "cell_type": "markdown",
      "metadata": {
        "id": "9NmiiGRfxzTk"
      },
      "source": [
        "## **Dict comprehension**"
      ]
    },
    {
      "cell_type": "markdown",
      "metadata": {
        "id": "4zfYhSvDx62N"
      },
      "source": [
        "O formato padrão do Dict Comprehension é:\n",
        "\n",
        "```\n",
        "{chave: valor for item in lista}\n",
        "\n",
        "```\n",
        "\n"
      ]
    },
    {
      "cell_type": "markdown",
      "metadata": {
        "id": "Icrm4ULwyKxC"
      },
      "source": [
        "**Situação 11**\n",
        "\n",
        "Agora, a nossa demanda consiste em gerar um dicionário a partir da lista de listas que criamos na Situação 10 para passá-la à pessoa responsável por construir as tabelas, possibilitando a análise dos dados.\n",
        "\n",
        "As chaves do nosso dicionário serão as colunas identificando o tipo de dado.\n",
        "\n",
        "Os valores serão as listas com os dados correspondentes àquela chave.\n",
        "\n",
        "*Isso é muito comum na ciência de dados, inclusive quando trabalhamos com estruturas como dataframes, uma forma de apresentação do dado com tabelas. Aqui, não aprenderemos todo esse ferramental, mas entenderemos um pouco de como funciona a construção desse tipo de estrutura.*"
      ]
    },
    {
      "cell_type": "code",
      "execution_count": null,
      "metadata": {
        "id": "OCstEufOx2u-"
      },
      "outputs": [],
      "source": [
        "lista_completa = [[('João', 'J720'), ('Maria', 'M205'), ('José', 'J371'), ('Cláudia', 'C546'), ('Ana', 'A347')],\n",
        "                  [[8.0, 9.0, 10.0], [9.0, 7.0, 6.0], [3.4, 7.0, 7.0], [5.5, 6.6, 8.0], [6.0, 10.0, 9.5]],\n",
        "                  [9.0, 7.3, 5.8, 6.7, 8.5],\n",
        "                  ['Aprovado', 'Aprovado', 'Reprovado', 'Aprovado', 'Aprovado']]"
      ]
    },
    {
      "cell_type": "code",
      "execution_count": null,
      "metadata": {
        "colab": {
          "base_uri": "https://localhost:8080/"
        },
        "id": "ZcinOiVZyT3S",
        "outputId": "820b6d89-e1c2-430a-82c2-3744791120a5"
      },
      "outputs": [
        {
          "data": {
            "text/plain": [
              "['Notas', 'Média Final', 'Situação']"
            ]
          },
          "execution_count": 24,
          "metadata": {},
          "output_type": "execute_result"
        }
      ],
      "source": [
        "coluna = [\"Notas\", \"Média Final\", \"Situação\"]\n",
        "coluna"
      ]
    },
    {
      "cell_type": "code",
      "execution_count": null,
      "metadata": {
        "colab": {
          "base_uri": "https://localhost:8080/"
        },
        "id": "kCFhbBpyztpS",
        "outputId": "10e903f1-bbb0-4da9-9cfb-09722ddbe0b8"
      },
      "outputs": [
        {
          "data": {
            "text/plain": [
              "{'Notas': [[8.0, 9.0, 10.0],\n",
              "  [9.0, 7.0, 6.0],\n",
              "  [3.4, 7.0, 7.0],\n",
              "  [5.5, 6.6, 8.0],\n",
              "  [6.0, 10.0, 9.5]],\n",
              " 'Média Final': [9.0, 7.3, 5.8, 6.7, 8.5],\n",
              " 'Situação': ['Aprovado', 'Aprovado', 'Reprovado', 'Aprovado', 'Aprovado']}"
            ]
          },
          "execution_count": 26,
          "metadata": {},
          "output_type": "execute_result"
        }
      ],
      "source": [
        "cadastro = {coluna[i]: lista_completa[i+1] for i in range(len(coluna))}\n",
        "cadastro"
      ]
    },
    {
      "cell_type": "code",
      "execution_count": null,
      "metadata": {
        "colab": {
          "base_uri": "https://localhost:8080/"
        },
        "id": "n8KV3g1m0Yhr",
        "outputId": "8e77f537-7a0d-4a1a-932b-5db5ba940b56"
      },
      "outputs": [
        {
          "data": {
            "text/plain": [
              "{'Notas': [[8.0, 9.0, 10.0],\n",
              "  [9.0, 7.0, 6.0],\n",
              "  [3.4, 7.0, 7.0],\n",
              "  [5.5, 6.6, 8.0],\n",
              "  [6.0, 10.0, 9.5]],\n",
              " 'Média Final': [9.0, 7.3, 5.8, 6.7, 8.5],\n",
              " 'Situação': ['Aprovado', 'Aprovado', 'Reprovado', 'Aprovado', 'Aprovado'],\n",
              " 'Estudante': ['João', 'Maria', 'José', 'Cláudia', 'Ana']}"
            ]
          },
          "execution_count": 27,
          "metadata": {},
          "output_type": "execute_result"
        }
      ],
      "source": [
        "cadastro[\"Estudante\"] = [item[0] for item in lista_completa[0]]\n",
        "cadastro"
      ]
    },
    {
      "cell_type": "markdown",
      "metadata": {
        "id": "36PD_G80BqcS"
      },
      "source": [
        "## Aquecimento"
      ]
    },
    {
      "cell_type": "markdown",
      "metadata": {
        "id": "qac8mu_iBtyb"
      },
      "source": [
        "**1. Crie um código para imprimir a soma dos elementos de cada uma das listas contidas na seguinte lista:**"
      ]
    },
    {
      "cell_type": "code",
      "execution_count": null,
      "metadata": {
        "id": "oHER24zqBvlM"
      },
      "outputs": [],
      "source": [
        "lista_de_listas = [[4,6,5,9], [1,0,7,2], [3,4,1,8]]"
      ]
    },
    {
      "cell_type": "code",
      "execution_count": null,
      "metadata": {
        "colab": {
          "base_uri": "https://localhost:8080/"
        },
        "id": "otmf4W7HBvMi",
        "outputId": "fd16c978-1d3f-4b87-8b91-cb5b2d1af5ca"
      },
      "outputs": [
        {
          "data": {
            "text/plain": [
              "[24, 10, 16]"
            ]
          },
          "execution_count": 10,
          "metadata": {},
          "output_type": "execute_result"
        }
      ],
      "source": [
        "soma_da_lista = [sum(conjunto) for conjunto in lista_de_listas]\n",
        "soma_da_lista"
      ]
    },
    {
      "cell_type": "markdown",
      "metadata": {
        "id": "jof89l7xCn_K"
      },
      "source": [
        "**2. Crie um código para gerar uma lista que armazena o terceiro elemento de cada tupla contida na seguinte lista de tuplas:**"
      ]
    },
    {
      "cell_type": "code",
      "execution_count": null,
      "metadata": {
        "id": "OqE-ghy2DIzC"
      },
      "outputs": [],
      "source": [
        "lista_de_tuplas = [('Pedro', 1.74, 81), ('Júlia', 1.65, 67), ('Otávio', 1.81, 83)]\n"
      ]
    },
    {
      "cell_type": "code",
      "execution_count": null,
      "metadata": {
        "colab": {
          "base_uri": "https://localhost:8080/"
        },
        "id": "Y8vjAsGwDJH9",
        "outputId": "f4158ad0-5ef5-45b9-add9-61c824a2a1d6"
      },
      "outputs": [
        {
          "data": {
            "text/plain": [
              "[81, 67, 83]"
            ]
          },
          "execution_count": 12,
          "metadata": {},
          "output_type": "execute_result"
        }
      ],
      "source": [
        "idade = [elemento[2] for elemento in lista_de_tuplas]\n",
        "idade"
      ]
    },
    {
      "cell_type": "markdown",
      "metadata": {
        "id": "Dw9HxKT0DU8O"
      },
      "source": [
        "**3. A partir da lista: lista = ['Pedro', 'Júlia', 'Otávio', 'Eduardo'], crie um código para gerar uma lista de tuplas em que cada tupla tenha o primeiro elemento como a posição do nome na lista original e o segundo elemento sendo o próprio nome.**"
      ]
    },
    {
      "cell_type": "code",
      "execution_count": null,
      "metadata": {
        "colab": {
          "base_uri": "https://localhost:8080/"
        },
        "id": "RBmLrx5oDYiJ",
        "outputId": "e3d0a7ba-74d1-452d-e802-d50744e5b834"
      },
      "outputs": [
        {
          "data": {
            "text/plain": [
              "[(0, 'Pedro'), (1, 'Júlia'), (2, 'Otávio'), (3, 'Eduardo')]"
            ]
          },
          "execution_count": 18,
          "metadata": {},
          "output_type": "execute_result"
        }
      ],
      "source": [
        " lista = ['Pedro', 'Júlia', 'Otávio', 'Eduardo']\n",
        "\n",
        " posicoes = [(i, lista[i]) for i in range(len(lista))]\n",
        "posicoes"
      ]
    },
    {
      "cell_type": "markdown",
      "metadata": {
        "id": "3Bxyl3LSDyqV"
      },
      "source": [
        "**4. Crie uma lista usando o list comprehension que armazena somente o valor numérico de cada tupla caso o primeiro elemento seja 'Apartamento', a partir da seguinte lista de tuplas:**"
      ]
    },
    {
      "cell_type": "code",
      "execution_count": null,
      "metadata": {
        "colab": {
          "base_uri": "https://localhost:8080/"
        },
        "id": "FT5o8SXpEPaq",
        "outputId": "c814de66-0096-4d9a-b1fb-308f8524efbc"
      },
      "outputs": [
        {
          "data": {
            "text/plain": [
              "[1700, 1400, 1900]"
            ]
          },
          "execution_count": 20,
          "metadata": {},
          "output_type": "execute_result"
        }
      ],
      "source": [
        "aluguel = [('Apartamento', 1700), ('Apartamento', 1400), ('Casa', 2150), ('Apartamento', 1900), ('Casa', 1100)]\n",
        "\n",
        "custos = [custos[1] for custos in aluguel if custos[0] == \"Apartamento\"]\n",
        "custos"
      ]
    },
    {
      "cell_type": "markdown",
      "metadata": {
        "id": "y8dGUtnwERqM"
      },
      "source": [
        "5. Crie um dicionário usando o dict comprehension em que as chaves estão na lista `meses = ['Jan', 'Fev', 'Mar', 'Abr', 'Mai', 'Jun', 'Jul', 'Ago', 'Set', 'Out', 'Nov', 'Dez']` e os valores estão em `despesa = [860, 490, 1010, 780, 900, 630, 590, 770, 620, 560, 840, 360].`\n",
        "\n"
      ]
    },
    {
      "cell_type": "code",
      "execution_count": null,
      "metadata": {
        "colab": {
          "base_uri": "https://localhost:8080/"
        },
        "id": "LVbPn7JRFGQI",
        "outputId": "e93f8140-564c-442e-e04a-e18fbe17354e"
      },
      "outputs": [
        {
          "data": {
            "text/plain": [
              "{'Jan': 860,\n",
              " 'Fev': 490,\n",
              " 'Mar': 1010,\n",
              " 'Abr': 780,\n",
              " 'Mai': 900,\n",
              " 'Jun': 630,\n",
              " 'Jul': 590,\n",
              " 'Ago': 770,\n",
              " 'Set': 620,\n",
              " 'Out': 560,\n",
              " 'Nov': 840,\n",
              " 'Dez': 360}"
            ]
          },
          "execution_count": 22,
          "metadata": {},
          "output_type": "execute_result"
        }
      ],
      "source": [
        "meses = ['Jan', 'Fev', 'Mar', 'Abr', 'Mai', 'Jun', 'Jul', 'Ago', 'Set', 'Out', 'Nov', 'Dez']\n",
        "despesa = [860, 490, 1010, 780, 900, 630, 590, 770, 620, 560, 840, 360]\n",
        "\n",
        "dicionario_despesas = {mes: valor for mes, valor in zip(meses, despesa)}\n",
        "dicionario_despesas"
      ]
    },
    {
      "cell_type": "markdown",
      "metadata": {
        "id": "-Tv9_JUfFeRg"
      },
      "source": [
        "## Projetos"
      ]
    },
    {
      "cell_type": "markdown",
      "metadata": {
        "id": "dsqnU0rf3Eg3"
      },
      "source": [
        "**6. Uma loja possui um banco de dados com a informação de venda de cada representante e de cada ano e precisa filtrar somente os dados do ano 2022 com venda maior do que 6000. A loja forneceu uma amostra contendo apenas as colunas com os anos e os valores de venda para que você ajude a realizar a filtragem dos dados a partir de um código:**\n",
        "\n",
        "```\n",
        "#vendas = [('2023', 4093), ('2021', 4320), ('2021', 5959), ('2022', 8883), ('2023', 9859), ('2022', 5141), ('2022', 7688), ('2022', 9544), ('2023', 4794), ('2021', 7178), ('2022', 3030), ('2021', 7471), ('2022', 4226), ('2022', 8190), ('2021', 9680), ('2022', 5616)]\n",
        "```\n",
        "\n"
      ]
    },
    {
      "cell_type": "code",
      "execution_count": null,
      "metadata": {
        "id": "8xWUiG303NzG"
      },
      "outputs": [],
      "source": [
        "vendas = [('2023', 4093), ('2021', 4320), ('2021', 5959), ('2022', 8883), ('2023', 9859), ('2022', 5141), ('2022', 7688), ('2022', 9544), ('2023', 4794), ('2021', 7178), ('2022', 3030), ('2021', 7471), ('2022', 4226), ('2022', 8190), ('2021', 9680), ('2022', 5616)]\n"
      ]
    },
    {
      "cell_type": "code",
      "execution_count": null,
      "metadata": {
        "colab": {
          "base_uri": "https://localhost:8080/"
        },
        "id": "RJc9i93l3XEk",
        "outputId": "c94cef30-f75b-4d57-b073-db1dc06c252d"
      },
      "outputs": [
        {
          "data": {
            "text/plain": [
              "[('2022', 8883), ('2022', 7688), ('2022', 9544), ('2022', 8190)]"
            ]
          },
          "execution_count": 2,
          "metadata": {},
          "output_type": "execute_result"
        }
      ],
      "source": [
        "vendas_filtradas = [venda for venda in vendas if venda[0] == \"2022\" and venda[1] > 6000]\n",
        "vendas_filtradas"
      ]
    },
    {
      "cell_type": "markdown",
      "metadata": {
        "id": "eyDN8DH132wF"
      },
      "source": [
        "7. Uma clínica analisa dados de pacientes e armazena o valor numérico da glicose em um banco de dados e gostaria de rotular os dados da seguinte maneira:\n",
        "\n",
        "Glicose igual ou inferior a 70: 'Hipoglicemia'\n",
        "Glicose entre 70 a 99: 'Normal'\n",
        "Glicose entre 100 e 125: 'Alterada'\n",
        "Glicose superior a 125: 'Diabetes'\n",
        "A clínica disponibilizou parte dos valores e sua tarefa é criar uma lista de tuplas usando list comprehension contendo o rótulo e o valor da glicemia em cada tupla.\n",
        "\n",
        "```\n",
        "# glicemia = [129, 82, 60, 97, 101, 65, 62, 167, 87, 53, 58, 92, 66, 120, 109, 62, 86, 96, 103, 88, 155, 52, 89, 73]\n",
        "```\n",
        "\n"
      ]
    },
    {
      "cell_type": "code",
      "execution_count": null,
      "metadata": {
        "colab": {
          "base_uri": "https://localhost:8080/"
        },
        "id": "6TqRI9ic4A-A",
        "outputId": "921906ca-407b-4545-975f-5a144a56c3b9"
      },
      "outputs": [
        {
          "data": {
            "text/plain": [
              "[('Diabetes', 129),\n",
              " ('Normal', 82),\n",
              " ('Hipoglicemia', 60),\n",
              " ('Normal', 97),\n",
              " ('Alterada', 101),\n",
              " ('Hipoglicemia', 65),\n",
              " ('Hipoglicemia', 62),\n",
              " ('Diabetes', 167),\n",
              " ('Normal', 87),\n",
              " ('Hipoglicemia', 53),\n",
              " ('Hipoglicemia', 58),\n",
              " ('Normal', 92),\n",
              " ('Hipoglicemia', 66),\n",
              " ('Alterada', 120),\n",
              " ('Alterada', 109),\n",
              " ('Hipoglicemia', 62),\n",
              " ('Normal', 86),\n",
              " ('Normal', 96),\n",
              " ('Alterada', 103),\n",
              " ('Normal', 88),\n",
              " ('Diabetes', 155),\n",
              " ('Hipoglicemia', 52),\n",
              " ('Normal', 89),\n",
              " ('Normal', 73)]"
            ]
          },
          "execution_count": 4,
          "metadata": {},
          "output_type": "execute_result"
        }
      ],
      "source": [
        " glicemia = [129, 82, 60, 97, 101, 65, 62, 167, 87, 53, 58, 92, 66, 120, 109, 62, 86, 96, 103, 88, 155, 52, 89, 73]\n",
        "\n",
        " rotulo_glicemia = [(\"Hipoglicemia\", valor) if valor < 70 else (\"Normal\", valor) if valor >= 70 and valor <= 99 else (\"Alterada\", valor) if valor >= 100 and valor <= 125 else (\"Diabetes\", valor) for valor in glicemia]\n",
        " rotulo_glicemia"
      ]
    },
    {
      "cell_type": "markdown",
      "metadata": {
        "id": "z0DHCz1Gnhp6"
      },
      "source": [
        "8. Um e-commerce possui as informações de id de venda, quantidade vendida e preço do produto divididos nas seguintes listas:\n",
        "\n",
        "```\n",
        "id = [0, 1, 2, 3, 4, 5, 6, 7, 8, 9]\n",
        "quantidade = [15, 12, 1, 15, 2, 11, 2, 12, 2, 4]\n",
        "preco = [93.0, 102.0, 18.0, 41.0, 122.0, 14.0, 71.0, 48.0, 14.0, 144.0]\n",
        "```\n",
        "O e-commerce precisa estruturar esses dados em uma tabela contendo o valor total da venda, que é obtida multiplicando a quantidade pelo preço unitário. Além disso, a tabela precisa conter um cabeçalho indicando as colunas: 'id', 'quantidade', 'preco' e 'total'.\n",
        "\n",
        "Crie uma lista de tuplas em que cada tupla tenha id, quantidade, preço e valor total, na qual a primeira tupla é o cabeçalho da tabela.\n"
      ]
    },
    {
      "cell_type": "code",
      "execution_count": null,
      "metadata": {
        "colab": {
          "base_uri": "https://localhost:8080/"
        },
        "id": "KfuOzdmYoetL",
        "outputId": "42fed39c-3ba4-4484-ebde-858824cf3499"
      },
      "outputs": [
        {
          "data": {
            "text/plain": [
              "[('id', 'quant', 'preco', 'valor total'),\n",
              " (0, 15, 93.0, 1395.0),\n",
              " (1, 12, 102.0, 1224.0),\n",
              " (2, 1, 18.0, 18.0),\n",
              " (3, 15, 41.0, 615.0),\n",
              " (4, 2, 122.0, 244.0),\n",
              " (5, 11, 14.0, 154.0),\n",
              " (6, 2, 71.0, 142.0),\n",
              " (7, 12, 48.0, 576.0),\n",
              " (8, 2, 14.0, 28.0),\n",
              " (9, 4, 144.0, 576.0)]"
            ]
          },
          "execution_count": 22,
          "metadata": {},
          "output_type": "execute_result"
        }
      ],
      "source": [
        "id = [0, 1, 2, 3, 4, 5, 6, 7, 8, 9]\n",
        "quantidade = [15, 12, 1, 15, 2, 11, 2, 12, 2, 4]\n",
        "preco = [93.0, 102.0, 18.0, 41.0, 122.0, 14.0, 71.0, 48.0, 14.0, 144.0]\n",
        "\n",
        "tabela_vendas = [(\"id\", \"quant\", \"preco\", \"valor total\")] + [(id, quant, preco, preco*quant) for id, quant, preco in zip(id, quantidade, preco)]\n",
        "tabela_vendas"
      ]
    },
    {
      "cell_type": "code",
      "execution_count": null,
      "metadata": {
        "colab": {
          "base_uri": "https://localhost:8080/"
        },
        "id": "Ca112ImqqQRN",
        "outputId": "5244d71f-51a2-4775-f189-686ff6c8cf0e"
      },
      "outputs": [
        {
          "name": "stdout",
          "output_type": "stream",
          "text": [
            "[(0, 15, 93.0), (1, 12, 102.0), (2, 1, 18.0), (3, 15, 41.0), (4, 2, 122.0), (5, 11, 14.0), (6, 2, 71.0), (7, 12, 48.0), (8, 2, 14.0), (9, 4, 144.0)]\n"
          ]
        }
      ],
      "source": [
        "\"id = [0, 1, 2, 3, 4, 5, 6, 7, 8, 9]\n",
        "quantidade = [15, 12, 1, 15, 2, 11, 2, 12, 2, 4]\n",
        "preco = [93.0, 102.0, 18.0, 41.0, 122.0, 14.0, 71.0, 48.0, 14.0, 144.0]"
      ]
    },
    {
      "cell_type": "markdown",
      "metadata": {
        "id": "ixwlYSjuqSUp"
      },
      "source": [
        "9. Uma empresa possui filiais espalhadas nos Estados da região Sudeste do Brasil. Em uma das tabelas de cadastro das filiais há uma coluna contendo a informação de qual é o Estado a que pertence:\n",
        "\n",
        "```\n",
        "estados = ['SP', 'ES', 'MG', 'MG', 'SP', 'MG', 'ES', 'ES', 'ES', 'SP', 'SP', 'MG', 'ES', 'SP', 'RJ', 'MG', 'RJ', 'SP', 'MG', 'SP', 'ES', 'SP', 'MG']\n",
        "```\n",
        "A empresa sempre está abrindo novas filiais, de modo que a tabela está constantemente recebendo novos registros e o gestor gostaria de possuir a informação atualizada da quantidade de filiais em cada Estado.\n",
        "\n",
        "A partir da coluna com a informação dos Estados, crie um dicionário usando dict comprehension com a chave sendo o nome de um Estado e o valor sendo a contagem de vezes em que o Estado aparece na lista.\n"
      ]
    },
    {
      "cell_type": "code",
      "execution_count": null,
      "metadata": {
        "colab": {
          "base_uri": "https://localhost:8080/"
        },
        "id": "0TPlvRFYsYwE",
        "outputId": "e2bf31cc-37fc-4a04-93b2-19f19274e2ee"
      },
      "outputs": [
        {
          "data": {
            "text/plain": [
              "{'SP': 8, 'ES': 6, 'MG': 7, 'RJ': 2}"
            ]
          },
          "execution_count": 53,
          "metadata": {},
          "output_type": "execute_result"
        }
      ],
      "source": [
        "estados = ['SP', 'ES', 'MG', 'MG', 'SP', 'MG', 'ES', 'ES', 'ES', 'SP', 'SP', 'MG', 'ES', 'SP', 'RJ', 'MG', 'RJ', 'SP', 'MG', 'SP', 'ES', 'SP', 'MG']\n",
        "\n",
        "sudeste = [\"SP\", \"ES\", \"MG\", \"RJ\"]\n",
        "\n",
        "estados_contagem = {estado: (estados.count(estado)) for estado in sudeste}\n",
        "estados_contagem"
      ]
    },
    {
      "cell_type": "markdown",
      "metadata": {
        "id": "UepNib_TwOAU"
      },
      "source": [
        "10. Nessa mesma tabela de cadastro de filiais, há uma coluna com as informações da quantidade de pessoas colaboradoras e o(a) gestor(a) gostaria de ter um agrupamento da soma dessas pessoas para cada estado. As informações contidas na tabela são:\n",
        "\n",
        "```\n",
        "funcionarios = [('SP', 16), ('ES', 8), ('MG', 9), ('MG', 6), ('SP', 10), ('MG', 4), ('ES',9), ('ES', 7), ('ES', 12), ('SP', 7), ('SP', 11), ('MG',8), ('ES',8), ('SP',9), ('RJ', 13), ('MG', 5), ('RJ', 9), ('SP', 12), ('MG', 10), ('SP', 7), ('ES', 14), ('SP', 10), ('MG', 12)]\n",
        "```\n",
        "A partir da lista de tuplas, crie um dicionário em que as chaves são os nomes dos Estados únicos e os valores são as listas com o número de colaboradores(as) referentes ao Estado. Crie também um dicionário em que as chaves são os nomes dos Estados e os valores são a soma de colaboradores(as) por Estado.\n"
      ]
    },
    {
      "cell_type": "markdown",
      "metadata": {
        "id": "Y_QiLx4Vu0jH"
      },
      "source": [
        "**-------------------------------------------------------------------------PRECISEI DE AJUDA------------------------------------------------------------------**"
      ]
    },
    {
      "cell_type": "code",
      "execution_count": null,
      "metadata": {
        "colab": {
          "base_uri": "https://localhost:8080/"
        },
        "id": "b-lK3sseEF38",
        "outputId": "093463d6-f4e9-4cb1-bc67-fc10ef87249e"
      },
      "outputs": [
        {
          "data": {
            "text/plain": [
              "{'SP': 82, 'ES': 58, 'MG': 54, 'RJ': 22}"
            ]
          },
          "execution_count": 13,
          "metadata": {},
          "output_type": "execute_result"
        }
      ],
      "source": [
        "funcionarios = [('SP', 16), ('ES', 8), ('MG', 9), ('MG', 6), ('SP', 10), ('MG', 4), ('ES',9), ('ES', 7), ('ES', 12), ('SP', 7), ('SP', 11), ('MG',8), ('ES',8), ('SP',9), ('RJ', 13), ('MG', 5), ('RJ', 9), ('SP', 12), ('MG', 10), ('SP', 7), ('ES', 14), ('SP', 10), ('MG', 12)]\n",
        "\n",
        "sudeste = [\"SP\", \"ES\", \"MG\", \"RJ\"]\n",
        "\n",
        "contagem = {func[0]:0 for func in funcionarios}\n",
        "\n",
        "for func in funcionarios:\n",
        "  contagem[func[0]] += func[1]\n",
        "\n",
        "contagem"
      ]
    },
    {
      "cell_type": "markdown",
      "metadata": {
        "id": "CpZFRApXqZSa"
      },
      "source": [
        "# **LIDANDO COM EXCEÇÕES**"
      ]
    },
    {
      "cell_type": "markdown",
      "metadata": {
        "id": "gCyZcJFEAJZ4"
      },
      "source": [
        "## Try - except"
      ]
    },
    {
      "cell_type": "markdown",
      "metadata": {
        "id": "gdtsl7J_AQSZ"
      },
      "source": [
        "A estrutura try-except em Python permite que um bloco de código seja executado e, se uma exceção ocorrer durante essa execução, o controle é transferido para outro bloco de código para lidar com a exceção. Se nenhuma exceção ocorrer, o código na cláusula try é executado completamente e o programa segue adiante. O bloco except é acionado apenas se uma exceção for lançada no bloco try. A exceção pode ser nomeada ou genérica. Se nomeada, é possível capturar informações sobre a exceção para lidar com ela adequadamente. Caso contrário, um bloco except genérico pode ser usado para lidar com qualquer tipo de exceção.\n",
        "\n",
        "```\n",
        "except <nome_da_excecao as e>:\n",
        "```\n",
        "\n",
        "\n",
        "\n",
        "\n",
        "\n",
        "\n",
        "\n"
      ]
    },
    {
      "cell_type": "markdown",
      "metadata": {
        "id": "pVwvOX3JAblR"
      },
      "source": [
        "*Situação 12:* Você criou um código que lê um dicionário com as notas dos estudantes e quis retornar a lista de notas de determinado(a) estudante. Caso o(a) estudante não esteja matriculado(a) na turma, devemos tratar a exceção para aparecer a mensagem \"Estudante não matriculado(a) na turma\". Vamos trabalhar nesse exemplo com a exceção Key Error que interromperá o processo desse pedaço do código. Vamos testar esse primeiro tratamento?"
      ]
    },
    {
      "cell_type": "code",
      "execution_count": null,
      "metadata": {
        "colab": {
          "base_uri": "https://localhost:8080/"
        },
        "id": "bwUvjClmBSgD",
        "outputId": "66966160-bd8d-43e3-def0-f3fa987bf75e"
      },
      "outputs": [
        {
          "name": "stdout",
          "output_type": "stream",
          "text": [
            "Digite um nome de um estudante: Felipão\n",
            "Estudante não matriculado(a) na turma\n"
          ]
        }
      ],
      "source": [
        "notas = {'João': [8.0, 9.0, 10.0], 'Maria': [9.0, 7.0, 6.0], 'José': [3.4, 7.0, 8.0],'Cláudia': [5.5, 6.6, 8.0], 'Ana': [6.0, 10.0, 9.5], 'Joaquim': [5.5, 7.5, 9.0], 'Júlia': [6.0, 8.0, 7.0], 'Pedro': [3.0, 4.0, 6.0]}\n",
        "\n",
        "try:\n",
        "  retorno = input(\"Digite um nome de um estudante: \")\n",
        "  resultado = notas[retorno]\n",
        "except KeyError:\n",
        "  print(\"Estudante não matriculado(a) na turma\")\n",
        "else:\n",
        "  print(resultado)"
      ]
    },
    {
      "cell_type": "markdown",
      "metadata": {
        "id": "goqmiDS6I4Fo"
      },
      "source": [
        "## **Finally**"
      ]
    },
    {
      "cell_type": "markdown",
      "metadata": {
        "id": "VWDm4oILKAHr"
      },
      "source": [
        "Com ou sem exceção, o Finally rodará ao fim do código."
      ]
    },
    {
      "cell_type": "markdown",
      "metadata": {
        "id": "mrzzO91vKUT6"
      },
      "source": [
        "Situação 14: Você criou um código que lê um dicionário com as notas dos estudantes e quis retornar a lista de notas de um estudante. Caso o(a) estudante não esteja matriculado(a) na classe devemos tratar a exceção para aparecer a mensagem \"Estudante não matriculado(a) na turma\" e se a exceção não for lançada devemos exibir a lista com as notas do(a) estudante. Um texto avisando que \"A consulta foi encerrada!\" deve ser exibido com ou sem a exceção ser lançada. Vamos trabalhar nesse exemplo com a exceção Key Error que interromperá o processo desse pedaço do codigo. Vamos testar esse tratamento?"
      ]
    },
    {
      "cell_type": "code",
      "execution_count": null,
      "metadata": {
        "colab": {
          "base_uri": "https://localhost:8080/"
        },
        "id": "9zwi3DlVKXzn",
        "outputId": "e6440ad3-8cce-4248-9907-150fdb4de069"
      },
      "outputs": [
        {
          "name": "stdout",
          "output_type": "stream",
          "text": [
            "Digite um nome de um estudante: Felipão\n",
            "Estudante não matriculado(a) na turma\n",
            "A consulta foi encerrada!\n"
          ]
        }
      ],
      "source": [
        "notas = {'João': [8.0, 9.0, 10.0], 'Maria': [9.0, 7.0, 6.0], 'José': [3.4, 7.0, 8.0],'Cláudia': [5.5, 6.6, 8.0], 'Ana': [6.0, 10.0, 9.5], 'Joaquim': [5.5, 7.5, 9.0], 'Júlia': [6.0, 8.0, 7.0], 'Pedro': [3.0, 4.0, 6.0]}\n",
        "\n",
        "try:\n",
        "  retorno = input(\"Digite um nome de um estudante: \")\n",
        "  resultado = notas[retorno]\n",
        "except KeyError:\n",
        "  print(\"Estudante não matriculado(a) na turma\")\n",
        "else:\n",
        "  print(resultado)\n",
        "finally:\n",
        "  print(\"A consulta foi encerrada!\")"
      ]
    },
    {
      "cell_type": "code",
      "execution_count": null,
      "metadata": {
        "id": "HG8NR0FwQwQ5"
      },
      "outputs": [],
      "source": []
    },
    {
      "cell_type": "markdown",
      "metadata": {
        "id": "jgfcHDbJR5iE"
      },
      "source": [
        "## **Raise**"
      ]
    },
    {
      "cell_type": "markdown",
      "metadata": {
        "id": "B7wfGAg9R7wQ"
      },
      "source": [
        "Outra forma de trabalhar com exceções, é criar uma própria pensando em um comportamento que não queremos que ocorra em nosso programa. Para isso, usamos a palavra-chave raise que permitirá que lancemos uma exceção.\n",
        "\n",
        "```\n",
        "raise ValueError(\"A lista de notas deve possuir dez elementos\")\n",
        "```\n",
        "\n"
      ]
    },
    {
      "cell_type": "markdown",
      "metadata": {
        "id": "jpmKkZC1SEwL"
      },
      "source": [
        "Situação 15: Você criou uma função para calcular a média de um estudante em uma dada matéria passando em uma lista as notas deste estudante. Você pretende tratar 2 situações:\n",
        "\n",
        "\n",
        "\n",
        "*   Se a lista possuir um valor não numérico o cálculo de média não serà executado e uma mensagem de \"Não foi possível calcular a média do(a) estudante. Só são aceitos valores numéricos!\" será exibida.\n",
        "*   Caso a lista tenha mais de 4 notas, será lançada uma exceção do tipo ValueError informando que \"A lista não pode possuir mais de 4 notas.\"\n",
        "\n",
        "Um texto avisando que \"A consulta foi encerrada!\" deve ser exibido com ou sem a exceção ser lançada. Vamos resolver esse desafio?\n",
        "\n"
      ]
    },
    {
      "cell_type": "code",
      "execution_count": null,
      "metadata": {
        "id": "GR8k3kujSiJ6"
      },
      "outputs": [],
      "source": [
        "def media(lista: list=[0]) -> float:\n",
        "  calculo = sum(lista) / len(lista)\n",
        "  if len(lista) > 4:\n",
        "    raise ValueError(\"A lista não pode possuir mais de 4 notas.\")\n",
        "  return calculo"
      ]
    },
    {
      "cell_type": "code",
      "execution_count": null,
      "metadata": {
        "colab": {
          "base_uri": "https://localhost:8080/"
        },
        "id": "u4vGpMttyvIc",
        "outputId": "f7b562b7-2bd1-4a2c-e652-f6e624e6d639"
      },
      "outputs": [
        {
          "name": "stdout",
          "output_type": "stream",
          "text": [
            "A lista não pode possuir mais de 4 notas.\n",
            "A consulta foi encerrada!\n"
          ]
        }
      ],
      "source": [
        "try:\n",
        "  notas = [6.0, 5.5, 7.8, 7.0, 8.0]\n",
        "  resultado = media(notas)\n",
        "  print(resultado)\n",
        "except TypeError:\n",
        "  print(\"Não foi possível calcular a média do(a) estudante. Só são aceitos valores numéricos!\")\n",
        "except ValueError as e:\n",
        "  print(e)\n",
        "else:\n",
        "  print(resultado)\n",
        "finally:\n",
        "  print(\"A consulta foi encerrada!\")\n",
        "\n",
        "\n",
        "\n"
      ]
    },
    {
      "cell_type": "markdown",
      "metadata": {
        "id": "nqM_b6dzAug1"
      },
      "source": [
        "## Desafios"
      ]
    },
    {
      "cell_type": "markdown",
      "metadata": {
        "id": "wvHwW2YBAxfp"
      },
      "source": [
        "1. Faça um programa que solicite à pessoa usuária digitar dois números float e calcular a divisão entre esses números. O código deve conter um tratamento de erro, indicando o tipo de erro que foi gerado caso a divisão não seja possível de realizar.\n",
        "\n",
        "Teste o programa com o segundo valor numérico do input igual a 0. Também teste utilizando caracteres textuais no input para checar os tipos de erro que ocorrem."
      ]
    },
    {
      "cell_type": "code",
      "execution_count": null,
      "metadata": {
        "colab": {
          "base_uri": "https://localhost:8080/"
        },
        "id": "yy2j7xEoA1YW",
        "outputId": "0cfec954-c063-4401-8f3e-fed2c7300771"
      },
      "outputs": [
        {
          "name": "stdout",
          "output_type": "stream",
          "text": [
            "Digite um número: 10\n",
            "Digite outro número: felipoides\n",
            "Deve apenas inserir valores numéricos\n",
            "Programa encerrado!\n"
          ]
        }
      ],
      "source": [
        "num1 = input(\"Digite um número: \")\n",
        "num2 = input(\"Digite outro número: \")\n",
        "\n",
        "def divisao(primeiro, segundo):\n",
        "\n",
        "    primeiro = float(primeiro)\n",
        "    segundo = float(segundo)\n",
        "\n",
        "    resultado = primeiro / segundo\n",
        "    return resultado\n",
        "\n",
        "try:\n",
        "    resultado = divisao(num1, num2)\n",
        "except ZeroDivisionError:\n",
        "    print(\"Não divida por 0!\")\n",
        "except ValueError:\n",
        "  print(\"Deve apenas inserir valores numéricos\")\n",
        "else:\n",
        "    print(f\"divisão de {num1} por {num2} = {resultado}\")\n",
        "finally:\n",
        "  print(\"Programa encerrado!\")\n"
      ]
    },
    {
      "cell_type": "markdown",
      "metadata": {
        "id": "P53CwEbfKrTs"
      },
      "source": [
        "2. Faça um programa que solicite à pessoa usuária digitar um texto que será uma chave a ser pesquisada no seguinte dicionário: idades = {'Júlia': 16, 'Carol': 23, 'Alberto': 19, 'Roberta': 17}, armazenando o resultado do valor em uma variável. O código deve conter um tratamento de erro KeyError, imprimindo a informação 'Nome não encontrado', caso ocorra o erro; e imprimir o valor caso não ocorra nenhum.\n",
        "\n",
        "Teste o programa com um nome presente em uma das chaves do dicionário e com um que não esteja no dicionário para verificar a mensagem de erro."
      ]
    },
    {
      "cell_type": "code",
      "execution_count": null,
      "metadata": {
        "colab": {
          "base_uri": "https://localhost:8080/"
        },
        "id": "PewaI0JGM0St",
        "outputId": "0b3ea463-5c1b-4cd2-daca-24a3dd986cd2"
      },
      "outputs": [
        {
          "name": "stdout",
          "output_type": "stream",
          "text": [
            "Digite um nome: Júlia\n",
            "A idade de Júlia é 16\n"
          ]
        }
      ],
      "source": [
        "idades = {'Júlia': 16, 'Carol': 23, 'Alberto': 19, 'Roberta': 17}\n",
        "\n",
        "chave = input(\"Digite um nome: \")\n",
        "\n",
        "try:\n",
        "  escolha = idades[chave]\n",
        "except KeyError:\n",
        "  print(\"Nome não encontrado\")\n",
        "else:\n",
        "  print(f\"A idade de {chave} é {escolha}\")"
      ]
    },
    {
      "cell_type": "markdown",
      "metadata": {
        "id": "eK7h7IaGOi7v"
      },
      "source": [
        "3. Crie uma função que recebe uma lista como parâmetro e converta todos os valores da lista para float. A função deve conter um tratamento de erro indicando o tipo de erro gerado e retornar a lista caso não tenha ocorrido nenhum erro. Por fim, deve ter a cláusula finally para imprimir o texto: 'Fim da execução da função'."
      ]
    },
    {
      "cell_type": "code",
      "execution_count": null,
      "metadata": {
        "colab": {
          "base_uri": "https://localhost:8080/"
        },
        "id": "O7kvC3zROyQx",
        "outputId": "e590006d-534b-4e23-f47f-4596c48af937"
      },
      "outputs": [
        {
          "name": "stdout",
          "output_type": "stream",
          "text": [
            "[1.0, 2.0, 3.0, 4.0]\n",
            "Fim da execução da função\n"
          ]
        }
      ],
      "source": [
        "numeros = [1, 2, 3, 4]\n",
        "\n",
        "def converter_float(lista):\n",
        "  lista_float = list(map(lambda x: float(x), lista))\n",
        "  return lista_float\n",
        "\n",
        "try:\n",
        "  numeros_float = converter_float(numeros)\n",
        "except ValueError:\n",
        "  print(\"A lista pode conter apenas números\")\n",
        "else:\n",
        "  print(numeros_float)\n",
        "finally:\n",
        "  print(\"Fim da execução da função\")\n",
        "\n",
        "\n"
      ]
    },
    {
      "cell_type": "markdown",
      "metadata": {
        "id": "BKH1BOK7QOoT"
      },
      "source": [
        "4. Crie uma função que recebe duas listas como parâmetros e agrupe os elementos um a um das listas, formando uma lista de tuplas de 3 elementos, no qual o primeiro e segundo elemento da tupla são os valores na posição i das listas e o terceiro elemento é a soma dos valores na posição i das listas.\n",
        "\n",
        "A função deve conter um tratamento de erro indicando o tipo de erro gerado e retornar como resultado a lista de tuplas. Caso as listas enviadas como parâmetro tenham tamanhos diferentes, a função deve retornar um IndexError com a frase: 'A quantidade de elementos em cada lista é diferente.' Dados para testar a função:\n",
        "\n",
        "*   Valores sem erro:\n",
        "\n",
        "```\n",
        "lista1 = [4,6,7,9,10]\n",
        "lista2 = [-4,6,8,7,9]\n",
        "```\n",
        "\n",
        "*   Listas com tamanhos diferentes:\n",
        "\n",
        "```\n",
        "lista1 = [4,6,7,9,10,4]\n",
        "lista2 = [-4,6,8,7,9]\n",
        "```\n",
        "*   Listas com valores incoerentes:\n",
        "\n",
        "```\n",
        "lista1 = [4,6,7,9,'A']\n",
        "lista2 = [-4,'E',8,7,9]\n",
        "```\n",
        "\n",
        "\n",
        "\n",
        "\n",
        "\n"
      ]
    },
    {
      "cell_type": "code",
      "execution_count": null,
      "metadata": {
        "colab": {
          "base_uri": "https://localhost:8080/"
        },
        "id": "dq_SqJGgTGHi",
        "outputId": "ac1a1119-72c6-486d-ef6b-e27acd0a4a2b"
      },
      "outputs": [
        {
          "name": "stdout",
          "output_type": "stream",
          "text": [
            "[(4, -4, 0), (6, 6, 12), (7, 8, 15), (9, 7, 16), (10, 9, 19)]\n",
            "programa encerrado!\n"
          ]
        }
      ],
      "source": [
        "lista1 = [4,6,7,9,10]\n",
        "lista2 = [-4,6,8,7,9]\n",
        "\n",
        "def soma_lista(lista_a, lista_b):\n",
        "  tupla_lista = list(map(lambda x, y: (x, y, x+y), lista_a, lista_b))\n",
        "  if len(lista1) != len(lista2):\n",
        "    raise IndexError(\"A quantidade de elementos em cada lista é diferente.\")\n",
        "  return tupla_lista\n",
        "\n",
        "try:\n",
        "  tupla_soma = soma_lista(lista1, lista2)\n",
        "except TypeError:\n",
        "  print(\"A lista pode conter apenas números.\")\n",
        "else:\n",
        "  print(tupla_soma)\n",
        "finally:\n",
        "  print(\"programa encerrado!\")\n",
        "\n",
        "\n",
        "\n"
      ]
    },
    {
      "cell_type": "markdown",
      "metadata": {
        "id": "zmysB37NbBbe"
      },
      "source": [
        "## **Projetos**"
      ]
    },
    {
      "cell_type": "markdown",
      "metadata": {
        "id": "_s-t2QRJcUll"
      },
      "source": [
        "5. Como desafio, você recebeu a tarefa de desenvolver um código que contabiliza as pontuações de estudantes de uma instituição de ensino de acordo com suas respostas num teste. Este código deve ser testado para um exemplo de 3 estudantes com uma lista de listas em que cada lista possui as respostas de 5 questões objetivas de cada estudante. Cada questão vale um ponto e as alternativas possíveis são A, B, C ou D.\n",
        "\n",
        "Caso alguma alternativa em um dos testes não esteja entre as alternativas possíveis, você deve lançar um ValueError com a mensagem \"A alternativa [alternativa] não é uma opção de alternativa válida\". O cálculo das 3 notas só será realizado mediante as entradas com as alternativas A, B, C ou D em todos os testes. Se não for lançada a exceção, será exibida uma lista com as notas em cada teste.\n",
        "\n",
        "Os dados para o teste do código são:\n",
        "\n",
        "\n",
        "*  Gabarito da prova:\n",
        "\n",
        "```\n",
        "gabarito = ['D', 'A', 'B', 'C', 'A']\n",
        "```\n",
        "Abaixo temos 2 listas de listas que você pode usar como teste\n",
        "\n",
        "*   Notas sem excessao:\n",
        "\n",
        "```\n",
        "testes_sem_ex = [['D', 'A', 'B', 'C', 'A'], ['C', 'A', 'A', 'C', 'A'], ['D', 'B', 'A', 'C', 'A']]\n",
        "```\n",
        "\n",
        "\n",
        "*   Notas com exceção:\n",
        "\n",
        "```\n",
        "testes_com_ex = [['D', 'A', 'B', 'C', 'A'], ['C', 'A', 'A', 'E', 'A'], ['D', 'B', 'A', 'C', 'A']]\n",
        "```\n",
        "\n",
        "\n",
        "\n",
        "\n",
        "\n",
        "\n",
        "\n"
      ]
    },
    {
      "cell_type": "code",
      "execution_count": null,
      "metadata": {
        "colab": {
          "base_uri": "https://localhost:8080/"
        },
        "id": "RmIAWp6pcq1y",
        "outputId": "575ef33e-d5d4-4bb2-e8c2-8f1377259221"
      },
      "outputs": [
        {
          "name": "stdout",
          "output_type": "stream",
          "text": [
            "[5, 3, 3]\n"
          ]
        }
      ],
      "source": [
        "gabarito = ['D', 'A', 'B', 'C', 'A']\n",
        "testes_sem_ex = [['D', 'A', 'B', 'C', 'A'], ['C', 'A', 'A', 'C', 'A'], ['D', 'B', 'A', 'C', 'A']]\n",
        "\n",
        "\n",
        "def avaliar_teste(gabarito, respostas_alunos):\n",
        "  lista_notas = []\n",
        "  for lista in respostas_alunos:\n",
        "    nota = 0\n",
        "\n",
        "    for i in range(len(lista)):\n",
        "      if lista[i] not in gabarito:\n",
        "        raise ValueError(f\"A alternativa {lista[i]} não é uma alternativa válida!\")\n",
        "      if lista[i] == gabarito[i]:\n",
        "        nota += 1\n",
        "\n",
        "    lista_notas.append(nota)\n",
        "  return(lista_notas)\n",
        "\n",
        "resultado = avaliar_teste(gabarito, testes_sem_ex)\n",
        "print(resultado)"
      ]
    },
    {
      "cell_type": "markdown",
      "metadata": {
        "id": "GfsrIRKhpBHz"
      },
      "source": [
        "**6.** Você está trabalhando com processamento de linguagem natural (NLP) e, dessa vez, sua líder requisitou que você criasse um trecho de código que recebe uma lista com as palavras separadas de uma frase gerada pelo ChatGPT.\n",
        "\n",
        "Você precisa criar uma função que avalia cada palavra desse texto e verificar se o tratamento para retirar os símbolos de pontuação (',' '.', '!' e '?') foi realizado. Caso contrário, será lançada uma exceção do tipo ValueError apontando o 1º caso em que foi detectado o uso de uma pontuação por meio da frase \"O texto apresenta pontuações na palavra \"[palavra]\".\". Essa demanda é voltada para a análise do padrão de frases geradas pela inteligência artificial.\n",
        "\n",
        "Os dados para o teste do código são:\n",
        "\n",
        "*   Linguagem tratada:\n",
        "\n",
        "```\n",
        "lista_tratada = ['Python', 'é', 'uma', 'linguagem', 'de', 'programação', 'poderosa', 'versátil',\n",
        "                  'e', 'fácil', 'de', 'aprender', 'utilizada', 'em', 'diversos', 'campos', 'desde',\n",
        "                  'análise', 'de', 'dados', 'até', 'inteligência', 'artificial']\n",
        "```\n",
        "\n",
        "\n",
        "*   Linguagem não tratada:\n",
        "\n",
        "```\n",
        "lista_nao_tratada = ['Python', 'é', 'uma', 'linguagem', 'de', 'programação', 'poderosa,', 'versátil',\n",
        "                  'e', 'fácil,', 'de', 'aprender', 'utilizada', 'em', 'diversos', 'campos,', 'desde',\n",
        "                  'análise', 'de', 'dados', 'até', 'inteligência', 'artificial!']\n",
        "```\n",
        "\n",
        "\n",
        "\n"
      ]
    },
    {
      "cell_type": "code",
      "execution_count": null,
      "metadata": {
        "colab": {
          "base_uri": "https://localhost:8080/"
        },
        "id": "zabVLMerwyLJ",
        "outputId": "e6b3e938-f69c-4ffb-d6f1-b02f4c1d1e50"
      },
      "outputs": [
        {
          "name": "stdout",
          "output_type": "stream",
          "text": [
            "O texto não contém nenhuma pontuação.\n",
            "Programa finalizado.\n"
          ]
        }
      ],
      "source": [
        "lista_tratada = ['Python', 'é', 'uma', 'linguagem', 'de', 'programação', 'poderosa', 'versátil',\n",
        "                  'e', 'fácil', 'de', 'aprender', 'utilizada', 'em', 'diversos', 'campos', 'desde',\n",
        "                  'análise', 'de', 'dados', 'até', 'inteligência', 'artificial']\n",
        "\n",
        "lista_nao_tratada = ['Python', 'é', 'uma', 'linguagem', 'de', 'programação', 'poderosa,', 'versátil',\n",
        "                  'e', 'fácil,', 'de', 'aprender', 'utilizada', 'em', 'diversos', 'campos,', 'desde',\n",
        "                  'análise', 'de', 'dados', 'até', 'inteligência', 'artificial!']\n",
        "\n",
        "\n",
        "def tratamento_linguagem(frase):\n",
        "  pontuacao = [\"!\", \"?\", \",\", \".\"]\n",
        "  for palavra in frase:\n",
        "    for letra in palavra:\n",
        "      if letra in pontuacao:\n",
        "        raise ValueError(f'O texto apresenta pontuações na palavra \"{palavra}\"')\n",
        "\n",
        "try:\n",
        "  tratar = tratamento_linguagem(lista_tratada)\n",
        "except ValueError as e:\n",
        "  print(e)\n",
        "else:\n",
        "  print(\"O texto não contém nenhuma pontuação.\")\n",
        "finally:\n",
        "  print(\"Programa finalizado.\")\n"
      ]
    },
    {
      "cell_type": "markdown",
      "metadata": {
        "id": "PTtYLqfQyzGc"
      },
      "source": [
        "**7.** Você foi contratado(a) como uma pessoa cientista de dados para auxiliar um laboratório que faz experimentos sobre o comportamento de uma cultura de fungos. O laboratório precisa avaliar constantemente a razão (divisão) entre os dados de pressão e temperatura do ambiente controlado recolhidos durante a experimentação para definir a melhor condição para os testes.\n",
        "\n",
        "Para cumprir com a demanda, você precisa criar uma função divide_colunas que recebe os dados das colunas de pressão e temperatura (que vem no formato de listas) e gerar uma nova coluna com o resultado da divisão. Os parâmetros da função são as duas listas e você deve tratar dentro dela ao menos 2 tipos de exceções:\n",
        "\n",
        "*   Verificar se as listas têm o mesmo tamanho (ValueError)\n",
        "*   Verificar se existe alguma divisão por zero (ZeroDivisionError)\n",
        "\n",
        "Para testar a função, vamos realizar a divisão entre duas listas de dados coletados no experimento, com os valores de pressão e temperatura do ambiente controlado.\n",
        "\n",
        "Como teste, use os seguintes dados:\n",
        "\n",
        "*   Dados sem exceção:\n",
        "\n",
        "```\n",
        "pressoes = [100, 120, 140, 160, 180]\n",
        "temperaturas = [20, 25, 30, 35, 40]\n",
        "\n",
        "```\n",
        "\n",
        "*   Dados com exceção:\n",
        "\n",
        "\n",
        "\n",
        "\n",
        "\n",
        "1.    Exceção de ZeroDivisionError\n",
        "\n",
        "```\n",
        "pressoes = [60, 120, 140, 160, 180]\n",
        "temperaturas = [0, 25, 30, 35, 40]\n",
        "```\n",
        "\n",
        "2.    Exceção de ValueError\n",
        "\n",
        "```\n",
        "pressoes = [100, 120, 140, 160]\n",
        "temperaturas = [20, 25, 30, 35, 40]\n",
        "```"
      ]
    },
    {
      "cell_type": "code",
      "execution_count": null,
      "metadata": {
        "colab": {
          "base_uri": "https://localhost:8080/"
        },
        "id": "_aQgvMsp4zdY",
        "outputId": "a8172edf-84f5-41a3-b051-03ce8338519a"
      },
      "outputs": [
        {
          "name": "stdout",
          "output_type": "stream",
          "text": [
            "division by zero: A segunda lista não pode conter um valor igual a 0\n",
            "Programa encerrado.\n"
          ]
        }
      ],
      "source": [
        "pressoes = [60, 120, 140, 160, 180]\n",
        "temperaturas = [0, 25, 30, 35, 40]\n",
        "\n",
        "def divide_colunas(pressao, temperatura):\n",
        "  if len(pressao) != len(temperatura):\n",
        "    raise ValueError(\"As listas tem tamanhos diferentes.\")\n",
        "  lista_divisao = list(map(lambda x, y: round(x/y, 2) , pressao, temperatura))\n",
        "  return lista_divisao\n",
        "\n",
        "try:\n",
        "  razao = divide_colunas(pressoes, temperaturas)\n",
        "except ValueError as e:\n",
        "  print(e)\n",
        "except ZeroDivisionError as e:\n",
        "  print(f\"{e}: A segunda lista não pode conter um valor igual a 0\")\n",
        "except TypeError:\n",
        "  print(\"São aceito apenas números para divisão.\")\n",
        "else:\n",
        "  print(razao)\n",
        "finally:\n",
        "  print(\"Programa encerrado.\")\n"
      ]
    },
    {
      "cell_type": "code",
      "execution_count": null,
      "metadata": {
        "id": "QZY0iNERBMR8"
      },
      "outputs": [],
      "source": []
    }
  ],
  "metadata": {
    "colab": {
      "collapsed_sections": [
        "DUJKgrige-cW",
        "9aeAFNZlZ716",
        "gCyZcJFEAJZ4",
        "goqmiDS6I4Fo"
      ],
      "provenance": [],
      "toc_visible": true
    },
    "kernelspec": {
      "display_name": "Python 3",
      "name": "python3"
    },
    "language_info": {
      "codemirror_mode": {
        "name": "ipython",
        "version": 3
      },
      "file_extension": ".py",
      "mimetype": "text/x-python",
      "name": "python",
      "nbconvert_exporter": "python",
      "pygments_lexer": "ipython3",
      "version": "3.12.0"
    }
  },
  "nbformat": 4,
  "nbformat_minor": 0
}
