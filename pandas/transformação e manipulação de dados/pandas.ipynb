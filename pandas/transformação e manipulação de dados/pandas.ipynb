{
 "cells": [
  {
   "cell_type": "markdown",
   "metadata": {},
   "source": [
    "# Entendendo o problema #"
   ]
  },
  {
   "cell_type": "code",
   "execution_count": 209,
   "metadata": {},
   "outputs": [],
   "source": [
    "#importa a biblioteca pandas\n",
    "import pandas as pd"
   ]
  },
  {
   "cell_type": "code",
   "execution_count": 210,
   "metadata": {},
   "outputs": [],
   "source": [
    "#importa o arquivo json com os dados de cada hospedagem\n",
    "dados = pd.read_json('conteudo/dados_hospedagem.json')"
   ]
  },
  {
   "cell_type": "code",
   "execution_count": 211,
   "metadata": {},
   "outputs": [
    {
     "data": {
      "text/html": [
       "<div>\n",
       "<style scoped>\n",
       "    .dataframe tbody tr th:only-of-type {\n",
       "        vertical-align: middle;\n",
       "    }\n",
       "\n",
       "    .dataframe tbody tr th {\n",
       "        vertical-align: top;\n",
       "    }\n",
       "\n",
       "    .dataframe thead th {\n",
       "        text-align: right;\n",
       "    }\n",
       "</style>\n",
       "<table border=\"1\" class=\"dataframe\">\n",
       "  <thead>\n",
       "    <tr style=\"text-align: right;\">\n",
       "      <th></th>\n",
       "      <th>info_moveis</th>\n",
       "    </tr>\n",
       "  </thead>\n",
       "  <tbody>\n",
       "    <tr>\n",
       "      <th>0</th>\n",
       "      <td>{'avaliacao_geral': '10.0', 'experiencia_local...</td>\n",
       "    </tr>\n",
       "    <tr>\n",
       "      <th>1</th>\n",
       "      <td>{'avaliacao_geral': '10.0', 'experiencia_local...</td>\n",
       "    </tr>\n",
       "    <tr>\n",
       "      <th>2</th>\n",
       "      <td>{'avaliacao_geral': '10.0', 'experiencia_local...</td>\n",
       "    </tr>\n",
       "    <tr>\n",
       "      <th>3</th>\n",
       "      <td>{'avaliacao_geral': '10.0', 'experiencia_local...</td>\n",
       "    </tr>\n",
       "    <tr>\n",
       "      <th>4</th>\n",
       "      <td>{'avaliacao_geral': '10.0', 'experiencia_local...</td>\n",
       "    </tr>\n",
       "  </tbody>\n",
       "</table>\n",
       "</div>"
      ],
      "text/plain": [
       "                                         info_moveis\n",
       "0  {'avaliacao_geral': '10.0', 'experiencia_local...\n",
       "1  {'avaliacao_geral': '10.0', 'experiencia_local...\n",
       "2  {'avaliacao_geral': '10.0', 'experiencia_local...\n",
       "3  {'avaliacao_geral': '10.0', 'experiencia_local...\n",
       "4  {'avaliacao_geral': '10.0', 'experiencia_local..."
      ]
     },
     "execution_count": 211,
     "metadata": {},
     "output_type": "execute_result"
    }
   ],
   "source": [
    "dados.head()"
   ]
  },
  {
   "cell_type": "code",
   "execution_count": 212,
   "metadata": {},
   "outputs": [
    {
     "data": {
      "text/html": [
       "<div>\n",
       "<style scoped>\n",
       "    .dataframe tbody tr th:only-of-type {\n",
       "        vertical-align: middle;\n",
       "    }\n",
       "\n",
       "    .dataframe tbody tr th {\n",
       "        vertical-align: top;\n",
       "    }\n",
       "\n",
       "    .dataframe thead th {\n",
       "        text-align: right;\n",
       "    }\n",
       "</style>\n",
       "<table border=\"1\" class=\"dataframe\">\n",
       "  <thead>\n",
       "    <tr style=\"text-align: right;\">\n",
       "      <th></th>\n",
       "      <th>avaliacao_geral</th>\n",
       "      <th>experiencia_local</th>\n",
       "      <th>max_hospedes</th>\n",
       "      <th>descricao_local</th>\n",
       "      <th>descricao_vizinhanca</th>\n",
       "      <th>quantidade_banheiros</th>\n",
       "      <th>quantidade_quartos</th>\n",
       "      <th>quantidade_camas</th>\n",
       "      <th>modelo_cama</th>\n",
       "      <th>comodidades</th>\n",
       "      <th>taxa_deposito</th>\n",
       "      <th>taxa_limpeza</th>\n",
       "      <th>preco</th>\n",
       "    </tr>\n",
       "  </thead>\n",
       "  <tbody>\n",
       "    <tr>\n",
       "      <th>0</th>\n",
       "      <td>10.0</td>\n",
       "      <td>--</td>\n",
       "      <td>1</td>\n",
       "      <td>[This clean and comfortable one bedroom sits r...</td>\n",
       "      <td>[Lower Queen Anne is near the Seattle Center (...</td>\n",
       "      <td>[1, 1, 1, 1, 1, 1, 1, 1, 1, 1, 1, 1, 1, 1, 1, ...</td>\n",
       "      <td>[1, 1, 1, 1, 1, 1, 1, 1, 1, 1, 1, 1, 1, 1, 1, ...</td>\n",
       "      <td>[1, 1, 1, 1, 1, 1, 1, 1, 1, 1, 1, 1, 1, 1, 1, ...</td>\n",
       "      <td>[Real Bed, Futon, Futon, Pull-out Sofa, Real B...</td>\n",
       "      <td>[{Internet,\"Wireless Internet\",Kitchen,\"Free P...</td>\n",
       "      <td>[$0, $0, $0, $0, $0, $350.00, $350.00, $350.00...</td>\n",
       "      <td>[$0, $0, $0, $20.00, $15.00, $28.00, $35.00, $...</td>\n",
       "      <td>[$110.00, $45.00, $55.00, $52.00, $85.00, $50....</td>\n",
       "    </tr>\n",
       "    <tr>\n",
       "      <th>1</th>\n",
       "      <td>10.0</td>\n",
       "      <td>--</td>\n",
       "      <td>10</td>\n",
       "      <td>[Welcome to the heart of the 'Ballard Brewery ...</td>\n",
       "      <td>[--, Capital Hill is the heart of Seattle, bor...</td>\n",
       "      <td>[2, 3, 2, 3, 3, 3, 2, 1, 2, 2, 2]</td>\n",
       "      <td>[3, 4, 2, 3, 3, 3, 3, 3, 3, 4, 3]</td>\n",
       "      <td>[5, 6, 8, 3, 3, 5, 4, 5, 6, 7, 4]</td>\n",
       "      <td>[Real Bed, Real Bed, Real Bed, Real Bed, Real ...</td>\n",
       "      <td>[{TV,Internet,\"Wireless Internet\",Kitchen,\"Fre...</td>\n",
       "      <td>[$500.00, $300.00, $0, $300.00, $300.00, $360....</td>\n",
       "      <td>[$125.00, $100.00, $85.00, $110.00, $110.00, $...</td>\n",
       "      <td>[$350.00, $300.00, $425.00, $300.00, $285.00, ...</td>\n",
       "    </tr>\n",
       "    <tr>\n",
       "      <th>2</th>\n",
       "      <td>10.0</td>\n",
       "      <td>--</td>\n",
       "      <td>11</td>\n",
       "      <td>[New modern house built in 2013.  Spectacular ...</td>\n",
       "      <td>[Upper Queen Anne is a charming neighborhood f...</td>\n",
       "      <td>[4]</td>\n",
       "      <td>[5]</td>\n",
       "      <td>[7]</td>\n",
       "      <td>[Real Bed]</td>\n",
       "      <td>[{TV,\"Cable TV\",Internet,\"Wireless Internet\",\"...</td>\n",
       "      <td>[$1,000.00]</td>\n",
       "      <td>[$300.00]</td>\n",
       "      <td>[$975.00]</td>\n",
       "    </tr>\n",
       "    <tr>\n",
       "      <th>3</th>\n",
       "      <td>10.0</td>\n",
       "      <td>--</td>\n",
       "      <td>12</td>\n",
       "      <td>[Our NW style home is 3200+ sq ft with 3 level...</td>\n",
       "      <td>[The Views from our top floor!  Wallingford ha...</td>\n",
       "      <td>[3, 3, 3, 3, 3, 3, 3, 3]</td>\n",
       "      <td>[6, 6, 5, 5, 5, 5, 4, 4]</td>\n",
       "      <td>[6, 6, 7, 8, 7, 7, 6, 6]</td>\n",
       "      <td>[Real Bed, Real Bed, Real Bed, Real Bed, Real ...</td>\n",
       "      <td>[{Internet,\"Wireless Internet\",Kitchen,\"Free P...</td>\n",
       "      <td>[$500.00, $500.00, $500.00, $500.00, $500.00, ...</td>\n",
       "      <td>[$225.00, $300.00, $250.00, $250.00, $250.00, ...</td>\n",
       "      <td>[$490.00, $550.00, $350.00, $350.00, $350.00, ...</td>\n",
       "    </tr>\n",
       "    <tr>\n",
       "      <th>4</th>\n",
       "      <td>10.0</td>\n",
       "      <td>--</td>\n",
       "      <td>14</td>\n",
       "      <td>[Perfect for groups. 2 bedrooms, full bathroom...</td>\n",
       "      <td>[Safeway grocery store within walking distance...</td>\n",
       "      <td>[2, 3]</td>\n",
       "      <td>[2, 6]</td>\n",
       "      <td>[3, 9]</td>\n",
       "      <td>[Real Bed, Real Bed]</td>\n",
       "      <td>[{TV,Internet,\"Wireless Internet\",Kitchen,\"Fre...</td>\n",
       "      <td>[$300.00, $2,000.00]</td>\n",
       "      <td>[$40.00, $150.00]</td>\n",
       "      <td>[$200.00, $545.00]</td>\n",
       "    </tr>\n",
       "  </tbody>\n",
       "</table>\n",
       "</div>"
      ],
      "text/plain": [
       "  avaliacao_geral experiencia_local max_hospedes  \\\n",
       "0            10.0                --            1   \n",
       "1            10.0                --           10   \n",
       "2            10.0                --           11   \n",
       "3            10.0                --           12   \n",
       "4            10.0                --           14   \n",
       "\n",
       "                                     descricao_local  \\\n",
       "0  [This clean and comfortable one bedroom sits r...   \n",
       "1  [Welcome to the heart of the 'Ballard Brewery ...   \n",
       "2  [New modern house built in 2013.  Spectacular ...   \n",
       "3  [Our NW style home is 3200+ sq ft with 3 level...   \n",
       "4  [Perfect for groups. 2 bedrooms, full bathroom...   \n",
       "\n",
       "                                descricao_vizinhanca  \\\n",
       "0  [Lower Queen Anne is near the Seattle Center (...   \n",
       "1  [--, Capital Hill is the heart of Seattle, bor...   \n",
       "2  [Upper Queen Anne is a charming neighborhood f...   \n",
       "3  [The Views from our top floor!  Wallingford ha...   \n",
       "4  [Safeway grocery store within walking distance...   \n",
       "\n",
       "                                quantidade_banheiros  \\\n",
       "0  [1, 1, 1, 1, 1, 1, 1, 1, 1, 1, 1, 1, 1, 1, 1, ...   \n",
       "1                  [2, 3, 2, 3, 3, 3, 2, 1, 2, 2, 2]   \n",
       "2                                                [4]   \n",
       "3                           [3, 3, 3, 3, 3, 3, 3, 3]   \n",
       "4                                             [2, 3]   \n",
       "\n",
       "                                  quantidade_quartos  \\\n",
       "0  [1, 1, 1, 1, 1, 1, 1, 1, 1, 1, 1, 1, 1, 1, 1, ...   \n",
       "1                  [3, 4, 2, 3, 3, 3, 3, 3, 3, 4, 3]   \n",
       "2                                                [5]   \n",
       "3                           [6, 6, 5, 5, 5, 5, 4, 4]   \n",
       "4                                             [2, 6]   \n",
       "\n",
       "                                    quantidade_camas  \\\n",
       "0  [1, 1, 1, 1, 1, 1, 1, 1, 1, 1, 1, 1, 1, 1, 1, ...   \n",
       "1                  [5, 6, 8, 3, 3, 5, 4, 5, 6, 7, 4]   \n",
       "2                                                [7]   \n",
       "3                           [6, 6, 7, 8, 7, 7, 6, 6]   \n",
       "4                                             [3, 9]   \n",
       "\n",
       "                                         modelo_cama  \\\n",
       "0  [Real Bed, Futon, Futon, Pull-out Sofa, Real B...   \n",
       "1  [Real Bed, Real Bed, Real Bed, Real Bed, Real ...   \n",
       "2                                         [Real Bed]   \n",
       "3  [Real Bed, Real Bed, Real Bed, Real Bed, Real ...   \n",
       "4                               [Real Bed, Real Bed]   \n",
       "\n",
       "                                         comodidades  \\\n",
       "0  [{Internet,\"Wireless Internet\",Kitchen,\"Free P...   \n",
       "1  [{TV,Internet,\"Wireless Internet\",Kitchen,\"Fre...   \n",
       "2  [{TV,\"Cable TV\",Internet,\"Wireless Internet\",\"...   \n",
       "3  [{Internet,\"Wireless Internet\",Kitchen,\"Free P...   \n",
       "4  [{TV,Internet,\"Wireless Internet\",Kitchen,\"Fre...   \n",
       "\n",
       "                                       taxa_deposito  \\\n",
       "0  [$0, $0, $0, $0, $0, $350.00, $350.00, $350.00...   \n",
       "1  [$500.00, $300.00, $0, $300.00, $300.00, $360....   \n",
       "2                                        [$1,000.00]   \n",
       "3  [$500.00, $500.00, $500.00, $500.00, $500.00, ...   \n",
       "4                               [$300.00, $2,000.00]   \n",
       "\n",
       "                                        taxa_limpeza  \\\n",
       "0  [$0, $0, $0, $20.00, $15.00, $28.00, $35.00, $...   \n",
       "1  [$125.00, $100.00, $85.00, $110.00, $110.00, $...   \n",
       "2                                          [$300.00]   \n",
       "3  [$225.00, $300.00, $250.00, $250.00, $250.00, ...   \n",
       "4                                  [$40.00, $150.00]   \n",
       "\n",
       "                                               preco  \n",
       "0  [$110.00, $45.00, $55.00, $52.00, $85.00, $50....  \n",
       "1  [$350.00, $300.00, $425.00, $300.00, $285.00, ...  \n",
       "2                                          [$975.00]  \n",
       "3  [$490.00, $550.00, $350.00, $350.00, $350.00, ...  \n",
       "4                                 [$200.00, $545.00]  "
      ]
     },
     "execution_count": 212,
     "metadata": {},
     "output_type": "execute_result"
    }
   ],
   "source": [
    "#utiliza a função normalize, desacoplando os dados aninhados\n",
    "dados = pd.json_normalize(dados['info_moveis'])\n",
    "dados.head()"
   ]
  },
  {
   "cell_type": "markdown",
   "metadata": {},
   "source": [
    "## Desafios ##"
   ]
  },
  {
   "cell_type": "code",
   "execution_count": 213,
   "metadata": {},
   "outputs": [],
   "source": [
    "#importa o arquivo json com os dados das vendas dos clientes\n",
    "dados_clientes = pd.read_json('conteudo/dados_vendas_clientes.json')"
   ]
  },
  {
   "cell_type": "code",
   "execution_count": 214,
   "metadata": {},
   "outputs": [
    {
     "data": {
      "text/html": [
       "<div>\n",
       "<style scoped>\n",
       "    .dataframe tbody tr th:only-of-type {\n",
       "        vertical-align: middle;\n",
       "    }\n",
       "\n",
       "    .dataframe tbody tr th {\n",
       "        vertical-align: top;\n",
       "    }\n",
       "\n",
       "    .dataframe thead th {\n",
       "        text-align: right;\n",
       "    }\n",
       "</style>\n",
       "<table border=\"1\" class=\"dataframe\">\n",
       "  <thead>\n",
       "    <tr style=\"text-align: right;\">\n",
       "      <th></th>\n",
       "      <th>dados_vendas</th>\n",
       "    </tr>\n",
       "  </thead>\n",
       "  <tbody>\n",
       "    <tr>\n",
       "      <th>0</th>\n",
       "      <td>{'Data de venda': '06/06/2022', 'Cliente': ['@...</td>\n",
       "    </tr>\n",
       "    <tr>\n",
       "      <th>1</th>\n",
       "      <td>{'Data de venda': '07/06/2022', 'Cliente': ['I...</td>\n",
       "    </tr>\n",
       "    <tr>\n",
       "      <th>2</th>\n",
       "      <td>{'Data de venda': '08/06/2022', 'Cliente': ['I...</td>\n",
       "    </tr>\n",
       "    <tr>\n",
       "      <th>3</th>\n",
       "      <td>{'Data de venda': '09/06/2022', 'Cliente': ['J...</td>\n",
       "    </tr>\n",
       "    <tr>\n",
       "      <th>4</th>\n",
       "      <td>{'Data de venda': '10/06/2022', 'Cliente': ['M...</td>\n",
       "    </tr>\n",
       "  </tbody>\n",
       "</table>\n",
       "</div>"
      ],
      "text/plain": [
       "                                        dados_vendas\n",
       "0  {'Data de venda': '06/06/2022', 'Cliente': ['@...\n",
       "1  {'Data de venda': '07/06/2022', 'Cliente': ['I...\n",
       "2  {'Data de venda': '08/06/2022', 'Cliente': ['I...\n",
       "3  {'Data de venda': '09/06/2022', 'Cliente': ['J...\n",
       "4  {'Data de venda': '10/06/2022', 'Cliente': ['M..."
      ]
     },
     "execution_count": 214,
     "metadata": {},
     "output_type": "execute_result"
    }
   ],
   "source": [
    "dados_clientes.head()"
   ]
  },
  {
   "cell_type": "code",
   "execution_count": 215,
   "metadata": {},
   "outputs": [
    {
     "data": {
      "text/html": [
       "<div>\n",
       "<style scoped>\n",
       "    .dataframe tbody tr th:only-of-type {\n",
       "        vertical-align: middle;\n",
       "    }\n",
       "\n",
       "    .dataframe tbody tr th {\n",
       "        vertical-align: top;\n",
       "    }\n",
       "\n",
       "    .dataframe thead th {\n",
       "        text-align: right;\n",
       "    }\n",
       "</style>\n",
       "<table border=\"1\" class=\"dataframe\">\n",
       "  <thead>\n",
       "    <tr style=\"text-align: right;\">\n",
       "      <th></th>\n",
       "      <th>Data de venda</th>\n",
       "      <th>Cliente</th>\n",
       "      <th>Valor da compra</th>\n",
       "    </tr>\n",
       "  </thead>\n",
       "  <tbody>\n",
       "    <tr>\n",
       "      <th>0</th>\n",
       "      <td>06/06/2022</td>\n",
       "      <td>[@ANA _LUCIA 321, DieGO ARMANDIU 210, DieGO AR...</td>\n",
       "      <td>[R$ 836,5, R$ 573,33, R$ 392,8, R$ 512,34]</td>\n",
       "    </tr>\n",
       "    <tr>\n",
       "      <th>1</th>\n",
       "      <td>07/06/2022</td>\n",
       "      <td>[Isabely JOanes 738, Isabely JOanes 738, Isabe...</td>\n",
       "      <td>[R$ 825,31, R$ 168,07, R$ 339,18, R$ 314,69]</td>\n",
       "    </tr>\n",
       "    <tr>\n",
       "      <th>2</th>\n",
       "      <td>08/06/2022</td>\n",
       "      <td>[Isabely JOanes 738, JOãO Gabriel 671, Julya m...</td>\n",
       "      <td>[R$ 682,05, R$ 386,34, R$ 622,65, R$ 630,79]</td>\n",
       "    </tr>\n",
       "    <tr>\n",
       "      <th>3</th>\n",
       "      <td>09/06/2022</td>\n",
       "      <td>[Julya meireles 914, MaRIA Julia 444, MaRIA Ju...</td>\n",
       "      <td>[R$ 390,3, R$ 759,16, R$ 334,47, R$ 678,78]</td>\n",
       "    </tr>\n",
       "    <tr>\n",
       "      <th>4</th>\n",
       "      <td>10/06/2022</td>\n",
       "      <td>[MaRIA Julia 444, PEDRO PASCO 812, Paulo castr...</td>\n",
       "      <td>[R$ 314,24, R$ 311,15, R$ 899,16, R$ 885,24]</td>\n",
       "    </tr>\n",
       "  </tbody>\n",
       "</table>\n",
       "</div>"
      ],
      "text/plain": [
       "  Data de venda                                            Cliente  \\\n",
       "0    06/06/2022  [@ANA _LUCIA 321, DieGO ARMANDIU 210, DieGO AR...   \n",
       "1    07/06/2022  [Isabely JOanes 738, Isabely JOanes 738, Isabe...   \n",
       "2    08/06/2022  [Isabely JOanes 738, JOãO Gabriel 671, Julya m...   \n",
       "3    09/06/2022  [Julya meireles 914, MaRIA Julia 444, MaRIA Ju...   \n",
       "4    10/06/2022  [MaRIA Julia 444, PEDRO PASCO 812, Paulo castr...   \n",
       "\n",
       "                                Valor da compra  \n",
       "0    [R$ 836,5, R$ 573,33, R$ 392,8, R$ 512,34]  \n",
       "1  [R$ 825,31, R$ 168,07, R$ 339,18, R$ 314,69]  \n",
       "2  [R$ 682,05, R$ 386,34, R$ 622,65, R$ 630,79]  \n",
       "3   [R$ 390,3, R$ 759,16, R$ 334,47, R$ 678,78]  \n",
       "4  [R$ 314,24, R$ 311,15, R$ 899,16, R$ 885,24]  "
      ]
     },
     "execution_count": 215,
     "metadata": {},
     "output_type": "execute_result"
    }
   ],
   "source": [
    "#normaliza o dataframe, desacoplando os dados aninhados\n",
    "dados_clientes = pd.json_normalize(dados_clientes['dados_vendas'])\n",
    "dados_clientes.head()"
   ]
  },
  {
   "cell_type": "code",
   "execution_count": 216,
   "metadata": {},
   "outputs": [
    {
     "data": {
      "text/html": [
       "<div>\n",
       "<style scoped>\n",
       "    .dataframe tbody tr th:only-of-type {\n",
       "        vertical-align: middle;\n",
       "    }\n",
       "\n",
       "    .dataframe tbody tr th {\n",
       "        vertical-align: top;\n",
       "    }\n",
       "\n",
       "    .dataframe thead th {\n",
       "        text-align: right;\n",
       "    }\n",
       "</style>\n",
       "<table border=\"1\" class=\"dataframe\">\n",
       "  <thead>\n",
       "    <tr style=\"text-align: right;\">\n",
       "      <th></th>\n",
       "      <th>dados_locacao</th>\n",
       "    </tr>\n",
       "  </thead>\n",
       "  <tbody>\n",
       "    <tr>\n",
       "      <th>0</th>\n",
       "      <td>{'apartamento': 'A101 (blocoAP)', 'datas_combi...</td>\n",
       "    </tr>\n",
       "    <tr>\n",
       "      <th>1</th>\n",
       "      <td>{'apartamento': 'A102 (blocoAP)', 'datas_combi...</td>\n",
       "    </tr>\n",
       "    <tr>\n",
       "      <th>2</th>\n",
       "      <td>{'apartamento': 'B201 (blocoAP)', 'datas_combi...</td>\n",
       "    </tr>\n",
       "    <tr>\n",
       "      <th>3</th>\n",
       "      <td>{'apartamento': 'B202 (blocoAP)', 'datas_combi...</td>\n",
       "    </tr>\n",
       "    <tr>\n",
       "      <th>4</th>\n",
       "      <td>{'apartamento': 'C301 (blocoAP)', 'datas_combi...</td>\n",
       "    </tr>\n",
       "  </tbody>\n",
       "</table>\n",
       "</div>"
      ],
      "text/plain": [
       "                                       dados_locacao\n",
       "0  {'apartamento': 'A101 (blocoAP)', 'datas_combi...\n",
       "1  {'apartamento': 'A102 (blocoAP)', 'datas_combi...\n",
       "2  {'apartamento': 'B201 (blocoAP)', 'datas_combi...\n",
       "3  {'apartamento': 'B202 (blocoAP)', 'datas_combi...\n",
       "4  {'apartamento': 'C301 (blocoAP)', 'datas_combi..."
      ]
     },
     "execution_count": 216,
     "metadata": {},
     "output_type": "execute_result"
    }
   ],
   "source": [
    "#importa o arquivo json com os dados do pagamento dos imóveis\n",
    "dados_condominio = pd.read_json('conteudo/dados_locacao_imoveis.json')\n",
    "dados_condominio.head()"
   ]
  },
  {
   "cell_type": "code",
   "execution_count": 217,
   "metadata": {},
   "outputs": [
    {
     "data": {
      "text/html": [
       "<div>\n",
       "<style scoped>\n",
       "    .dataframe tbody tr th:only-of-type {\n",
       "        vertical-align: middle;\n",
       "    }\n",
       "\n",
       "    .dataframe tbody tr th {\n",
       "        vertical-align: top;\n",
       "    }\n",
       "\n",
       "    .dataframe thead th {\n",
       "        text-align: right;\n",
       "    }\n",
       "</style>\n",
       "<table border=\"1\" class=\"dataframe\">\n",
       "  <thead>\n",
       "    <tr style=\"text-align: right;\">\n",
       "      <th></th>\n",
       "      <th>apartamento</th>\n",
       "      <th>datas_combinadas_pagamento</th>\n",
       "      <th>datas_de_pagamento</th>\n",
       "      <th>valor_aluguel</th>\n",
       "    </tr>\n",
       "  </thead>\n",
       "  <tbody>\n",
       "    <tr>\n",
       "      <th>0</th>\n",
       "      <td>A101 (blocoAP)</td>\n",
       "      <td>[01/06/2022, 01/07/2022]</td>\n",
       "      <td>[05/06/2022, 03/07/2022]</td>\n",
       "      <td>[$ 1000,0 reais, $ 2500,0 reais]</td>\n",
       "    </tr>\n",
       "    <tr>\n",
       "      <th>1</th>\n",
       "      <td>A102 (blocoAP)</td>\n",
       "      <td>[02/06/2022, 02/07/2022]</td>\n",
       "      <td>[02/06/2022, 06/07/2022]</td>\n",
       "      <td>[$ 1100,0 reais, $ 2600,0 reais]</td>\n",
       "    </tr>\n",
       "    <tr>\n",
       "      <th>2</th>\n",
       "      <td>B201 (blocoAP)</td>\n",
       "      <td>[03/06/2022, 03/07/2022]</td>\n",
       "      <td>[07/06/2022, 03/07/2022]</td>\n",
       "      <td>[$ 1200,0 reais, $ 2700,0 reais]</td>\n",
       "    </tr>\n",
       "    <tr>\n",
       "      <th>3</th>\n",
       "      <td>B202 (blocoAP)</td>\n",
       "      <td>[04/06/2022, 04/07/2022]</td>\n",
       "      <td>[07/06/2022, 05/07/2022]</td>\n",
       "      <td>[$ 1300,0 reais, $ 2800,0 reais]</td>\n",
       "    </tr>\n",
       "    <tr>\n",
       "      <th>4</th>\n",
       "      <td>C301 (blocoAP)</td>\n",
       "      <td>[05/06/2022, 05/07/2022]</td>\n",
       "      <td>[10/06/2022, 09/07/2022]</td>\n",
       "      <td>[$ 1400,0 reais, $ 2900,0 reais]</td>\n",
       "    </tr>\n",
       "  </tbody>\n",
       "</table>\n",
       "</div>"
      ],
      "text/plain": [
       "      apartamento datas_combinadas_pagamento        datas_de_pagamento  \\\n",
       "0  A101 (blocoAP)   [01/06/2022, 01/07/2022]  [05/06/2022, 03/07/2022]   \n",
       "1  A102 (blocoAP)   [02/06/2022, 02/07/2022]  [02/06/2022, 06/07/2022]   \n",
       "2  B201 (blocoAP)   [03/06/2022, 03/07/2022]  [07/06/2022, 03/07/2022]   \n",
       "3  B202 (blocoAP)   [04/06/2022, 04/07/2022]  [07/06/2022, 05/07/2022]   \n",
       "4  C301 (blocoAP)   [05/06/2022, 05/07/2022]  [10/06/2022, 09/07/2022]   \n",
       "\n",
       "                      valor_aluguel  \n",
       "0  [$ 1000,0 reais, $ 2500,0 reais]  \n",
       "1  [$ 1100,0 reais, $ 2600,0 reais]  \n",
       "2  [$ 1200,0 reais, $ 2700,0 reais]  \n",
       "3  [$ 1300,0 reais, $ 2800,0 reais]  \n",
       "4  [$ 1400,0 reais, $ 2900,0 reais]  "
      ]
     },
     "execution_count": 217,
     "metadata": {},
     "output_type": "execute_result"
    }
   ],
   "source": [
    "#normaliza o dataframe, desacoplando os dados aninhados\n",
    "dados_condominio = pd.json_normalize(dados_condominio['dados_locacao'])\n",
    "dados_condominio.head()"
   ]
  },
  {
   "cell_type": "markdown",
   "metadata": {},
   "source": [
    "# Dados numéricos #"
   ]
  },
  {
   "cell_type": "code",
   "execution_count": 218,
   "metadata": {},
   "outputs": [
    {
     "data": {
      "text/plain": [
       "['avaliacao_geral',\n",
       " 'experiencia_local',\n",
       " 'max_hospedes',\n",
       " 'descricao_local',\n",
       " 'descricao_vizinhanca',\n",
       " 'quantidade_banheiros',\n",
       " 'quantidade_quartos',\n",
       " 'quantidade_camas',\n",
       " 'modelo_cama',\n",
       " 'comodidades',\n",
       " 'taxa_deposito',\n",
       " 'taxa_limpeza',\n",
       " 'preco']"
      ]
     },
     "execution_count": 218,
     "metadata": {},
     "output_type": "execute_result"
    }
   ],
   "source": [
    "#imprime uma lista com todas as colunas do dataframe com dados de hospedagem\n",
    "colunas = list(dados.columns)\n",
    "colunas"
   ]
  },
  {
   "cell_type": "code",
   "execution_count": 219,
   "metadata": {},
   "outputs": [
    {
     "data": {
      "text/html": [
       "<div>\n",
       "<style scoped>\n",
       "    .dataframe tbody tr th:only-of-type {\n",
       "        vertical-align: middle;\n",
       "    }\n",
       "\n",
       "    .dataframe tbody tr th {\n",
       "        vertical-align: top;\n",
       "    }\n",
       "\n",
       "    .dataframe thead th {\n",
       "        text-align: right;\n",
       "    }\n",
       "</style>\n",
       "<table border=\"1\" class=\"dataframe\">\n",
       "  <thead>\n",
       "    <tr style=\"text-align: right;\">\n",
       "      <th></th>\n",
       "      <th>avaliacao_geral</th>\n",
       "      <th>experiencia_local</th>\n",
       "      <th>max_hospedes</th>\n",
       "      <th>descricao_local</th>\n",
       "      <th>descricao_vizinhanca</th>\n",
       "      <th>quantidade_banheiros</th>\n",
       "      <th>quantidade_quartos</th>\n",
       "      <th>quantidade_camas</th>\n",
       "      <th>modelo_cama</th>\n",
       "      <th>comodidades</th>\n",
       "      <th>taxa_deposito</th>\n",
       "      <th>taxa_limpeza</th>\n",
       "      <th>preco</th>\n",
       "    </tr>\n",
       "  </thead>\n",
       "  <tbody>\n",
       "    <tr>\n",
       "      <th>0</th>\n",
       "      <td>10.0</td>\n",
       "      <td>--</td>\n",
       "      <td>1</td>\n",
       "      <td>This clean and comfortable one bedroom sits ri...</td>\n",
       "      <td>Lower Queen Anne is near the Seattle Center (s...</td>\n",
       "      <td>1</td>\n",
       "      <td>1</td>\n",
       "      <td>1</td>\n",
       "      <td>Real Bed</td>\n",
       "      <td>{Internet,\"Wireless Internet\",Kitchen,\"Free Pa...</td>\n",
       "      <td>$0</td>\n",
       "      <td>$0</td>\n",
       "      <td>$110.00</td>\n",
       "    </tr>\n",
       "    <tr>\n",
       "      <th>0</th>\n",
       "      <td>10.0</td>\n",
       "      <td>--</td>\n",
       "      <td>1</td>\n",
       "      <td>Our century old Upper Queen Anne house is loca...</td>\n",
       "      <td>Upper Queen Anne is a really pleasant, unique ...</td>\n",
       "      <td>1</td>\n",
       "      <td>1</td>\n",
       "      <td>1</td>\n",
       "      <td>Futon</td>\n",
       "      <td>{TV,Internet,\"Wireless Internet\",Kitchen,\"Free...</td>\n",
       "      <td>$0</td>\n",
       "      <td>$0</td>\n",
       "      <td>$45.00</td>\n",
       "    </tr>\n",
       "    <tr>\n",
       "      <th>0</th>\n",
       "      <td>10.0</td>\n",
       "      <td>--</td>\n",
       "      <td>1</td>\n",
       "      <td>Cozy room in two-bedroom apartment along the l...</td>\n",
       "      <td>The convenience of being in Seattle but on the...</td>\n",
       "      <td>1</td>\n",
       "      <td>1</td>\n",
       "      <td>1</td>\n",
       "      <td>Futon</td>\n",
       "      <td>{TV,Internet,\"Wireless Internet\",Kitchen,\"Free...</td>\n",
       "      <td>$0</td>\n",
       "      <td>$0</td>\n",
       "      <td>$55.00</td>\n",
       "    </tr>\n",
       "    <tr>\n",
       "      <th>0</th>\n",
       "      <td>10.0</td>\n",
       "      <td>--</td>\n",
       "      <td>1</td>\n",
       "      <td>Very lovely and cozy room for one. Convenientl...</td>\n",
       "      <td>Ballard is lovely, vibrant and one of the most...</td>\n",
       "      <td>1</td>\n",
       "      <td>1</td>\n",
       "      <td>1</td>\n",
       "      <td>Pull-out Sofa</td>\n",
       "      <td>{Internet,\"Wireless Internet\",Kitchen,\"Free Pa...</td>\n",
       "      <td>$0</td>\n",
       "      <td>$20.00</td>\n",
       "      <td>$52.00</td>\n",
       "    </tr>\n",
       "    <tr>\n",
       "      <th>0</th>\n",
       "      <td>10.0</td>\n",
       "      <td>--</td>\n",
       "      <td>1</td>\n",
       "      <td>The “Studio at Mibbett Hollow' is in a Beautif...</td>\n",
       "      <td>--</td>\n",
       "      <td>1</td>\n",
       "      <td>1</td>\n",
       "      <td>1</td>\n",
       "      <td>Real Bed</td>\n",
       "      <td>{\"Wireless Internet\",Kitchen,\"Free Parking on ...</td>\n",
       "      <td>$0</td>\n",
       "      <td>$15.00</td>\n",
       "      <td>$85.00</td>\n",
       "    </tr>\n",
       "  </tbody>\n",
       "</table>\n",
       "</div>"
      ],
      "text/plain": [
       "  avaliacao_geral experiencia_local max_hospedes  \\\n",
       "0            10.0                --            1   \n",
       "0            10.0                --            1   \n",
       "0            10.0                --            1   \n",
       "0            10.0                --            1   \n",
       "0            10.0                --            1   \n",
       "\n",
       "                                     descricao_local  \\\n",
       "0  This clean and comfortable one bedroom sits ri...   \n",
       "0  Our century old Upper Queen Anne house is loca...   \n",
       "0  Cozy room in two-bedroom apartment along the l...   \n",
       "0  Very lovely and cozy room for one. Convenientl...   \n",
       "0  The “Studio at Mibbett Hollow' is in a Beautif...   \n",
       "\n",
       "                                descricao_vizinhanca quantidade_banheiros  \\\n",
       "0  Lower Queen Anne is near the Seattle Center (s...                    1   \n",
       "0  Upper Queen Anne is a really pleasant, unique ...                    1   \n",
       "0  The convenience of being in Seattle but on the...                    1   \n",
       "0  Ballard is lovely, vibrant and one of the most...                    1   \n",
       "0                                                 --                    1   \n",
       "\n",
       "  quantidade_quartos quantidade_camas    modelo_cama  \\\n",
       "0                  1                1       Real Bed   \n",
       "0                  1                1          Futon   \n",
       "0                  1                1          Futon   \n",
       "0                  1                1  Pull-out Sofa   \n",
       "0                  1                1       Real Bed   \n",
       "\n",
       "                                         comodidades taxa_deposito  \\\n",
       "0  {Internet,\"Wireless Internet\",Kitchen,\"Free Pa...            $0   \n",
       "0  {TV,Internet,\"Wireless Internet\",Kitchen,\"Free...            $0   \n",
       "0  {TV,Internet,\"Wireless Internet\",Kitchen,\"Free...            $0   \n",
       "0  {Internet,\"Wireless Internet\",Kitchen,\"Free Pa...            $0   \n",
       "0  {\"Wireless Internet\",Kitchen,\"Free Parking on ...            $0   \n",
       "\n",
       "  taxa_limpeza    preco  \n",
       "0           $0  $110.00  \n",
       "0           $0   $45.00  \n",
       "0           $0   $55.00  \n",
       "0       $20.00   $52.00  \n",
       "0       $15.00   $85.00  "
      ]
     },
     "execution_count": 219,
     "metadata": {},
     "output_type": "execute_result"
    }
   ],
   "source": [
    "#transforma cada item das listas apartir da coluna 3 em linhas no dataframe\n",
    "dados = dados.explode(colunas[3:])\n",
    "dados.head()"
   ]
  },
  {
   "cell_type": "code",
   "execution_count": 220,
   "metadata": {},
   "outputs": [
    {
     "data": {
      "text/html": [
       "<div>\n",
       "<style scoped>\n",
       "    .dataframe tbody tr th:only-of-type {\n",
       "        vertical-align: middle;\n",
       "    }\n",
       "\n",
       "    .dataframe tbody tr th {\n",
       "        vertical-align: top;\n",
       "    }\n",
       "\n",
       "    .dataframe thead th {\n",
       "        text-align: right;\n",
       "    }\n",
       "</style>\n",
       "<table border=\"1\" class=\"dataframe\">\n",
       "  <thead>\n",
       "    <tr style=\"text-align: right;\">\n",
       "      <th></th>\n",
       "      <th>avaliacao_geral</th>\n",
       "      <th>experiencia_local</th>\n",
       "      <th>max_hospedes</th>\n",
       "      <th>descricao_local</th>\n",
       "      <th>descricao_vizinhanca</th>\n",
       "      <th>quantidade_banheiros</th>\n",
       "      <th>quantidade_quartos</th>\n",
       "      <th>quantidade_camas</th>\n",
       "      <th>modelo_cama</th>\n",
       "      <th>comodidades</th>\n",
       "      <th>taxa_deposito</th>\n",
       "      <th>taxa_limpeza</th>\n",
       "      <th>preco</th>\n",
       "    </tr>\n",
       "  </thead>\n",
       "  <tbody>\n",
       "    <tr>\n",
       "      <th>0</th>\n",
       "      <td>10.0</td>\n",
       "      <td>--</td>\n",
       "      <td>1</td>\n",
       "      <td>This clean and comfortable one bedroom sits ri...</td>\n",
       "      <td>Lower Queen Anne is near the Seattle Center (s...</td>\n",
       "      <td>1</td>\n",
       "      <td>1</td>\n",
       "      <td>1</td>\n",
       "      <td>Real Bed</td>\n",
       "      <td>{Internet,\"Wireless Internet\",Kitchen,\"Free Pa...</td>\n",
       "      <td>$0</td>\n",
       "      <td>$0</td>\n",
       "      <td>$110.00</td>\n",
       "    </tr>\n",
       "    <tr>\n",
       "      <th>1</th>\n",
       "      <td>10.0</td>\n",
       "      <td>--</td>\n",
       "      <td>1</td>\n",
       "      <td>Our century old Upper Queen Anne house is loca...</td>\n",
       "      <td>Upper Queen Anne is a really pleasant, unique ...</td>\n",
       "      <td>1</td>\n",
       "      <td>1</td>\n",
       "      <td>1</td>\n",
       "      <td>Futon</td>\n",
       "      <td>{TV,Internet,\"Wireless Internet\",Kitchen,\"Free...</td>\n",
       "      <td>$0</td>\n",
       "      <td>$0</td>\n",
       "      <td>$45.00</td>\n",
       "    </tr>\n",
       "    <tr>\n",
       "      <th>2</th>\n",
       "      <td>10.0</td>\n",
       "      <td>--</td>\n",
       "      <td>1</td>\n",
       "      <td>Cozy room in two-bedroom apartment along the l...</td>\n",
       "      <td>The convenience of being in Seattle but on the...</td>\n",
       "      <td>1</td>\n",
       "      <td>1</td>\n",
       "      <td>1</td>\n",
       "      <td>Futon</td>\n",
       "      <td>{TV,Internet,\"Wireless Internet\",Kitchen,\"Free...</td>\n",
       "      <td>$0</td>\n",
       "      <td>$0</td>\n",
       "      <td>$55.00</td>\n",
       "    </tr>\n",
       "    <tr>\n",
       "      <th>3</th>\n",
       "      <td>10.0</td>\n",
       "      <td>--</td>\n",
       "      <td>1</td>\n",
       "      <td>Very lovely and cozy room for one. Convenientl...</td>\n",
       "      <td>Ballard is lovely, vibrant and one of the most...</td>\n",
       "      <td>1</td>\n",
       "      <td>1</td>\n",
       "      <td>1</td>\n",
       "      <td>Pull-out Sofa</td>\n",
       "      <td>{Internet,\"Wireless Internet\",Kitchen,\"Free Pa...</td>\n",
       "      <td>$0</td>\n",
       "      <td>$20.00</td>\n",
       "      <td>$52.00</td>\n",
       "    </tr>\n",
       "    <tr>\n",
       "      <th>4</th>\n",
       "      <td>10.0</td>\n",
       "      <td>--</td>\n",
       "      <td>1</td>\n",
       "      <td>The “Studio at Mibbett Hollow' is in a Beautif...</td>\n",
       "      <td>--</td>\n",
       "      <td>1</td>\n",
       "      <td>1</td>\n",
       "      <td>1</td>\n",
       "      <td>Real Bed</td>\n",
       "      <td>{\"Wireless Internet\",Kitchen,\"Free Parking on ...</td>\n",
       "      <td>$0</td>\n",
       "      <td>$15.00</td>\n",
       "      <td>$85.00</td>\n",
       "    </tr>\n",
       "  </tbody>\n",
       "</table>\n",
       "</div>"
      ],
      "text/plain": [
       "  avaliacao_geral experiencia_local max_hospedes  \\\n",
       "0            10.0                --            1   \n",
       "1            10.0                --            1   \n",
       "2            10.0                --            1   \n",
       "3            10.0                --            1   \n",
       "4            10.0                --            1   \n",
       "\n",
       "                                     descricao_local  \\\n",
       "0  This clean and comfortable one bedroom sits ri...   \n",
       "1  Our century old Upper Queen Anne house is loca...   \n",
       "2  Cozy room in two-bedroom apartment along the l...   \n",
       "3  Very lovely and cozy room for one. Convenientl...   \n",
       "4  The “Studio at Mibbett Hollow' is in a Beautif...   \n",
       "\n",
       "                                descricao_vizinhanca quantidade_banheiros  \\\n",
       "0  Lower Queen Anne is near the Seattle Center (s...                    1   \n",
       "1  Upper Queen Anne is a really pleasant, unique ...                    1   \n",
       "2  The convenience of being in Seattle but on the...                    1   \n",
       "3  Ballard is lovely, vibrant and one of the most...                    1   \n",
       "4                                                 --                    1   \n",
       "\n",
       "  quantidade_quartos quantidade_camas    modelo_cama  \\\n",
       "0                  1                1       Real Bed   \n",
       "1                  1                1          Futon   \n",
       "2                  1                1          Futon   \n",
       "3                  1                1  Pull-out Sofa   \n",
       "4                  1                1       Real Bed   \n",
       "\n",
       "                                         comodidades taxa_deposito  \\\n",
       "0  {Internet,\"Wireless Internet\",Kitchen,\"Free Pa...            $0   \n",
       "1  {TV,Internet,\"Wireless Internet\",Kitchen,\"Free...            $0   \n",
       "2  {TV,Internet,\"Wireless Internet\",Kitchen,\"Free...            $0   \n",
       "3  {Internet,\"Wireless Internet\",Kitchen,\"Free Pa...            $0   \n",
       "4  {\"Wireless Internet\",Kitchen,\"Free Parking on ...            $0   \n",
       "\n",
       "  taxa_limpeza    preco  \n",
       "0           $0  $110.00  \n",
       "1           $0   $45.00  \n",
       "2           $0   $55.00  \n",
       "3       $20.00   $52.00  \n",
       "4       $15.00   $85.00  "
      ]
     },
     "execution_count": 220,
     "metadata": {},
     "output_type": "execute_result"
    }
   ],
   "source": [
    "#reseta o index do dataframe, aplicando a mudança \n",
    "dados.reset_index(inplace=True, drop=True)\n",
    "dados.head()"
   ]
  },
  {
   "cell_type": "code",
   "execution_count": 221,
   "metadata": {},
   "outputs": [
    {
     "name": "stdout",
     "output_type": "stream",
     "text": [
      "<class 'pandas.core.frame.DataFrame'>\n",
      "RangeIndex: 3818 entries, 0 to 3817\n",
      "Data columns (total 13 columns):\n",
      " #   Column                Non-Null Count  Dtype \n",
      "---  ------                --------------  ----- \n",
      " 0   avaliacao_geral       3818 non-null   object\n",
      " 1   experiencia_local     3818 non-null   object\n",
      " 2   max_hospedes          3818 non-null   object\n",
      " 3   descricao_local       3818 non-null   object\n",
      " 4   descricao_vizinhanca  3818 non-null   object\n",
      " 5   quantidade_banheiros  3818 non-null   object\n",
      " 6   quantidade_quartos    3818 non-null   object\n",
      " 7   quantidade_camas      3818 non-null   object\n",
      " 8   modelo_cama           3818 non-null   object\n",
      " 9   comodidades           3818 non-null   object\n",
      " 10  taxa_deposito         3818 non-null   object\n",
      " 11  taxa_limpeza          3818 non-null   object\n",
      " 12  preco                 3818 non-null   object\n",
      "dtypes: object(13)\n",
      "memory usage: 387.9+ KB\n"
     ]
    }
   ],
   "source": [
    "#retorna informações como quantidade de dados nulos e tipo de dado para cada coluna no dataframe\n",
    "dados.info()"
   ]
  },
  {
   "cell_type": "code",
   "execution_count": 222,
   "metadata": {},
   "outputs": [],
   "source": [
    "#importa a biblioteca numpy\n",
    "import numpy as np"
   ]
  },
  {
   "cell_type": "code",
   "execution_count": 223,
   "metadata": {},
   "outputs": [],
   "source": [
    "#atribui a uma variável as colunas que devem ser convertidas para int64\n",
    "col_numericas = ['max_hospedes', 'quantidade_banheiros', 'quantidade_quartos', 'quantidade_camas']"
   ]
  },
  {
   "cell_type": "code",
   "execution_count": 224,
   "metadata": {},
   "outputs": [],
   "source": [
    "#converte o tipo de dado das colunas para int64\n",
    "dados[col_numericas] = dados[col_numericas].astype(np.int64)"
   ]
  },
  {
   "cell_type": "code",
   "execution_count": 225,
   "metadata": {},
   "outputs": [
    {
     "name": "stdout",
     "output_type": "stream",
     "text": [
      "<class 'pandas.core.frame.DataFrame'>\n",
      "RangeIndex: 3818 entries, 0 to 3817\n",
      "Data columns (total 13 columns):\n",
      " #   Column                Non-Null Count  Dtype \n",
      "---  ------                --------------  ----- \n",
      " 0   avaliacao_geral       3818 non-null   object\n",
      " 1   experiencia_local     3818 non-null   object\n",
      " 2   max_hospedes          3818 non-null   int64 \n",
      " 3   descricao_local       3818 non-null   object\n",
      " 4   descricao_vizinhanca  3818 non-null   object\n",
      " 5   quantidade_banheiros  3818 non-null   int64 \n",
      " 6   quantidade_quartos    3818 non-null   int64 \n",
      " 7   quantidade_camas      3818 non-null   int64 \n",
      " 8   modelo_cama           3818 non-null   object\n",
      " 9   comodidades           3818 non-null   object\n",
      " 10  taxa_deposito         3818 non-null   object\n",
      " 11  taxa_limpeza          3818 non-null   object\n",
      " 12  preco                 3818 non-null   object\n",
      "dtypes: int64(4), object(9)\n",
      "memory usage: 387.9+ KB\n"
     ]
    }
   ],
   "source": [
    "#retorna informações do dataframe, agora elas estão como 'int64'\n",
    "dados.info()"
   ]
  },
  {
   "cell_type": "code",
   "execution_count": 226,
   "metadata": {},
   "outputs": [],
   "source": [
    "#converte os dados da coluna 'avaliacao_geral' para o tipo float64\n",
    "dados['avaliacao_geral'] = dados['avaliacao_geral'].astype(np.float64)"
   ]
  },
  {
   "cell_type": "code",
   "execution_count": 227,
   "metadata": {},
   "outputs": [
    {
     "name": "stdout",
     "output_type": "stream",
     "text": [
      "<class 'pandas.core.frame.DataFrame'>\n",
      "RangeIndex: 3818 entries, 0 to 3817\n",
      "Data columns (total 13 columns):\n",
      " #   Column                Non-Null Count  Dtype  \n",
      "---  ------                --------------  -----  \n",
      " 0   avaliacao_geral       3162 non-null   float64\n",
      " 1   experiencia_local     3818 non-null   object \n",
      " 2   max_hospedes          3818 non-null   int64  \n",
      " 3   descricao_local       3818 non-null   object \n",
      " 4   descricao_vizinhanca  3818 non-null   object \n",
      " 5   quantidade_banheiros  3818 non-null   int64  \n",
      " 6   quantidade_quartos    3818 non-null   int64  \n",
      " 7   quantidade_camas      3818 non-null   int64  \n",
      " 8   modelo_cama           3818 non-null   object \n",
      " 9   comodidades           3818 non-null   object \n",
      " 10  taxa_deposito         3818 non-null   object \n",
      " 11  taxa_limpeza          3818 non-null   object \n",
      " 12  preco                 3818 non-null   object \n",
      "dtypes: float64(1), int64(4), object(8)\n",
      "memory usage: 387.9+ KB\n"
     ]
    }
   ],
   "source": [
    "#retorna informações das colunas do dataframe\n",
    "dados.info()"
   ]
  },
  {
   "cell_type": "markdown",
   "metadata": {},
   "source": [
    "**não é possível alterar o tipo de dado das últimas colunas devido ao caractere '$'**"
   ]
  },
  {
   "cell_type": "code",
   "execution_count": 228,
   "metadata": {},
   "outputs": [
    {
     "data": {
      "text/plain": [
       "0       $110.00\n",
       "1        $45.00\n",
       "2        $55.00\n",
       "3        $52.00\n",
       "4        $85.00\n",
       "         ...   \n",
       "3813    $299.00\n",
       "3814    $199.00\n",
       "3815    $400.00\n",
       "3816    $250.00\n",
       "3817    $350.00\n",
       "Name: preco, Length: 3818, dtype: object"
      ]
     },
     "execution_count": 228,
     "metadata": {},
     "output_type": "execute_result"
    }
   ],
   "source": [
    "dados['preco']"
   ]
  },
  {
   "cell_type": "code",
   "execution_count": 229,
   "metadata": {},
   "outputs": [],
   "source": [
    "#utiliza a função replace para substituir os caracteres '$' e ',', e a função strip para remover os espaços\n",
    "dados['preco'] = dados['preco'].apply(lambda x: x.replace('$', '').replace(',', '').strip())"
   ]
  },
  {
   "cell_type": "code",
   "execution_count": 230,
   "metadata": {},
   "outputs": [],
   "source": [
    "#agora é possível converter o tipo de dado da coluna 'preco' para 'float64' pois não temos mais o '$'\n",
    "dados['preco'] = dados['preco'].astype(np.float64)"
   ]
  },
  {
   "cell_type": "code",
   "execution_count": 231,
   "metadata": {},
   "outputs": [
    {
     "name": "stdout",
     "output_type": "stream",
     "text": [
      "<class 'pandas.core.frame.DataFrame'>\n",
      "RangeIndex: 3818 entries, 0 to 3817\n",
      "Data columns (total 13 columns):\n",
      " #   Column                Non-Null Count  Dtype  \n",
      "---  ------                --------------  -----  \n",
      " 0   avaliacao_geral       3162 non-null   float64\n",
      " 1   experiencia_local     3818 non-null   object \n",
      " 2   max_hospedes          3818 non-null   int64  \n",
      " 3   descricao_local       3818 non-null   object \n",
      " 4   descricao_vizinhanca  3818 non-null   object \n",
      " 5   quantidade_banheiros  3818 non-null   int64  \n",
      " 6   quantidade_quartos    3818 non-null   int64  \n",
      " 7   quantidade_camas      3818 non-null   int64  \n",
      " 8   modelo_cama           3818 non-null   object \n",
      " 9   comodidades           3818 non-null   object \n",
      " 10  taxa_deposito         3818 non-null   object \n",
      " 11  taxa_limpeza          3818 non-null   object \n",
      " 12  preco                 3818 non-null   float64\n",
      "dtypes: float64(2), int64(4), object(7)\n",
      "memory usage: 387.9+ KB\n"
     ]
    }
   ],
   "source": [
    "#retorna informações sobre as colunas do dataframe\n",
    "dados.info()"
   ]
  },
  {
   "cell_type": "code",
   "execution_count": 232,
   "metadata": {},
   "outputs": [
    {
     "name": "stderr",
     "output_type": "stream",
     "text": [
      "C:\\Users\\felip\\AppData\\Local\\Temp\\ipykernel_37344\\2185317069.py:2: FutureWarning: DataFrame.applymap has been deprecated. Use DataFrame.map instead.\n",
      "  dados[['taxa_deposito', 'taxa_limpeza']] = dados[['taxa_deposito', 'taxa_limpeza']].applymap(lambda x: x.replace('$', '').replace(',', '').strip())\n"
     ]
    }
   ],
   "source": [
    "#remove todos os caracteres, vírgulas e espaços da coluna 'taxa_deposito' e 'taxa'limpeza'\n",
    "dados[['taxa_deposito', 'taxa_limpeza']] = dados[['taxa_deposito', 'taxa_limpeza']].applymap(lambda x: x.replace('$', '').replace(',', '').strip())"
   ]
  },
  {
   "cell_type": "code",
   "execution_count": 233,
   "metadata": {},
   "outputs": [],
   "source": [
    "#agora podemos converter os dados para o tipo 'float64'\n",
    "dados[['taxa_deposito', 'taxa_limpeza']] =  dados[['taxa_deposito', 'taxa_limpeza']].astype(np.float64)"
   ]
  },
  {
   "cell_type": "code",
   "execution_count": 234,
   "metadata": {},
   "outputs": [
    {
     "name": "stdout",
     "output_type": "stream",
     "text": [
      "<class 'pandas.core.frame.DataFrame'>\n",
      "RangeIndex: 3818 entries, 0 to 3817\n",
      "Data columns (total 13 columns):\n",
      " #   Column                Non-Null Count  Dtype  \n",
      "---  ------                --------------  -----  \n",
      " 0   avaliacao_geral       3162 non-null   float64\n",
      " 1   experiencia_local     3818 non-null   object \n",
      " 2   max_hospedes          3818 non-null   int64  \n",
      " 3   descricao_local       3818 non-null   object \n",
      " 4   descricao_vizinhanca  3818 non-null   object \n",
      " 5   quantidade_banheiros  3818 non-null   int64  \n",
      " 6   quantidade_quartos    3818 non-null   int64  \n",
      " 7   quantidade_camas      3818 non-null   int64  \n",
      " 8   modelo_cama           3818 non-null   object \n",
      " 9   comodidades           3818 non-null   object \n",
      " 10  taxa_deposito         3818 non-null   float64\n",
      " 11  taxa_limpeza          3818 non-null   float64\n",
      " 12  preco                 3818 non-null   float64\n",
      "dtypes: float64(4), int64(4), object(5)\n",
      "memory usage: 387.9+ KB\n"
     ]
    }
   ],
   "source": [
    "#agora os dados numéricos são do tipo float\n",
    "dados.info()"
   ]
  },
  {
   "cell_type": "markdown",
   "metadata": {},
   "source": [
    "## Desafios ##"
   ]
  },
  {
   "cell_type": "markdown",
   "metadata": {},
   "source": [
    "**Projeto desafio 1: vendas online**\n",
    "\n",
    "*Remover os dados em listas dentro do DataFrame;\n",
    "\n",
    "*Verificar os tipos de dados;\n",
    "\n",
    "*Identificar colunas numéricas;\n",
    "\n",
    "*Transformar a coluna numérica para o tipo numérico."
   ]
  },
  {
   "cell_type": "code",
   "execution_count": 235,
   "metadata": {},
   "outputs": [
    {
     "data": {
      "text/html": [
       "<div>\n",
       "<style scoped>\n",
       "    .dataframe tbody tr th:only-of-type {\n",
       "        vertical-align: middle;\n",
       "    }\n",
       "\n",
       "    .dataframe tbody tr th {\n",
       "        vertical-align: top;\n",
       "    }\n",
       "\n",
       "    .dataframe thead th {\n",
       "        text-align: right;\n",
       "    }\n",
       "</style>\n",
       "<table border=\"1\" class=\"dataframe\">\n",
       "  <thead>\n",
       "    <tr style=\"text-align: right;\">\n",
       "      <th></th>\n",
       "      <th>Data de venda</th>\n",
       "      <th>Cliente</th>\n",
       "      <th>Valor da compra</th>\n",
       "    </tr>\n",
       "  </thead>\n",
       "  <tbody>\n",
       "    <tr>\n",
       "      <th>0</th>\n",
       "      <td>06/06/2022</td>\n",
       "      <td>[@ANA _LUCIA 321, DieGO ARMANDIU 210, DieGO AR...</td>\n",
       "      <td>[R$ 836,5, R$ 573,33, R$ 392,8, R$ 512,34]</td>\n",
       "    </tr>\n",
       "    <tr>\n",
       "      <th>1</th>\n",
       "      <td>07/06/2022</td>\n",
       "      <td>[Isabely JOanes 738, Isabely JOanes 738, Isabe...</td>\n",
       "      <td>[R$ 825,31, R$ 168,07, R$ 339,18, R$ 314,69]</td>\n",
       "    </tr>\n",
       "    <tr>\n",
       "      <th>2</th>\n",
       "      <td>08/06/2022</td>\n",
       "      <td>[Isabely JOanes 738, JOãO Gabriel 671, Julya m...</td>\n",
       "      <td>[R$ 682,05, R$ 386,34, R$ 622,65, R$ 630,79]</td>\n",
       "    </tr>\n",
       "    <tr>\n",
       "      <th>3</th>\n",
       "      <td>09/06/2022</td>\n",
       "      <td>[Julya meireles 914, MaRIA Julia 444, MaRIA Ju...</td>\n",
       "      <td>[R$ 390,3, R$ 759,16, R$ 334,47, R$ 678,78]</td>\n",
       "    </tr>\n",
       "    <tr>\n",
       "      <th>4</th>\n",
       "      <td>10/06/2022</td>\n",
       "      <td>[MaRIA Julia 444, PEDRO PASCO 812, Paulo castr...</td>\n",
       "      <td>[R$ 314,24, R$ 311,15, R$ 899,16, R$ 885,24]</td>\n",
       "    </tr>\n",
       "  </tbody>\n",
       "</table>\n",
       "</div>"
      ],
      "text/plain": [
       "  Data de venda                                            Cliente  \\\n",
       "0    06/06/2022  [@ANA _LUCIA 321, DieGO ARMANDIU 210, DieGO AR...   \n",
       "1    07/06/2022  [Isabely JOanes 738, Isabely JOanes 738, Isabe...   \n",
       "2    08/06/2022  [Isabely JOanes 738, JOãO Gabriel 671, Julya m...   \n",
       "3    09/06/2022  [Julya meireles 914, MaRIA Julia 444, MaRIA Ju...   \n",
       "4    10/06/2022  [MaRIA Julia 444, PEDRO PASCO 812, Paulo castr...   \n",
       "\n",
       "                                Valor da compra  \n",
       "0    [R$ 836,5, R$ 573,33, R$ 392,8, R$ 512,34]  \n",
       "1  [R$ 825,31, R$ 168,07, R$ 339,18, R$ 314,69]  \n",
       "2  [R$ 682,05, R$ 386,34, R$ 622,65, R$ 630,79]  \n",
       "3   [R$ 390,3, R$ 759,16, R$ 334,47, R$ 678,78]  \n",
       "4  [R$ 314,24, R$ 311,15, R$ 899,16, R$ 885,24]  "
      ]
     },
     "execution_count": 235,
     "metadata": {},
     "output_type": "execute_result"
    }
   ],
   "source": [
    "dados_clientes.head()"
   ]
  },
  {
   "cell_type": "code",
   "execution_count": 236,
   "metadata": {},
   "outputs": [],
   "source": [
    "#transforma as listas dento do dataframe em novas linhas\n",
    "dados_clientes = dados_clientes.explode(['Cliente', 'Valor da compra'][1:])"
   ]
  },
  {
   "cell_type": "code",
   "execution_count": 237,
   "metadata": {},
   "outputs": [],
   "source": [
    "#descarta o index antigo e o reseta para formatação correta\n",
    "dados_clientes.reset_index(drop=True, inplace=True)"
   ]
  },
  {
   "cell_type": "code",
   "execution_count": 238,
   "metadata": {},
   "outputs": [
    {
     "data": {
      "text/html": [
       "<div>\n",
       "<style scoped>\n",
       "    .dataframe tbody tr th:only-of-type {\n",
       "        vertical-align: middle;\n",
       "    }\n",
       "\n",
       "    .dataframe tbody tr th {\n",
       "        vertical-align: top;\n",
       "    }\n",
       "\n",
       "    .dataframe thead th {\n",
       "        text-align: right;\n",
       "    }\n",
       "</style>\n",
       "<table border=\"1\" class=\"dataframe\">\n",
       "  <thead>\n",
       "    <tr style=\"text-align: right;\">\n",
       "      <th></th>\n",
       "      <th>Data de venda</th>\n",
       "      <th>Cliente</th>\n",
       "      <th>Valor da compra</th>\n",
       "    </tr>\n",
       "  </thead>\n",
       "  <tbody>\n",
       "    <tr>\n",
       "      <th>0</th>\n",
       "      <td>06/06/2022</td>\n",
       "      <td>[@ANA _LUCIA 321, DieGO ARMANDIU 210, DieGO AR...</td>\n",
       "      <td>R$ 836,5</td>\n",
       "    </tr>\n",
       "    <tr>\n",
       "      <th>1</th>\n",
       "      <td>06/06/2022</td>\n",
       "      <td>[@ANA _LUCIA 321, DieGO ARMANDIU 210, DieGO AR...</td>\n",
       "      <td>R$ 573,33</td>\n",
       "    </tr>\n",
       "    <tr>\n",
       "      <th>2</th>\n",
       "      <td>06/06/2022</td>\n",
       "      <td>[@ANA _LUCIA 321, DieGO ARMANDIU 210, DieGO AR...</td>\n",
       "      <td>R$ 392,8</td>\n",
       "    </tr>\n",
       "    <tr>\n",
       "      <th>3</th>\n",
       "      <td>06/06/2022</td>\n",
       "      <td>[@ANA _LUCIA 321, DieGO ARMANDIU 210, DieGO AR...</td>\n",
       "      <td>R$ 512,34</td>\n",
       "    </tr>\n",
       "    <tr>\n",
       "      <th>4</th>\n",
       "      <td>07/06/2022</td>\n",
       "      <td>[Isabely JOanes 738, Isabely JOanes 738, Isabe...</td>\n",
       "      <td>R$ 825,31</td>\n",
       "    </tr>\n",
       "  </tbody>\n",
       "</table>\n",
       "</div>"
      ],
      "text/plain": [
       "  Data de venda                                            Cliente  \\\n",
       "0    06/06/2022  [@ANA _LUCIA 321, DieGO ARMANDIU 210, DieGO AR...   \n",
       "1    06/06/2022  [@ANA _LUCIA 321, DieGO ARMANDIU 210, DieGO AR...   \n",
       "2    06/06/2022  [@ANA _LUCIA 321, DieGO ARMANDIU 210, DieGO AR...   \n",
       "3    06/06/2022  [@ANA _LUCIA 321, DieGO ARMANDIU 210, DieGO AR...   \n",
       "4    07/06/2022  [Isabely JOanes 738, Isabely JOanes 738, Isabe...   \n",
       "\n",
       "  Valor da compra  \n",
       "0        R$ 836,5  \n",
       "1       R$ 573,33  \n",
       "2        R$ 392,8  \n",
       "3       R$ 512,34  \n",
       "4       R$ 825,31  "
      ]
     },
     "execution_count": 238,
     "metadata": {},
     "output_type": "execute_result"
    }
   ],
   "source": [
    "dados_clientes.head()"
   ]
  },
  {
   "cell_type": "code",
   "execution_count": 239,
   "metadata": {},
   "outputs": [],
   "source": [
    "#remove os caracteres, vírgulas e espaços da coluna 'valor da compra'\n",
    "dados_clientes['Valor da compra'] = dados_clientes['Valor da compra'].apply(lambda x: x.replace('R$ ', '').replace(',', '').strip())"
   ]
  },
  {
   "cell_type": "code",
   "execution_count": 240,
   "metadata": {},
   "outputs": [
    {
     "data": {
      "text/plain": [
       "0      8365.0\n",
       "1     57333.0\n",
       "2      3928.0\n",
       "3     51234.0\n",
       "4     82531.0\n",
       "5     16807.0\n",
       "6     33918.0\n",
       "7     31469.0\n",
       "8     68205.0\n",
       "9     38634.0\n",
       "10    62265.0\n",
       "11    63079.0\n",
       "12     3903.0\n",
       "13    75916.0\n",
       "14    33447.0\n",
       "15    67878.0\n",
       "16    31424.0\n",
       "17    31115.0\n",
       "18    89916.0\n",
       "19    88524.0\n",
       "Name: Valor da compra, dtype: float64"
      ]
     },
     "execution_count": 240,
     "metadata": {},
     "output_type": "execute_result"
    }
   ],
   "source": [
    "#agora os dados numéricos são do tipo float\n",
    "dados_clientes['Valor da compra'].astype(np.float64)"
   ]
  },
  {
   "cell_type": "code",
   "execution_count": 241,
   "metadata": {},
   "outputs": [
    {
     "data": {
      "text/html": [
       "<div>\n",
       "<style scoped>\n",
       "    .dataframe tbody tr th:only-of-type {\n",
       "        vertical-align: middle;\n",
       "    }\n",
       "\n",
       "    .dataframe tbody tr th {\n",
       "        vertical-align: top;\n",
       "    }\n",
       "\n",
       "    .dataframe thead th {\n",
       "        text-align: right;\n",
       "    }\n",
       "</style>\n",
       "<table border=\"1\" class=\"dataframe\">\n",
       "  <thead>\n",
       "    <tr style=\"text-align: right;\">\n",
       "      <th></th>\n",
       "      <th>Data de venda</th>\n",
       "      <th>Cliente</th>\n",
       "      <th>Valor da compra</th>\n",
       "    </tr>\n",
       "  </thead>\n",
       "  <tbody>\n",
       "    <tr>\n",
       "      <th>0</th>\n",
       "      <td>06/06/2022</td>\n",
       "      <td>[@ANA _LUCIA 321, DieGO ARMANDIU 210, DieGO AR...</td>\n",
       "      <td>8365</td>\n",
       "    </tr>\n",
       "    <tr>\n",
       "      <th>1</th>\n",
       "      <td>06/06/2022</td>\n",
       "      <td>[@ANA _LUCIA 321, DieGO ARMANDIU 210, DieGO AR...</td>\n",
       "      <td>57333</td>\n",
       "    </tr>\n",
       "    <tr>\n",
       "      <th>2</th>\n",
       "      <td>06/06/2022</td>\n",
       "      <td>[@ANA _LUCIA 321, DieGO ARMANDIU 210, DieGO AR...</td>\n",
       "      <td>3928</td>\n",
       "    </tr>\n",
       "    <tr>\n",
       "      <th>3</th>\n",
       "      <td>06/06/2022</td>\n",
       "      <td>[@ANA _LUCIA 321, DieGO ARMANDIU 210, DieGO AR...</td>\n",
       "      <td>51234</td>\n",
       "    </tr>\n",
       "    <tr>\n",
       "      <th>4</th>\n",
       "      <td>07/06/2022</td>\n",
       "      <td>[Isabely JOanes 738, Isabely JOanes 738, Isabe...</td>\n",
       "      <td>82531</td>\n",
       "    </tr>\n",
       "  </tbody>\n",
       "</table>\n",
       "</div>"
      ],
      "text/plain": [
       "  Data de venda                                            Cliente  \\\n",
       "0    06/06/2022  [@ANA _LUCIA 321, DieGO ARMANDIU 210, DieGO AR...   \n",
       "1    06/06/2022  [@ANA _LUCIA 321, DieGO ARMANDIU 210, DieGO AR...   \n",
       "2    06/06/2022  [@ANA _LUCIA 321, DieGO ARMANDIU 210, DieGO AR...   \n",
       "3    06/06/2022  [@ANA _LUCIA 321, DieGO ARMANDIU 210, DieGO AR...   \n",
       "4    07/06/2022  [Isabely JOanes 738, Isabely JOanes 738, Isabe...   \n",
       "\n",
       "  Valor da compra  \n",
       "0            8365  \n",
       "1           57333  \n",
       "2            3928  \n",
       "3           51234  \n",
       "4           82531  "
      ]
     },
     "execution_count": 241,
     "metadata": {},
     "output_type": "execute_result"
    }
   ],
   "source": [
    "#agora os dados estão formatados corretamente\n",
    "dados_clientes.head()"
   ]
  },
  {
   "cell_type": "markdown",
   "metadata": {},
   "source": [
    "**Projeto desafio 2: administração de condomínios**\n",
    "\n",
    "*Remover os dados em listas dentro do DataFrame;\n",
    "\n",
    "*Verificar os tipos de dados;\n",
    "\n",
    "*Identificar colunas numéricas;\n",
    "\n",
    "*Transformar a coluna numérica para o tipo numérico."
   ]
  },
  {
   "cell_type": "code",
   "execution_count": 242,
   "metadata": {},
   "outputs": [
    {
     "data": {
      "text/html": [
       "<div>\n",
       "<style scoped>\n",
       "    .dataframe tbody tr th:only-of-type {\n",
       "        vertical-align: middle;\n",
       "    }\n",
       "\n",
       "    .dataframe tbody tr th {\n",
       "        vertical-align: top;\n",
       "    }\n",
       "\n",
       "    .dataframe thead th {\n",
       "        text-align: right;\n",
       "    }\n",
       "</style>\n",
       "<table border=\"1\" class=\"dataframe\">\n",
       "  <thead>\n",
       "    <tr style=\"text-align: right;\">\n",
       "      <th></th>\n",
       "      <th>apartamento</th>\n",
       "      <th>datas_combinadas_pagamento</th>\n",
       "      <th>datas_de_pagamento</th>\n",
       "      <th>valor_aluguel</th>\n",
       "    </tr>\n",
       "  </thead>\n",
       "  <tbody>\n",
       "    <tr>\n",
       "      <th>0</th>\n",
       "      <td>A101 (blocoAP)</td>\n",
       "      <td>[01/06/2022, 01/07/2022]</td>\n",
       "      <td>[05/06/2022, 03/07/2022]</td>\n",
       "      <td>[$ 1000,0 reais, $ 2500,0 reais]</td>\n",
       "    </tr>\n",
       "    <tr>\n",
       "      <th>1</th>\n",
       "      <td>A102 (blocoAP)</td>\n",
       "      <td>[02/06/2022, 02/07/2022]</td>\n",
       "      <td>[02/06/2022, 06/07/2022]</td>\n",
       "      <td>[$ 1100,0 reais, $ 2600,0 reais]</td>\n",
       "    </tr>\n",
       "    <tr>\n",
       "      <th>2</th>\n",
       "      <td>B201 (blocoAP)</td>\n",
       "      <td>[03/06/2022, 03/07/2022]</td>\n",
       "      <td>[07/06/2022, 03/07/2022]</td>\n",
       "      <td>[$ 1200,0 reais, $ 2700,0 reais]</td>\n",
       "    </tr>\n",
       "    <tr>\n",
       "      <th>3</th>\n",
       "      <td>B202 (blocoAP)</td>\n",
       "      <td>[04/06/2022, 04/07/2022]</td>\n",
       "      <td>[07/06/2022, 05/07/2022]</td>\n",
       "      <td>[$ 1300,0 reais, $ 2800,0 reais]</td>\n",
       "    </tr>\n",
       "    <tr>\n",
       "      <th>4</th>\n",
       "      <td>C301 (blocoAP)</td>\n",
       "      <td>[05/06/2022, 05/07/2022]</td>\n",
       "      <td>[10/06/2022, 09/07/2022]</td>\n",
       "      <td>[$ 1400,0 reais, $ 2900,0 reais]</td>\n",
       "    </tr>\n",
       "  </tbody>\n",
       "</table>\n",
       "</div>"
      ],
      "text/plain": [
       "      apartamento datas_combinadas_pagamento        datas_de_pagamento  \\\n",
       "0  A101 (blocoAP)   [01/06/2022, 01/07/2022]  [05/06/2022, 03/07/2022]   \n",
       "1  A102 (blocoAP)   [02/06/2022, 02/07/2022]  [02/06/2022, 06/07/2022]   \n",
       "2  B201 (blocoAP)   [03/06/2022, 03/07/2022]  [07/06/2022, 03/07/2022]   \n",
       "3  B202 (blocoAP)   [04/06/2022, 04/07/2022]  [07/06/2022, 05/07/2022]   \n",
       "4  C301 (blocoAP)   [05/06/2022, 05/07/2022]  [10/06/2022, 09/07/2022]   \n",
       "\n",
       "                      valor_aluguel  \n",
       "0  [$ 1000,0 reais, $ 2500,0 reais]  \n",
       "1  [$ 1100,0 reais, $ 2600,0 reais]  \n",
       "2  [$ 1200,0 reais, $ 2700,0 reais]  \n",
       "3  [$ 1300,0 reais, $ 2800,0 reais]  \n",
       "4  [$ 1400,0 reais, $ 2900,0 reais]  "
      ]
     },
     "execution_count": 242,
     "metadata": {},
     "output_type": "execute_result"
    }
   ],
   "source": [
    "dados_condominio.head()"
   ]
  },
  {
   "cell_type": "code",
   "execution_count": 243,
   "metadata": {},
   "outputs": [],
   "source": [
    "#atribui a uma variável uma lista com as colunas do dataframe \n",
    "colunas_condominio = list(dados_condominio.columns)"
   ]
  },
  {
   "cell_type": "code",
   "execution_count": 244,
   "metadata": {},
   "outputs": [],
   "source": [
    "#transforma as listas dento do dataframe em novas linhas a partir da coluna 1\n",
    "dados_condominio = dados_condominio.explode(colunas_condominio[1:])"
   ]
  },
  {
   "cell_type": "code",
   "execution_count": 245,
   "metadata": {},
   "outputs": [],
   "source": [
    "#descarta o index antigo e o reseta para formatação correta\n",
    "dados_condominio.reset_index(drop=True, inplace=True)"
   ]
  },
  {
   "cell_type": "code",
   "execution_count": 246,
   "metadata": {},
   "outputs": [
    {
     "data": {
      "text/html": [
       "<div>\n",
       "<style scoped>\n",
       "    .dataframe tbody tr th:only-of-type {\n",
       "        vertical-align: middle;\n",
       "    }\n",
       "\n",
       "    .dataframe tbody tr th {\n",
       "        vertical-align: top;\n",
       "    }\n",
       "\n",
       "    .dataframe thead th {\n",
       "        text-align: right;\n",
       "    }\n",
       "</style>\n",
       "<table border=\"1\" class=\"dataframe\">\n",
       "  <thead>\n",
       "    <tr style=\"text-align: right;\">\n",
       "      <th></th>\n",
       "      <th>apartamento</th>\n",
       "      <th>datas_combinadas_pagamento</th>\n",
       "      <th>datas_de_pagamento</th>\n",
       "      <th>valor_aluguel</th>\n",
       "    </tr>\n",
       "  </thead>\n",
       "  <tbody>\n",
       "    <tr>\n",
       "      <th>0</th>\n",
       "      <td>A101 (blocoAP)</td>\n",
       "      <td>01/06/2022</td>\n",
       "      <td>05/06/2022</td>\n",
       "      <td>$ 1000,0 reais</td>\n",
       "    </tr>\n",
       "    <tr>\n",
       "      <th>1</th>\n",
       "      <td>A101 (blocoAP)</td>\n",
       "      <td>01/07/2022</td>\n",
       "      <td>03/07/2022</td>\n",
       "      <td>$ 2500,0 reais</td>\n",
       "    </tr>\n",
       "    <tr>\n",
       "      <th>2</th>\n",
       "      <td>A102 (blocoAP)</td>\n",
       "      <td>02/06/2022</td>\n",
       "      <td>02/06/2022</td>\n",
       "      <td>$ 1100,0 reais</td>\n",
       "    </tr>\n",
       "    <tr>\n",
       "      <th>3</th>\n",
       "      <td>A102 (blocoAP)</td>\n",
       "      <td>02/07/2022</td>\n",
       "      <td>06/07/2022</td>\n",
       "      <td>$ 2600,0 reais</td>\n",
       "    </tr>\n",
       "    <tr>\n",
       "      <th>4</th>\n",
       "      <td>B201 (blocoAP)</td>\n",
       "      <td>03/06/2022</td>\n",
       "      <td>07/06/2022</td>\n",
       "      <td>$ 1200,0 reais</td>\n",
       "    </tr>\n",
       "  </tbody>\n",
       "</table>\n",
       "</div>"
      ],
      "text/plain": [
       "      apartamento datas_combinadas_pagamento datas_de_pagamento  \\\n",
       "0  A101 (blocoAP)                 01/06/2022         05/06/2022   \n",
       "1  A101 (blocoAP)                 01/07/2022         03/07/2022   \n",
       "2  A102 (blocoAP)                 02/06/2022         02/06/2022   \n",
       "3  A102 (blocoAP)                 02/07/2022         06/07/2022   \n",
       "4  B201 (blocoAP)                 03/06/2022         07/06/2022   \n",
       "\n",
       "    valor_aluguel  \n",
       "0  $ 1000,0 reais  \n",
       "1  $ 2500,0 reais  \n",
       "2  $ 1100,0 reais  \n",
       "3  $ 2600,0 reais  \n",
       "4  $ 1200,0 reais  "
      ]
     },
     "execution_count": 246,
     "metadata": {},
     "output_type": "execute_result"
    }
   ],
   "source": [
    "dados_condominio.head()"
   ]
  },
  {
   "cell_type": "code",
   "execution_count": 247,
   "metadata": {},
   "outputs": [
    {
     "name": "stdout",
     "output_type": "stream",
     "text": [
      "<class 'pandas.core.frame.DataFrame'>\n",
      "RangeIndex: 30 entries, 0 to 29\n",
      "Data columns (total 4 columns):\n",
      " #   Column                      Non-Null Count  Dtype \n",
      "---  ------                      --------------  ----- \n",
      " 0   apartamento                 30 non-null     object\n",
      " 1   datas_combinadas_pagamento  30 non-null     object\n",
      " 2   datas_de_pagamento          30 non-null     object\n",
      " 3   valor_aluguel               30 non-null     object\n",
      "dtypes: object(4)\n",
      "memory usage: 1.1+ KB\n"
     ]
    }
   ],
   "source": [
    "#a coluna 'valor aluguel' permanece como uma string\n",
    "dados_condominio.info()"
   ]
  },
  {
   "cell_type": "code",
   "execution_count": 248,
   "metadata": {},
   "outputs": [],
   "source": [
    "#remove os caracteres, vírgulas e espaços da coluna 'valor aluguel'\n",
    "dados_condominio['valor_aluguel'] = dados_condominio['valor_aluguel'].apply(lambda x: x.replace('$ ', '').replace(',', '').replace(' reais', ''))"
   ]
  },
  {
   "cell_type": "code",
   "execution_count": 249,
   "metadata": {},
   "outputs": [
    {
     "data": {
      "text/html": [
       "<div>\n",
       "<style scoped>\n",
       "    .dataframe tbody tr th:only-of-type {\n",
       "        vertical-align: middle;\n",
       "    }\n",
       "\n",
       "    .dataframe tbody tr th {\n",
       "        vertical-align: top;\n",
       "    }\n",
       "\n",
       "    .dataframe thead th {\n",
       "        text-align: right;\n",
       "    }\n",
       "</style>\n",
       "<table border=\"1\" class=\"dataframe\">\n",
       "  <thead>\n",
       "    <tr style=\"text-align: right;\">\n",
       "      <th></th>\n",
       "      <th>apartamento</th>\n",
       "      <th>datas_combinadas_pagamento</th>\n",
       "      <th>datas_de_pagamento</th>\n",
       "      <th>valor_aluguel</th>\n",
       "    </tr>\n",
       "  </thead>\n",
       "  <tbody>\n",
       "    <tr>\n",
       "      <th>0</th>\n",
       "      <td>A101 (blocoAP)</td>\n",
       "      <td>01/06/2022</td>\n",
       "      <td>05/06/2022</td>\n",
       "      <td>10000</td>\n",
       "    </tr>\n",
       "    <tr>\n",
       "      <th>1</th>\n",
       "      <td>A101 (blocoAP)</td>\n",
       "      <td>01/07/2022</td>\n",
       "      <td>03/07/2022</td>\n",
       "      <td>25000</td>\n",
       "    </tr>\n",
       "    <tr>\n",
       "      <th>2</th>\n",
       "      <td>A102 (blocoAP)</td>\n",
       "      <td>02/06/2022</td>\n",
       "      <td>02/06/2022</td>\n",
       "      <td>11000</td>\n",
       "    </tr>\n",
       "    <tr>\n",
       "      <th>3</th>\n",
       "      <td>A102 (blocoAP)</td>\n",
       "      <td>02/07/2022</td>\n",
       "      <td>06/07/2022</td>\n",
       "      <td>26000</td>\n",
       "    </tr>\n",
       "    <tr>\n",
       "      <th>4</th>\n",
       "      <td>B201 (blocoAP)</td>\n",
       "      <td>03/06/2022</td>\n",
       "      <td>07/06/2022</td>\n",
       "      <td>12000</td>\n",
       "    </tr>\n",
       "  </tbody>\n",
       "</table>\n",
       "</div>"
      ],
      "text/plain": [
       "      apartamento datas_combinadas_pagamento datas_de_pagamento valor_aluguel\n",
       "0  A101 (blocoAP)                 01/06/2022         05/06/2022         10000\n",
       "1  A101 (blocoAP)                 01/07/2022         03/07/2022         25000\n",
       "2  A102 (blocoAP)                 02/06/2022         02/06/2022         11000\n",
       "3  A102 (blocoAP)                 02/07/2022         06/07/2022         26000\n",
       "4  B201 (blocoAP)                 03/06/2022         07/06/2022         12000"
      ]
     },
     "execution_count": 249,
     "metadata": {},
     "output_type": "execute_result"
    }
   ],
   "source": [
    "#agora os dados estão formatados corretamente\n",
    "dados_condominio.head()"
   ]
  },
  {
   "cell_type": "markdown",
   "metadata": {},
   "source": [
    "# Dados textuais"
   ]
  },
  {
   "cell_type": "markdown",
   "metadata": {},
   "source": [
    "**Tokenização:** divide um texto em unidades menores"
   ]
  },
  {
   "cell_type": "code",
   "execution_count": 250,
   "metadata": {},
   "outputs": [],
   "source": [
    "# imprime os dados da coluna 'descricao_local' em formato de string, e diminui as letras maísculas\n",
    "dados['descricao_local'] = dados['descricao_local'].str.lower()"
   ]
  },
  {
   "cell_type": "code",
   "execution_count": 251,
   "metadata": {},
   "outputs": [
    {
     "data": {
      "text/html": [
       "<div>\n",
       "<style scoped>\n",
       "    .dataframe tbody tr th:only-of-type {\n",
       "        vertical-align: middle;\n",
       "    }\n",
       "\n",
       "    .dataframe tbody tr th {\n",
       "        vertical-align: top;\n",
       "    }\n",
       "\n",
       "    .dataframe thead th {\n",
       "        text-align: right;\n",
       "    }\n",
       "</style>\n",
       "<table border=\"1\" class=\"dataframe\">\n",
       "  <thead>\n",
       "    <tr style=\"text-align: right;\">\n",
       "      <th></th>\n",
       "      <th>avaliacao_geral</th>\n",
       "      <th>experiencia_local</th>\n",
       "      <th>max_hospedes</th>\n",
       "      <th>descricao_local</th>\n",
       "      <th>descricao_vizinhanca</th>\n",
       "      <th>quantidade_banheiros</th>\n",
       "      <th>quantidade_quartos</th>\n",
       "      <th>quantidade_camas</th>\n",
       "      <th>modelo_cama</th>\n",
       "      <th>comodidades</th>\n",
       "      <th>taxa_deposito</th>\n",
       "      <th>taxa_limpeza</th>\n",
       "      <th>preco</th>\n",
       "    </tr>\n",
       "  </thead>\n",
       "  <tbody>\n",
       "    <tr>\n",
       "      <th>0</th>\n",
       "      <td>10.0</td>\n",
       "      <td>--</td>\n",
       "      <td>1</td>\n",
       "      <td>this clean and comfortable one bedroom sits ri...</td>\n",
       "      <td>Lower Queen Anne is near the Seattle Center (s...</td>\n",
       "      <td>1</td>\n",
       "      <td>1</td>\n",
       "      <td>1</td>\n",
       "      <td>Real Bed</td>\n",
       "      <td>{Internet,\"Wireless Internet\",Kitchen,\"Free Pa...</td>\n",
       "      <td>0.0</td>\n",
       "      <td>0.0</td>\n",
       "      <td>110.0</td>\n",
       "    </tr>\n",
       "    <tr>\n",
       "      <th>1</th>\n",
       "      <td>10.0</td>\n",
       "      <td>--</td>\n",
       "      <td>1</td>\n",
       "      <td>our century old upper queen anne house is loca...</td>\n",
       "      <td>Upper Queen Anne is a really pleasant, unique ...</td>\n",
       "      <td>1</td>\n",
       "      <td>1</td>\n",
       "      <td>1</td>\n",
       "      <td>Futon</td>\n",
       "      <td>{TV,Internet,\"Wireless Internet\",Kitchen,\"Free...</td>\n",
       "      <td>0.0</td>\n",
       "      <td>0.0</td>\n",
       "      <td>45.0</td>\n",
       "    </tr>\n",
       "    <tr>\n",
       "      <th>2</th>\n",
       "      <td>10.0</td>\n",
       "      <td>--</td>\n",
       "      <td>1</td>\n",
       "      <td>cozy room in two-bedroom apartment along the l...</td>\n",
       "      <td>The convenience of being in Seattle but on the...</td>\n",
       "      <td>1</td>\n",
       "      <td>1</td>\n",
       "      <td>1</td>\n",
       "      <td>Futon</td>\n",
       "      <td>{TV,Internet,\"Wireless Internet\",Kitchen,\"Free...</td>\n",
       "      <td>0.0</td>\n",
       "      <td>0.0</td>\n",
       "      <td>55.0</td>\n",
       "    </tr>\n",
       "    <tr>\n",
       "      <th>3</th>\n",
       "      <td>10.0</td>\n",
       "      <td>--</td>\n",
       "      <td>1</td>\n",
       "      <td>very lovely and cozy room for one. convenientl...</td>\n",
       "      <td>Ballard is lovely, vibrant and one of the most...</td>\n",
       "      <td>1</td>\n",
       "      <td>1</td>\n",
       "      <td>1</td>\n",
       "      <td>Pull-out Sofa</td>\n",
       "      <td>{Internet,\"Wireless Internet\",Kitchen,\"Free Pa...</td>\n",
       "      <td>0.0</td>\n",
       "      <td>20.0</td>\n",
       "      <td>52.0</td>\n",
       "    </tr>\n",
       "    <tr>\n",
       "      <th>4</th>\n",
       "      <td>10.0</td>\n",
       "      <td>--</td>\n",
       "      <td>1</td>\n",
       "      <td>the “studio at mibbett hollow' is in a beautif...</td>\n",
       "      <td>--</td>\n",
       "      <td>1</td>\n",
       "      <td>1</td>\n",
       "      <td>1</td>\n",
       "      <td>Real Bed</td>\n",
       "      <td>{\"Wireless Internet\",Kitchen,\"Free Parking on ...</td>\n",
       "      <td>0.0</td>\n",
       "      <td>15.0</td>\n",
       "      <td>85.0</td>\n",
       "    </tr>\n",
       "  </tbody>\n",
       "</table>\n",
       "</div>"
      ],
      "text/plain": [
       "   avaliacao_geral experiencia_local  max_hospedes  \\\n",
       "0             10.0                --             1   \n",
       "1             10.0                --             1   \n",
       "2             10.0                --             1   \n",
       "3             10.0                --             1   \n",
       "4             10.0                --             1   \n",
       "\n",
       "                                     descricao_local  \\\n",
       "0  this clean and comfortable one bedroom sits ri...   \n",
       "1  our century old upper queen anne house is loca...   \n",
       "2  cozy room in two-bedroom apartment along the l...   \n",
       "3  very lovely and cozy room for one. convenientl...   \n",
       "4  the “studio at mibbett hollow' is in a beautif...   \n",
       "\n",
       "                                descricao_vizinhanca  quantidade_banheiros  \\\n",
       "0  Lower Queen Anne is near the Seattle Center (s...                     1   \n",
       "1  Upper Queen Anne is a really pleasant, unique ...                     1   \n",
       "2  The convenience of being in Seattle but on the...                     1   \n",
       "3  Ballard is lovely, vibrant and one of the most...                     1   \n",
       "4                                                 --                     1   \n",
       "\n",
       "   quantidade_quartos  quantidade_camas    modelo_cama  \\\n",
       "0                   1                 1       Real Bed   \n",
       "1                   1                 1          Futon   \n",
       "2                   1                 1          Futon   \n",
       "3                   1                 1  Pull-out Sofa   \n",
       "4                   1                 1       Real Bed   \n",
       "\n",
       "                                         comodidades  taxa_deposito  \\\n",
       "0  {Internet,\"Wireless Internet\",Kitchen,\"Free Pa...            0.0   \n",
       "1  {TV,Internet,\"Wireless Internet\",Kitchen,\"Free...            0.0   \n",
       "2  {TV,Internet,\"Wireless Internet\",Kitchen,\"Free...            0.0   \n",
       "3  {Internet,\"Wireless Internet\",Kitchen,\"Free Pa...            0.0   \n",
       "4  {\"Wireless Internet\",Kitchen,\"Free Parking on ...            0.0   \n",
       "\n",
       "   taxa_limpeza  preco  \n",
       "0           0.0  110.0  \n",
       "1           0.0   45.0  \n",
       "2           0.0   55.0  \n",
       "3          20.0   52.0  \n",
       "4          15.0   85.0  "
      ]
     },
     "execution_count": 251,
     "metadata": {},
     "output_type": "execute_result"
    }
   ],
   "source": [
    "dados.head()"
   ]
  },
  {
   "cell_type": "markdown",
   "metadata": {},
   "source": [
    "**Removendo caracteres com Regex**\n",
    "\n",
    "*Aprenda mais de Regex em: https://www.alura.com.br/artigos/principais-casos-uso-regex-para-tratamento-dados*\n",
    "\n"
   ]
  },
  {
   "cell_type": "code",
   "execution_count": 252,
   "metadata": {},
   "outputs": [
    {
     "data": {
      "text/plain": [
       "\"our charming home in fabulous upper fremont is a classic craftsman w/ 3 br and 2 ba, fully updated systems, original woodwork, great art, & comfy beds. light filled cook's kitchen with big  deck & bbq. it is mere steps to a grocery market, restaurants, 3 cafes, public transportation & the woodland park zoo. this is a classically beautiful craftsman home with modern updates. if you have extra guests, we have an apartment on the ground floor that is available. you can view it at https://www.airbnb.com/rooms/6516775 for families, we are close to the zoo, greenlake and all that fremont and wallingford offer. for eating out, we are within blocks of restaurant roux (cajun), paseo (famous caribbean sandwiches), rock creek (seafood), via tribunali (pizza), uneeda (burgers), pecado bueno (mexican) and ha! (american bistro with bar). further down the hill in fremont, there are many more choices. for coffee there are three cafes: cafe vita, lighthouse roasters or vif, a coffee and wine bar with g\""
      ]
     },
     "execution_count": 252,
     "metadata": {},
     "output_type": "execute_result"
    }
   ],
   "source": [
    "#seleciona a linha 3110 da coluna 'descricao_local'\n",
    "dados['descricao_local'][3110]"
   ]
  },
  {
   "cell_type": "code",
   "execution_count": 253,
   "metadata": {},
   "outputs": [
    {
     "name": "stderr",
     "output_type": "stream",
     "text": [
      "<>:2: SyntaxWarning: invalid escape sequence '\\-'\n",
      "<>:2: SyntaxWarning: invalid escape sequence '\\-'\n",
      "C:\\Users\\felip\\AppData\\Local\\Temp\\ipykernel_37344\\2227568410.py:2: SyntaxWarning: invalid escape sequence '\\-'\n",
      "  dados['descricao_local'] = dados['descricao_local'].str.replace('[^a-zA-Z0-9\\-\\']', ' ', regex=True)\n"
     ]
    }
   ],
   "source": [
    "# Utiliza o Regex para remover qualquer caractere que não esteja entre a-z, A-Z, e 0-9\n",
    "dados['descricao_local'] = dados['descricao_local'].str.replace('[^a-zA-Z0-9\\-\\']', ' ', regex=True)"
   ]
  },
  {
   "cell_type": "code",
   "execution_count": 254,
   "metadata": {},
   "outputs": [
    {
     "name": "stderr",
     "output_type": "stream",
     "text": [
      "<>:2: SyntaxWarning: invalid escape sequence '\\w'\n",
      "<>:2: SyntaxWarning: invalid escape sequence '\\w'\n",
      "C:\\Users\\felip\\AppData\\Local\\Temp\\ipykernel_37344\\1102479796.py:2: SyntaxWarning: invalid escape sequence '\\w'\n",
      "  dados['descricao_local'] = dados['descricao_local'].str.replace('(?<!\\w)-(?!\\w)', ' ', regex=True)\n"
     ]
    }
   ],
   "source": [
    "# Remove os hifens que não estão conectando palavras compostas na coluna 'descricao_local' do dataframe 'dados'.\n",
    "dados['descricao_local'] = dados['descricao_local'].str.replace('(?<!\\w)-(?!\\w)', ' ', regex=True)"
   ]
  },
  {
   "cell_type": "code",
   "execution_count": 255,
   "metadata": {},
   "outputs": [
    {
     "data": {
      "text/plain": [
       "0    this clean and comfortable one bedroom sits ri...\n",
       "1    our century old upper queen anne house is loca...\n",
       "2    cozy room in two-bedroom apartment along the l...\n",
       "3    very lovely and cozy room for one  convenientl...\n",
       "4    the  studio at mibbett hollow' is in a beautif...\n",
       "Name: descricao_local, dtype: object"
      ]
     },
     "execution_count": 255,
     "metadata": {},
     "output_type": "execute_result"
    }
   ],
   "source": [
    "dados['descricao_local'].head()"
   ]
  },
  {
   "cell_type": "code",
   "execution_count": 256,
   "metadata": {},
   "outputs": [
    {
     "data": {
      "text/plain": [
       "0    [this, clean, and, comfortable, one, bedroom, ...\n",
       "1    [our, century, old, upper, queen, anne, house,...\n",
       "2    [cozy, room, in, two-bedroom, apartment, along...\n",
       "3    [very, lovely, and, cozy, room, for, one, conv...\n",
       "4    [the, studio, at, mibbett, hollow', is, in, a,...\n",
       "Name: descricao_local, dtype: object"
      ]
     },
     "execution_count": 256,
     "metadata": {},
     "output_type": "execute_result"
    }
   ],
   "source": [
    "# Transforma as strings em listas de palavras individuais\n",
    "dados['descricao_local'] = dados['descricao_local'].str.split()\n",
    "dados['descricao_local'].head()"
   ]
  },
  {
   "cell_type": "markdown",
   "metadata": {},
   "source": [
    "tratando a coluna comodidades"
   ]
  },
  {
   "cell_type": "code",
   "execution_count": 257,
   "metadata": {},
   "outputs": [
    {
     "data": {
      "text/plain": [
       "0    {Internet,\"Wireless Internet\",Kitchen,\"Free Pa...\n",
       "1    {TV,Internet,\"Wireless Internet\",Kitchen,\"Free...\n",
       "2    {TV,Internet,\"Wireless Internet\",Kitchen,\"Free...\n",
       "3    {Internet,\"Wireless Internet\",Kitchen,\"Free Pa...\n",
       "4    {\"Wireless Internet\",Kitchen,\"Free Parking on ...\n",
       "Name: comodidades, dtype: object"
      ]
     },
     "execution_count": 257,
     "metadata": {},
     "output_type": "execute_result"
    }
   ],
   "source": [
    "dados['comodidades'].head()"
   ]
  },
  {
   "cell_type": "code",
   "execution_count": 258,
   "metadata": {},
   "outputs": [
    {
     "name": "stderr",
     "output_type": "stream",
     "text": [
      "<>:1: SyntaxWarning: invalid escape sequence '\\{'\n",
      "<>:1: SyntaxWarning: invalid escape sequence '\\{'\n",
      "C:\\Users\\felip\\AppData\\Local\\Temp\\ipykernel_37344\\4110219483.py:1: SyntaxWarning: invalid escape sequence '\\{'\n",
      "  dados['comodidades'] = dados['comodidades'].str.replace('\\{|}|\\\"', '', regex=True)\n"
     ]
    }
   ],
   "source": [
    "dados['comodidades'] = dados['comodidades'].str.replace('\\{|}|\\\"', '', regex=True)"
   ]
  },
  {
   "cell_type": "code",
   "execution_count": 259,
   "metadata": {},
   "outputs": [
    {
     "data": {
      "text/plain": [
       "0       [Internet, Wireless Internet, Kitchen, Free Pa...\n",
       "1       [TV, Internet, Wireless Internet, Kitchen, Fre...\n",
       "2       [TV, Internet, Wireless Internet, Kitchen, Fre...\n",
       "3       [Internet, Wireless Internet, Kitchen, Free Pa...\n",
       "4       [Wireless Internet, Kitchen, Free Parking on P...\n",
       "                              ...                        \n",
       "3813    [TV, Cable TV, Internet, Wireless Internet, Ai...\n",
       "3814    [TV, Cable TV, Internet, Wireless Internet, Ki...\n",
       "3815    [TV, Cable TV, Internet, Wireless Internet, Ai...\n",
       "3816    [TV, Cable TV, Internet, Wireless Internet, Ai...\n",
       "3817    [TV, Internet, Wireless Internet, Kitchen, Fre...\n",
       "Name: comodidades, Length: 3818, dtype: object"
      ]
     },
     "execution_count": 259,
     "metadata": {},
     "output_type": "execute_result"
    }
   ],
   "source": [
    "dados['comodidades'] = dados['comodidades'].str.split(',')\n",
    "dados['comodidades']"
   ]
  },
  {
   "cell_type": "markdown",
   "metadata": {},
   "source": [
    "**Desafio: faça o processo de tokenização para a coluna descricao_vizinhanca presente no conjunto de dados dados_hospedagem.json.**"
   ]
  },
  {
   "cell_type": "code",
   "execution_count": 260,
   "metadata": {},
   "outputs": [
    {
     "data": {
      "text/plain": [
       "\"Upper Queen Anne is a really pleasant, unique little oasis in Seattle. It's minutes away from Seattle center and super close to downtown, but still manages to be a friendly, interesting, and safe-feeling neighborhood with kick-ass shops, cafes, restaurants and grocery stores all within short walking distance. There are no shortages of nice parks with extraordinary views of the city too.\""
      ]
     },
     "execution_count": 260,
     "metadata": {},
     "output_type": "execute_result"
    }
   ],
   "source": [
    "dados['descricao_vizinhanca'][1]"
   ]
  },
  {
   "cell_type": "code",
   "execution_count": 261,
   "metadata": {},
   "outputs": [],
   "source": [
    "dados['descricao_vizinhanca'] = dados['descricao_vizinhanca'].str.lower()"
   ]
  },
  {
   "cell_type": "code",
   "execution_count": 262,
   "metadata": {},
   "outputs": [
    {
     "name": "stderr",
     "output_type": "stream",
     "text": [
      "<>:1: SyntaxWarning: invalid escape sequence '\\-'\n",
      "<>:1: SyntaxWarning: invalid escape sequence '\\-'\n",
      "C:\\Users\\felip\\AppData\\Local\\Temp\\ipykernel_37344\\926935228.py:1: SyntaxWarning: invalid escape sequence '\\-'\n",
      "  dados['descricao_vizinhanca'] = dados['descricao_vizinhanca'].str.replace('[^a-zA-Z0-9\\-\\']', ' ', regex=True)\n"
     ]
    }
   ],
   "source": [
    "dados['descricao_vizinhanca'] = dados['descricao_vizinhanca'].str.replace('[^a-zA-Z0-9\\-\\']', ' ', regex=True)"
   ]
  },
  {
   "cell_type": "code",
   "execution_count": 263,
   "metadata": {},
   "outputs": [
    {
     "name": "stderr",
     "output_type": "stream",
     "text": [
      "<>:1: SyntaxWarning: invalid escape sequence '\\w'\n",
      "<>:1: SyntaxWarning: invalid escape sequence '\\w'\n",
      "C:\\Users\\felip\\AppData\\Local\\Temp\\ipykernel_37344\\1847573177.py:1: SyntaxWarning: invalid escape sequence '\\w'\n",
      "  dados['descricao_vizinhanca'] = dados['descricao_vizinhanca'].str.replace('(?<!\\w)-(?!\\w)', '', regex=True)\n"
     ]
    }
   ],
   "source": [
    "dados['descricao_vizinhanca'] = dados['descricao_vizinhanca'].str.replace('(?<!\\w)-(?!\\w)', '', regex=True)"
   ]
  },
  {
   "cell_type": "code",
   "execution_count": 264,
   "metadata": {},
   "outputs": [
    {
     "data": {
      "text/plain": [
       "\"upper queen anne is a really pleasant  unique little oasis in seattle  it's minutes away from seattle center and super close to downtown  but still manages to be a friendly  interesting  and safe-feeling neighborhood with kick-ass shops  cafes  restaurants and grocery stores all within short walking distance  there are no shortages of nice parks with extraordinary views of the city too \""
      ]
     },
     "execution_count": 264,
     "metadata": {},
     "output_type": "execute_result"
    }
   ],
   "source": [
    "dados['descricao_vizinhanca'][1]"
   ]
  },
  {
   "cell_type": "code",
   "execution_count": 265,
   "metadata": {},
   "outputs": [],
   "source": [
    "dados['descricao_vizinhanca'] = dados['descricao_vizinhanca'].str.split()"
   ]
  },
  {
   "cell_type": "code",
   "execution_count": 266,
   "metadata": {},
   "outputs": [
    {
     "data": {
      "text/plain": [
       "['upper',\n",
       " 'queen',\n",
       " 'anne',\n",
       " 'is',\n",
       " 'a',\n",
       " 'really',\n",
       " 'pleasant',\n",
       " 'unique',\n",
       " 'little',\n",
       " 'oasis',\n",
       " 'in',\n",
       " 'seattle',\n",
       " \"it's\",\n",
       " 'minutes',\n",
       " 'away',\n",
       " 'from',\n",
       " 'seattle',\n",
       " 'center',\n",
       " 'and',\n",
       " 'super',\n",
       " 'close',\n",
       " 'to',\n",
       " 'downtown',\n",
       " 'but',\n",
       " 'still',\n",
       " 'manages',\n",
       " 'to',\n",
       " 'be',\n",
       " 'a',\n",
       " 'friendly',\n",
       " 'interesting',\n",
       " 'and',\n",
       " 'safe-feeling',\n",
       " 'neighborhood',\n",
       " 'with',\n",
       " 'kick-ass',\n",
       " 'shops',\n",
       " 'cafes',\n",
       " 'restaurants',\n",
       " 'and',\n",
       " 'grocery',\n",
       " 'stores',\n",
       " 'all',\n",
       " 'within',\n",
       " 'short',\n",
       " 'walking',\n",
       " 'distance',\n",
       " 'there',\n",
       " 'are',\n",
       " 'no',\n",
       " 'shortages',\n",
       " 'of',\n",
       " 'nice',\n",
       " 'parks',\n",
       " 'with',\n",
       " 'extraordinary',\n",
       " 'views',\n",
       " 'of',\n",
       " 'the',\n",
       " 'city',\n",
       " 'too']"
      ]
     },
     "execution_count": 266,
     "metadata": {},
     "output_type": "execute_result"
    }
   ],
   "source": [
    "dados['descricao_vizinhanca'][1]"
   ]
  },
  {
   "cell_type": "markdown",
   "metadata": {},
   "source": [
    "## Desafio"
   ]
  },
  {
   "cell_type": "markdown",
   "metadata": {},
   "source": [
    "**Desafio 1: vendas online.**\n",
    "\n",
    "Devido a uma instabilidade no site da empresa, tivemos problemas com os nomes dos clientes durante o salvamento. Isso resultou em uma coluna de nomes de clientes com uma mistura de letras, maiúsculas e minúsculas, números e outros caracteres.\n",
    "\n",
    "Sabendo disso, manipule os textos presentes na coluna Cliente para que seja obtido como resultado os nomes dos clientes em letras minúsculas, com a ausência de caracteres especiais ou números."
   ]
  },
  {
   "cell_type": "code",
   "execution_count": 267,
   "metadata": {},
   "outputs": [
    {
     "data": {
      "text/html": [
       "<div>\n",
       "<style scoped>\n",
       "    .dataframe tbody tr th:only-of-type {\n",
       "        vertical-align: middle;\n",
       "    }\n",
       "\n",
       "    .dataframe tbody tr th {\n",
       "        vertical-align: top;\n",
       "    }\n",
       "\n",
       "    .dataframe thead th {\n",
       "        text-align: right;\n",
       "    }\n",
       "</style>\n",
       "<table border=\"1\" class=\"dataframe\">\n",
       "  <thead>\n",
       "    <tr style=\"text-align: right;\">\n",
       "      <th></th>\n",
       "      <th>Data de venda</th>\n",
       "      <th>Cliente</th>\n",
       "      <th>Valor da compra</th>\n",
       "    </tr>\n",
       "  </thead>\n",
       "  <tbody>\n",
       "    <tr>\n",
       "      <th>0</th>\n",
       "      <td>06/06/2022</td>\n",
       "      <td>[@ANA _LUCIA 321, DieGO ARMANDIU 210, DieGO AR...</td>\n",
       "      <td>8365</td>\n",
       "    </tr>\n",
       "    <tr>\n",
       "      <th>1</th>\n",
       "      <td>06/06/2022</td>\n",
       "      <td>[@ANA _LUCIA 321, DieGO ARMANDIU 210, DieGO AR...</td>\n",
       "      <td>57333</td>\n",
       "    </tr>\n",
       "    <tr>\n",
       "      <th>2</th>\n",
       "      <td>06/06/2022</td>\n",
       "      <td>[@ANA _LUCIA 321, DieGO ARMANDIU 210, DieGO AR...</td>\n",
       "      <td>3928</td>\n",
       "    </tr>\n",
       "    <tr>\n",
       "      <th>3</th>\n",
       "      <td>06/06/2022</td>\n",
       "      <td>[@ANA _LUCIA 321, DieGO ARMANDIU 210, DieGO AR...</td>\n",
       "      <td>51234</td>\n",
       "    </tr>\n",
       "    <tr>\n",
       "      <th>4</th>\n",
       "      <td>07/06/2022</td>\n",
       "      <td>[Isabely JOanes 738, Isabely JOanes 738, Isabe...</td>\n",
       "      <td>82531</td>\n",
       "    </tr>\n",
       "  </tbody>\n",
       "</table>\n",
       "</div>"
      ],
      "text/plain": [
       "  Data de venda                                            Cliente  \\\n",
       "0    06/06/2022  [@ANA _LUCIA 321, DieGO ARMANDIU 210, DieGO AR...   \n",
       "1    06/06/2022  [@ANA _LUCIA 321, DieGO ARMANDIU 210, DieGO AR...   \n",
       "2    06/06/2022  [@ANA _LUCIA 321, DieGO ARMANDIU 210, DieGO AR...   \n",
       "3    06/06/2022  [@ANA _LUCIA 321, DieGO ARMANDIU 210, DieGO AR...   \n",
       "4    07/06/2022  [Isabely JOanes 738, Isabely JOanes 738, Isabe...   \n",
       "\n",
       "  Valor da compra  \n",
       "0            8365  \n",
       "1           57333  \n",
       "2            3928  \n",
       "3           51234  \n",
       "4           82531  "
      ]
     },
     "execution_count": 267,
     "metadata": {},
     "output_type": "execute_result"
    }
   ],
   "source": [
    "dados_clientes.head()"
   ]
  },
  {
   "cell_type": "code",
   "execution_count": 268,
   "metadata": {},
   "outputs": [
    {
     "data": {
      "text/html": [
       "<div>\n",
       "<style scoped>\n",
       "    .dataframe tbody tr th:only-of-type {\n",
       "        vertical-align: middle;\n",
       "    }\n",
       "\n",
       "    .dataframe tbody tr th {\n",
       "        vertical-align: top;\n",
       "    }\n",
       "\n",
       "    .dataframe thead th {\n",
       "        text-align: right;\n",
       "    }\n",
       "</style>\n",
       "<table border=\"1\" class=\"dataframe\">\n",
       "  <thead>\n",
       "    <tr style=\"text-align: right;\">\n",
       "      <th></th>\n",
       "      <th>Data de venda</th>\n",
       "      <th>Cliente</th>\n",
       "      <th>Valor da compra</th>\n",
       "    </tr>\n",
       "  </thead>\n",
       "  <tbody>\n",
       "    <tr>\n",
       "      <th>0</th>\n",
       "      <td>06/06/2022</td>\n",
       "      <td>@ANA _LUCIA 321</td>\n",
       "      <td>8365</td>\n",
       "    </tr>\n",
       "    <tr>\n",
       "      <th>0</th>\n",
       "      <td>06/06/2022</td>\n",
       "      <td>DieGO ARMANDIU 210</td>\n",
       "      <td>8365</td>\n",
       "    </tr>\n",
       "    <tr>\n",
       "      <th>0</th>\n",
       "      <td>06/06/2022</td>\n",
       "      <td>DieGO ARMANDIU 210</td>\n",
       "      <td>8365</td>\n",
       "    </tr>\n",
       "    <tr>\n",
       "      <th>0</th>\n",
       "      <td>06/06/2022</td>\n",
       "      <td>DieGO ARMANDIU 210</td>\n",
       "      <td>8365</td>\n",
       "    </tr>\n",
       "    <tr>\n",
       "      <th>1</th>\n",
       "      <td>06/06/2022</td>\n",
       "      <td>@ANA _LUCIA 321</td>\n",
       "      <td>57333</td>\n",
       "    </tr>\n",
       "  </tbody>\n",
       "</table>\n",
       "</div>"
      ],
      "text/plain": [
       "  Data de venda             Cliente Valor da compra\n",
       "0    06/06/2022     @ANA _LUCIA 321            8365\n",
       "0    06/06/2022  DieGO ARMANDIU 210            8365\n",
       "0    06/06/2022  DieGO ARMANDIU 210            8365\n",
       "0    06/06/2022  DieGO ARMANDIU 210            8365\n",
       "1    06/06/2022     @ANA _LUCIA 321           57333"
      ]
     },
     "execution_count": 268,
     "metadata": {},
     "output_type": "execute_result"
    }
   ],
   "source": [
    "dados_clientes = dados_clientes.explode('Cliente')\n",
    "dados_clientes.head()"
   ]
  },
  {
   "cell_type": "code",
   "execution_count": 269,
   "metadata": {},
   "outputs": [],
   "source": [
    "dados_clientes['Cliente'] = dados_clientes['Cliente'].str.lower()"
   ]
  },
  {
   "cell_type": "code",
   "execution_count": 270,
   "metadata": {},
   "outputs": [
    {
     "data": {
      "text/plain": [
       "0         ana  lucia    \n",
       "0     diego armandiu    \n",
       "0     diego armandiu    \n",
       "0     diego armandiu    \n",
       "1         ana  lucia    \n",
       "             ...        \n",
       "18     thiago fritzz    \n",
       "19       maria julia    \n",
       "19       pedro pasco    \n",
       "19      paulo castro    \n",
       "19     thiago fritzz    \n",
       "Name: Cliente, Length: 80, dtype: object"
      ]
     },
     "execution_count": 270,
     "metadata": {},
     "output_type": "execute_result"
    }
   ],
   "source": [
    "dados_clientes['Cliente'].str.replace('[^a-z ]', ' ', regex=True)"
   ]
  },
  {
   "cell_type": "code",
   "execution_count": 271,
   "metadata": {},
   "outputs": [],
   "source": [
    "dados_clientes['Cliente'] = dados_clientes['Cliente'].str.replace('[^a-z ]', '', regex=True).str.strip()"
   ]
  },
  {
   "cell_type": "code",
   "execution_count": 272,
   "metadata": {},
   "outputs": [
    {
     "data": {
      "text/html": [
       "<div>\n",
       "<style scoped>\n",
       "    .dataframe tbody tr th:only-of-type {\n",
       "        vertical-align: middle;\n",
       "    }\n",
       "\n",
       "    .dataframe tbody tr th {\n",
       "        vertical-align: top;\n",
       "    }\n",
       "\n",
       "    .dataframe thead th {\n",
       "        text-align: right;\n",
       "    }\n",
       "</style>\n",
       "<table border=\"1\" class=\"dataframe\">\n",
       "  <thead>\n",
       "    <tr style=\"text-align: right;\">\n",
       "      <th></th>\n",
       "      <th>Data de venda</th>\n",
       "      <th>Cliente</th>\n",
       "      <th>Valor da compra</th>\n",
       "    </tr>\n",
       "  </thead>\n",
       "  <tbody>\n",
       "    <tr>\n",
       "      <th>0</th>\n",
       "      <td>06/06/2022</td>\n",
       "      <td>ana lucia</td>\n",
       "      <td>8365</td>\n",
       "    </tr>\n",
       "    <tr>\n",
       "      <th>0</th>\n",
       "      <td>06/06/2022</td>\n",
       "      <td>diego armandiu</td>\n",
       "      <td>8365</td>\n",
       "    </tr>\n",
       "    <tr>\n",
       "      <th>0</th>\n",
       "      <td>06/06/2022</td>\n",
       "      <td>diego armandiu</td>\n",
       "      <td>8365</td>\n",
       "    </tr>\n",
       "    <tr>\n",
       "      <th>0</th>\n",
       "      <td>06/06/2022</td>\n",
       "      <td>diego armandiu</td>\n",
       "      <td>8365</td>\n",
       "    </tr>\n",
       "    <tr>\n",
       "      <th>1</th>\n",
       "      <td>06/06/2022</td>\n",
       "      <td>ana lucia</td>\n",
       "      <td>57333</td>\n",
       "    </tr>\n",
       "  </tbody>\n",
       "</table>\n",
       "</div>"
      ],
      "text/plain": [
       "  Data de venda         Cliente Valor da compra\n",
       "0    06/06/2022       ana lucia            8365\n",
       "0    06/06/2022  diego armandiu            8365\n",
       "0    06/06/2022  diego armandiu            8365\n",
       "0    06/06/2022  diego armandiu            8365\n",
       "1    06/06/2022       ana lucia           57333"
      ]
     },
     "execution_count": 272,
     "metadata": {},
     "output_type": "execute_result"
    }
   ],
   "source": [
    "dados_clientes.head()"
   ]
  },
  {
   "cell_type": "markdown",
   "metadata": {},
   "source": [
    "**Desafio 2: administração de condomínio**\n",
    "\n",
    "Buscando explicar a organização da identificação dos apartamentos, durante a criação do conjunto de dados, foi adicionado o texto (blocoAP). Esse texto informa que os nomes dos apartamentos estão organizados com a letra do bloco seguida do número do apartamento. No entanto, isso não traz nenhuma informação para nossos dados, sendo interessante realizar a remoção desse texto no conjunto de dados."
   ]
  },
  {
   "cell_type": "code",
   "execution_count": 273,
   "metadata": {},
   "outputs": [
    {
     "data": {
      "text/html": [
       "<div>\n",
       "<style scoped>\n",
       "    .dataframe tbody tr th:only-of-type {\n",
       "        vertical-align: middle;\n",
       "    }\n",
       "\n",
       "    .dataframe tbody tr th {\n",
       "        vertical-align: top;\n",
       "    }\n",
       "\n",
       "    .dataframe thead th {\n",
       "        text-align: right;\n",
       "    }\n",
       "</style>\n",
       "<table border=\"1\" class=\"dataframe\">\n",
       "  <thead>\n",
       "    <tr style=\"text-align: right;\">\n",
       "      <th></th>\n",
       "      <th>apartamento</th>\n",
       "      <th>datas_combinadas_pagamento</th>\n",
       "      <th>datas_de_pagamento</th>\n",
       "      <th>valor_aluguel</th>\n",
       "    </tr>\n",
       "  </thead>\n",
       "  <tbody>\n",
       "    <tr>\n",
       "      <th>0</th>\n",
       "      <td>A101 (blocoAP)</td>\n",
       "      <td>01/06/2022</td>\n",
       "      <td>05/06/2022</td>\n",
       "      <td>10000</td>\n",
       "    </tr>\n",
       "    <tr>\n",
       "      <th>1</th>\n",
       "      <td>A101 (blocoAP)</td>\n",
       "      <td>01/07/2022</td>\n",
       "      <td>03/07/2022</td>\n",
       "      <td>25000</td>\n",
       "    </tr>\n",
       "    <tr>\n",
       "      <th>2</th>\n",
       "      <td>A102 (blocoAP)</td>\n",
       "      <td>02/06/2022</td>\n",
       "      <td>02/06/2022</td>\n",
       "      <td>11000</td>\n",
       "    </tr>\n",
       "    <tr>\n",
       "      <th>3</th>\n",
       "      <td>A102 (blocoAP)</td>\n",
       "      <td>02/07/2022</td>\n",
       "      <td>06/07/2022</td>\n",
       "      <td>26000</td>\n",
       "    </tr>\n",
       "    <tr>\n",
       "      <th>4</th>\n",
       "      <td>B201 (blocoAP)</td>\n",
       "      <td>03/06/2022</td>\n",
       "      <td>07/06/2022</td>\n",
       "      <td>12000</td>\n",
       "    </tr>\n",
       "  </tbody>\n",
       "</table>\n",
       "</div>"
      ],
      "text/plain": [
       "      apartamento datas_combinadas_pagamento datas_de_pagamento valor_aluguel\n",
       "0  A101 (blocoAP)                 01/06/2022         05/06/2022         10000\n",
       "1  A101 (blocoAP)                 01/07/2022         03/07/2022         25000\n",
       "2  A102 (blocoAP)                 02/06/2022         02/06/2022         11000\n",
       "3  A102 (blocoAP)                 02/07/2022         06/07/2022         26000\n",
       "4  B201 (blocoAP)                 03/06/2022         07/06/2022         12000"
      ]
     },
     "execution_count": 273,
     "metadata": {},
     "output_type": "execute_result"
    }
   ],
   "source": [
    "dados_condominio.head()"
   ]
  },
  {
   "cell_type": "code",
   "execution_count": 274,
   "metadata": {},
   "outputs": [],
   "source": [
    "dados_condominio['apartamento'] = dados_condominio['apartamento'].str.replace('(blocoAP)', '')"
   ]
  },
  {
   "cell_type": "code",
   "execution_count": 275,
   "metadata": {},
   "outputs": [
    {
     "data": {
      "text/html": [
       "<div>\n",
       "<style scoped>\n",
       "    .dataframe tbody tr th:only-of-type {\n",
       "        vertical-align: middle;\n",
       "    }\n",
       "\n",
       "    .dataframe tbody tr th {\n",
       "        vertical-align: top;\n",
       "    }\n",
       "\n",
       "    .dataframe thead th {\n",
       "        text-align: right;\n",
       "    }\n",
       "</style>\n",
       "<table border=\"1\" class=\"dataframe\">\n",
       "  <thead>\n",
       "    <tr style=\"text-align: right;\">\n",
       "      <th></th>\n",
       "      <th>apartamento</th>\n",
       "      <th>datas_combinadas_pagamento</th>\n",
       "      <th>datas_de_pagamento</th>\n",
       "      <th>valor_aluguel</th>\n",
       "    </tr>\n",
       "  </thead>\n",
       "  <tbody>\n",
       "    <tr>\n",
       "      <th>0</th>\n",
       "      <td>A101</td>\n",
       "      <td>01/06/2022</td>\n",
       "      <td>05/06/2022</td>\n",
       "      <td>10000</td>\n",
       "    </tr>\n",
       "    <tr>\n",
       "      <th>1</th>\n",
       "      <td>A101</td>\n",
       "      <td>01/07/2022</td>\n",
       "      <td>03/07/2022</td>\n",
       "      <td>25000</td>\n",
       "    </tr>\n",
       "    <tr>\n",
       "      <th>2</th>\n",
       "      <td>A102</td>\n",
       "      <td>02/06/2022</td>\n",
       "      <td>02/06/2022</td>\n",
       "      <td>11000</td>\n",
       "    </tr>\n",
       "    <tr>\n",
       "      <th>3</th>\n",
       "      <td>A102</td>\n",
       "      <td>02/07/2022</td>\n",
       "      <td>06/07/2022</td>\n",
       "      <td>26000</td>\n",
       "    </tr>\n",
       "    <tr>\n",
       "      <th>4</th>\n",
       "      <td>B201</td>\n",
       "      <td>03/06/2022</td>\n",
       "      <td>07/06/2022</td>\n",
       "      <td>12000</td>\n",
       "    </tr>\n",
       "  </tbody>\n",
       "</table>\n",
       "</div>"
      ],
      "text/plain": [
       "  apartamento datas_combinadas_pagamento datas_de_pagamento valor_aluguel\n",
       "0       A101                  01/06/2022         05/06/2022         10000\n",
       "1       A101                  01/07/2022         03/07/2022         25000\n",
       "2       A102                  02/06/2022         02/06/2022         11000\n",
       "3       A102                  02/07/2022         06/07/2022         26000\n",
       "4       B201                  03/06/2022         07/06/2022         12000"
      ]
     },
     "execution_count": 275,
     "metadata": {},
     "output_type": "execute_result"
    }
   ],
   "source": [
    "dados_condominio.head()"
   ]
  },
  {
   "cell_type": "markdown",
   "metadata": {},
   "source": [
    "# Dados de Tempo"
   ]
  },
  {
   "cell_type": "code",
   "execution_count": 276,
   "metadata": {},
   "outputs": [
    {
     "name": "stderr",
     "output_type": "stream",
     "text": [
      "<>:1: SyntaxWarning: invalid escape sequence '\\m'\n",
      "<>:1: SyntaxWarning: invalid escape sequence '\\m'\n",
      "C:\\Users\\felip\\AppData\\Local\\Temp\\ipykernel_37344\\3582947892.py:1: SyntaxWarning: invalid escape sequence '\\m'\n",
      "  dados_moveis = pd.read_json('conteudo\\moveis_disponiveis.json')\n"
     ]
    },
    {
     "data": {
      "text/html": [
       "<div>\n",
       "<style scoped>\n",
       "    .dataframe tbody tr th:only-of-type {\n",
       "        vertical-align: middle;\n",
       "    }\n",
       "\n",
       "    .dataframe tbody tr th {\n",
       "        vertical-align: top;\n",
       "    }\n",
       "\n",
       "    .dataframe thead th {\n",
       "        text-align: right;\n",
       "    }\n",
       "</style>\n",
       "<table border=\"1\" class=\"dataframe\">\n",
       "  <thead>\n",
       "    <tr style=\"text-align: right;\">\n",
       "      <th></th>\n",
       "      <th>id</th>\n",
       "      <th>data</th>\n",
       "      <th>vaga_disponivel</th>\n",
       "      <th>preco</th>\n",
       "    </tr>\n",
       "  </thead>\n",
       "  <tbody>\n",
       "    <tr>\n",
       "      <th>0</th>\n",
       "      <td>857</td>\n",
       "      <td>2016-01-04</td>\n",
       "      <td>False</td>\n",
       "      <td>None</td>\n",
       "    </tr>\n",
       "    <tr>\n",
       "      <th>1</th>\n",
       "      <td>857</td>\n",
       "      <td>2016-01-05</td>\n",
       "      <td>False</td>\n",
       "      <td>None</td>\n",
       "    </tr>\n",
       "    <tr>\n",
       "      <th>2</th>\n",
       "      <td>857</td>\n",
       "      <td>2016-01-06</td>\n",
       "      <td>False</td>\n",
       "      <td>None</td>\n",
       "    </tr>\n",
       "    <tr>\n",
       "      <th>3</th>\n",
       "      <td>857</td>\n",
       "      <td>2016-01-07</td>\n",
       "      <td>False</td>\n",
       "      <td>None</td>\n",
       "    </tr>\n",
       "    <tr>\n",
       "      <th>4</th>\n",
       "      <td>857</td>\n",
       "      <td>2016-01-08</td>\n",
       "      <td>False</td>\n",
       "      <td>None</td>\n",
       "    </tr>\n",
       "  </tbody>\n",
       "</table>\n",
       "</div>"
      ],
      "text/plain": [
       "    id        data  vaga_disponivel preco\n",
       "0  857  2016-01-04            False  None\n",
       "1  857  2016-01-05            False  None\n",
       "2  857  2016-01-06            False  None\n",
       "3  857  2016-01-07            False  None\n",
       "4  857  2016-01-08            False  None"
      ]
     },
     "execution_count": 276,
     "metadata": {},
     "output_type": "execute_result"
    }
   ],
   "source": [
    "dados_moveis = pd.read_json('conteudo\\moveis_disponiveis.json')\n",
    "dados_moveis.head()"
   ]
  },
  {
   "cell_type": "code",
   "execution_count": 277,
   "metadata": {},
   "outputs": [
    {
     "name": "stdout",
     "output_type": "stream",
     "text": [
      "<class 'pandas.core.frame.DataFrame'>\n",
      "Index: 365000 entries, 0 to 364999\n",
      "Data columns (total 4 columns):\n",
      " #   Column           Non-Null Count   Dtype \n",
      "---  ------           --------------   ----- \n",
      " 0   id               365000 non-null  int64 \n",
      " 1   data             365000 non-null  object\n",
      " 2   vaga_disponivel  365000 non-null  bool  \n",
      " 3   preco            270547 non-null  object\n",
      "dtypes: bool(1), int64(1), object(2)\n",
      "memory usage: 11.5+ MB\n"
     ]
    }
   ],
   "source": [
    "dados_moveis.info()"
   ]
  },
  {
   "cell_type": "code",
   "execution_count": 278,
   "metadata": {},
   "outputs": [],
   "source": [
    "dados_moveis['data'] = pd.to_datetime(dados_moveis['data'],)"
   ]
  },
  {
   "cell_type": "code",
   "execution_count": 279,
   "metadata": {},
   "outputs": [
    {
     "name": "stdout",
     "output_type": "stream",
     "text": [
      "<class 'pandas.core.frame.DataFrame'>\n",
      "Index: 365000 entries, 0 to 364999\n",
      "Data columns (total 4 columns):\n",
      " #   Column           Non-Null Count   Dtype         \n",
      "---  ------           --------------   -----         \n",
      " 0   id               365000 non-null  int64         \n",
      " 1   data             365000 non-null  datetime64[ns]\n",
      " 2   vaga_disponivel  365000 non-null  bool          \n",
      " 3   preco            270547 non-null  object        \n",
      "dtypes: bool(1), datetime64[ns](1), int64(1), object(1)\n",
      "memory usage: 11.5+ MB\n"
     ]
    }
   ],
   "source": [
    "#a coluna 'data' agora está como datetime\n",
    "dados_moveis.info()"
   ]
  },
  {
   "cell_type": "code",
   "execution_count": 280,
   "metadata": {},
   "outputs": [
    {
     "data": {
      "text/html": [
       "<div>\n",
       "<style scoped>\n",
       "    .dataframe tbody tr th:only-of-type {\n",
       "        vertical-align: middle;\n",
       "    }\n",
       "\n",
       "    .dataframe tbody tr th {\n",
       "        vertical-align: top;\n",
       "    }\n",
       "\n",
       "    .dataframe thead th {\n",
       "        text-align: right;\n",
       "    }\n",
       "</style>\n",
       "<table border=\"1\" class=\"dataframe\">\n",
       "  <thead>\n",
       "    <tr style=\"text-align: right;\">\n",
       "      <th></th>\n",
       "      <th>id</th>\n",
       "      <th>data</th>\n",
       "      <th>vaga_disponivel</th>\n",
       "      <th>preco</th>\n",
       "    </tr>\n",
       "  </thead>\n",
       "  <tbody>\n",
       "    <tr>\n",
       "      <th>0</th>\n",
       "      <td>857</td>\n",
       "      <td>2016-01-04</td>\n",
       "      <td>False</td>\n",
       "      <td>None</td>\n",
       "    </tr>\n",
       "    <tr>\n",
       "      <th>1</th>\n",
       "      <td>857</td>\n",
       "      <td>2016-01-05</td>\n",
       "      <td>False</td>\n",
       "      <td>None</td>\n",
       "    </tr>\n",
       "    <tr>\n",
       "      <th>2</th>\n",
       "      <td>857</td>\n",
       "      <td>2016-01-06</td>\n",
       "      <td>False</td>\n",
       "      <td>None</td>\n",
       "    </tr>\n",
       "    <tr>\n",
       "      <th>3</th>\n",
       "      <td>857</td>\n",
       "      <td>2016-01-07</td>\n",
       "      <td>False</td>\n",
       "      <td>None</td>\n",
       "    </tr>\n",
       "    <tr>\n",
       "      <th>4</th>\n",
       "      <td>857</td>\n",
       "      <td>2016-01-08</td>\n",
       "      <td>False</td>\n",
       "      <td>None</td>\n",
       "    </tr>\n",
       "  </tbody>\n",
       "</table>\n",
       "</div>"
      ],
      "text/plain": [
       "    id       data  vaga_disponivel preco\n",
       "0  857 2016-01-04            False  None\n",
       "1  857 2016-01-05            False  None\n",
       "2  857 2016-01-06            False  None\n",
       "3  857 2016-01-07            False  None\n",
       "4  857 2016-01-08            False  None"
      ]
     },
     "execution_count": 280,
     "metadata": {},
     "output_type": "execute_result"
    }
   ],
   "source": [
    "dados_moveis.head()"
   ]
  },
  {
   "cell_type": "code",
   "execution_count": 281,
   "metadata": {},
   "outputs": [
    {
     "data": {
      "text/plain": [
       "0         2016-01\n",
       "1         2016-01\n",
       "2         2016-01\n",
       "3         2016-01\n",
       "4         2016-01\n",
       "           ...   \n",
       "364995    2016-12\n",
       "364996    2016-12\n",
       "364997    2016-12\n",
       "364998    2017-01\n",
       "364999    2017-01\n",
       "Name: data, Length: 365000, dtype: object"
      ]
     },
     "execution_count": 281,
     "metadata": {},
     "output_type": "execute_result"
    }
   ],
   "source": [
    "dados_moveis['data'].dt.strftime('%Y-%m')"
   ]
  },
  {
   "cell_type": "code",
   "execution_count": 282,
   "metadata": {},
   "outputs": [
    {
     "data": {
      "text/plain": [
       "data\n",
       "2016-01    16543\n",
       "2016-02    20128\n",
       "2016-03    23357\n",
       "2016-04    22597\n",
       "2016-05    23842\n",
       "2016-06    23651\n",
       "2016-07    22329\n",
       "2016-08    22529\n",
       "2016-09    22471\n",
       "2016-10    23765\n",
       "2016-11    23352\n",
       "2016-12    24409\n",
       "2017-01     1574\n",
       "Name: vaga_disponivel, dtype: int64"
      ]
     },
     "execution_count": 282,
     "metadata": {},
     "output_type": "execute_result"
    }
   ],
   "source": [
    "subset = dados_moveis.groupby(dados_moveis['data'].dt.strftime('%Y-%m'))['vaga_disponivel'].sum()\n",
    "subset"
   ]
  },
  {
   "cell_type": "markdown",
   "metadata": {},
   "source": [
    "## Desafio"
   ]
  },
  {
   "cell_type": "markdown",
   "metadata": {},
   "source": [
    "faça a transformação dos dados na coluna preco do conjunto de dados moveis_disponiveis.json para o tipo numérico float64. \n",
    "\n",
    "Lembrando que, antes de fazer isso, você precisa preencher os valores vazios na coluna por um valor. \n",
    "\n",
    "Uma sugestão: substitua pela string '0.0'."
   ]
  },
  {
   "cell_type": "code",
   "execution_count": 283,
   "metadata": {},
   "outputs": [],
   "source": [
    "import numpy as np"
   ]
  },
  {
   "cell_type": "code",
   "execution_count": 284,
   "metadata": {},
   "outputs": [
    {
     "data": {
      "text/html": [
       "<div>\n",
       "<style scoped>\n",
       "    .dataframe tbody tr th:only-of-type {\n",
       "        vertical-align: middle;\n",
       "    }\n",
       "\n",
       "    .dataframe tbody tr th {\n",
       "        vertical-align: top;\n",
       "    }\n",
       "\n",
       "    .dataframe thead th {\n",
       "        text-align: right;\n",
       "    }\n",
       "</style>\n",
       "<table border=\"1\" class=\"dataframe\">\n",
       "  <thead>\n",
       "    <tr style=\"text-align: right;\">\n",
       "      <th></th>\n",
       "      <th>id</th>\n",
       "      <th>data</th>\n",
       "      <th>vaga_disponivel</th>\n",
       "      <th>preco</th>\n",
       "    </tr>\n",
       "  </thead>\n",
       "  <tbody>\n",
       "    <tr>\n",
       "      <th>0</th>\n",
       "      <td>857</td>\n",
       "      <td>2016-01-04</td>\n",
       "      <td>False</td>\n",
       "      <td>None</td>\n",
       "    </tr>\n",
       "    <tr>\n",
       "      <th>1</th>\n",
       "      <td>857</td>\n",
       "      <td>2016-01-05</td>\n",
       "      <td>False</td>\n",
       "      <td>None</td>\n",
       "    </tr>\n",
       "    <tr>\n",
       "      <th>2</th>\n",
       "      <td>857</td>\n",
       "      <td>2016-01-06</td>\n",
       "      <td>False</td>\n",
       "      <td>None</td>\n",
       "    </tr>\n",
       "    <tr>\n",
       "      <th>3</th>\n",
       "      <td>857</td>\n",
       "      <td>2016-01-07</td>\n",
       "      <td>False</td>\n",
       "      <td>None</td>\n",
       "    </tr>\n",
       "    <tr>\n",
       "      <th>4</th>\n",
       "      <td>857</td>\n",
       "      <td>2016-01-08</td>\n",
       "      <td>False</td>\n",
       "      <td>None</td>\n",
       "    </tr>\n",
       "    <tr>\n",
       "      <th>...</th>\n",
       "      <td>...</td>\n",
       "      <td>...</td>\n",
       "      <td>...</td>\n",
       "      <td>...</td>\n",
       "    </tr>\n",
       "    <tr>\n",
       "      <th>364995</th>\n",
       "      <td>3279</td>\n",
       "      <td>2016-12-29</td>\n",
       "      <td>True</td>\n",
       "      <td>$140.00</td>\n",
       "    </tr>\n",
       "    <tr>\n",
       "      <th>364996</th>\n",
       "      <td>3279</td>\n",
       "      <td>2016-12-30</td>\n",
       "      <td>True</td>\n",
       "      <td>$140.00</td>\n",
       "    </tr>\n",
       "    <tr>\n",
       "      <th>364997</th>\n",
       "      <td>3279</td>\n",
       "      <td>2016-12-31</td>\n",
       "      <td>True</td>\n",
       "      <td>$140.00</td>\n",
       "    </tr>\n",
       "    <tr>\n",
       "      <th>364998</th>\n",
       "      <td>3279</td>\n",
       "      <td>2017-01-01</td>\n",
       "      <td>True</td>\n",
       "      <td>$140.00</td>\n",
       "    </tr>\n",
       "    <tr>\n",
       "      <th>364999</th>\n",
       "      <td>3279</td>\n",
       "      <td>2017-01-02</td>\n",
       "      <td>False</td>\n",
       "      <td>None</td>\n",
       "    </tr>\n",
       "  </tbody>\n",
       "</table>\n",
       "<p>365000 rows × 4 columns</p>\n",
       "</div>"
      ],
      "text/plain": [
       "          id       data  vaga_disponivel    preco\n",
       "0        857 2016-01-04            False     None\n",
       "1        857 2016-01-05            False     None\n",
       "2        857 2016-01-06            False     None\n",
       "3        857 2016-01-07            False     None\n",
       "4        857 2016-01-08            False     None\n",
       "...      ...        ...              ...      ...\n",
       "364995  3279 2016-12-29             True  $140.00\n",
       "364996  3279 2016-12-30             True  $140.00\n",
       "364997  3279 2016-12-31             True  $140.00\n",
       "364998  3279 2017-01-01             True  $140.00\n",
       "364999  3279 2017-01-02            False     None\n",
       "\n",
       "[365000 rows x 4 columns]"
      ]
     },
     "execution_count": 284,
     "metadata": {},
     "output_type": "execute_result"
    }
   ],
   "source": [
    "dados_moveis"
   ]
  },
  {
   "cell_type": "code",
   "execution_count": 285,
   "metadata": {},
   "outputs": [],
   "source": [
    "dados_moveis['preco'].fillna('0.0', inplace=True)"
   ]
  },
  {
   "cell_type": "code",
   "execution_count": 286,
   "metadata": {},
   "outputs": [],
   "source": [
    "dados_moveis['preco'] = dados_moveis['preco'].apply(lambda x: x.replace('$', '').replace(',', ''))"
   ]
  },
  {
   "cell_type": "code",
   "execution_count": 287,
   "metadata": {},
   "outputs": [
    {
     "data": {
      "text/plain": [
       "0           0.0\n",
       "1           0.0\n",
       "2           0.0\n",
       "3           0.0\n",
       "4           0.0\n",
       "          ...  \n",
       "364995    140.0\n",
       "364996    140.0\n",
       "364997    140.0\n",
       "364998    140.0\n",
       "364999      0.0\n",
       "Name: preco, Length: 365000, dtype: float64"
      ]
     },
     "execution_count": 287,
     "metadata": {},
     "output_type": "execute_result"
    }
   ],
   "source": [
    "dados_moveis['preco'].astype(np.float64)"
   ]
  },
  {
   "cell_type": "markdown",
   "metadata": {},
   "source": [
    "# Desafio Final"
   ]
  },
  {
   "cell_type": "markdown",
   "metadata": {},
   "source": [
    "**Desafio 1:** Na coluna Data de venda, temos datas em formato 'dia/mês/ano' (dd/mm/AAAA). Transforme esses dados para o tipo datetime e busque uma forma de visualização de subconjunto que possa contribuir no objetivo do contexto que os dados estão inseridos.\n",
    "\n",
    "Se você não lembra o problema do projeto desafio 1, vou deixar abaixo o texto da situação para facilitar o encontro da informação:\n",
    "\n",
    "\n",
    "O objetivo desse projeto é realizar uma análise dos resultados de um evento com os clientes de uma empresa de vendas online. \n",
    "\n",
    "Foi coletado um conjunto de dados que contém os clientes que mais gastaram com produtos dentro de 5 dias de vendas, que é o período de duração do evento. \n",
    "\n",
    "Essa análise vai identificar o cliente com a maior compra na semana, que irá receber um prêmio da loja, e posteriormente, ela pode ajudar a empresa a criar novas estratégias para atrair mais clientes."
   ]
  },
  {
   "cell_type": "code",
   "execution_count": 322,
   "metadata": {},
   "outputs": [
    {
     "data": {
      "text/html": [
       "<div>\n",
       "<style scoped>\n",
       "    .dataframe tbody tr th:only-of-type {\n",
       "        vertical-align: middle;\n",
       "    }\n",
       "\n",
       "    .dataframe tbody tr th {\n",
       "        vertical-align: top;\n",
       "    }\n",
       "\n",
       "    .dataframe thead th {\n",
       "        text-align: right;\n",
       "    }\n",
       "</style>\n",
       "<table border=\"1\" class=\"dataframe\">\n",
       "  <thead>\n",
       "    <tr style=\"text-align: right;\">\n",
       "      <th></th>\n",
       "      <th>Data de venda</th>\n",
       "      <th>Cliente</th>\n",
       "      <th>Valor da compra</th>\n",
       "    </tr>\n",
       "  </thead>\n",
       "  <tbody>\n",
       "    <tr>\n",
       "      <th>0</th>\n",
       "      <td>2022-06-06</td>\n",
       "      <td>ana lucia</td>\n",
       "      <td>8365</td>\n",
       "    </tr>\n",
       "    <tr>\n",
       "      <th>0</th>\n",
       "      <td>2022-06-06</td>\n",
       "      <td>diego armandiu</td>\n",
       "      <td>8365</td>\n",
       "    </tr>\n",
       "    <tr>\n",
       "      <th>0</th>\n",
       "      <td>2022-06-06</td>\n",
       "      <td>diego armandiu</td>\n",
       "      <td>8365</td>\n",
       "    </tr>\n",
       "    <tr>\n",
       "      <th>0</th>\n",
       "      <td>2022-06-06</td>\n",
       "      <td>diego armandiu</td>\n",
       "      <td>8365</td>\n",
       "    </tr>\n",
       "    <tr>\n",
       "      <th>1</th>\n",
       "      <td>2022-06-06</td>\n",
       "      <td>ana lucia</td>\n",
       "      <td>57333</td>\n",
       "    </tr>\n",
       "    <tr>\n",
       "      <th>1</th>\n",
       "      <td>2022-06-06</td>\n",
       "      <td>diego armandiu</td>\n",
       "      <td>57333</td>\n",
       "    </tr>\n",
       "    <tr>\n",
       "      <th>1</th>\n",
       "      <td>2022-06-06</td>\n",
       "      <td>diego armandiu</td>\n",
       "      <td>57333</td>\n",
       "    </tr>\n",
       "    <tr>\n",
       "      <th>1</th>\n",
       "      <td>2022-06-06</td>\n",
       "      <td>diego armandiu</td>\n",
       "      <td>57333</td>\n",
       "    </tr>\n",
       "    <tr>\n",
       "      <th>2</th>\n",
       "      <td>2022-06-06</td>\n",
       "      <td>ana lucia</td>\n",
       "      <td>3928</td>\n",
       "    </tr>\n",
       "    <tr>\n",
       "      <th>2</th>\n",
       "      <td>2022-06-06</td>\n",
       "      <td>diego armandiu</td>\n",
       "      <td>3928</td>\n",
       "    </tr>\n",
       "    <tr>\n",
       "      <th>2</th>\n",
       "      <td>2022-06-06</td>\n",
       "      <td>diego armandiu</td>\n",
       "      <td>3928</td>\n",
       "    </tr>\n",
       "    <tr>\n",
       "      <th>2</th>\n",
       "      <td>2022-06-06</td>\n",
       "      <td>diego armandiu</td>\n",
       "      <td>3928</td>\n",
       "    </tr>\n",
       "    <tr>\n",
       "      <th>3</th>\n",
       "      <td>2022-06-06</td>\n",
       "      <td>ana lucia</td>\n",
       "      <td>51234</td>\n",
       "    </tr>\n",
       "    <tr>\n",
       "      <th>3</th>\n",
       "      <td>2022-06-06</td>\n",
       "      <td>diego armandiu</td>\n",
       "      <td>51234</td>\n",
       "    </tr>\n",
       "    <tr>\n",
       "      <th>3</th>\n",
       "      <td>2022-06-06</td>\n",
       "      <td>diego armandiu</td>\n",
       "      <td>51234</td>\n",
       "    </tr>\n",
       "    <tr>\n",
       "      <th>3</th>\n",
       "      <td>2022-06-06</td>\n",
       "      <td>diego armandiu</td>\n",
       "      <td>51234</td>\n",
       "    </tr>\n",
       "    <tr>\n",
       "      <th>4</th>\n",
       "      <td>2022-07-06</td>\n",
       "      <td>isabely joanes</td>\n",
       "      <td>82531</td>\n",
       "    </tr>\n",
       "    <tr>\n",
       "      <th>4</th>\n",
       "      <td>2022-07-06</td>\n",
       "      <td>isabely joanes</td>\n",
       "      <td>82531</td>\n",
       "    </tr>\n",
       "    <tr>\n",
       "      <th>4</th>\n",
       "      <td>2022-07-06</td>\n",
       "      <td>isabely joanes</td>\n",
       "      <td>82531</td>\n",
       "    </tr>\n",
       "    <tr>\n",
       "      <th>4</th>\n",
       "      <td>2022-07-06</td>\n",
       "      <td>isabely joanes</td>\n",
       "      <td>82531</td>\n",
       "    </tr>\n",
       "    <tr>\n",
       "      <th>5</th>\n",
       "      <td>2022-07-06</td>\n",
       "      <td>isabely joanes</td>\n",
       "      <td>16807</td>\n",
       "    </tr>\n",
       "    <tr>\n",
       "      <th>5</th>\n",
       "      <td>2022-07-06</td>\n",
       "      <td>isabely joanes</td>\n",
       "      <td>16807</td>\n",
       "    </tr>\n",
       "    <tr>\n",
       "      <th>5</th>\n",
       "      <td>2022-07-06</td>\n",
       "      <td>isabely joanes</td>\n",
       "      <td>16807</td>\n",
       "    </tr>\n",
       "    <tr>\n",
       "      <th>5</th>\n",
       "      <td>2022-07-06</td>\n",
       "      <td>isabely joanes</td>\n",
       "      <td>16807</td>\n",
       "    </tr>\n",
       "    <tr>\n",
       "      <th>6</th>\n",
       "      <td>2022-07-06</td>\n",
       "      <td>isabely joanes</td>\n",
       "      <td>33918</td>\n",
       "    </tr>\n",
       "  </tbody>\n",
       "</table>\n",
       "</div>"
      ],
      "text/plain": [
       "  Data de venda         Cliente Valor da compra\n",
       "0    2022-06-06       ana lucia            8365\n",
       "0    2022-06-06  diego armandiu            8365\n",
       "0    2022-06-06  diego armandiu            8365\n",
       "0    2022-06-06  diego armandiu            8365\n",
       "1    2022-06-06       ana lucia           57333\n",
       "1    2022-06-06  diego armandiu           57333\n",
       "1    2022-06-06  diego armandiu           57333\n",
       "1    2022-06-06  diego armandiu           57333\n",
       "2    2022-06-06       ana lucia            3928\n",
       "2    2022-06-06  diego armandiu            3928\n",
       "2    2022-06-06  diego armandiu            3928\n",
       "2    2022-06-06  diego armandiu            3928\n",
       "3    2022-06-06       ana lucia           51234\n",
       "3    2022-06-06  diego armandiu           51234\n",
       "3    2022-06-06  diego armandiu           51234\n",
       "3    2022-06-06  diego armandiu           51234\n",
       "4    2022-07-06  isabely joanes           82531\n",
       "4    2022-07-06  isabely joanes           82531\n",
       "4    2022-07-06  isabely joanes           82531\n",
       "4    2022-07-06  isabely joanes           82531\n",
       "5    2022-07-06  isabely joanes           16807\n",
       "5    2022-07-06  isabely joanes           16807\n",
       "5    2022-07-06  isabely joanes           16807\n",
       "5    2022-07-06  isabely joanes           16807\n",
       "6    2022-07-06  isabely joanes           33918"
      ]
     },
     "execution_count": 322,
     "metadata": {},
     "output_type": "execute_result"
    }
   ],
   "source": [
    "dados_clientes.head(25)"
   ]
  },
  {
   "cell_type": "code",
   "execution_count": 288,
   "metadata": {},
   "outputs": [
    {
     "name": "stdout",
     "output_type": "stream",
     "text": [
      "<class 'pandas.core.frame.DataFrame'>\n",
      "Index: 80 entries, 0 to 19\n",
      "Data columns (total 3 columns):\n",
      " #   Column           Non-Null Count  Dtype \n",
      "---  ------           --------------  ----- \n",
      " 0   Data de venda    80 non-null     object\n",
      " 1   Cliente          80 non-null     object\n",
      " 2   Valor da compra  80 non-null     object\n",
      "dtypes: object(3)\n",
      "memory usage: 2.5+ KB\n"
     ]
    }
   ],
   "source": [
    "dados_clientes.info()"
   ]
  },
  {
   "cell_type": "code",
   "execution_count": 289,
   "metadata": {},
   "outputs": [],
   "source": [
    "dados_clientes['Data de venda'] = pd.to_datetime(dados_clientes['Data de venda'])"
   ]
  },
  {
   "cell_type": "code",
   "execution_count": 325,
   "metadata": {},
   "outputs": [],
   "source": [
    "dados_clientes['Valor da compra'] = dados_clientes['Valor da compra'].astype(np.float64)"
   ]
  },
  {
   "cell_type": "code",
   "execution_count": 337,
   "metadata": {},
   "outputs": [
    {
     "data": {
      "text/html": [
       "<div>\n",
       "<style scoped>\n",
       "    .dataframe tbody tr th:only-of-type {\n",
       "        vertical-align: middle;\n",
       "    }\n",
       "\n",
       "    .dataframe tbody tr th {\n",
       "        vertical-align: top;\n",
       "    }\n",
       "\n",
       "    .dataframe thead th {\n",
       "        text-align: right;\n",
       "    }\n",
       "</style>\n",
       "<table border=\"1\" class=\"dataframe\">\n",
       "  <thead>\n",
       "    <tr style=\"text-align: right;\">\n",
       "      <th></th>\n",
       "      <th>Cliente</th>\n",
       "      <th>Valor da compra</th>\n",
       "    </tr>\n",
       "  </thead>\n",
       "  <tbody>\n",
       "    <tr>\n",
       "      <th>2</th>\n",
       "      <td>isabely joanes</td>\n",
       "      <td>891083.0</td>\n",
       "    </tr>\n",
       "    <tr>\n",
       "      <th>5</th>\n",
       "      <td>maria julia</td>\n",
       "      <td>784411.0</td>\n",
       "    </tr>\n",
       "    <tr>\n",
       "      <th>4</th>\n",
       "      <td>julya meireles</td>\n",
       "      <td>645510.0</td>\n",
       "    </tr>\n",
       "    <tr>\n",
       "      <th>1</th>\n",
       "      <td>diego armandiu</td>\n",
       "      <td>362580.0</td>\n",
       "    </tr>\n",
       "    <tr>\n",
       "      <th>6</th>\n",
       "      <td>paulo castro</td>\n",
       "      <td>240979.0</td>\n",
       "    </tr>\n",
       "    <tr>\n",
       "      <th>7</th>\n",
       "      <td>pedro pasco</td>\n",
       "      <td>240979.0</td>\n",
       "    </tr>\n",
       "    <tr>\n",
       "      <th>8</th>\n",
       "      <td>thiago fritzz</td>\n",
       "      <td>240979.0</td>\n",
       "    </tr>\n",
       "    <tr>\n",
       "      <th>3</th>\n",
       "      <td>joo gabriel</td>\n",
       "      <td>232183.0</td>\n",
       "    </tr>\n",
       "    <tr>\n",
       "      <th>0</th>\n",
       "      <td>ana lucia</td>\n",
       "      <td>120860.0</td>\n",
       "    </tr>\n",
       "  </tbody>\n",
       "</table>\n",
       "</div>"
      ],
      "text/plain": [
       "          Cliente  Valor da compra\n",
       "2  isabely joanes         891083.0\n",
       "5     maria julia         784411.0\n",
       "4  julya meireles         645510.0\n",
       "1  diego armandiu         362580.0\n",
       "6    paulo castro         240979.0\n",
       "7     pedro pasco         240979.0\n",
       "8   thiago fritzz         240979.0\n",
       "3     joo gabriel         232183.0\n",
       "0       ana lucia         120860.0"
      ]
     },
     "execution_count": 337,
     "metadata": {},
     "output_type": "execute_result"
    }
   ],
   "source": [
    "total_por_cliente = dados_clientes.groupby('Cliente')['Valor da compra'].sum().reset_index().sort_values(by='Valor da compra', ascending=False)\n",
    "total_por_cliente"
   ]
  },
  {
   "cell_type": "markdown",
   "metadata": {},
   "source": [
    "**Desafio 2:** Nas colunas datas_de_pagamento e datas_combinadas_pagamento, temos datas em formato 'dia/mês/ano' (dd/mm/AAAA). Transforme esses dados para o tipo datetime e busque uma forma de visualização de subconjunto que possa contribuir no objetivo do contexto que os dados estão inseridos.\n",
    "\n",
    "A administração de condomínios é uma tarefa que requer muita atenção e organização. Entre as diversas responsabilidades da gestão está o recebimento dos aluguéis dos locatários. Para garantir uma boa saúde financeira do empreendimento, é fundamental que esses pagamentos sejam feitos de forma regular e pontual. No entanto, sabemos que nem sempre isso acontece. Pensando nisso, proponho um desafio de tratamento de dados com o objetivo de analisar o atraso no pagamento de aluguéis no condomínio fictício de alguns moradores.\n",
    "\n",
    "\n"
   ]
  },
  {
   "cell_type": "code",
   "execution_count": 299,
   "metadata": {},
   "outputs": [
    {
     "data": {
      "text/html": [
       "<div>\n",
       "<style scoped>\n",
       "    .dataframe tbody tr th:only-of-type {\n",
       "        vertical-align: middle;\n",
       "    }\n",
       "\n",
       "    .dataframe tbody tr th {\n",
       "        vertical-align: top;\n",
       "    }\n",
       "\n",
       "    .dataframe thead th {\n",
       "        text-align: right;\n",
       "    }\n",
       "</style>\n",
       "<table border=\"1\" class=\"dataframe\">\n",
       "  <thead>\n",
       "    <tr style=\"text-align: right;\">\n",
       "      <th></th>\n",
       "      <th>apartamento</th>\n",
       "      <th>datas_combinadas_pagamento</th>\n",
       "      <th>datas_de_pagamento</th>\n",
       "      <th>valor_aluguel</th>\n",
       "      <th>dias_de_atraso</th>\n",
       "    </tr>\n",
       "  </thead>\n",
       "  <tbody>\n",
       "    <tr>\n",
       "      <th>0</th>\n",
       "      <td>A101</td>\n",
       "      <td>2022-06-01</td>\n",
       "      <td>2022-06-05</td>\n",
       "      <td>10000</td>\n",
       "      <td>4 days</td>\n",
       "    </tr>\n",
       "    <tr>\n",
       "      <th>1</th>\n",
       "      <td>A101</td>\n",
       "      <td>2022-07-01</td>\n",
       "      <td>2022-07-03</td>\n",
       "      <td>25000</td>\n",
       "      <td>2 days</td>\n",
       "    </tr>\n",
       "    <tr>\n",
       "      <th>2</th>\n",
       "      <td>A102</td>\n",
       "      <td>2022-06-02</td>\n",
       "      <td>2022-06-02</td>\n",
       "      <td>11000</td>\n",
       "      <td>0 days</td>\n",
       "    </tr>\n",
       "    <tr>\n",
       "      <th>3</th>\n",
       "      <td>A102</td>\n",
       "      <td>2022-07-02</td>\n",
       "      <td>2022-07-06</td>\n",
       "      <td>26000</td>\n",
       "      <td>4 days</td>\n",
       "    </tr>\n",
       "    <tr>\n",
       "      <th>4</th>\n",
       "      <td>B201</td>\n",
       "      <td>2022-06-03</td>\n",
       "      <td>2022-06-07</td>\n",
       "      <td>12000</td>\n",
       "      <td>4 days</td>\n",
       "    </tr>\n",
       "  </tbody>\n",
       "</table>\n",
       "</div>"
      ],
      "text/plain": [
       "  apartamento datas_combinadas_pagamento datas_de_pagamento valor_aluguel  \\\n",
       "0       A101                  2022-06-01         2022-06-05         10000   \n",
       "1       A101                  2022-07-01         2022-07-03         25000   \n",
       "2       A102                  2022-06-02         2022-06-02         11000   \n",
       "3       A102                  2022-07-02         2022-07-06         26000   \n",
       "4       B201                  2022-06-03         2022-06-07         12000   \n",
       "\n",
       "  dias_de_atraso  \n",
       "0         4 days  \n",
       "1         2 days  \n",
       "2         0 days  \n",
       "3         4 days  \n",
       "4         4 days  "
      ]
     },
     "execution_count": 299,
     "metadata": {},
     "output_type": "execute_result"
    }
   ],
   "source": [
    "dados_condominio.head()"
   ]
  },
  {
   "cell_type": "code",
   "execution_count": 292,
   "metadata": {},
   "outputs": [
    {
     "name": "stdout",
     "output_type": "stream",
     "text": [
      "<class 'pandas.core.frame.DataFrame'>\n",
      "RangeIndex: 30 entries, 0 to 29\n",
      "Data columns (total 4 columns):\n",
      " #   Column                      Non-Null Count  Dtype \n",
      "---  ------                      --------------  ----- \n",
      " 0   apartamento                 30 non-null     object\n",
      " 1   datas_combinadas_pagamento  30 non-null     object\n",
      " 2   datas_de_pagamento          30 non-null     object\n",
      " 3   valor_aluguel               30 non-null     object\n",
      "dtypes: object(4)\n",
      "memory usage: 1.1+ KB\n"
     ]
    }
   ],
   "source": [
    "dados_condominio.info()"
   ]
  },
  {
   "cell_type": "code",
   "execution_count": 293,
   "metadata": {},
   "outputs": [],
   "source": [
    "dados_condominio['datas_combinadas_pagamento'] = pd.to_datetime(dados_condominio['datas_combinadas_pagamento'], format='%d/%m/%Y')\n",
    "dados_condominio['datas_de_pagamento'] = pd.to_datetime(dados_condominio['datas_de_pagamento'], format='%d/%m/%Y')\n"
   ]
  },
  {
   "cell_type": "code",
   "execution_count": 296,
   "metadata": {},
   "outputs": [],
   "source": [
    "dados_condominio['dias_de_atraso'] = dados_condominio['datas_de_pagamento'] - dados_condominio['datas_combinadas_pagamento']"
   ]
  },
  {
   "cell_type": "code",
   "execution_count": 309,
   "metadata": {},
   "outputs": [],
   "source": [
    "dados_condominio['dias_de_atraso'] = dados_condominio['dias_de_atraso'].dt.days"
   ]
  },
  {
   "cell_type": "code",
   "execution_count": 317,
   "metadata": {},
   "outputs": [
    {
     "data": {
      "text/html": [
       "<div>\n",
       "<style scoped>\n",
       "    .dataframe tbody tr th:only-of-type {\n",
       "        vertical-align: middle;\n",
       "    }\n",
       "\n",
       "    .dataframe tbody tr th {\n",
       "        vertical-align: top;\n",
       "    }\n",
       "\n",
       "    .dataframe thead th {\n",
       "        text-align: right;\n",
       "    }\n",
       "</style>\n",
       "<table border=\"1\" class=\"dataframe\">\n",
       "  <thead>\n",
       "    <tr style=\"text-align: right;\">\n",
       "      <th></th>\n",
       "      <th>apartamento</th>\n",
       "      <th>datas_combinadas_pagamento</th>\n",
       "      <th>datas_de_pagamento</th>\n",
       "      <th>valor_aluguel</th>\n",
       "      <th>dias_de_atraso</th>\n",
       "    </tr>\n",
       "  </thead>\n",
       "  <tbody>\n",
       "    <tr>\n",
       "      <th>25</th>\n",
       "      <td>G701</td>\n",
       "      <td>2022-07-13</td>\n",
       "      <td>2022-07-20</td>\n",
       "      <td>12000</td>\n",
       "      <td>7</td>\n",
       "    </tr>\n",
       "    <tr>\n",
       "      <th>15</th>\n",
       "      <td>D402</td>\n",
       "      <td>2022-07-08</td>\n",
       "      <td>2022-07-14</td>\n",
       "      <td>14000</td>\n",
       "      <td>6</td>\n",
       "    </tr>\n",
       "    <tr>\n",
       "      <th>11</th>\n",
       "      <td>C302</td>\n",
       "      <td>2022-07-06</td>\n",
       "      <td>2022-07-12</td>\n",
       "      <td>12000</td>\n",
       "      <td>6</td>\n",
       "    </tr>\n",
       "    <tr>\n",
       "      <th>24</th>\n",
       "      <td>G701</td>\n",
       "      <td>2022-06-13</td>\n",
       "      <td>2022-06-19</td>\n",
       "      <td>22000</td>\n",
       "      <td>6</td>\n",
       "    </tr>\n",
       "    <tr>\n",
       "      <th>20</th>\n",
       "      <td>F601</td>\n",
       "      <td>2022-06-11</td>\n",
       "      <td>2022-06-17</td>\n",
       "      <td>20000</td>\n",
       "      <td>6</td>\n",
       "    </tr>\n",
       "  </tbody>\n",
       "</table>\n",
       "</div>"
      ],
      "text/plain": [
       "   apartamento datas_combinadas_pagamento datas_de_pagamento valor_aluguel  \\\n",
       "25       G701                  2022-07-13         2022-07-20         12000   \n",
       "15       D402                  2022-07-08         2022-07-14         14000   \n",
       "11       C302                  2022-07-06         2022-07-12         12000   \n",
       "24       G701                  2022-06-13         2022-06-19         22000   \n",
       "20       F601                  2022-06-11         2022-06-17         20000   \n",
       "\n",
       "    dias_de_atraso  \n",
       "25               7  \n",
       "15               6  \n",
       "11               6  \n",
       "24               6  \n",
       "20               6  "
      ]
     },
     "execution_count": 317,
     "metadata": {},
     "output_type": "execute_result"
    }
   ],
   "source": [
    "pagamentos_atrasados = dados_condominio[dados_condominio['dias_de_atraso'] > 0].sort_values(by='dias_de_atraso', ascending=False)\n",
    "pagamentos_atrasados.head()"
   ]
  },
  {
   "cell_type": "code",
   "execution_count": null,
   "metadata": {},
   "outputs": [],
   "source": []
  },
  {
   "cell_type": "code",
   "execution_count": null,
   "metadata": {},
   "outputs": [],
   "source": []
  }
 ],
 "metadata": {
  "kernelspec": {
   "display_name": "Python 3",
   "language": "python",
   "name": "python3"
  },
  "language_info": {
   "codemirror_mode": {
    "name": "ipython",
    "version": 3
   },
   "file_extension": ".py",
   "mimetype": "text/x-python",
   "name": "python",
   "nbconvert_exporter": "python",
   "pygments_lexer": "ipython3",
   "version": "3.12.0"
  }
 },
 "nbformat": 4,
 "nbformat_minor": 2
}
